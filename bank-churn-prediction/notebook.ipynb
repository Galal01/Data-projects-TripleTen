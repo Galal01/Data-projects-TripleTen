{
 "cells": [
  {
   "cell_type": "markdown",
   "metadata": {},
   "source": [
    "# Predicting Customer Churn with Machine Learning"
   ]
  },
  {
   "cell_type": "markdown",
   "metadata": {},
   "source": [
    "In this project, we want to predict which customers might leave a company. By knowing this, businesses can take steps to keep their customers. We will try different machine learning models like Random Forest, Logistic Regression, and Decision Tree to find the best one."
   ]
  },
  {
   "cell_type": "markdown",
   "metadata": {},
   "source": [
    "## Initialization"
   ]
  },
  {
   "cell_type": "code",
   "execution_count": 1,
   "metadata": {
    "trusted": false
   },
   "outputs": [],
   "source": [
    "# Loading all the libraries\n",
    "import pandas as pd\n",
    "import numpy as np\n",
    "import matplotlib.pyplot as plt\n",
    "import seaborn as sns\n",
    "from sklearn.metrics import accuracy_score, f1_score, roc_auc_score\n",
    "from sklearn.ensemble import RandomForestClassifier\n",
    "from sklearn.tree import DecisionTreeClassifier\n",
    "from sklearn.linear_model import LogisticRegression \n",
    "from sklearn.model_selection import train_test_split, GridSearchCV\n",
    "from sklearn.preprocessing import OneHotEncoder, StandardScaler\n",
    "from sklearn.dummy import DummyClassifier\n",
    "from sklearn.utils import resample"
   ]
  },
  {
   "cell_type": "markdown",
   "metadata": {},
   "source": [
    "## Load data"
   ]
  },
  {
   "cell_type": "code",
   "execution_count": 2,
   "metadata": {
    "trusted": false
   },
   "outputs": [
    {
     "data": {
      "text/html": [
       "<div>\n",
       "<style scoped>\n",
       "    .dataframe tbody tr th:only-of-type {\n",
       "        vertical-align: middle;\n",
       "    }\n",
       "\n",
       "    .dataframe tbody tr th {\n",
       "        vertical-align: top;\n",
       "    }\n",
       "\n",
       "    .dataframe thead th {\n",
       "        text-align: right;\n",
       "    }\n",
       "</style>\n",
       "<table border=\"1\" class=\"dataframe\">\n",
       "  <thead>\n",
       "    <tr style=\"text-align: right;\">\n",
       "      <th></th>\n",
       "      <th>RowNumber</th>\n",
       "      <th>CustomerId</th>\n",
       "      <th>Surname</th>\n",
       "      <th>CreditScore</th>\n",
       "      <th>Geography</th>\n",
       "      <th>Gender</th>\n",
       "      <th>Age</th>\n",
       "      <th>Tenure</th>\n",
       "      <th>Balance</th>\n",
       "      <th>NumOfProducts</th>\n",
       "      <th>HasCrCard</th>\n",
       "      <th>IsActiveMember</th>\n",
       "      <th>EstimatedSalary</th>\n",
       "      <th>Exited</th>\n",
       "    </tr>\n",
       "  </thead>\n",
       "  <tbody>\n",
       "    <tr>\n",
       "      <th>0</th>\n",
       "      <td>1</td>\n",
       "      <td>15634602</td>\n",
       "      <td>Hargrave</td>\n",
       "      <td>619</td>\n",
       "      <td>France</td>\n",
       "      <td>Female</td>\n",
       "      <td>42</td>\n",
       "      <td>2.0</td>\n",
       "      <td>0.00</td>\n",
       "      <td>1</td>\n",
       "      <td>1</td>\n",
       "      <td>1</td>\n",
       "      <td>101348.88</td>\n",
       "      <td>1</td>\n",
       "    </tr>\n",
       "    <tr>\n",
       "      <th>1</th>\n",
       "      <td>2</td>\n",
       "      <td>15647311</td>\n",
       "      <td>Hill</td>\n",
       "      <td>608</td>\n",
       "      <td>Spain</td>\n",
       "      <td>Female</td>\n",
       "      <td>41</td>\n",
       "      <td>1.0</td>\n",
       "      <td>83807.86</td>\n",
       "      <td>1</td>\n",
       "      <td>0</td>\n",
       "      <td>1</td>\n",
       "      <td>112542.58</td>\n",
       "      <td>0</td>\n",
       "    </tr>\n",
       "    <tr>\n",
       "      <th>2</th>\n",
       "      <td>3</td>\n",
       "      <td>15619304</td>\n",
       "      <td>Onio</td>\n",
       "      <td>502</td>\n",
       "      <td>France</td>\n",
       "      <td>Female</td>\n",
       "      <td>42</td>\n",
       "      <td>8.0</td>\n",
       "      <td>159660.80</td>\n",
       "      <td>3</td>\n",
       "      <td>1</td>\n",
       "      <td>0</td>\n",
       "      <td>113931.57</td>\n",
       "      <td>1</td>\n",
       "    </tr>\n",
       "    <tr>\n",
       "      <th>3</th>\n",
       "      <td>4</td>\n",
       "      <td>15701354</td>\n",
       "      <td>Boni</td>\n",
       "      <td>699</td>\n",
       "      <td>France</td>\n",
       "      <td>Female</td>\n",
       "      <td>39</td>\n",
       "      <td>1.0</td>\n",
       "      <td>0.00</td>\n",
       "      <td>2</td>\n",
       "      <td>0</td>\n",
       "      <td>0</td>\n",
       "      <td>93826.63</td>\n",
       "      <td>0</td>\n",
       "    </tr>\n",
       "    <tr>\n",
       "      <th>4</th>\n",
       "      <td>5</td>\n",
       "      <td>15737888</td>\n",
       "      <td>Mitchell</td>\n",
       "      <td>850</td>\n",
       "      <td>Spain</td>\n",
       "      <td>Female</td>\n",
       "      <td>43</td>\n",
       "      <td>2.0</td>\n",
       "      <td>125510.82</td>\n",
       "      <td>1</td>\n",
       "      <td>1</td>\n",
       "      <td>1</td>\n",
       "      <td>79084.10</td>\n",
       "      <td>0</td>\n",
       "    </tr>\n",
       "  </tbody>\n",
       "</table>\n",
       "</div>"
      ],
      "text/plain": [
       "   RowNumber  CustomerId   Surname  CreditScore Geography  Gender  Age  \\\n",
       "0          1    15634602  Hargrave          619    France  Female   42   \n",
       "1          2    15647311      Hill          608     Spain  Female   41   \n",
       "2          3    15619304      Onio          502    France  Female   42   \n",
       "3          4    15701354      Boni          699    France  Female   39   \n",
       "4          5    15737888  Mitchell          850     Spain  Female   43   \n",
       "\n",
       "   Tenure    Balance  NumOfProducts  HasCrCard  IsActiveMember  \\\n",
       "0     2.0       0.00              1          1               1   \n",
       "1     1.0   83807.86              1          0               1   \n",
       "2     8.0  159660.80              3          1               0   \n",
       "3     1.0       0.00              2          0               0   \n",
       "4     2.0  125510.82              1          1               1   \n",
       "\n",
       "   EstimatedSalary  Exited  \n",
       "0        101348.88       1  \n",
       "1        112542.58       0  \n",
       "2        113931.57       1  \n",
       "3         93826.63       0  \n",
       "4         79084.10       0  "
      ]
     },
     "execution_count": 2,
     "metadata": {},
     "output_type": "execute_result"
    }
   ],
   "source": [
    "# Load the data files into different DataFrames\n",
    "try:\n",
    "    df= pd.read_csv('Churn.csv')\n",
    "except:\n",
    "    df = pd.read_csv('datasets/Churn.csv')\n",
    "\n",
    "df.head()\n"
   ]
  },
  {
   "cell_type": "markdown",
   "metadata": {},
   "source": [
    "## EDA"
   ]
  },
  {
   "cell_type": "code",
   "execution_count": 3,
   "metadata": {
    "trusted": false
   },
   "outputs": [
    {
     "data": {
      "text/html": [
       "<div>\n",
       "<style scoped>\n",
       "    .dataframe tbody tr th:only-of-type {\n",
       "        vertical-align: middle;\n",
       "    }\n",
       "\n",
       "    .dataframe tbody tr th {\n",
       "        vertical-align: top;\n",
       "    }\n",
       "\n",
       "    .dataframe thead th {\n",
       "        text-align: right;\n",
       "    }\n",
       "</style>\n",
       "<table border=\"1\" class=\"dataframe\">\n",
       "  <thead>\n",
       "    <tr style=\"text-align: right;\">\n",
       "      <th></th>\n",
       "      <th>RowNumber</th>\n",
       "      <th>CustomerId</th>\n",
       "      <th>CreditScore</th>\n",
       "      <th>Age</th>\n",
       "      <th>Tenure</th>\n",
       "      <th>Balance</th>\n",
       "      <th>NumOfProducts</th>\n",
       "      <th>HasCrCard</th>\n",
       "      <th>IsActiveMember</th>\n",
       "      <th>EstimatedSalary</th>\n",
       "      <th>Exited</th>\n",
       "    </tr>\n",
       "  </thead>\n",
       "  <tbody>\n",
       "    <tr>\n",
       "      <th>count</th>\n",
       "      <td>10000.00000</td>\n",
       "      <td>1.000000e+04</td>\n",
       "      <td>10000.000000</td>\n",
       "      <td>10000.000000</td>\n",
       "      <td>9091.000000</td>\n",
       "      <td>10000.000000</td>\n",
       "      <td>10000.000000</td>\n",
       "      <td>10000.00000</td>\n",
       "      <td>10000.000000</td>\n",
       "      <td>10000.000000</td>\n",
       "      <td>10000.000000</td>\n",
       "    </tr>\n",
       "    <tr>\n",
       "      <th>mean</th>\n",
       "      <td>5000.50000</td>\n",
       "      <td>1.569094e+07</td>\n",
       "      <td>650.528800</td>\n",
       "      <td>38.921800</td>\n",
       "      <td>4.997690</td>\n",
       "      <td>76485.889288</td>\n",
       "      <td>1.530200</td>\n",
       "      <td>0.70550</td>\n",
       "      <td>0.515100</td>\n",
       "      <td>100090.239881</td>\n",
       "      <td>0.203700</td>\n",
       "    </tr>\n",
       "    <tr>\n",
       "      <th>std</th>\n",
       "      <td>2886.89568</td>\n",
       "      <td>7.193619e+04</td>\n",
       "      <td>96.653299</td>\n",
       "      <td>10.487806</td>\n",
       "      <td>2.894723</td>\n",
       "      <td>62397.405202</td>\n",
       "      <td>0.581654</td>\n",
       "      <td>0.45584</td>\n",
       "      <td>0.499797</td>\n",
       "      <td>57510.492818</td>\n",
       "      <td>0.402769</td>\n",
       "    </tr>\n",
       "    <tr>\n",
       "      <th>min</th>\n",
       "      <td>1.00000</td>\n",
       "      <td>1.556570e+07</td>\n",
       "      <td>350.000000</td>\n",
       "      <td>18.000000</td>\n",
       "      <td>0.000000</td>\n",
       "      <td>0.000000</td>\n",
       "      <td>1.000000</td>\n",
       "      <td>0.00000</td>\n",
       "      <td>0.000000</td>\n",
       "      <td>11.580000</td>\n",
       "      <td>0.000000</td>\n",
       "    </tr>\n",
       "    <tr>\n",
       "      <th>25%</th>\n",
       "      <td>2500.75000</td>\n",
       "      <td>1.562853e+07</td>\n",
       "      <td>584.000000</td>\n",
       "      <td>32.000000</td>\n",
       "      <td>2.000000</td>\n",
       "      <td>0.000000</td>\n",
       "      <td>1.000000</td>\n",
       "      <td>0.00000</td>\n",
       "      <td>0.000000</td>\n",
       "      <td>51002.110000</td>\n",
       "      <td>0.000000</td>\n",
       "    </tr>\n",
       "    <tr>\n",
       "      <th>50%</th>\n",
       "      <td>5000.50000</td>\n",
       "      <td>1.569074e+07</td>\n",
       "      <td>652.000000</td>\n",
       "      <td>37.000000</td>\n",
       "      <td>5.000000</td>\n",
       "      <td>97198.540000</td>\n",
       "      <td>1.000000</td>\n",
       "      <td>1.00000</td>\n",
       "      <td>1.000000</td>\n",
       "      <td>100193.915000</td>\n",
       "      <td>0.000000</td>\n",
       "    </tr>\n",
       "    <tr>\n",
       "      <th>75%</th>\n",
       "      <td>7500.25000</td>\n",
       "      <td>1.575323e+07</td>\n",
       "      <td>718.000000</td>\n",
       "      <td>44.000000</td>\n",
       "      <td>7.000000</td>\n",
       "      <td>127644.240000</td>\n",
       "      <td>2.000000</td>\n",
       "      <td>1.00000</td>\n",
       "      <td>1.000000</td>\n",
       "      <td>149388.247500</td>\n",
       "      <td>0.000000</td>\n",
       "    </tr>\n",
       "    <tr>\n",
       "      <th>max</th>\n",
       "      <td>10000.00000</td>\n",
       "      <td>1.581569e+07</td>\n",
       "      <td>850.000000</td>\n",
       "      <td>92.000000</td>\n",
       "      <td>10.000000</td>\n",
       "      <td>250898.090000</td>\n",
       "      <td>4.000000</td>\n",
       "      <td>1.00000</td>\n",
       "      <td>1.000000</td>\n",
       "      <td>199992.480000</td>\n",
       "      <td>1.000000</td>\n",
       "    </tr>\n",
       "  </tbody>\n",
       "</table>\n",
       "</div>"
      ],
      "text/plain": [
       "         RowNumber    CustomerId   CreditScore           Age       Tenure  \\\n",
       "count  10000.00000  1.000000e+04  10000.000000  10000.000000  9091.000000   \n",
       "mean    5000.50000  1.569094e+07    650.528800     38.921800     4.997690   \n",
       "std     2886.89568  7.193619e+04     96.653299     10.487806     2.894723   \n",
       "min        1.00000  1.556570e+07    350.000000     18.000000     0.000000   \n",
       "25%     2500.75000  1.562853e+07    584.000000     32.000000     2.000000   \n",
       "50%     5000.50000  1.569074e+07    652.000000     37.000000     5.000000   \n",
       "75%     7500.25000  1.575323e+07    718.000000     44.000000     7.000000   \n",
       "max    10000.00000  1.581569e+07    850.000000     92.000000    10.000000   \n",
       "\n",
       "             Balance  NumOfProducts    HasCrCard  IsActiveMember  \\\n",
       "count   10000.000000   10000.000000  10000.00000    10000.000000   \n",
       "mean    76485.889288       1.530200      0.70550        0.515100   \n",
       "std     62397.405202       0.581654      0.45584        0.499797   \n",
       "min         0.000000       1.000000      0.00000        0.000000   \n",
       "25%         0.000000       1.000000      0.00000        0.000000   \n",
       "50%     97198.540000       1.000000      1.00000        1.000000   \n",
       "75%    127644.240000       2.000000      1.00000        1.000000   \n",
       "max    250898.090000       4.000000      1.00000        1.000000   \n",
       "\n",
       "       EstimatedSalary        Exited  \n",
       "count     10000.000000  10000.000000  \n",
       "mean     100090.239881      0.203700  \n",
       "std       57510.492818      0.402769  \n",
       "min          11.580000      0.000000  \n",
       "25%       51002.110000      0.000000  \n",
       "50%      100193.915000      0.000000  \n",
       "75%      149388.247500      0.000000  \n",
       "max      199992.480000      1.000000  "
      ]
     },
     "execution_count": 3,
     "metadata": {},
     "output_type": "execute_result"
    }
   ],
   "source": [
    "df.describe()"
   ]
  },
  {
   "cell_type": "code",
   "execution_count": 4,
   "metadata": {
    "trusted": false
   },
   "outputs": [
    {
     "data": {
      "text/plain": [
       "RowNumber            0\n",
       "CustomerId           0\n",
       "Surname              0\n",
       "CreditScore          0\n",
       "Geography            0\n",
       "Gender               0\n",
       "Age                  0\n",
       "Tenure             909\n",
       "Balance              0\n",
       "NumOfProducts        0\n",
       "HasCrCard            0\n",
       "IsActiveMember       0\n",
       "EstimatedSalary      0\n",
       "Exited               0\n",
       "dtype: int64"
      ]
     },
     "execution_count": 4,
     "metadata": {},
     "output_type": "execute_result"
    }
   ],
   "source": [
    "df.isnull().sum()"
   ]
  },
  {
   "cell_type": "markdown",
   "metadata": {},
   "source": [
    "We are checking for missing values in the dataset. We found 909 null values in the Tenure column, so we will fill all of them with 0."
   ]
  },
  {
   "cell_type": "code",
   "execution_count": 5,
   "metadata": {
    "trusted": false
   },
   "outputs": [
    {
     "data": {
      "text/plain": [
       "RowNumber          0\n",
       "CustomerId         0\n",
       "Surname            0\n",
       "CreditScore        0\n",
       "Geography          0\n",
       "Gender             0\n",
       "Age                0\n",
       "Tenure             0\n",
       "Balance            0\n",
       "NumOfProducts      0\n",
       "HasCrCard          0\n",
       "IsActiveMember     0\n",
       "EstimatedSalary    0\n",
       "Exited             0\n",
       "dtype: int64"
      ]
     },
     "execution_count": 5,
     "metadata": {},
     "output_type": "execute_result"
    }
   ],
   "source": [
    "df['Tenure']= df['Tenure'].fillna(df['Tenure'].median())\n",
    "df.isnull().sum()"
   ]
  },
  {
   "cell_type": "code",
   "execution_count": 6,
   "metadata": {
    "trusted": false
   },
   "outputs": [
    {
     "data": {
      "text/html": [
       "<div>\n",
       "<style scoped>\n",
       "    .dataframe tbody tr th:only-of-type {\n",
       "        vertical-align: middle;\n",
       "    }\n",
       "\n",
       "    .dataframe tbody tr th {\n",
       "        vertical-align: top;\n",
       "    }\n",
       "\n",
       "    .dataframe thead th {\n",
       "        text-align: right;\n",
       "    }\n",
       "</style>\n",
       "<table border=\"1\" class=\"dataframe\">\n",
       "  <thead>\n",
       "    <tr style=\"text-align: right;\">\n",
       "      <th></th>\n",
       "      <th>CreditScore</th>\n",
       "      <th>Geography</th>\n",
       "      <th>Gender</th>\n",
       "      <th>Age</th>\n",
       "      <th>Tenure</th>\n",
       "      <th>Balance</th>\n",
       "      <th>NumOfProducts</th>\n",
       "      <th>HasCrCard</th>\n",
       "      <th>IsActiveMember</th>\n",
       "      <th>EstimatedSalary</th>\n",
       "      <th>Exited</th>\n",
       "    </tr>\n",
       "  </thead>\n",
       "  <tbody>\n",
       "    <tr>\n",
       "      <th>0</th>\n",
       "      <td>619</td>\n",
       "      <td>France</td>\n",
       "      <td>Female</td>\n",
       "      <td>42</td>\n",
       "      <td>2.0</td>\n",
       "      <td>0.00</td>\n",
       "      <td>1</td>\n",
       "      <td>1</td>\n",
       "      <td>1</td>\n",
       "      <td>101348.88</td>\n",
       "      <td>1</td>\n",
       "    </tr>\n",
       "    <tr>\n",
       "      <th>1</th>\n",
       "      <td>608</td>\n",
       "      <td>Spain</td>\n",
       "      <td>Female</td>\n",
       "      <td>41</td>\n",
       "      <td>1.0</td>\n",
       "      <td>83807.86</td>\n",
       "      <td>1</td>\n",
       "      <td>0</td>\n",
       "      <td>1</td>\n",
       "      <td>112542.58</td>\n",
       "      <td>0</td>\n",
       "    </tr>\n",
       "    <tr>\n",
       "      <th>2</th>\n",
       "      <td>502</td>\n",
       "      <td>France</td>\n",
       "      <td>Female</td>\n",
       "      <td>42</td>\n",
       "      <td>8.0</td>\n",
       "      <td>159660.80</td>\n",
       "      <td>3</td>\n",
       "      <td>1</td>\n",
       "      <td>0</td>\n",
       "      <td>113931.57</td>\n",
       "      <td>1</td>\n",
       "    </tr>\n",
       "    <tr>\n",
       "      <th>3</th>\n",
       "      <td>699</td>\n",
       "      <td>France</td>\n",
       "      <td>Female</td>\n",
       "      <td>39</td>\n",
       "      <td>1.0</td>\n",
       "      <td>0.00</td>\n",
       "      <td>2</td>\n",
       "      <td>0</td>\n",
       "      <td>0</td>\n",
       "      <td>93826.63</td>\n",
       "      <td>0</td>\n",
       "    </tr>\n",
       "    <tr>\n",
       "      <th>4</th>\n",
       "      <td>850</td>\n",
       "      <td>Spain</td>\n",
       "      <td>Female</td>\n",
       "      <td>43</td>\n",
       "      <td>2.0</td>\n",
       "      <td>125510.82</td>\n",
       "      <td>1</td>\n",
       "      <td>1</td>\n",
       "      <td>1</td>\n",
       "      <td>79084.10</td>\n",
       "      <td>0</td>\n",
       "    </tr>\n",
       "  </tbody>\n",
       "</table>\n",
       "</div>"
      ],
      "text/plain": [
       "   CreditScore Geography  Gender  Age  Tenure    Balance  NumOfProducts  \\\n",
       "0          619    France  Female   42     2.0       0.00              1   \n",
       "1          608     Spain  Female   41     1.0   83807.86              1   \n",
       "2          502    France  Female   42     8.0  159660.80              3   \n",
       "3          699    France  Female   39     1.0       0.00              2   \n",
       "4          850     Spain  Female   43     2.0  125510.82              1   \n",
       "\n",
       "   HasCrCard  IsActiveMember  EstimatedSalary  Exited  \n",
       "0          1               1        101348.88       1  \n",
       "1          0               1        112542.58       0  \n",
       "2          1               0        113931.57       1  \n",
       "3          0               0         93826.63       0  \n",
       "4          1               1         79084.10       0  "
      ]
     },
     "execution_count": 6,
     "metadata": {},
     "output_type": "execute_result"
    }
   ],
   "source": [
    "# Splitting the data as we wouldn't need the first three rows\n",
    "df= df.iloc[:, 3:]\n",
    "df.head()"
   ]
  },
  {
   "cell_type": "markdown",
   "metadata": {},
   "source": [
    "We are removing the first three columns as they are not needed for our analysis."
   ]
  },
  {
   "cell_type": "markdown",
   "metadata": {},
   "source": [
    "## Preprocessing the data"
   ]
  },
  {
   "cell_type": "markdown",
   "metadata": {},
   "source": [
    "We are preparing the data for further analysis."
   ]
  },
  {
   "cell_type": "markdown",
   "metadata": {},
   "source": [
    "### Encode Categorical Variables"
   ]
  },
  {
   "cell_type": "code",
   "execution_count": 9,
   "metadata": {
    "trusted": false
   },
   "outputs": [
    {
     "data": {
      "text/html": [
       "<div>\n",
       "<style scoped>\n",
       "    .dataframe tbody tr th:only-of-type {\n",
       "        vertical-align: middle;\n",
       "    }\n",
       "\n",
       "    .dataframe tbody tr th {\n",
       "        vertical-align: top;\n",
       "    }\n",
       "\n",
       "    .dataframe thead th {\n",
       "        text-align: right;\n",
       "    }\n",
       "</style>\n",
       "<table border=\"1\" class=\"dataframe\">\n",
       "  <thead>\n",
       "    <tr style=\"text-align: right;\">\n",
       "      <th></th>\n",
       "      <th>CreditScore</th>\n",
       "      <th>Age</th>\n",
       "      <th>Tenure</th>\n",
       "      <th>Balance</th>\n",
       "      <th>NumOfProducts</th>\n",
       "      <th>HasCrCard</th>\n",
       "      <th>IsActiveMember</th>\n",
       "      <th>EstimatedSalary</th>\n",
       "      <th>Exited</th>\n",
       "      <th>Geography_France</th>\n",
       "      <th>Geography_Germany</th>\n",
       "      <th>Geography_Spain</th>\n",
       "      <th>Gender_Female</th>\n",
       "      <th>Gender_Male</th>\n",
       "    </tr>\n",
       "  </thead>\n",
       "  <tbody>\n",
       "    <tr>\n",
       "      <th>0</th>\n",
       "      <td>619</td>\n",
       "      <td>42</td>\n",
       "      <td>2.0</td>\n",
       "      <td>0.00</td>\n",
       "      <td>1</td>\n",
       "      <td>1</td>\n",
       "      <td>1</td>\n",
       "      <td>101348.88</td>\n",
       "      <td>1</td>\n",
       "      <td>1.0</td>\n",
       "      <td>0.0</td>\n",
       "      <td>0.0</td>\n",
       "      <td>1.0</td>\n",
       "      <td>0.0</td>\n",
       "    </tr>\n",
       "    <tr>\n",
       "      <th>1</th>\n",
       "      <td>608</td>\n",
       "      <td>41</td>\n",
       "      <td>1.0</td>\n",
       "      <td>83807.86</td>\n",
       "      <td>1</td>\n",
       "      <td>0</td>\n",
       "      <td>1</td>\n",
       "      <td>112542.58</td>\n",
       "      <td>0</td>\n",
       "      <td>0.0</td>\n",
       "      <td>0.0</td>\n",
       "      <td>1.0</td>\n",
       "      <td>1.0</td>\n",
       "      <td>0.0</td>\n",
       "    </tr>\n",
       "    <tr>\n",
       "      <th>2</th>\n",
       "      <td>502</td>\n",
       "      <td>42</td>\n",
       "      <td>8.0</td>\n",
       "      <td>159660.80</td>\n",
       "      <td>3</td>\n",
       "      <td>1</td>\n",
       "      <td>0</td>\n",
       "      <td>113931.57</td>\n",
       "      <td>1</td>\n",
       "      <td>1.0</td>\n",
       "      <td>0.0</td>\n",
       "      <td>0.0</td>\n",
       "      <td>1.0</td>\n",
       "      <td>0.0</td>\n",
       "    </tr>\n",
       "    <tr>\n",
       "      <th>3</th>\n",
       "      <td>699</td>\n",
       "      <td>39</td>\n",
       "      <td>1.0</td>\n",
       "      <td>0.00</td>\n",
       "      <td>2</td>\n",
       "      <td>0</td>\n",
       "      <td>0</td>\n",
       "      <td>93826.63</td>\n",
       "      <td>0</td>\n",
       "      <td>1.0</td>\n",
       "      <td>0.0</td>\n",
       "      <td>0.0</td>\n",
       "      <td>1.0</td>\n",
       "      <td>0.0</td>\n",
       "    </tr>\n",
       "    <tr>\n",
       "      <th>4</th>\n",
       "      <td>850</td>\n",
       "      <td>43</td>\n",
       "      <td>2.0</td>\n",
       "      <td>125510.82</td>\n",
       "      <td>1</td>\n",
       "      <td>1</td>\n",
       "      <td>1</td>\n",
       "      <td>79084.10</td>\n",
       "      <td>0</td>\n",
       "      <td>0.0</td>\n",
       "      <td>0.0</td>\n",
       "      <td>1.0</td>\n",
       "      <td>1.0</td>\n",
       "      <td>0.0</td>\n",
       "    </tr>\n",
       "  </tbody>\n",
       "</table>\n",
       "</div>"
      ],
      "text/plain": [
       "   CreditScore  Age  Tenure    Balance  NumOfProducts  HasCrCard  \\\n",
       "0          619   42     2.0       0.00              1          1   \n",
       "1          608   41     1.0   83807.86              1          0   \n",
       "2          502   42     8.0  159660.80              3          1   \n",
       "3          699   39     1.0       0.00              2          0   \n",
       "4          850   43     2.0  125510.82              1          1   \n",
       "\n",
       "   IsActiveMember  EstimatedSalary  Exited  Geography_France  \\\n",
       "0               1        101348.88       1               1.0   \n",
       "1               1        112542.58       0               0.0   \n",
       "2               0        113931.57       1               1.0   \n",
       "3               0         93826.63       0               1.0   \n",
       "4               1         79084.10       0               0.0   \n",
       "\n",
       "   Geography_Germany  Geography_Spain  Gender_Female  Gender_Male  \n",
       "0                0.0              0.0            1.0          0.0  \n",
       "1                0.0              1.0            1.0          0.0  \n",
       "2                0.0              0.0            1.0          0.0  \n",
       "3                0.0              0.0            1.0          0.0  \n",
       "4                0.0              1.0            1.0          0.0  "
      ]
     },
     "execution_count": 9,
     "metadata": {},
     "output_type": "execute_result"
    }
   ],
   "source": [
    "\n",
    "# We are encoding the categorical variables 'Geography' and 'Gender' using one-hot encoding.\n",
    "# This process converts categorical data into a format that can be provided to machine learning algorithms.\n",
    "encoder = OneHotEncoder()\n",
    "encoded_data = encoder.fit_transform(df[['Geography', 'Gender']]).toarray()\n",
    "\n",
    "# Create DataFrame for the encoded data with appropriate column names\n",
    "encoded_df = pd.DataFrame(encoded_data, columns=encoder.get_feature_names(['Geography', 'Gender']))\n",
    "df = df.drop(['Geography', 'Gender'], axis=1)\n",
    "\n",
    "# Concatenate the original DataFrame and the encoded DataFrame\n",
    "df = pd.concat([df, encoded_df], axis=1)\n",
    "df.head()\n"
   ]
  },
  {
   "cell_type": "markdown",
   "metadata": {},
   "source": [
    "### Scale Numerical Features"
   ]
  },
  {
   "cell_type": "code",
   "execution_count": 10,
   "metadata": {
    "trusted": false
   },
   "outputs": [],
   "source": [
    "# We are splitting the data into training and validation sets. \n",
    "#scaler= StandardScaler()\n",
    "#numeric_features = ['CreditScore', 'Age', 'Tenure', 'Balance', 'NumOfProducts', 'HasCrCard', 'IsActiveMember', 'EstimatedSalary']\n",
    "#df[numeric_features]= scaler.fit_transform(df[numeric_features])\n",
    "#df.head()"
   ]
  },
  {
   "cell_type": "markdown",
   "metadata": {},
   "source": [
    "### Split the Data and dealing the balance"
   ]
  },
  {
   "cell_type": "code",
   "execution_count": 11,
   "metadata": {
    "trusted": false
   },
   "outputs": [
    {
     "name": "stdout",
     "output_type": "stream",
     "text": [
      "(6000, 13)\n",
      "(6000,)\n",
      "(2000, 13)\n",
      "(2000,)\n",
      "(2000, 13)\n",
      "(2000,)\n"
     ]
    }
   ],
   "source": [
    "target = df['Exited']\n",
    "features = df.drop('Exited', axis=1)\n",
    "\n",
    "x_train, x_temp, y_train, y_temp = train_test_split(features, target, test_size=0.4, random_state=12345, stratify=target)\n",
    "x_valid, x_test, y_valid, y_test = train_test_split(x_temp, y_temp, test_size=0.5, random_state=12345, stratify=y_temp)\n",
    "print(x_train.shape)\n",
    "print(y_train.shape)\n",
    "print(x_valid.shape)\n",
    "print(y_valid.shape)\n",
    "print(x_test.shape)\n",
    "print(y_test.shape)\n"
   ]
  },
  {
   "cell_type": "code",
   "execution_count": 12,
   "metadata": {
    "trusted": false
   },
   "outputs": [
    {
     "name": "stdout",
     "output_type": "stream",
     "text": [
      "(9556, 13)\n",
      "(9556,)\n"
     ]
    }
   ],
   "source": [
    "# Combine x_train and y_train for upsampling\n",
    "train_data = pd.concat([x_train, y_train], axis=1)\n",
    "\n",
    "majority = train_data[train_data['Exited'] == 0]\n",
    "minority = train_data[train_data['Exited'] == 1]\n",
    "\n",
    "minority_upsampled = resample(minority, replace=True, n_samples=len(majority), random_state=123)\n",
    "upsampled = pd.concat([majority, minority_upsampled])\n",
    "\n",
    "x_train_up = upsampled.drop('Exited', axis=1)\n",
    "y_train_up = upsampled['Exited']\n",
    "print(x_train_up.shape)\n",
    "print(y_train_up.shape)\n"
   ]
  },
  {
   "cell_type": "code",
   "execution_count": 29,
   "metadata": {
    "trusted": false
   },
   "outputs": [
    {
     "data": {
      "text/html": [
       "<div>\n",
       "<style scoped>\n",
       "    .dataframe tbody tr th:only-of-type {\n",
       "        vertical-align: middle;\n",
       "    }\n",
       "\n",
       "    .dataframe tbody tr th {\n",
       "        vertical-align: top;\n",
       "    }\n",
       "\n",
       "    .dataframe thead th {\n",
       "        text-align: right;\n",
       "    }\n",
       "</style>\n",
       "<table border=\"1\" class=\"dataframe\">\n",
       "  <thead>\n",
       "    <tr style=\"text-align: right;\">\n",
       "      <th></th>\n",
       "      <th>CreditScore</th>\n",
       "      <th>Age</th>\n",
       "      <th>Tenure</th>\n",
       "      <th>Balance</th>\n",
       "      <th>NumOfProducts</th>\n",
       "      <th>HasCrCard</th>\n",
       "      <th>IsActiveMember</th>\n",
       "      <th>EstimatedSalary</th>\n",
       "      <th>Geography_France</th>\n",
       "      <th>Geography_Germany</th>\n",
       "      <th>Geography_Spain</th>\n",
       "      <th>Gender_Female</th>\n",
       "      <th>Gender_Male</th>\n",
       "    </tr>\n",
       "  </thead>\n",
       "  <tbody>\n",
       "  </tbody>\n",
       "</table>\n",
       "</div>"
      ],
      "text/plain": [
       "Empty DataFrame\n",
       "Columns: [CreditScore, Age, Tenure, Balance, NumOfProducts, HasCrCard, IsActiveMember, EstimatedSalary, Geography_France, Geography_Germany, Geography_Spain, Gender_Female, Gender_Male]\n",
       "Index: []"
      ]
     },
     "execution_count": 29,
     "metadata": {},
     "output_type": "execute_result"
    }
   ],
   "source": [
    "inner= pd.merge(x_train_up, x_test, how='inner')\n",
    "inner"
   ]
  },
  {
   "cell_type": "code",
   "execution_count": 33,
   "metadata": {
    "trusted": false
   },
   "outputs": [
    {
     "name": "stdout",
     "output_type": "stream",
     "text": [
      "(2444, 13)\n",
      "(2444,)\n"
     ]
    }
   ],
   "source": [
    "# downsampling\n",
    "majority_downsampled = resample(majority, replace=False, n_samples=len(minority), random_state=123)\n",
    "\n",
    "downsampled = pd.concat([majority_downsampled, minority])\n",
    "\n",
    "x_train_down = downsampled.drop('Exited', axis=1)\n",
    "y_train_down = downsampled['Exited']\n",
    "\n",
    "print(x_train_down.shape)\n",
    "print(y_train_down.shape)"
   ]
  },
  {
   "cell_type": "code",
   "execution_count": 31,
   "metadata": {
    "trusted": false
   },
   "outputs": [
    {
     "data": {
      "text/html": [
       "<div>\n",
       "<style scoped>\n",
       "    .dataframe tbody tr th:only-of-type {\n",
       "        vertical-align: middle;\n",
       "    }\n",
       "\n",
       "    .dataframe tbody tr th {\n",
       "        vertical-align: top;\n",
       "    }\n",
       "\n",
       "    .dataframe thead th {\n",
       "        text-align: right;\n",
       "    }\n",
       "</style>\n",
       "<table border=\"1\" class=\"dataframe\">\n",
       "  <thead>\n",
       "    <tr style=\"text-align: right;\">\n",
       "      <th></th>\n",
       "      <th>CreditScore</th>\n",
       "      <th>Age</th>\n",
       "      <th>Tenure</th>\n",
       "      <th>Balance</th>\n",
       "      <th>NumOfProducts</th>\n",
       "      <th>HasCrCard</th>\n",
       "      <th>IsActiveMember</th>\n",
       "      <th>EstimatedSalary</th>\n",
       "      <th>Geography_France</th>\n",
       "      <th>Geography_Germany</th>\n",
       "      <th>Geography_Spain</th>\n",
       "      <th>Gender_Female</th>\n",
       "      <th>Gender_Male</th>\n",
       "    </tr>\n",
       "  </thead>\n",
       "  <tbody>\n",
       "  </tbody>\n",
       "</table>\n",
       "</div>"
      ],
      "text/plain": [
       "Empty DataFrame\n",
       "Columns: [CreditScore, Age, Tenure, Balance, NumOfProducts, HasCrCard, IsActiveMember, EstimatedSalary, Geography_France, Geography_Germany, Geography_Spain, Gender_Female, Gender_Male]\n",
       "Index: []"
      ]
     },
     "execution_count": 31,
     "metadata": {},
     "output_type": "execute_result"
    }
   ],
   "source": [
    "inner= pd.merge(x_train_down, x_test, how='inner')\n",
    "inner"
   ]
  },
  {
   "cell_type": "markdown",
   "metadata": {},
   "source": [
    "### Scale Numerical Features"
   ]
  },
  {
   "cell_type": "code",
   "execution_count": 35,
   "metadata": {
    "trusted": false
   },
   "outputs": [],
   "source": [
    "numeric = ['CreditScore', 'Age', 'Tenure', 'Balance', 'NumOfProducts', 'HasCrCard', 'IsActiveMember', 'EstimatedSalary']\n",
    "\n",
    "scaler = StandardScaler()\n",
    "\n",
    "# Fit the scaler on the training data\n",
    "scaler.fit(x_train[numeric])\n",
    "\n",
    "# Transform the training and validation data\n",
    "x_train[numeric] = scaler.transform(x_train[numeric])\n",
    "x_valid[numeric] = scaler.transform(x_valid[numeric])\n",
    "x_test[numeric] = scaler.transform(x_test[numeric])"
   ]
  },
  {
   "cell_type": "code",
   "execution_count": 36,
   "metadata": {
    "trusted": false
   },
   "outputs": [],
   "source": [
    "# Fit the scaler on the upsampled training data\n",
    "scaler.fit(x_train_up[numeric])\n",
    "\n",
    "# Transform the upsampled training and validation data\n",
    "x_train_up[numeric] = scaler.transform(x_train_up[numeric])"
   ]
  },
  {
   "cell_type": "code",
   "execution_count": 37,
   "metadata": {
    "trusted": false
   },
   "outputs": [],
   "source": [
    "# Fit the scaler on the upsampled training data\n",
    "scaler.fit(x_train_down[numeric])\n",
    "\n",
    "# Transform the upsampled training and validation data\n",
    "x_train_down[numeric] = scaler.transform(x_train_down[numeric])"
   ]
  },
  {
   "cell_type": "markdown",
   "metadata": {},
   "source": [
    "## Model"
   ]
  },
  {
   "cell_type": "code",
   "execution_count": 41,
   "metadata": {
    "trusted": false
   },
   "outputs": [],
   "source": [
    "# function to check each module \n",
    "def check_model(model, x_valid= x_valid, y_valid= y_valid ):\n",
    "    predicted= model.predict(x_valid)\n",
    "    prop= model.predict_proba(x_valid)[:, 1]\n",
    "    print('Accuracy: ', model.score(x_valid, y_valid))\n",
    "    print('F1 score: ', f1_score(y_valid, predicted))\n",
    "    print('AUC-ROC score: ', roc_auc_score(y_valid, prop))"
   ]
  },
  {
   "cell_type": "markdown",
   "metadata": {},
   "source": [
    "We define a function to evaluate the performance of different models using accuracy, F1 score, and AUC-ROC score."
   ]
  },
  {
   "cell_type": "markdown",
   "metadata": {},
   "source": [
    "### Random Forest Classifier"
   ]
  },
  {
   "cell_type": "code",
   "execution_count": 39,
   "metadata": {
    "trusted": false
   },
   "outputs": [
    {
     "name": "stdout",
     "output_type": "stream",
     "text": [
      "Accuracy:  0.865\n",
      "F1 score:  0.5945945945945946\n",
      "AUC-ROC score:  0.8616743336781949\n"
     ]
    }
   ],
   "source": [
    "# Normal data\n",
    "random_forest1= RandomForestClassifier(random_state=15).fit(x_train, y_train)\n",
    "check_model(random_forest1)"
   ]
  },
  {
   "cell_type": "code",
   "execution_count": 40,
   "metadata": {
    "trusted": false
   },
   "outputs": [
    {
     "name": "stdout",
     "output_type": "stream",
     "text": [
      "Accuracy:  0.8535\n",
      "F1 score:  0.6267515923566879\n",
      "AUC-ROC score:  0.8574782614050646\n"
     ]
    }
   ],
   "source": [
    "# upsampled data \n",
    "random_forest1= RandomForestClassifier(random_state=15).fit(x_train_up, y_train_up)\n",
    "check_model(random_forest1)"
   ]
  },
  {
   "cell_type": "code",
   "execution_count": 42,
   "metadata": {
    "trusted": false
   },
   "outputs": [
    {
     "name": "stdout",
     "output_type": "stream",
     "text": [
      "Accuracy:  0.765\n",
      "F1 score:  0.5833333333333334\n",
      "AUC-ROC score:  0.8617882611587349\n"
     ]
    }
   ],
   "source": [
    "# Downsampled data \n",
    "random_forest1= RandomForestClassifier(random_state=15).fit(x_train_down, y_train_down)\n",
    "check_model(random_forest1 )"
   ]
  },
  {
   "cell_type": "markdown",
   "metadata": {},
   "source": [
    "As we can see, the model works the best when dealing with upsampled data"
   ]
  },
  {
   "cell_type": "code",
   "execution_count": 43,
   "metadata": {
    "scrolled": true,
    "trusted": false
   },
   "outputs": [
    {
     "name": "stdout",
     "output_type": "stream",
     "text": [
      "Fitting 5 folds for each of 81 candidates, totalling 405 fits\n",
      "Best Parameters: {'max_depth': 20, 'min_samples_leaf': 1, 'min_samples_split': 10, 'n_estimators': 200}\n",
      "Best Score: 0.5691190275296278\n"
     ]
    }
   ],
   "source": [
    "param_grid = {\n",
    "    'n_estimators': [100, 200, 300],\n",
    "    'max_depth': [ 10, 20, 30],\n",
    "    'min_samples_split': [2, 5, 10],\n",
    "    'min_samples_leaf': [1, 2, 4]\n",
    "}\n",
    "\n",
    "\n",
    "# Perform grid search\n",
    "grid_search = GridSearchCV(estimator=random_forest1, param_grid=param_grid, cv=5, scoring='f1', n_jobs=-1, verbose=2)\n",
    "grid_search.fit(x_train, y_train)\n",
    "\n",
    "print(\"Best Parameters:\", grid_search.best_params_)\n",
    "print(\"Best Score:\", grid_search.best_score_)\n"
   ]
  },
  {
   "cell_type": "code",
   "execution_count": 44,
   "metadata": {
    "trusted": false
   },
   "outputs": [
    {
     "name": "stdout",
     "output_type": "stream",
     "text": [
      "Accuracy:  0.864\n",
      "F1 score:  0.5878787878787879\n",
      "AUC-ROC score:  0.867916481919401\n"
     ]
    }
   ],
   "source": [
    "# Now let's check this model with unbalanced data\n",
    "random_forest2= RandomForestClassifier(random_state=15, max_depth= 20, min_samples_split=10, min_samples_leaf=1, n_estimators=200).fit(x_train, y_train)\n",
    "check_model(random_forest2 )"
   ]
  },
  {
   "cell_type": "code",
   "execution_count": 45,
   "metadata": {
    "trusted": false
   },
   "outputs": [
    {
     "name": "stdout",
     "output_type": "stream",
     "text": [
      "Accuracy:  0.849\n",
      "F1 score:  0.6378896882494005\n",
      "AUC-ROC score:  0.8636857695339442\n"
     ]
    }
   ],
   "source": [
    "# Now let's check this model with balanced data\n",
    "random_forest2= RandomForestClassifier(random_state=15, max_depth= 20, min_samples_split=10, min_samples_leaf=1, n_estimators=200).fit(x_train_up, y_train_up)\n",
    "check_model(random_forest2 )"
   ]
  },
  {
   "cell_type": "code",
   "execution_count": 46,
   "metadata": {
    "trusted": false
   },
   "outputs": [
    {
     "name": "stdout",
     "output_type": "stream",
     "text": [
      "Accuracy:  0.7615\n",
      "F1 score:  0.5841325196163906\n",
      "AUC-ROC score:  0.8649913168785102\n"
     ]
    }
   ],
   "source": [
    "# Now let's check this model with balanced data\n",
    "random_forest2= RandomForestClassifier(random_state=15, max_depth= 20, min_samples_split=10, min_samples_leaf=1, n_estimators=200).fit(x_train_down, y_train_down)\n",
    "check_model(random_forest2 )"
   ]
  },
  {
   "cell_type": "markdown",
   "metadata": {},
   "source": [
    "Surprisingly it works worse than the regular model with upsampled data "
   ]
  },
  {
   "cell_type": "markdown",
   "metadata": {},
   "source": [
    "### Logistic Regression"
   ]
  },
  {
   "cell_type": "code",
   "execution_count": 47,
   "metadata": {
    "trusted": false
   },
   "outputs": [
    {
     "name": "stdout",
     "output_type": "stream",
     "text": [
      "Accuracy:  0.8115\n",
      "F1 score:  0.31078610603290674\n",
      "AUC-ROC score:  0.787463666371071\n"
     ]
    }
   ],
   "source": [
    "logistic_regression = LogisticRegression(random_state=15).fit(x_train, y_train)\n",
    "check_model(logistic_regression )\n"
   ]
  },
  {
   "cell_type": "code",
   "execution_count": 48,
   "metadata": {
    "trusted": false
   },
   "outputs": [
    {
     "name": "stdout",
     "output_type": "stream",
     "text": [
      "Accuracy:  0.6735\n",
      "F1 score:  0.501906941266209\n",
      "AUC-ROC score:  0.7916759040299537\n"
     ]
    }
   ],
   "source": [
    "logistic_regression = LogisticRegression(random_state=15).fit(x_train_up, y_train_up)\n",
    "check_model(logistic_regression )"
   ]
  },
  {
   "cell_type": "code",
   "execution_count": 49,
   "metadata": {
    "trusted": false
   },
   "outputs": [
    {
     "name": "stdout",
     "output_type": "stream",
     "text": [
      "Accuracy:  0.6695\n",
      "F1 score:  0.4996214988644966\n",
      "AUC-ROC score:  0.7918976007488423\n"
     ]
    }
   ],
   "source": [
    "logistic_regression = LogisticRegression(random_state=15).fit(x_train_down, y_train_down)\n",
    "check_model(logistic_regression)"
   ]
  },
  {
   "cell_type": "markdown",
   "metadata": {},
   "source": [
    "### Decision Tree Classifier"
   ]
  },
  {
   "cell_type": "code",
   "execution_count": 50,
   "metadata": {
    "trusted": false
   },
   "outputs": [
    {
     "name": "stdout",
     "output_type": "stream",
     "text": [
      "Accuracy:  0.795\n",
      "F1 score:  0.5095693779904307\n",
      "AUC-ROC score:  0.693504286136565\n"
     ]
    }
   ],
   "source": [
    "decision_tree= DecisionTreeClassifier(random_state=15).fit(x_train, y_train)\n",
    "check_model(decision_tree )"
   ]
  },
  {
   "cell_type": "code",
   "execution_count": 51,
   "metadata": {
    "trusted": false
   },
   "outputs": [
    {
     "name": "stdout",
     "output_type": "stream",
     "text": [
      "Best parameters: {'max_depth': 7}\n",
      "Best F1 score: 0.5524627895428031\n",
      "Accuracy:  0.8605\n",
      "F1 score:  0.5985611510791367\n",
      "AUC-ROC score:  0.8303311902650508\n"
     ]
    }
   ],
   "source": [
    "# Decision Tree with unbalanced data\n",
    "\n",
    "#for i in range(1, 8):\n",
    "#    test_model= DecisionTreeClassifier(random_state=15, max_depth=i).fit(x_train, y_train)\n",
    "#    print(f'The scores when max depth is {i}')\n",
    "#    check_model(test_model )\n",
    "\n",
    "\n",
    "param_grid = {'max_depth': range(1, 8)}\n",
    "dt = DecisionTreeClassifier(random_state=15)\n",
    "grid_search = GridSearchCV(estimator=dt, param_grid=param_grid, cv=5, scoring='f1')\n",
    "grid_search.fit(x_train, y_train)\n",
    "\n",
    "# Print the best parameters and best score\n",
    "print(f'Best parameters: {grid_search.best_params_}')\n",
    "print(f'Best F1 score: {grid_search.best_score_}')\n",
    "\n",
    "# Evaluate the best model on the validation set\n",
    "best_model = grid_search.best_estimator_\n",
    "check_model(best_model, x_valid, y_valid)\n"
   ]
  },
  {
   "cell_type": "markdown",
   "metadata": {},
   "source": [
    "We get best results when  max depth equals 6 "
   ]
  },
  {
   "cell_type": "code",
   "execution_count": 52,
   "metadata": {
    "trusted": false
   },
   "outputs": [
    {
     "name": "stdout",
     "output_type": "stream",
     "text": [
      "Best parameters: {'max_depth': 7}\n",
      "Best F1 score: 0.7887637413284656\n",
      "Accuracy:  0.755\n",
      "F1 score:  0.5601436265709157\n",
      "AUC-ROC score:  0.839266029904424\n"
     ]
    }
   ],
   "source": [
    "# Decision Tree with balanced data\n",
    "#for i in range(1, 8):\n",
    "#    test_model= DecisionTreeClassifier(random_state=15, max_depth=i).fit(x_train_up, y_train_up)\n",
    "#    print(f'The scores when max depth is {i}')\n",
    "#    check_model(test_model )\n",
    "\n",
    "grid_search.fit(x_train_up, y_train_up)\n",
    "\n",
    "# Print the best parameters and best score\n",
    "print(f'Best parameters: {grid_search.best_params_}')\n",
    "print(f'Best F1 score: {grid_search.best_score_}')\n",
    "\n",
    "# Evaluate the best model on the validation set\n",
    "best_model = grid_search.best_estimator_\n",
    "check_model(best_model, x_valid, y_valid)"
   ]
  },
  {
   "cell_type": "code",
   "execution_count": 53,
   "metadata": {
    "trusted": false
   },
   "outputs": [
    {
     "name": "stdout",
     "output_type": "stream",
     "text": [
      "Best parameters: {'max_depth': 6}\n",
      "Best F1 score: 0.7597803828132926\n",
      "Accuracy:  0.785\n",
      "F1 score:  0.601113172541744\n",
      "AUC-ROC score:  0.8474295497093308\n"
     ]
    }
   ],
   "source": [
    "# Decision Tree with balanced data\n",
    "#for i in range(1, 8):\n",
    "#    test_model= DecisionTreeClassifier(random_state=15, max_depth=i).fit(x_train_down, y_train_down)\n",
    "#    print(f'The scores when max depth is {i}')\n",
    "#    check_model(test_model)\n",
    "\n",
    "grid_search.fit(x_train_down, y_train_down)\n",
    "\n",
    "# Print the best parameters and best score\n",
    "print(f'Best parameters: {grid_search.best_params_}')\n",
    "print(f'Best F1 score: {grid_search.best_score_}')\n",
    "\n",
    "# Evaluate the best model on the validation set\n",
    "best_model = grid_search.best_estimator_\n",
    "check_model(best_model, x_valid, y_valid)"
   ]
  },
  {
   "cell_type": "markdown",
   "metadata": {},
   "source": [
    "As we can see we don't see a huge change in decision trees as they don't get affected much with unbalanced data"
   ]
  },
  {
   "cell_type": "markdown",
   "metadata": {},
   "source": [
    "## Best Model"
   ]
  },
  {
   "cell_type": "code",
   "execution_count": 54,
   "metadata": {
    "trusted": false
   },
   "outputs": [
    {
     "name": "stdout",
     "output_type": "stream",
     "text": [
      "Accuracy:  0.834\n",
      "F1 score:  0.5931372549019608\n",
      "AUC-ROC score:  0.848120848120848\n"
     ]
    }
   ],
   "source": [
    "# best model with balanced data\n",
    "best_model= RandomForestClassifier(random_state=15, max_depth= 20, min_samples_split=10, min_samples_leaf=1, n_estimators=200).fit(x_train_up, y_train_up)\n",
    "check_model(best_model, x_test, y_test)"
   ]
  },
  {
   "cell_type": "markdown",
   "metadata": {},
   "source": [
    "The Random Forest classifier, when trained with more balanced data, had the highest F1 score of 0.59. This means it was very good at predicting customer churn accurately. Balancing the data helped improve the model's performance, making it the best choice for our task."
   ]
  },
  {
   "cell_type": "markdown",
   "metadata": {},
   "source": [
    "### DummyClassifier Performance"
   ]
  },
  {
   "cell_type": "markdown",
   "metadata": {},
   "source": [
    "We are evaluating the performance of a Dummy classifier as a baseline for comparison with other models."
   ]
  },
  {
   "cell_type": "code",
   "execution_count": 55,
   "metadata": {
    "trusted": false
   },
   "outputs": [
    {
     "name": "stdout",
     "output_type": "stream",
     "text": [
      "Accuracy:  0.796\n",
      "F1 score:  0.0\n",
      "AUC-ROC score:  0.5\n"
     ]
    }
   ],
   "source": [
    "dummy_clf = DummyClassifier(strategy=\"most_frequent\")\n",
    "dummy_clf.fit(x_train, y_train)\n",
    "\n",
    "# Evaluate the model\n",
    "check_model(dummy_clf)"
   ]
  },
  {
   "cell_type": "markdown",
   "metadata": {},
   "source": [
    "## Conclusion"
   ]
  },
  {
   "cell_type": "markdown",
   "metadata": {},
   "source": [
    "After testing several models, the Random Forest classifier was the best at predicting customer churn. It had the highest F1 score, which means it was good at both finding customers who might leave and not making too many mistakes. This model is reliable and can help businesses understand customer behavior better and take action to keep their customers."
   ]
  }
 ],
 "metadata": {
  "ExecuteTimeLog": [
   {
    "duration": 828,
    "start_time": "2021-11-16T09:21:11.304Z"
   },
   {
    "duration": 893,
    "start_time": "2021-11-16T09:21:17.728Z"
   },
   {
    "duration": 1150,
    "start_time": "2021-11-16T09:21:29.568Z"
   },
   {
    "duration": 3,
    "start_time": "2021-11-16T09:24:14.495Z"
   },
   {
    "duration": 120,
    "start_time": "2021-11-16T09:24:46.630Z"
   },
   {
    "duration": 3,
    "start_time": "2021-11-16T09:28:27.882Z"
   },
   {
    "duration": 4,
    "start_time": "2021-11-16T09:29:54.281Z"
   },
   {
    "duration": 3,
    "start_time": "2021-11-16T09:30:45.936Z"
   },
   {
    "duration": 4,
    "start_time": "2021-11-16T09:31:06.300Z"
   },
   {
    "duration": 113,
    "start_time": "2021-11-16T09:31:37.208Z"
   },
   {
    "duration": 143,
    "start_time": "2021-11-16T09:31:48.656Z"
   },
   {
    "duration": 98,
    "start_time": "2021-11-16T09:31:55.678Z"
   },
   {
    "duration": 3,
    "start_time": "2021-11-16T09:32:08.535Z"
   },
   {
    "duration": 111,
    "start_time": "2021-11-16T09:32:10.120Z"
   },
   {
    "duration": 3,
    "start_time": "2021-11-16T09:32:15.732Z"
   },
   {
    "duration": 4,
    "start_time": "2021-11-16T09:32:29.423Z"
   },
   {
    "duration": 3,
    "start_time": "2021-11-16T10:03:03.074Z"
   },
   {
    "duration": 3,
    "start_time": "2021-11-16T10:10:01.288Z"
   },
   {
    "duration": 3,
    "start_time": "2021-11-16T10:10:46.923Z"
   },
   {
    "duration": 121,
    "start_time": "2021-11-16T10:37:46.494Z"
   },
   {
    "duration": 125,
    "start_time": "2021-11-16T10:38:20.632Z"
   },
   {
    "duration": 112,
    "start_time": "2021-11-16T10:46:53.001Z"
   },
   {
    "duration": 110,
    "start_time": "2021-11-16T10:48:25.775Z"
   },
   {
    "duration": 3,
    "start_time": "2021-11-16T10:50:18.720Z"
   },
   {
    "duration": 4,
    "start_time": "2021-11-16T10:50:37.649Z"
   },
   {
    "duration": 2,
    "start_time": "2021-11-16T10:50:51.884Z"
   },
   {
    "duration": 3,
    "start_time": "2021-11-16T10:51:56.237Z"
   },
   {
    "duration": 101,
    "start_time": "2021-11-16T10:53:13.791Z"
   },
   {
    "duration": 3,
    "start_time": "2021-11-16T10:55:59.186Z"
   },
   {
    "duration": 3,
    "start_time": "2021-11-16T10:56:10.751Z"
   },
   {
    "duration": 3,
    "start_time": "2021-11-16T10:56:49.038Z"
   },
   {
    "duration": 3,
    "start_time": "2021-11-16T10:56:49.174Z"
   },
   {
    "duration": 4,
    "start_time": "2021-11-16T10:56:49.414Z"
   },
   {
    "duration": 3,
    "start_time": "2021-11-16T10:56:49.680Z"
   },
   {
    "duration": 3,
    "start_time": "2021-11-16T10:56:50.370Z"
   },
   {
    "duration": 114,
    "start_time": "2021-11-16T10:59:34.518Z"
   },
   {
    "duration": 3,
    "start_time": "2021-11-16T11:01:41.201Z"
   },
   {
    "duration": 116,
    "start_time": "2021-11-16T11:01:48.754Z"
   },
   {
    "duration": 3,
    "start_time": "2021-11-16T11:02:16.685Z"
   },
   {
    "duration": 3,
    "start_time": "2021-11-16T11:02:19.479Z"
   },
   {
    "duration": 3,
    "start_time": "2021-11-16T11:02:47.067Z"
   },
   {
    "duration": 3,
    "start_time": "2021-11-16T11:02:49.353Z"
   },
   {
    "duration": 3,
    "start_time": "2021-11-16T11:03:07.835Z"
   },
   {
    "duration": 3,
    "start_time": "2021-11-16T11:03:07.953Z"
   },
   {
    "duration": 112,
    "start_time": "2021-11-16T11:07:52.072Z"
   },
   {
    "duration": 187,
    "start_time": "2021-11-16T11:09:23.468Z"
   },
   {
    "duration": 4,
    "start_time": "2021-11-16T11:10:01.455Z"
   },
   {
    "duration": 3,
    "start_time": "2021-11-16T11:10:05.069Z"
   },
   {
    "duration": 4,
    "start_time": "2021-11-16T11:10:13.376Z"
   },
   {
    "duration": 3,
    "start_time": "2021-11-16T11:10:14.434Z"
   },
   {
    "duration": 3,
    "start_time": "2021-11-16T11:10:22.853Z"
   },
   {
    "duration": 4,
    "start_time": "2021-11-16T11:27:29.279Z"
   },
   {
    "duration": 4,
    "start_time": "2021-11-16T11:29:08.919Z"
   },
   {
    "duration": 118,
    "start_time": "2021-11-16T11:29:46.703Z"
   },
   {
    "duration": 437,
    "start_time": "2021-11-16T11:36:02.181Z"
   },
   {
    "duration": 157,
    "start_time": "2021-11-16T11:36:14.388Z"
   },
   {
    "duration": 207,
    "start_time": "2021-11-16T11:47:15.898Z"
   },
   {
    "duration": 3,
    "start_time": "2021-11-16T11:53:52.092Z"
   },
   {
    "duration": 3,
    "start_time": "2021-11-16T11:53:52.236Z"
   },
   {
    "duration": 3,
    "start_time": "2021-11-16T11:59:12.005Z"
   },
   {
    "duration": 112,
    "start_time": "2021-11-16T12:00:33.446Z"
   },
   {
    "duration": 3,
    "start_time": "2021-11-16T12:02:14.453Z"
   },
   {
    "duration": 3,
    "start_time": "2021-11-16T12:02:39.512Z"
   },
   {
    "duration": 106,
    "start_time": "2021-11-16T12:03:03.460Z"
   },
   {
    "duration": 3,
    "start_time": "2021-11-17T20:37:21.139Z"
   },
   {
    "duration": 3,
    "start_time": "2021-11-17T20:37:22.229Z"
   },
   {
    "duration": 3,
    "start_time": "2021-11-17T20:38:38.806Z"
   },
   {
    "duration": 3,
    "start_time": "2021-11-17T20:38:41.958Z"
   },
   {
    "duration": 3,
    "start_time": "2021-11-17T20:43:46.551Z"
   },
   {
    "duration": 4,
    "start_time": "2021-11-17T20:58:21.835Z"
   },
   {
    "duration": 3,
    "start_time": "2021-11-17T20:59:21.872Z"
   },
   {
    "duration": 4,
    "start_time": "2021-11-17T20:59:45.352Z"
   },
   {
    "duration": 4,
    "start_time": "2021-11-17T20:59:49.646Z"
   },
   {
    "duration": 159,
    "start_time": "2021-11-17T21:02:26.949Z"
   },
   {
    "duration": 3,
    "start_time": "2021-11-17T21:03:53.461Z"
   },
   {
    "duration": 3,
    "start_time": "2021-11-17T21:03:53.694Z"
   },
   {
    "duration": 3,
    "start_time": "2021-11-17T21:05:28.145Z"
   },
   {
    "duration": 116,
    "start_time": "2021-11-17T21:05:57.787Z"
   },
   {
    "duration": 3,
    "start_time": "2021-11-17T21:06:37.993Z"
   },
   {
    "duration": 3,
    "start_time": "2021-11-17T21:06:38.261Z"
   },
   {
    "duration": 3,
    "start_time": "2021-11-17T21:11:54.358Z"
   },
   {
    "duration": 3,
    "start_time": "2021-11-17T21:12:43.846Z"
   },
   {
    "duration": 4,
    "start_time": "2021-11-17T21:13:08.773Z"
   },
   {
    "duration": 3,
    "start_time": "2021-11-17T21:14:44.441Z"
   },
   {
    "duration": 3,
    "start_time": "2021-11-17T21:15:42.059Z"
   },
   {
    "duration": 4,
    "start_time": "2021-11-17T21:15:51.995Z"
   },
   {
    "duration": 3,
    "start_time": "2021-11-17T21:15:53.923Z"
   },
   {
    "duration": 3,
    "start_time": "2021-11-17T21:15:55.282Z"
   },
   {
    "duration": 3,
    "start_time": "2021-11-17T21:16:28.492Z"
   },
   {
    "duration": 3,
    "start_time": "2021-11-17T21:16:32.603Z"
   },
   {
    "duration": 3,
    "start_time": "2021-11-17T21:17:06.941Z"
   },
   {
    "duration": 98,
    "start_time": "2021-11-17T21:18:05.733Z"
   },
   {
    "duration": 4,
    "start_time": "2021-11-17T21:21:35.255Z"
   },
   {
    "duration": 3,
    "start_time": "2021-11-17T21:21:37.804Z"
   },
   {
    "duration": 4,
    "start_time": "2021-11-17T21:23:06.071Z"
   },
   {
    "duration": 3,
    "start_time": "2021-11-17T21:23:24.799Z"
   },
   {
    "duration": 3,
    "start_time": "2021-11-17T21:23:32.591Z"
   },
   {
    "duration": 98,
    "start_time": "2021-11-17T21:28:31.559Z"
   },
   {
    "duration": 3,
    "start_time": "2021-11-17T21:28:45.448Z"
   },
   {
    "duration": 3,
    "start_time": "2021-11-17T21:29:17.303Z"
   },
   {
    "duration": 3,
    "start_time": "2021-11-17T21:29:29.617Z"
   },
   {
    "duration": 3,
    "start_time": "2021-11-17T21:29:32.681Z"
   },
   {
    "duration": 3,
    "start_time": "2021-11-17T21:36:11.474Z"
   },
   {
    "duration": 3,
    "start_time": "2021-11-17T21:36:14.791Z"
   },
   {
    "duration": 3,
    "start_time": "2021-11-17T21:36:53.943Z"
   },
   {
    "duration": 3,
    "start_time": "2021-11-17T21:36:56.165Z"
   },
   {
    "duration": 4,
    "start_time": "2021-11-17T21:37:16.590Z"
   },
   {
    "duration": 3,
    "start_time": "2021-11-17T21:37:22.702Z"
   },
   {
    "duration": 4,
    "start_time": "2021-11-17T21:38:03.479Z"
   },
   {
    "duration": 3,
    "start_time": "2021-11-17T21:38:08.601Z"
   },
   {
    "duration": 3,
    "start_time": "2021-11-17T21:38:12.928Z"
   },
   {
    "duration": 3,
    "start_time": "2021-11-17T21:38:48.896Z"
   },
   {
    "duration": 2,
    "start_time": "2021-11-17T21:38:49.171Z"
   },
   {
    "duration": 4,
    "start_time": "2021-11-17T21:39:57.889Z"
   },
   {
    "duration": 3,
    "start_time": "2021-11-17T21:39:58.057Z"
   },
   {
    "duration": 3,
    "start_time": "2021-11-17T21:41:20.108Z"
   },
   {
    "duration": 3,
    "start_time": "2021-11-17T21:41:20.629Z"
   },
   {
    "duration": 3,
    "start_time": "2021-11-17T21:42:49.136Z"
   },
   {
    "duration": 3,
    "start_time": "2021-11-17T21:43:15.137Z"
   },
   {
    "duration": 4,
    "start_time": "2021-11-17T21:43:16.766Z"
   },
   {
    "duration": 4,
    "start_time": "2021-11-17T21:43:31.711Z"
   },
   {
    "duration": 3,
    "start_time": "2021-11-17T21:43:36.312Z"
   },
   {
    "duration": 4,
    "start_time": "2021-11-17T21:45:08.825Z"
   },
   {
    "duration": 4,
    "start_time": "2021-11-17T21:45:10.119Z"
   },
   {
    "duration": 4,
    "start_time": "2021-11-17T21:45:13.748Z"
   },
   {
    "duration": 3,
    "start_time": "2021-11-17T21:45:22.219Z"
   },
   {
    "duration": 3,
    "start_time": "2021-11-17T21:45:33.412Z"
   },
   {
    "duration": 2,
    "start_time": "2021-11-17T21:46:01.885Z"
   },
   {
    "duration": 3,
    "start_time": "2021-11-17T21:46:03.628Z"
   },
   {
    "duration": 107,
    "start_time": "2021-11-17T21:47:32.512Z"
   },
   {
    "duration": 103,
    "start_time": "2021-11-17T21:50:36.243Z"
   },
   {
    "duration": 3,
    "start_time": "2021-11-18T06:28:31.440Z"
   },
   {
    "duration": 3,
    "start_time": "2021-11-18T06:29:00.168Z"
   },
   {
    "duration": 3,
    "start_time": "2021-11-18T06:31:27.008Z"
   },
   {
    "duration": 2,
    "start_time": "2021-11-18T06:35:34.288Z"
   },
   {
    "duration": 2,
    "start_time": "2021-11-18T06:38:04.527Z"
   },
   {
    "duration": 7,
    "start_time": "2024-12-16T09:39:52.500Z"
   },
   {
    "duration": 158,
    "start_time": "2024-12-16T13:11:31.022Z"
   },
   {
    "duration": 23,
    "start_time": "2024-12-16T13:24:32.738Z"
   },
   {
    "duration": 12,
    "start_time": "2024-12-16T13:39:25.342Z"
   },
   {
    "duration": 2722,
    "start_time": "2024-12-16T13:39:35.363Z"
   },
   {
    "duration": 36,
    "start_time": "2024-12-16T13:39:38.088Z"
   },
   {
    "duration": 27,
    "start_time": "2024-12-16T13:39:38.126Z"
   },
   {
    "duration": 6,
    "start_time": "2024-12-16T13:39:38.155Z"
   },
   {
    "duration": 14,
    "start_time": "2024-12-16T13:39:38.162Z"
   },
   {
    "duration": 9,
    "start_time": "2024-12-16T13:39:38.178Z"
   },
   {
    "duration": 1165,
    "start_time": "2024-12-16T13:39:38.321Z"
   },
   {
    "duration": 93,
    "start_time": "2024-12-16T13:39:39.631Z"
   },
   {
    "duration": 2,
    "start_time": "2024-12-16T13:39:40.618Z"
   },
   {
    "duration": 5,
    "start_time": "2024-12-16T13:39:41.016Z"
   },
   {
    "duration": 5,
    "start_time": "2024-12-16T13:39:41.201Z"
   },
   {
    "duration": 9,
    "start_time": "2024-12-16T13:39:41.794Z"
   },
   {
    "duration": 18,
    "start_time": "2024-12-16T13:39:42.029Z"
   },
   {
    "duration": 21,
    "start_time": "2024-12-16T13:39:42.212Z"
   },
   {
    "duration": 332,
    "start_time": "2024-12-16T13:39:42.658Z"
   },
   {
    "duration": 0,
    "start_time": "2024-12-16T13:39:42.992Z"
   },
   {
    "duration": 15,
    "start_time": "2024-12-16T13:39:43.025Z"
   },
   {
    "duration": 3,
    "start_time": "2024-12-16T13:39:43.445Z"
   },
   {
    "duration": 30,
    "start_time": "2024-12-16T13:39:44.268Z"
   },
   {
    "duration": 27,
    "start_time": "2024-12-16T13:39:44.470Z"
   },
   {
    "duration": 14,
    "start_time": "2024-12-16T13:39:44.649Z"
   },
   {
    "duration": 17,
    "start_time": "2024-12-16T13:39:45.463Z"
   },
   {
    "duration": 26,
    "start_time": "2024-12-16T13:39:45.832Z"
   },
   {
    "duration": 26,
    "start_time": "2024-12-16T13:39:46.027Z"
   },
   {
    "duration": 14,
    "start_time": "2024-12-16T13:39:46.241Z"
   },
   {
    "duration": 29,
    "start_time": "2024-12-16T13:39:46.858Z"
   },
   {
    "duration": 30,
    "start_time": "2024-12-16T13:39:47.075Z"
   },
   {
    "duration": 15,
    "start_time": "2024-12-16T13:39:47.280Z"
   },
   {
    "duration": 28,
    "start_time": "2024-12-16T13:39:49.168Z"
   },
   {
    "duration": 136,
    "start_time": "2024-12-16T13:39:49.931Z"
   },
   {
    "duration": 154,
    "start_time": "2024-12-16T13:39:52.670Z"
   },
   {
    "duration": 19,
    "start_time": "2024-12-16T13:42:20.690Z"
   },
   {
    "duration": 5,
    "start_time": "2024-12-16T13:43:20.349Z"
   },
   {
    "duration": 11,
    "start_time": "2024-12-16T13:43:28.117Z"
   },
   {
    "duration": 14,
    "start_time": "2024-12-16T13:43:30.649Z"
   },
   {
    "duration": 21,
    "start_time": "2024-12-16T13:43:31.835Z"
   },
   {
    "duration": 11,
    "start_time": "2024-12-16T13:44:37.043Z"
   },
   {
    "duration": 32,
    "start_time": "2024-12-16T13:44:41.907Z"
   },
   {
    "duration": 31,
    "start_time": "2024-12-16T13:45:33.568Z"
   },
   {
    "duration": 33,
    "start_time": "2024-12-16T13:45:50.453Z"
   },
   {
    "duration": 32,
    "start_time": "2024-12-16T13:46:06.398Z"
   },
   {
    "duration": 3,
    "start_time": "2024-12-16T13:46:32.907Z"
   },
   {
    "duration": 31,
    "start_time": "2024-12-16T13:46:34.719Z"
   },
   {
    "duration": 18,
    "start_time": "2024-12-16T13:46:58.442Z"
   },
   {
    "duration": 19,
    "start_time": "2024-12-16T13:47:02.209Z"
   },
   {
    "duration": 15,
    "start_time": "2024-12-16T13:47:04.488Z"
   },
   {
    "duration": 13,
    "start_time": "2024-12-16T13:48:11.791Z"
   },
   {
    "duration": 24,
    "start_time": "2024-12-16T13:48:40.622Z"
   },
   {
    "duration": 16,
    "start_time": "2024-12-16T13:49:07.936Z"
   },
   {
    "duration": 12,
    "start_time": "2024-12-16T13:49:10.063Z"
   },
   {
    "duration": 11,
    "start_time": "2024-12-16T13:49:10.702Z"
   },
   {
    "duration": 3,
    "start_time": "2024-12-16T13:49:14.617Z"
   },
   {
    "duration": 592,
    "start_time": "2024-12-16T13:49:17.773Z"
   },
   {
    "duration": 841,
    "start_time": "2024-12-16T13:49:21.809Z"
   },
   {
    "duration": 314,
    "start_time": "2024-12-16T13:49:24.370Z"
   },
   {
    "duration": 313630,
    "start_time": "2024-12-16T13:49:52.647Z"
   },
   {
    "duration": 1104,
    "start_time": "2024-12-16T13:56:01.287Z"
   },
   {
    "duration": 1621,
    "start_time": "2024-12-16T13:56:36.212Z"
   },
   {
    "duration": 574,
    "start_time": "2024-12-16T13:57:35.931Z"
   },
   {
    "duration": 31,
    "start_time": "2024-12-16T13:57:49.449Z"
   },
   {
    "duration": 20,
    "start_time": "2024-12-16T13:57:51.116Z"
   },
   {
    "duration": 32,
    "start_time": "2024-12-16T13:57:52.413Z"
   },
   {
    "duration": 36,
    "start_time": "2024-12-16T13:58:36.477Z"
   },
   {
    "duration": 393,
    "start_time": "2024-12-16T13:58:39.048Z"
   },
   {
    "duration": 530,
    "start_time": "2024-12-16T13:59:08.818Z"
   },
   {
    "duration": 231,
    "start_time": "2024-12-16T13:59:41.807Z"
   },
   {
    "duration": 24,
    "start_time": "2024-12-16T13:59:51.100Z"
   },
   {
    "duration": 788,
    "start_time": "2024-12-16T14:00:07.891Z"
   },
   {
    "duration": 844,
    "start_time": "2024-12-16T14:01:27.436Z"
   },
   {
    "duration": 10,
    "start_time": "2024-12-16T14:02:39.323Z"
   },
   {
    "duration": 15,
    "start_time": "2024-12-16T14:02:47.967Z"
   },
   {
    "duration": 10,
    "start_time": "2024-12-16T14:02:48.542Z"
   },
   {
    "duration": 21,
    "start_time": "2024-12-16T14:02:49.767Z"
   },
   {
    "duration": 25,
    "start_time": "2024-12-16T14:02:50.423Z"
   },
   {
    "duration": 18,
    "start_time": "2024-12-16T14:02:51.106Z"
   },
   {
    "duration": 3,
    "start_time": "2024-12-16T14:02:52.510Z"
   },
   {
    "duration": 601,
    "start_time": "2024-12-16T14:02:55.959Z"
   },
   {
    "duration": 833,
    "start_time": "2024-12-16T14:03:09.418Z"
   },
   {
    "duration": 314,
    "start_time": "2024-12-16T14:03:20.537Z"
   },
   {
    "duration": 6671,
    "start_time": "2024-12-16T14:03:26.682Z"
   },
   {
    "duration": 0,
    "start_time": "2024-12-16T14:03:33.355Z"
   },
   {
    "duration": 0,
    "start_time": "2024-12-16T14:03:33.356Z"
   },
   {
    "duration": 1095,
    "start_time": "2024-12-16T14:03:40.620Z"
   },
   {
    "duration": 1606,
    "start_time": "2024-12-16T14:03:43.153Z"
   },
   {
    "duration": 1578,
    "start_time": "2024-12-16T14:04:00.989Z"
   },
   {
    "duration": 579,
    "start_time": "2024-12-16T14:04:02.571Z"
   },
   {
    "duration": 23,
    "start_time": "2024-12-16T14:04:05.404Z"
   },
   {
    "duration": 23,
    "start_time": "2024-12-16T14:04:06.195Z"
   },
   {
    "duration": 17,
    "start_time": "2024-12-16T14:04:10.289Z"
   },
   {
    "duration": 36,
    "start_time": "2024-12-16T14:04:12.580Z"
   },
   {
    "duration": 401,
    "start_time": "2024-12-16T14:04:19.074Z"
   },
   {
    "duration": 533,
    "start_time": "2024-12-16T14:04:23.806Z"
   },
   {
    "duration": 239,
    "start_time": "2024-12-16T14:04:27.337Z"
   },
   {
    "duration": 23,
    "start_time": "2024-12-16T14:04:33.072Z"
   },
   {
    "duration": 857,
    "start_time": "2024-12-16T14:04:36.529Z"
   },
   {
    "duration": 313194,
    "start_time": "2024-12-16T14:08:32.571Z"
   },
   {
    "duration": 5,
    "start_time": "2024-12-16T14:15:13.612Z"
   },
   {
    "duration": 9,
    "start_time": "2024-12-16T14:15:20.184Z"
   },
   {
    "duration": 13,
    "start_time": "2024-12-16T14:15:22.894Z"
   },
   {
    "duration": 20,
    "start_time": "2024-12-16T14:15:23.836Z"
   },
   {
    "duration": 5,
    "start_time": "2024-12-16T14:15:40.422Z"
   },
   {
    "duration": 10,
    "start_time": "2024-12-16T14:15:41.791Z"
   },
   {
    "duration": 15,
    "start_time": "2024-12-16T14:15:42.298Z"
   },
   {
    "duration": 11,
    "start_time": "2024-12-16T14:15:42.867Z"
   },
   {
    "duration": 3,
    "start_time": "2024-12-16T14:15:51.461Z"
   },
   {
    "duration": 25,
    "start_time": "2024-12-16T14:15:52.114Z"
   },
   {
    "duration": 27,
    "start_time": "2024-12-16T14:15:52.775Z"
   },
   {
    "duration": 6,
    "start_time": "2024-12-16T14:15:53.169Z"
   },
   {
    "duration": 8,
    "start_time": "2024-12-16T14:15:54.177Z"
   },
   {
    "duration": 10,
    "start_time": "2024-12-16T14:15:54.835Z"
   },
   {
    "duration": 1196,
    "start_time": "2024-12-16T14:15:56.259Z"
   },
   {
    "duration": 18,
    "start_time": "2024-12-16T14:16:00.485Z"
   },
   {
    "duration": 2,
    "start_time": "2024-12-16T14:16:02.376Z"
   },
   {
    "duration": 6,
    "start_time": "2024-12-16T14:16:04.907Z"
   },
   {
    "duration": 10,
    "start_time": "2024-12-16T14:16:06.786Z"
   },
   {
    "duration": 15,
    "start_time": "2024-12-16T14:16:07.266Z"
   },
   {
    "duration": 11,
    "start_time": "2024-12-16T14:16:07.989Z"
   },
   {
    "duration": 22,
    "start_time": "2024-12-16T14:16:13.497Z"
   },
   {
    "duration": 19,
    "start_time": "2024-12-16T14:16:14.022Z"
   },
   {
    "duration": 14,
    "start_time": "2024-12-16T14:16:14.684Z"
   },
   {
    "duration": 3,
    "start_time": "2024-12-16T14:16:21.732Z"
   },
   {
    "duration": 599,
    "start_time": "2024-12-16T14:16:27.133Z"
   },
   {
    "duration": 847,
    "start_time": "2024-12-16T14:16:29.244Z"
   },
   {
    "duration": 313,
    "start_time": "2024-12-16T14:16:35.535Z"
   },
   {
    "duration": 1105,
    "start_time": "2024-12-16T14:16:53.332Z"
   },
   {
    "duration": 1602,
    "start_time": "2024-12-16T14:16:55.728Z"
   },
   {
    "duration": 587,
    "start_time": "2024-12-16T14:16:57.332Z"
   },
   {
    "duration": 22,
    "start_time": "2024-12-16T14:16:58.562Z"
   },
   {
    "duration": 19,
    "start_time": "2024-12-16T14:16:59.418Z"
   },
   {
    "duration": 17,
    "start_time": "2024-12-16T14:16:59.957Z"
   },
   {
    "duration": 36,
    "start_time": "2024-12-16T14:17:01.510Z"
   },
   {
    "duration": 395,
    "start_time": "2024-12-16T14:17:02.149Z"
   },
   {
    "duration": 537,
    "start_time": "2024-12-16T14:17:10.150Z"
   },
   {
    "duration": 232,
    "start_time": "2024-12-16T14:17:12.784Z"
   },
   {
    "duration": 853,
    "start_time": "2024-12-16T14:17:16.014Z"
   },
   {
    "duration": 6,
    "start_time": "2024-12-16T14:19:16.874Z"
   },
   {
    "duration": 9,
    "start_time": "2024-12-16T14:19:22.034Z"
   },
   {
    "duration": 14,
    "start_time": "2024-12-16T14:19:22.461Z"
   },
   {
    "duration": 11,
    "start_time": "2024-12-16T14:19:22.921Z"
   },
   {
    "duration": 20,
    "start_time": "2024-12-16T14:19:25.089Z"
   },
   {
    "duration": 21,
    "start_time": "2024-12-16T14:19:26.558Z"
   },
   {
    "duration": 15,
    "start_time": "2024-12-16T14:19:27.026Z"
   },
   {
    "duration": 3,
    "start_time": "2024-12-16T14:19:29.380Z"
   },
   {
    "duration": 596,
    "start_time": "2024-12-16T14:19:32.612Z"
   },
   {
    "duration": 846,
    "start_time": "2024-12-16T14:19:33.962Z"
   },
   {
    "duration": 332,
    "start_time": "2024-12-16T14:19:34.810Z"
   },
   {
    "duration": 1105,
    "start_time": "2024-12-16T14:19:45.002Z"
   },
   {
    "duration": 1622,
    "start_time": "2024-12-16T14:19:46.110Z"
   },
   {
    "duration": 585,
    "start_time": "2024-12-16T14:19:47.733Z"
   },
   {
    "duration": 55,
    "start_time": "2024-12-16T14:19:48.320Z"
   },
   {
    "duration": 93,
    "start_time": "2024-12-16T14:19:48.377Z"
   },
   {
    "duration": 17,
    "start_time": "2024-12-16T14:19:48.473Z"
   },
   {
    "duration": 109,
    "start_time": "2024-12-16T14:19:48.492Z"
   },
   {
    "duration": 457,
    "start_time": "2024-12-16T14:19:48.603Z"
   },
   {
    "duration": 545,
    "start_time": "2024-12-16T14:19:49.069Z"
   },
   {
    "duration": 240,
    "start_time": "2024-12-16T14:19:49.658Z"
   },
   {
    "duration": 845,
    "start_time": "2024-12-16T14:19:50.959Z"
   },
   {
    "duration": 6,
    "start_time": "2024-12-16T14:19:59.599Z"
   },
   {
    "duration": 8,
    "start_time": "2024-12-16T18:06:07.557Z"
   },
   {
    "duration": 4,
    "start_time": "2024-12-16T18:06:18.171Z"
   },
   {
    "duration": 1077,
    "start_time": "2024-12-19T17:27:41.208Z"
   },
   {
    "duration": 38,
    "start_time": "2024-12-19T17:27:42.287Z"
   },
   {
    "duration": 29,
    "start_time": "2024-12-19T17:27:42.852Z"
   },
   {
    "duration": 7,
    "start_time": "2024-12-19T17:27:43.053Z"
   },
   {
    "duration": 9,
    "start_time": "2024-12-19T17:27:43.407Z"
   },
   {
    "duration": 10,
    "start_time": "2024-12-19T17:27:43.779Z"
   },
   {
    "duration": 262,
    "start_time": "2024-12-19T17:27:47.018Z"
   },
   {
    "duration": 3,
    "start_time": "2024-12-19T17:27:48.288Z"
   },
   {
    "duration": 21,
    "start_time": "2024-12-19T17:27:54.467Z"
   },
   {
    "duration": 2,
    "start_time": "2024-12-19T17:27:57.583Z"
   },
   {
    "duration": 12,
    "start_time": "2024-12-19T17:27:58.709Z"
   },
   {
    "duration": 13,
    "start_time": "2024-12-19T17:27:59.414Z"
   },
   {
    "duration": 7,
    "start_time": "2024-12-19T17:35:48.691Z"
   },
   {
    "duration": 3,
    "start_time": "2024-12-19T17:36:41.015Z"
   }
  ],
  "kernelspec": {
   "display_name": "base",
   "language": "python",
   "name": "python3"
  },
  "language_info": {
   "codemirror_mode": {
    "name": "ipython",
    "version": 3
   },
   "file_extension": ".py",
   "mimetype": "text/x-python",
   "name": "python",
   "nbconvert_exporter": "python",
   "pygments_lexer": "ipython3",
   "version": "3.12.7"
  },
  "toc": {
   "base_numbering": 1,
   "nav_menu": {},
   "number_sections": true,
   "sideBar": true,
   "skip_h1_title": false,
   "title_cell": "Table of Contents",
   "title_sidebar": "Contents",
   "toc_cell": false,
   "toc_position": {
    "height": "calc(100% - 180px)",
    "left": "10px",
    "top": "150px",
    "width": "190px"
   },
   "toc_section_display": true,
   "toc_window_display": false
  }
 },
 "nbformat": 4,
 "nbformat_minor": 2
}
