{
 "cells": [
  {
   "cell_type": "markdown",
   "metadata": {},
   "source": [
    "# Analyzing and Securing Insurance Data"
   ]
  },
  {
   "cell_type": "markdown",
   "metadata": {},
   "source": [
    "In this project, we want to understand how different factors like gender, age, salary, and family members affect the use of insurance benefits. We'll use simple tools to analyze the data and build a model to predict insurance usage. We'll also make sure the data is secure by encrypting it."
   ]
  },
  {
   "cell_type": "markdown",
   "metadata": {},
   "source": [
    "## Initialization"
   ]
  },
  {
   "cell_type": "code",
   "execution_count": 2,
   "metadata": {
    "trusted": true
   },
   "outputs": [],
   "source": [
    "import pandas as pd\n",
    "import numpy as np\n",
    "import matplotlib.pyplot as plt\n",
    "from sklearn.metrics import f1_score, mean_squared_error, r2_score\n",
    "from sklearn.model_selection import train_test_split\n",
    "from sklearn.preprocessing import MaxAbsScaler, StandardScaler\n",
    "from scipy.spatial import distance\n",
    "from sklearn.neighbors import KNeighborsClassifier\n",
    "from numpy.linalg import inv"
   ]
  },
  {
   "cell_type": "markdown",
   "metadata": {},
   "source": [
    "## Load data"
   ]
  },
  {
   "cell_type": "code",
   "execution_count": 3,
   "metadata": {
    "trusted": true
   },
   "outputs": [
    {
     "data": {
      "text/html": [
       "<div>\n",
       "<style scoped>\n",
       "    .dataframe tbody tr th:only-of-type {\n",
       "        vertical-align: middle;\n",
       "    }\n",
       "\n",
       "    .dataframe tbody tr th {\n",
       "        vertical-align: top;\n",
       "    }\n",
       "\n",
       "    .dataframe thead th {\n",
       "        text-align: right;\n",
       "    }\n",
       "</style>\n",
       "<table border=\"1\" class=\"dataframe\">\n",
       "  <thead>\n",
       "    <tr style=\"text-align: right;\">\n",
       "      <th></th>\n",
       "      <th>Gender</th>\n",
       "      <th>Age</th>\n",
       "      <th>Salary</th>\n",
       "      <th>Family members</th>\n",
       "      <th>Insurance benefits</th>\n",
       "    </tr>\n",
       "  </thead>\n",
       "  <tbody>\n",
       "    <tr>\n",
       "      <th>0</th>\n",
       "      <td>1</td>\n",
       "      <td>41.0</td>\n",
       "      <td>49600.0</td>\n",
       "      <td>1</td>\n",
       "      <td>0</td>\n",
       "    </tr>\n",
       "    <tr>\n",
       "      <th>1</th>\n",
       "      <td>0</td>\n",
       "      <td>46.0</td>\n",
       "      <td>38000.0</td>\n",
       "      <td>1</td>\n",
       "      <td>1</td>\n",
       "    </tr>\n",
       "    <tr>\n",
       "      <th>2</th>\n",
       "      <td>0</td>\n",
       "      <td>29.0</td>\n",
       "      <td>21000.0</td>\n",
       "      <td>0</td>\n",
       "      <td>0</td>\n",
       "    </tr>\n",
       "    <tr>\n",
       "      <th>3</th>\n",
       "      <td>0</td>\n",
       "      <td>21.0</td>\n",
       "      <td>41700.0</td>\n",
       "      <td>2</td>\n",
       "      <td>0</td>\n",
       "    </tr>\n",
       "    <tr>\n",
       "      <th>4</th>\n",
       "      <td>1</td>\n",
       "      <td>28.0</td>\n",
       "      <td>26100.0</td>\n",
       "      <td>0</td>\n",
       "      <td>0</td>\n",
       "    </tr>\n",
       "  </tbody>\n",
       "</table>\n",
       "</div>"
      ],
      "text/plain": [
       "   Gender   Age   Salary  Family members  Insurance benefits\n",
       "0       1  41.0  49600.0               1                   0\n",
       "1       0  46.0  38000.0               1                   1\n",
       "2       0  29.0  21000.0               0                   0\n",
       "3       0  21.0  41700.0               2                   0\n",
       "4       1  28.0  26100.0               0                   0"
      ]
     },
     "execution_count": 3,
     "metadata": {},
     "output_type": "execute_result"
    }
   ],
   "source": [
    "# Load the data files into different DataFrames\n",
    "try:\n",
    "    df= pd.read_csv('insurance_us.csv')\n",
    "except:\n",
    "    df = pd.read_csv('datasets/insurance_us.csv')\n",
    "\n",
    "df.head()"
   ]
  },
  {
   "cell_type": "markdown",
   "metadata": {},
   "source": [
    "## EDA"
   ]
  },
  {
   "cell_type": "code",
   "execution_count": 4,
   "metadata": {
    "trusted": true
   },
   "outputs": [
    {
     "data": {
      "text/html": [
       "<div>\n",
       "<style scoped>\n",
       "    .dataframe tbody tr th:only-of-type {\n",
       "        vertical-align: middle;\n",
       "    }\n",
       "\n",
       "    .dataframe tbody tr th {\n",
       "        vertical-align: top;\n",
       "    }\n",
       "\n",
       "    .dataframe thead th {\n",
       "        text-align: right;\n",
       "    }\n",
       "</style>\n",
       "<table border=\"1\" class=\"dataframe\">\n",
       "  <thead>\n",
       "    <tr style=\"text-align: right;\">\n",
       "      <th></th>\n",
       "      <th>Gender</th>\n",
       "      <th>Age</th>\n",
       "      <th>Salary</th>\n",
       "      <th>Family members</th>\n",
       "      <th>Insurance benefits</th>\n",
       "    </tr>\n",
       "  </thead>\n",
       "  <tbody>\n",
       "    <tr>\n",
       "      <th>count</th>\n",
       "      <td>5000.000000</td>\n",
       "      <td>5000.000000</td>\n",
       "      <td>5000.000000</td>\n",
       "      <td>5000.000000</td>\n",
       "      <td>5000.000000</td>\n",
       "    </tr>\n",
       "    <tr>\n",
       "      <th>mean</th>\n",
       "      <td>0.499000</td>\n",
       "      <td>30.952800</td>\n",
       "      <td>39916.360000</td>\n",
       "      <td>1.194200</td>\n",
       "      <td>0.148000</td>\n",
       "    </tr>\n",
       "    <tr>\n",
       "      <th>std</th>\n",
       "      <td>0.500049</td>\n",
       "      <td>8.440807</td>\n",
       "      <td>9900.083569</td>\n",
       "      <td>1.091387</td>\n",
       "      <td>0.463183</td>\n",
       "    </tr>\n",
       "    <tr>\n",
       "      <th>min</th>\n",
       "      <td>0.000000</td>\n",
       "      <td>18.000000</td>\n",
       "      <td>5300.000000</td>\n",
       "      <td>0.000000</td>\n",
       "      <td>0.000000</td>\n",
       "    </tr>\n",
       "    <tr>\n",
       "      <th>25%</th>\n",
       "      <td>0.000000</td>\n",
       "      <td>24.000000</td>\n",
       "      <td>33300.000000</td>\n",
       "      <td>0.000000</td>\n",
       "      <td>0.000000</td>\n",
       "    </tr>\n",
       "    <tr>\n",
       "      <th>50%</th>\n",
       "      <td>0.000000</td>\n",
       "      <td>30.000000</td>\n",
       "      <td>40200.000000</td>\n",
       "      <td>1.000000</td>\n",
       "      <td>0.000000</td>\n",
       "    </tr>\n",
       "    <tr>\n",
       "      <th>75%</th>\n",
       "      <td>1.000000</td>\n",
       "      <td>37.000000</td>\n",
       "      <td>46600.000000</td>\n",
       "      <td>2.000000</td>\n",
       "      <td>0.000000</td>\n",
       "    </tr>\n",
       "    <tr>\n",
       "      <th>max</th>\n",
       "      <td>1.000000</td>\n",
       "      <td>65.000000</td>\n",
       "      <td>79000.000000</td>\n",
       "      <td>6.000000</td>\n",
       "      <td>5.000000</td>\n",
       "    </tr>\n",
       "  </tbody>\n",
       "</table>\n",
       "</div>"
      ],
      "text/plain": [
       "            Gender          Age        Salary  Family members  \\\n",
       "count  5000.000000  5000.000000   5000.000000     5000.000000   \n",
       "mean      0.499000    30.952800  39916.360000        1.194200   \n",
       "std       0.500049     8.440807   9900.083569        1.091387   \n",
       "min       0.000000    18.000000   5300.000000        0.000000   \n",
       "25%       0.000000    24.000000  33300.000000        0.000000   \n",
       "50%       0.000000    30.000000  40200.000000        1.000000   \n",
       "75%       1.000000    37.000000  46600.000000        2.000000   \n",
       "max       1.000000    65.000000  79000.000000        6.000000   \n",
       "\n",
       "       Insurance benefits  \n",
       "count         5000.000000  \n",
       "mean             0.148000  \n",
       "std              0.463183  \n",
       "min              0.000000  \n",
       "25%              0.000000  \n",
       "50%              0.000000  \n",
       "75%              0.000000  \n",
       "max              5.000000  "
      ]
     },
     "execution_count": 4,
     "metadata": {},
     "output_type": "execute_result"
    }
   ],
   "source": [
    "df.describe()"
   ]
  },
  {
   "cell_type": "code",
   "execution_count": 5,
   "metadata": {
    "trusted": true
   },
   "outputs": [
    {
     "data": {
      "image/png": "[encoded data removed]",
      "text/plain": [
       "<Figure size 640x480 with 1 Axes>"
      ]
     },
     "metadata": {},
     "output_type": "display_data"
    },
    {
     "data": {
      "image/png": "[encoded data removed]",
      "text/plain": [
       "<Figure size 640x480 with 1 Axes>"
      ]
     },
     "metadata": {},
     "output_type": "display_data"
    },
    {
     "data": {
      "image/png": "[encoded data removed]",
      "text/plain": [
       "<Figure size 640x480 with 1 Axes>"
      ]
     },
     "metadata": {},
     "output_type": "display_data"
    },
    {
     "data": {
      "image/png": "[encoded data removed]",
      "text/plain": [
       "<Figure size 640x480 with 1 Axes>"
      ]
     },
     "metadata": {},
     "output_type": "display_data"
    },
    {
     "data": {
      "image/png": "[encoded data removed]",
      "text/plain": [
       "<Figure size 640x480 with 1 Axes>"
      ]
     },
     "metadata": {},
     "output_type": "display_data"
    }
   ],
   "source": [
    "# Plot each column\n",
    "for column in df.columns:\n",
    "    plt.figure()\n",
    "    plt.hist(df[column],edgecolor='black')\n",
    "    plt.title(f'Plot of {column}')\n",
    "    plt.ylabel('Count')\n",
    "    plt.xlabel(column)\n",
    "    plt.show()\n"
   ]
  },
  {
   "cell_type": "markdown",
   "metadata": {},
   "source": [
    "The graphs show an equal number of males and females. The age and salary distributions look good, with almost no outliers. Most people don’t use insurance benefits, and as the number of uses goes up, fewer people use them."
   ]
  },
  {
   "cell_type": "code",
   "execution_count": 6,
   "metadata": {
    "trusted": true
   },
   "outputs": [
    {
     "data": {
      "text/plain": [
       "Gender                0\n",
       "Age                   0\n",
       "Salary                0\n",
       "Family members        0\n",
       "Insurance benefits    0\n",
       "dtype: int64"
      ]
     },
     "execution_count": 6,
     "metadata": {},
     "output_type": "execute_result"
    }
   ],
   "source": [
    "# Checking nulls\n",
    "df.isnull().sum()"
   ]
  },
  {
   "cell_type": "code",
   "execution_count": 7,
   "metadata": {
    "trusted": true
   },
   "outputs": [
    {
     "data": {
      "text/plain": [
       "153"
      ]
     },
     "execution_count": 7,
     "metadata": {},
     "output_type": "execute_result"
    }
   ],
   "source": [
    "# Checking duplicates \n",
    "df.duplicated().sum()"
   ]
  },
  {
   "cell_type": "code",
   "execution_count": 8,
   "metadata": {
    "trusted": true
   },
   "outputs": [
    {
     "data": {
      "text/html": [
       "<div>\n",
       "<style scoped>\n",
       "    .dataframe tbody tr th:only-of-type {\n",
       "        vertical-align: middle;\n",
       "    }\n",
       "\n",
       "    .dataframe tbody tr th {\n",
       "        vertical-align: top;\n",
       "    }\n",
       "\n",
       "    .dataframe thead th {\n",
       "        text-align: right;\n",
       "    }\n",
       "</style>\n",
       "<table border=\"1\" class=\"dataframe\">\n",
       "  <thead>\n",
       "    <tr style=\"text-align: right;\">\n",
       "      <th></th>\n",
       "      <th>Gender</th>\n",
       "      <th>Age</th>\n",
       "      <th>Salary</th>\n",
       "      <th>Family members</th>\n",
       "      <th>Insurance benefits</th>\n",
       "    </tr>\n",
       "  </thead>\n",
       "  <tbody>\n",
       "    <tr>\n",
       "      <th>2955</th>\n",
       "      <td>1</td>\n",
       "      <td>32.0</td>\n",
       "      <td>21600.0</td>\n",
       "      <td>0</td>\n",
       "      <td>0</td>\n",
       "    </tr>\n",
       "    <tr>\n",
       "      <th>2988</th>\n",
       "      <td>1</td>\n",
       "      <td>32.0</td>\n",
       "      <td>21600.0</td>\n",
       "      <td>0</td>\n",
       "      <td>0</td>\n",
       "    </tr>\n",
       "    <tr>\n",
       "      <th>361</th>\n",
       "      <td>0</td>\n",
       "      <td>50.0</td>\n",
       "      <td>24700.0</td>\n",
       "      <td>1</td>\n",
       "      <td>2</td>\n",
       "    </tr>\n",
       "    <tr>\n",
       "      <th>2869</th>\n",
       "      <td>0</td>\n",
       "      <td>50.0</td>\n",
       "      <td>24700.0</td>\n",
       "      <td>1</td>\n",
       "      <td>2</td>\n",
       "    </tr>\n",
       "    <tr>\n",
       "      <th>333</th>\n",
       "      <td>0</td>\n",
       "      <td>32.0</td>\n",
       "      <td>25600.0</td>\n",
       "      <td>1</td>\n",
       "      <td>0</td>\n",
       "    </tr>\n",
       "    <tr>\n",
       "      <th>4230</th>\n",
       "      <td>0</td>\n",
       "      <td>32.0</td>\n",
       "      <td>25600.0</td>\n",
       "      <td>1</td>\n",
       "      <td>0</td>\n",
       "    </tr>\n",
       "  </tbody>\n",
       "</table>\n",
       "</div>"
      ],
      "text/plain": [
       "      Gender   Age   Salary  Family members  Insurance benefits\n",
       "2955       1  32.0  21600.0               0                   0\n",
       "2988       1  32.0  21600.0               0                   0\n",
       "361        0  50.0  24700.0               1                   2\n",
       "2869       0  50.0  24700.0               1                   2\n",
       "333        0  32.0  25600.0               1                   0\n",
       "4230       0  32.0  25600.0               1                   0"
      ]
     },
     "execution_count": 8,
     "metadata": {},
     "output_type": "execute_result"
    }
   ],
   "source": [
    "# Exploring the  duplicates \n",
    "df[df.duplicated(keep=False)].sort_values('Salary').head(6)"
   ]
  },
  {
   "cell_type": "markdown",
   "metadata": {},
   "source": [
    "It's very unlikely to find people with the same gender, salary, and insurance benefits at the same time, so we will remove all duplicates."
   ]
  },
  {
   "cell_type": "code",
   "execution_count": 9,
   "metadata": {
    "trusted": true
   },
   "outputs": [
    {
     "data": {
      "text/plain": [
       "0"
      ]
     },
     "execution_count": 9,
     "metadata": {},
     "output_type": "execute_result"
    }
   ],
   "source": [
    "# Dropping duplicates \n",
    "df= df.drop_duplicates()\n",
    "df.duplicated().sum()"
   ]
  },
  {
   "cell_type": "code",
   "execution_count": 10,
   "metadata": {
    "trusted": true
   },
   "outputs": [
    {
     "name": "stdout",
     "output_type": "stream",
     "text": [
      "\n",
      "Group-wise Mean by Gender:\n"
     ]
    },
    {
     "data": {
      "text/html": [
       "<div>\n",
       "<style scoped>\n",
       "    .dataframe tbody tr th:only-of-type {\n",
       "        vertical-align: middle;\n",
       "    }\n",
       "\n",
       "    .dataframe tbody tr th {\n",
       "        vertical-align: top;\n",
       "    }\n",
       "\n",
       "    .dataframe thead th {\n",
       "        text-align: right;\n",
       "    }\n",
       "</style>\n",
       "<table border=\"1\" class=\"dataframe\">\n",
       "  <thead>\n",
       "    <tr style=\"text-align: right;\">\n",
       "      <th></th>\n",
       "      <th>Salary</th>\n",
       "      <th>Insurance benefits</th>\n",
       "    </tr>\n",
       "    <tr>\n",
       "      <th>Gender</th>\n",
       "      <th></th>\n",
       "      <th></th>\n",
       "    </tr>\n",
       "  </thead>\n",
       "  <tbody>\n",
       "    <tr>\n",
       "      <th>0</th>\n",
       "      <td>39742.163719</td>\n",
       "      <td>0.146853</td>\n",
       "    </tr>\n",
       "    <tr>\n",
       "      <th>1</th>\n",
       "      <td>40050.413907</td>\n",
       "      <td>0.157699</td>\n",
       "    </tr>\n",
       "  </tbody>\n",
       "</table>\n",
       "</div>"
      ],
      "text/plain": [
       "              Salary  Insurance benefits\n",
       "Gender                                  \n",
       "0       39742.163719            0.146853\n",
       "1       40050.413907            0.157699"
      ]
     },
     "execution_count": 10,
     "metadata": {},
     "output_type": "execute_result"
    }
   ],
   "source": [
    "#  Group-wise analysis\n",
    "grouped_data = df.groupby('Gender')[['Salary', 'Insurance benefits']].mean()\n",
    "print(\"\\nGroup-wise Mean by Gender:\")\n",
    "grouped_data"
   ]
  },
  {
   "cell_type": "markdown",
   "metadata": {},
   "source": [
    "There's a almost no difference between males, and females"
   ]
  },
  {
   "cell_type": "code",
   "execution_count": 11,
   "metadata": {
    "trusted": true
   },
   "outputs": [
    {
     "name": "stdout",
     "output_type": "stream",
     "text": [
      "\n",
      "Group-wise Mean by Insurance Benefits:\n"
     ]
    },
    {
     "data": {
      "text/html": [
       "<div>\n",
       "<style scoped>\n",
       "    .dataframe tbody tr th:only-of-type {\n",
       "        vertical-align: middle;\n",
       "    }\n",
       "\n",
       "    .dataframe tbody tr th {\n",
       "        vertical-align: top;\n",
       "    }\n",
       "\n",
       "    .dataframe thead th {\n",
       "        text-align: right;\n",
       "    }\n",
       "</style>\n",
       "<table border=\"1\" class=\"dataframe\">\n",
       "  <thead>\n",
       "    <tr style=\"text-align: right;\">\n",
       "      <th></th>\n",
       "      <th>Age</th>\n",
       "      <th>Salary</th>\n",
       "    </tr>\n",
       "    <tr>\n",
       "      <th>Insurance benefits</th>\n",
       "      <th></th>\n",
       "      <th></th>\n",
       "    </tr>\n",
       "  </thead>\n",
       "  <tbody>\n",
       "    <tr>\n",
       "      <th>0</th>\n",
       "      <td>28.985294</td>\n",
       "      <td>39898.249300</td>\n",
       "    </tr>\n",
       "    <tr>\n",
       "      <th>1</th>\n",
       "      <td>44.706856</td>\n",
       "      <td>40260.520095</td>\n",
       "    </tr>\n",
       "    <tr>\n",
       "      <th>2</th>\n",
       "      <td>50.868421</td>\n",
       "      <td>39161.403509</td>\n",
       "    </tr>\n",
       "    <tr>\n",
       "      <th>3</th>\n",
       "      <td>55.833333</td>\n",
       "      <td>37677.777778</td>\n",
       "    </tr>\n",
       "    <tr>\n",
       "      <th>4</th>\n",
       "      <td>60.000000</td>\n",
       "      <td>34057.142857</td>\n",
       "    </tr>\n",
       "    <tr>\n",
       "      <th>5</th>\n",
       "      <td>65.000000</td>\n",
       "      <td>39700.000000</td>\n",
       "    </tr>\n",
       "  </tbody>\n",
       "</table>\n",
       "</div>"
      ],
      "text/plain": [
       "                          Age        Salary\n",
       "Insurance benefits                         \n",
       "0                   28.985294  39898.249300\n",
       "1                   44.706856  40260.520095\n",
       "2                   50.868421  39161.403509\n",
       "3                   55.833333  37677.777778\n",
       "4                   60.000000  34057.142857\n",
       "5                   65.000000  39700.000000"
      ]
     },
     "execution_count": 11,
     "metadata": {},
     "output_type": "execute_result"
    }
   ],
   "source": [
    "# Group by Insurance Benefits: Mean Age and Salary\n",
    "insurance_grouped = df.groupby('Insurance benefits')[['Age', 'Salary']].mean()\n",
    "print(\"\\nGroup-wise Mean by Insurance Benefits:\")\n",
    "insurance_grouped"
   ]
  },
  {
   "cell_type": "markdown",
   "metadata": {},
   "source": [
    "This table shows a strong relationship between age and the number of times insurance benefits are used. As people get older, they tend to use their insurance more."
   ]
  },
  {
   "cell_type": "markdown",
   "metadata": {},
   "source": [
    "## Find customers who are similar to a given customer"
   ]
  },
  {
   "cell_type": "code",
   "execution_count": 11,
   "metadata": {
    "scrolled": false,
    "trusted": true
   },
   "outputs": [],
   "source": [
    "def find_knn(data, target_index, k=5, metric='euclidean', scaled=False):\n",
    "    features = data.drop('Insurance benefits', axis=1)\n",
    "    \n",
    "    # Reset index to avoid out-of-bounds errors\n",
    "    features = features.reset_index(drop=True)\n",
    "    \n",
    "    if scaled:\n",
    "        scaler = MaxAbsScaler()\n",
    "        scaled_features = scaler.fit_transform(features)\n",
    "        features = pd.DataFrame(scaled_features, columns=features.columns)\n",
    "    \n",
    "    target_row = features.iloc[target_index]  # Use reset index\n",
    "    \n",
    "    distances = []\n",
    "    for idx in range(len(features)):  # Iterate over 0-based indices\n",
    "        row = features.iloc[idx]\n",
    "        if metric == 'euclidean':\n",
    "            dist = distance.euclidean(row, target_row)\n",
    "        elif metric == 'manhattan':\n",
    "            dist = distance.cityblock(row, target_row)\n",
    "        distances.append((idx, dist))\n",
    "    \n",
    "    distances.sort(key=lambda x: x[1])\n",
    "    closest = [d[0] for d in distances[1:k+1]]  # Exclude self\n",
    "    return data.loc[closest]  # Use original data's index for results"
   ]
  },
  {
   "cell_type": "code",
   "execution_count": 12,
   "metadata": {
    "trusted": true
   },
   "outputs": [
    {
     "data": {
      "text/plain": [
       "Gender                    1.0\n",
       "Age                      41.0\n",
       "Salary                49600.0\n",
       "Family members            1.0\n",
       "Insurance benefits        0.0\n",
       "Name: 0, dtype: float64"
      ]
     },
     "execution_count": 12,
     "metadata": {},
     "output_type": "execute_result"
    }
   ],
   "source": [
    "# Test for given customer (index 0)\n",
    "df.iloc[0]"
   ]
  },
  {
   "cell_type": "code",
   "execution_count": 13,
   "metadata": {
    "trusted": true
   },
   "outputs": [
    {
     "data": {
      "text/html": [
       "<div>\n",
       "<style scoped>\n",
       "    .dataframe tbody tr th:only-of-type {\n",
       "        vertical-align: middle;\n",
       "    }\n",
       "\n",
       "    .dataframe tbody tr th {\n",
       "        vertical-align: top;\n",
       "    }\n",
       "\n",
       "    .dataframe thead th {\n",
       "        text-align: right;\n",
       "    }\n",
       "</style>\n",
       "<table border=\"1\" class=\"dataframe\">\n",
       "  <thead>\n",
       "    <tr style=\"text-align: right;\">\n",
       "      <th></th>\n",
       "      <th>Gender</th>\n",
       "      <th>Age</th>\n",
       "      <th>Salary</th>\n",
       "      <th>Family members</th>\n",
       "      <th>Insurance benefits</th>\n",
       "    </tr>\n",
       "  </thead>\n",
       "  <tbody>\n",
       "    <tr>\n",
       "      <th>1992</th>\n",
       "      <td>0</td>\n",
       "      <td>33.0</td>\n",
       "      <td>23200.0</td>\n",
       "      <td>2</td>\n",
       "      <td>0</td>\n",
       "    </tr>\n",
       "    <tr>\n",
       "      <th>1214</th>\n",
       "      <td>0</td>\n",
       "      <td>23.0</td>\n",
       "      <td>45600.0</td>\n",
       "      <td>0</td>\n",
       "      <td>0</td>\n",
       "    </tr>\n",
       "    <tr>\n",
       "      <th>3916</th>\n",
       "      <td>1</td>\n",
       "      <td>35.0</td>\n",
       "      <td>40200.0</td>\n",
       "      <td>1</td>\n",
       "      <td>0</td>\n",
       "    </tr>\n",
       "    <tr>\n",
       "      <th>3334</th>\n",
       "      <td>1</td>\n",
       "      <td>37.0</td>\n",
       "      <td>31100.0</td>\n",
       "      <td>1</td>\n",
       "      <td>0</td>\n",
       "    </tr>\n",
       "    <tr>\n",
       "      <th>810</th>\n",
       "      <td>0</td>\n",
       "      <td>20.0</td>\n",
       "      <td>35200.0</td>\n",
       "      <td>0</td>\n",
       "      <td>0</td>\n",
       "    </tr>\n",
       "  </tbody>\n",
       "</table>\n",
       "</div>"
      ],
      "text/plain": [
       "      Gender   Age   Salary  Family members  Insurance benefits\n",
       "1992       0  33.0  23200.0               2                   0\n",
       "1214       0  23.0  45600.0               0                   0\n",
       "3916       1  35.0  40200.0               1                   0\n",
       "3334       1  37.0  31100.0               1                   0\n",
       "810        0  20.0  35200.0               0                   0"
      ]
     },
     "execution_count": 13,
     "metadata": {},
     "output_type": "execute_result"
    }
   ],
   "source": [
    "# Trying to see the closest with unscaled data while using euclidean distance \n",
    "knn_euclidean_unscaled = find_knn(df, 0)\n",
    "knn_euclidean_unscaled"
   ]
  },
  {
   "cell_type": "code",
   "execution_count": 14,
   "metadata": {
    "trusted": true
   },
   "outputs": [
    {
     "data": {
      "text/html": [
       "<div>\n",
       "<style scoped>\n",
       "    .dataframe tbody tr th:only-of-type {\n",
       "        vertical-align: middle;\n",
       "    }\n",
       "\n",
       "    .dataframe tbody tr th {\n",
       "        vertical-align: top;\n",
       "    }\n",
       "\n",
       "    .dataframe thead th {\n",
       "        text-align: right;\n",
       "    }\n",
       "</style>\n",
       "<table border=\"1\" class=\"dataframe\">\n",
       "  <thead>\n",
       "    <tr style=\"text-align: right;\">\n",
       "      <th></th>\n",
       "      <th>Gender</th>\n",
       "      <th>Age</th>\n",
       "      <th>Salary</th>\n",
       "      <th>Family members</th>\n",
       "      <th>Insurance benefits</th>\n",
       "    </tr>\n",
       "  </thead>\n",
       "  <tbody>\n",
       "    <tr>\n",
       "      <th>2632</th>\n",
       "      <td>0</td>\n",
       "      <td>30.0</td>\n",
       "      <td>41300.0</td>\n",
       "      <td>1</td>\n",
       "      <td>0</td>\n",
       "    </tr>\n",
       "    <tr>\n",
       "      <th>133</th>\n",
       "      <td>1</td>\n",
       "      <td>40.0</td>\n",
       "      <td>50300.0</td>\n",
       "      <td>1</td>\n",
       "      <td>0</td>\n",
       "    </tr>\n",
       "    <tr>\n",
       "      <th>4720</th>\n",
       "      <td>0</td>\n",
       "      <td>31.0</td>\n",
       "      <td>35400.0</td>\n",
       "      <td>1</td>\n",
       "      <td>0</td>\n",
       "    </tr>\n",
       "    <tr>\n",
       "      <th>3192</th>\n",
       "      <td>0</td>\n",
       "      <td>30.0</td>\n",
       "      <td>48800.0</td>\n",
       "      <td>2</td>\n",
       "      <td>0</td>\n",
       "    </tr>\n",
       "    <tr>\n",
       "      <th>1550</th>\n",
       "      <td>1</td>\n",
       "      <td>31.0</td>\n",
       "      <td>52900.0</td>\n",
       "      <td>0</td>\n",
       "      <td>0</td>\n",
       "    </tr>\n",
       "  </tbody>\n",
       "</table>\n",
       "</div>"
      ],
      "text/plain": [
       "      Gender   Age   Salary  Family members  Insurance benefits\n",
       "2632       0  30.0  41300.0               1                   0\n",
       "133        1  40.0  50300.0               1                   0\n",
       "4720       0  31.0  35400.0               1                   0\n",
       "3192       0  30.0  48800.0               2                   0\n",
       "1550       1  31.0  52900.0               0                   0"
      ]
     },
     "execution_count": 14,
     "metadata": {},
     "output_type": "execute_result"
    }
   ],
   "source": [
    "# Trying to see the closest with scaled data while using euclidean distance \n",
    "knn_euclidean_scaled = find_knn(df, 0, scaled=True)\n",
    "knn_euclidean_scaled"
   ]
  },
  {
   "cell_type": "code",
   "execution_count": 15,
   "metadata": {
    "trusted": true
   },
   "outputs": [
    {
     "data": {
      "text/html": [
       "<div>\n",
       "<style scoped>\n",
       "    .dataframe tbody tr th:only-of-type {\n",
       "        vertical-align: middle;\n",
       "    }\n",
       "\n",
       "    .dataframe tbody tr th {\n",
       "        vertical-align: top;\n",
       "    }\n",
       "\n",
       "    .dataframe thead th {\n",
       "        text-align: right;\n",
       "    }\n",
       "</style>\n",
       "<table border=\"1\" class=\"dataframe\">\n",
       "  <thead>\n",
       "    <tr style=\"text-align: right;\">\n",
       "      <th></th>\n",
       "      <th>Gender</th>\n",
       "      <th>Age</th>\n",
       "      <th>Salary</th>\n",
       "      <th>Family members</th>\n",
       "      <th>Insurance benefits</th>\n",
       "    </tr>\n",
       "  </thead>\n",
       "  <tbody>\n",
       "    <tr>\n",
       "      <th>1992</th>\n",
       "      <td>0</td>\n",
       "      <td>33.0</td>\n",
       "      <td>23200.0</td>\n",
       "      <td>2</td>\n",
       "      <td>0</td>\n",
       "    </tr>\n",
       "    <tr>\n",
       "      <th>1214</th>\n",
       "      <td>0</td>\n",
       "      <td>23.0</td>\n",
       "      <td>45600.0</td>\n",
       "      <td>0</td>\n",
       "      <td>0</td>\n",
       "    </tr>\n",
       "    <tr>\n",
       "      <th>3916</th>\n",
       "      <td>1</td>\n",
       "      <td>35.0</td>\n",
       "      <td>40200.0</td>\n",
       "      <td>1</td>\n",
       "      <td>0</td>\n",
       "    </tr>\n",
       "    <tr>\n",
       "      <th>810</th>\n",
       "      <td>0</td>\n",
       "      <td>20.0</td>\n",
       "      <td>35200.0</td>\n",
       "      <td>0</td>\n",
       "      <td>0</td>\n",
       "    </tr>\n",
       "    <tr>\n",
       "      <th>3334</th>\n",
       "      <td>1</td>\n",
       "      <td>37.0</td>\n",
       "      <td>31100.0</td>\n",
       "      <td>1</td>\n",
       "      <td>0</td>\n",
       "    </tr>\n",
       "  </tbody>\n",
       "</table>\n",
       "</div>"
      ],
      "text/plain": [
       "      Gender   Age   Salary  Family members  Insurance benefits\n",
       "1992       0  33.0  23200.0               2                   0\n",
       "1214       0  23.0  45600.0               0                   0\n",
       "3916       1  35.0  40200.0               1                   0\n",
       "810        0  20.0  35200.0               0                   0\n",
       "3334       1  37.0  31100.0               1                   0"
      ]
     },
     "execution_count": 15,
     "metadata": {},
     "output_type": "execute_result"
    }
   ],
   "source": [
    "# Trying to see the closest with unscaled data while using manhattan distance \n",
    "knn_manhattan_scaled = find_knn(df, 0, k=5, metric='manhattan')\n",
    "knn_manhattan_scaled"
   ]
  },
  {
   "cell_type": "code",
   "execution_count": 16,
   "metadata": {
    "trusted": true
   },
   "outputs": [
    {
     "data": {
      "text/html": [
       "<div>\n",
       "<style scoped>\n",
       "    .dataframe tbody tr th:only-of-type {\n",
       "        vertical-align: middle;\n",
       "    }\n",
       "\n",
       "    .dataframe tbody tr th {\n",
       "        vertical-align: top;\n",
       "    }\n",
       "\n",
       "    .dataframe thead th {\n",
       "        text-align: right;\n",
       "    }\n",
       "</style>\n",
       "<table border=\"1\" class=\"dataframe\">\n",
       "  <thead>\n",
       "    <tr style=\"text-align: right;\">\n",
       "      <th></th>\n",
       "      <th>Gender</th>\n",
       "      <th>Age</th>\n",
       "      <th>Salary</th>\n",
       "      <th>Family members</th>\n",
       "      <th>Insurance benefits</th>\n",
       "    </tr>\n",
       "  </thead>\n",
       "  <tbody>\n",
       "    <tr>\n",
       "      <th>2632</th>\n",
       "      <td>0</td>\n",
       "      <td>30.0</td>\n",
       "      <td>41300.0</td>\n",
       "      <td>1</td>\n",
       "      <td>0</td>\n",
       "    </tr>\n",
       "    <tr>\n",
       "      <th>133</th>\n",
       "      <td>1</td>\n",
       "      <td>40.0</td>\n",
       "      <td>50300.0</td>\n",
       "      <td>1</td>\n",
       "      <td>0</td>\n",
       "    </tr>\n",
       "    <tr>\n",
       "      <th>4720</th>\n",
       "      <td>0</td>\n",
       "      <td>31.0</td>\n",
       "      <td>35400.0</td>\n",
       "      <td>1</td>\n",
       "      <td>0</td>\n",
       "    </tr>\n",
       "    <tr>\n",
       "      <th>2072</th>\n",
       "      <td>0</td>\n",
       "      <td>19.0</td>\n",
       "      <td>32100.0</td>\n",
       "      <td>0</td>\n",
       "      <td>0</td>\n",
       "    </tr>\n",
       "    <tr>\n",
       "      <th>124</th>\n",
       "      <td>1</td>\n",
       "      <td>43.0</td>\n",
       "      <td>50200.0</td>\n",
       "      <td>1</td>\n",
       "      <td>1</td>\n",
       "    </tr>\n",
       "  </tbody>\n",
       "</table>\n",
       "</div>"
      ],
      "text/plain": [
       "      Gender   Age   Salary  Family members  Insurance benefits\n",
       "2632       0  30.0  41300.0               1                   0\n",
       "133        1  40.0  50300.0               1                   0\n",
       "4720       0  31.0  35400.0               1                   0\n",
       "2072       0  19.0  32100.0               0                   0\n",
       "124        1  43.0  50200.0               1                   1"
      ]
     },
     "execution_count": 16,
     "metadata": {},
     "output_type": "execute_result"
    }
   ],
   "source": [
    "# Trying to see the closest with scaled data while using manhattan distance \n",
    "knn_manhattan_scaled = find_knn(df, 0, k=5, metric='manhattan', scaled=True)\n",
    "knn_manhattan_scaled"
   ]
  },
  {
   "cell_type": "markdown",
   "metadata": {},
   "source": [
    "It looks like the type of distance we use doesn’t change the results much. We got similar outcomes using both Euclidean and Manhattan distances. However, scaling the data makes a big difference and gives better results."
   ]
  },
  {
   "cell_type": "markdown",
   "metadata": {},
   "source": [
    "## Task 2: Insurance Benefit Prediction (KNN Classification)"
   ]
  },
  {
   "cell_type": "markdown",
   "metadata": {},
   "source": [
    "### Preparing the data"
   ]
  },
  {
   "cell_type": "code",
   "execution_count": 17,
   "metadata": {
    "trusted": true
   },
   "outputs": [],
   "source": [
    "y_class = (df['Insurance benefits'] > 0).astype(int)\n",
    "X = df.drop('Insurance benefits', axis=1)"
   ]
  },
  {
   "cell_type": "code",
   "execution_count": 18,
   "metadata": {
    "trusted": true
   },
   "outputs": [],
   "source": [
    "# Splitting the data\n",
    "X_train, X_test, y_train, y_test = train_test_split(X, y_class, test_size=0.3, random_state=42)"
   ]
  },
  {
   "cell_type": "code",
   "execution_count": 19,
   "metadata": {
    "trusted": true
   },
   "outputs": [],
   "source": [
    "# Dummy Models\n",
    "def dummy_model(prob):\n",
    "    return np.random.binomial(1, prob, size=len(y_test))\n"
   ]
  },
  {
   "cell_type": "code",
   "execution_count": 20,
   "metadata": {
    "trusted": true
   },
   "outputs": [],
   "source": [
    "f1_scores = []\n",
    "for k in range(1, 11):\n",
    "    knn = KNeighborsClassifier(n_neighbors=k)\n",
    "    knn.fit(X_train, y_train)\n",
    "    pred = knn.predict(X_test)\n",
    "    f1 = f1_score(y_test, pred)\n",
    "    f1_scores.append(f1)"
   ]
  },
  {
   "cell_type": "code",
   "execution_count": 21,
   "metadata": {
    "trusted": true
   },
   "outputs": [],
   "source": [
    "# Compare with scaled data\n",
    "scaler = StandardScaler()\n",
    "X_train_scaled = scaler.fit_transform(X_train)\n",
    "X_test_scaled = scaler.transform(X_test)\n",
    "\n",
    "f1_scaled = []\n",
    "for k in range(1, 11):\n",
    "    knn_scaled = KNeighborsClassifier(n_neighbors=k)\n",
    "    knn_scaled.fit(X_train_scaled, y_train)\n",
    "    pred_scaled = knn_scaled.predict(X_test_scaled)\n",
    "    f1_scaled.append(f1_score(y_test, pred_scaled))"
   ]
  },
  {
   "cell_type": "code",
   "execution_count": 22,
   "metadata": {
    "trusted": true
   },
   "outputs": [],
   "source": [
    "# Dummy F1 scores\n",
    "dummy_probs = [0, y_class.mean(), 0.5, 1]\n",
    "dummy_f1 = [f1_score(y_test, dummy_model(p)) for p in dummy_probs]"
   ]
  },
  {
   "cell_type": "code",
   "execution_count": 23,
   "metadata": {
    "trusted": true
   },
   "outputs": [
    {
     "name": "stdout",
     "output_type": "stream",
     "text": [
      "KNN F1 Scores (Original): [0.6643598615916955, 0.46788990825688076, 0.45188284518828453, 0.16, 0.1666666666666667, 0.08433734939759036, 0.10714285714285715, 0.024999999999999998, 0.03726708074534161, 0.024999999999999998]\n",
      "KNN F1 Scores (Scaled): [0.9404388714733543, 0.9473684210526315, 0.952076677316294, 0.9403973509933775, 0.9483870967741935, 0.9337748344370861, 0.9551282051282052, 0.9337748344370861, 0.9381107491856678, 0.9470198675496688]\n",
      "Dummy F1 Scores: [0.0, 0.11692307692307692, 0.2158590308370044, 0.19590824550526967]\n"
     ]
    }
   ],
   "source": [
    "print(\"KNN F1 Scores (Original):\", f1_scores)\n",
    "print(\"KNN F1 Scores (Scaled):\", f1_scaled)\n",
    "print(\"Dummy F1 Scores:\", dummy_f1)"
   ]
  },
  {
   "cell_type": "markdown",
   "metadata": {},
   "source": [
    "still scaled data gives way better results "
   ]
  },
  {
   "cell_type": "markdown",
   "metadata": {},
   "source": [
    "## Task 3: Linear Regression Model"
   ]
  },
  {
   "cell_type": "code",
   "execution_count": 24,
   "metadata": {
    "trusted": true
   },
   "outputs": [],
   "source": [
    "class CustomLinearRegression:\n",
    "    def __init__(self):\n",
    "        self.w = None  # Initialize weights to None\n",
    "    \n",
    "    def fit(self, X, y):\n",
    "        X_b = np.c_[np.ones((X.shape[0], 1)), X]  # Add bias term\n",
    "        self.w = inv(X_b.T @ X_b) @ X_b.T @ y\n",
    "    \n",
    "    def predict(self, X):\n",
    "        X_b = np.c_[np.ones((X.shape[0], 1)), X]\n",
    "        return X_b @ self.w"
   ]
  },
  {
   "cell_type": "code",
   "execution_count": 25,
   "metadata": {
    "trusted": true
   },
   "outputs": [],
   "source": [
    "# Train/Test Split (Regression)\n",
    "y_reg = df['Insurance benefits']\n",
    "X = df.drop('Insurance benefits', axis=1)\n",
    "X_train_reg, X_test_reg, y_train_reg, y_test_reg = train_test_split(X, y_reg, test_size=0.3, random_state=42)"
   ]
  },
  {
   "cell_type": "code",
   "execution_count": 26,
   "metadata": {
    "trusted": true
   },
   "outputs": [],
   "source": [
    "# Unscaled\n",
    "model_unscaled = CustomLinearRegression()\n",
    "model_unscaled.fit(X_train_reg.values, y_train_reg)\n",
    "pred_unscaled = model_unscaled.predict(X_test_reg.values)\n",
    "rmse_unscaled = np.sqrt(mean_squared_error(y_test_reg, pred_unscaled))"
   ]
  },
  {
   "cell_type": "code",
   "execution_count": 27,
   "metadata": {
    "trusted": true
   },
   "outputs": [],
   "source": [
    "# Scaled with StandardScaler\n",
    "scaler_reg = StandardScaler()\n",
    "X_train_scaled_reg = scaler_reg.fit_transform(X_train_reg)\n",
    "model_scaled = CustomLinearRegression()\n",
    "model_scaled.fit(X_train_scaled_reg, y_train_reg)\n",
    "X_test_scaled_reg = scaler_reg.transform(X_test_reg)\n",
    "pred_scaled = model_scaled.predict(X_test_scaled_reg)\n",
    "rmse_scaled = np.sqrt(mean_squared_error(y_test_reg, pred_scaled))"
   ]
  },
  {
   "cell_type": "code",
   "execution_count": 28,
   "metadata": {
    "trusted": true
   },
   "outputs": [
    {
     "name": "stdout",
     "output_type": "stream",
     "text": [
      "RMSE (Unscaled): 0.36345723064151764\n",
      "RMSE (Scaled): 0.36345723064151764\n"
     ]
    }
   ],
   "source": [
    "print(\"RMSE (Unscaled):\", rmse_unscaled)\n",
    "print(\"RMSE (Scaled):\", rmse_scaled)"
   ]
  },
  {
   "cell_type": "markdown",
   "metadata": {},
   "source": [
    "Here, there's no difference between scaled and unscaled data as both of them give the same result"
   ]
  },
  {
   "cell_type": "markdown",
   "metadata": {},
   "source": [
    "## Task 4: Data Obfuscation"
   ]
  },
  {
   "cell_type": "code",
   "execution_count": 29,
   "metadata": {
    "trusted": true
   },
   "outputs": [],
   "source": [
    "def generate_invertible_matrix(n_features):\n",
    "    while True:\n",
    "        P = np.random.rand(n_features, n_features)\n",
    "        if np.linalg.det(P) != 0:  # Check invertibility\n",
    "            return P"
   ]
  },
  {
   "cell_type": "code",
   "execution_count": 30,
   "metadata": {
    "trusted": true
   },
   "outputs": [
    {
     "name": "stdout",
     "output_type": "stream",
     "text": [
      "Obfuscated Features Sample:\n",
      " [[35765.85130451 31726.82548013  7289.39205295 43416.71051412]\n",
      " [27403.76981181 24316.52888765  5585.07008413 33273.29824267]\n",
      " [15144.39090785 13440.06066523  3086.53941207 18389.97477688]\n",
      " [30067.4639853  26664.87297788  6127.25528259 36492.90518031]\n",
      " [18821.24929943 16699.17055011  3836.34795219 22850.43919763]]\n"
     ]
    }
   ],
   "source": [
    "n_features = X.shape[1]\n",
    "P = generate_invertible_matrix(n_features)  # Ensure invertible\n",
    "\n",
    "# Obfuscate features (X is original feature matrix)\n",
    "X_obfuscated = X.values @ P  # X' = X * P\n",
    "print(\"Obfuscated Features Sample:\\n\", X_obfuscated[:5])"
   ]
  },
  {
   "cell_type": "markdown",
   "metadata": {},
   "source": [
    "**Relationship between $ w $ and $w_P$:**\n",
    "\n",
    "\n",
    "$$ \n",
    "w_P = \\left( (XP)^T XP \\right)^{-1} (XP)^T y = P^{-1} \\left( X^T X \\right)^{-1} X^T y = P^{-1} w \n",
    "$$\n",
    "\n",
    "\n",
    "**Predictions with  $w_P$:**\n",
    "\n",
    "$$\n",
    "\\hat{y} = XP w_P = XP \\left( P^{-1} w \\right) = X w      \n",
    "$$\n",
    "\n",
    "\n",
    "\n",
    "**RMSE Impact:**\n",
    "No change since predictions remain identical. The model’s performance (RMSE, $ R^2 $) is unaffected.\n"
   ]
  },
  {
   "cell_type": "markdown",
   "metadata": {},
   "source": [
    "**Step-by-Step Derivation:**\n",
    "\n",
    "1. **Expand $ (XP)^T XP $:**  \n",
    "   I first recalled that $$ (AB)^T = B^T A^T $$ \n",
    "   we get:\n",
    "   $$\n",
    "   (XP)^T XP = P^T X^T XP\n",
    "   $$  \n",
    "\n",
    "2. **Take the Inverse of $ P^T X^T XP $:**  \n",
    "   Applying the matrix inversion property \n",
    "   $$ (ABC)^{-1} = C^{-1}B^{-1}A^{-1} $$ \n",
    "   we get:\n",
    "   $$\n",
    "   (P^T X^T XP)^{-1} = P^{-1}(X^T X)^{-1}(P^T)^{-1}\n",
    "   $$  \n",
    "\n",
    "3. **Multiply by $ (XP)^T y $:**  \n",
    "   Substituting back, we get:\n",
    "   $$\n",
    "   [P^{-1} (X^T X)^{-1} (P^T)^{-1}] \\cdot (P^T X^T y)\n",
    "   $$   \n",
    "   $ (P^T)^{-1} $ and $ P^T $ \n",
    "   terms cancel out, leaving:\n",
    "   $$\n",
    "   P^{-1} (X^T X)^{-1} X^T y\n",
    "   $$\n",
    "\n",
    "\n",
    "---\n",
    "\n",
    "**Answers to  Questions:**\n",
    "\n",
    "1. **Can you guess customer details like age or income from transformed data ($ X' = XP $)?**  \n",
    "   - No,The obfuscated data $X ′=XP$ mixes features like age and salary into a new \"code.\" Without knowing $P$, you’re stuck with a scrambled version. For example, if $P$ combines age and salary, you’d have no clue how much weight each feature has in the transformed data. \n",
    "\n",
    "2. **Can you recover the original data ($ X $) if you know $ P $?**  \n",
    "   - yes by multiplying $ X' $ by $ P^{-1} $ to reverse the transformation:\n",
    "     $$\n",
    "     X = X' P^{-1}\n",
    "     $$  \n",
    "\n"
   ]
  },
  {
   "cell_type": "code",
   "execution_count": 39,
   "metadata": {
    "trusted": true
   },
   "outputs": [
    {
     "name": "stdout",
     "output_type": "stream",
     "text": [
      "Original Data:\n"
     ]
    },
    {
     "data": {
      "text/html": [
       "<div>\n",
       "<style scoped>\n",
       "    .dataframe tbody tr th:only-of-type {\n",
       "        vertical-align: middle;\n",
       "    }\n",
       "\n",
       "    .dataframe tbody tr th {\n",
       "        vertical-align: top;\n",
       "    }\n",
       "\n",
       "    .dataframe thead th {\n",
       "        text-align: right;\n",
       "    }\n",
       "</style>\n",
       "<table border=\"1\" class=\"dataframe\">\n",
       "  <thead>\n",
       "    <tr style=\"text-align: right;\">\n",
       "      <th></th>\n",
       "      <th>Gender</th>\n",
       "      <th>Age</th>\n",
       "      <th>Salary</th>\n",
       "      <th>Family members</th>\n",
       "    </tr>\n",
       "  </thead>\n",
       "  <tbody>\n",
       "    <tr>\n",
       "      <th>0</th>\n",
       "      <td>1</td>\n",
       "      <td>41.0</td>\n",
       "      <td>49600.0</td>\n",
       "      <td>1</td>\n",
       "    </tr>\n",
       "    <tr>\n",
       "      <th>1</th>\n",
       "      <td>0</td>\n",
       "      <td>46.0</td>\n",
       "      <td>38000.0</td>\n",
       "      <td>1</td>\n",
       "    </tr>\n",
       "    <tr>\n",
       "      <th>2</th>\n",
       "      <td>0</td>\n",
       "      <td>29.0</td>\n",
       "      <td>21000.0</td>\n",
       "      <td>0</td>\n",
       "    </tr>\n",
       "  </tbody>\n",
       "</table>\n",
       "</div>"
      ],
      "text/plain": [
       "   Gender   Age   Salary  Family members\n",
       "0       1  41.0  49600.0               1\n",
       "1       0  46.0  38000.0               1\n",
       "2       0  29.0  21000.0               0"
      ]
     },
     "metadata": {},
     "output_type": "display_data"
    },
    {
     "name": "stdout",
     "output_type": "stream",
     "text": [
      "\n",
      "Transformed Data (X' = XP):\n"
     ]
    },
    {
     "data": {
      "text/html": [
       "<div>\n",
       "<style scoped>\n",
       "    .dataframe tbody tr th:only-of-type {\n",
       "        vertical-align: middle;\n",
       "    }\n",
       "\n",
       "    .dataframe tbody tr th {\n",
       "        vertical-align: top;\n",
       "    }\n",
       "\n",
       "    .dataframe thead th {\n",
       "        text-align: right;\n",
       "    }\n",
       "</style>\n",
       "<table border=\"1\" class=\"dataframe\">\n",
       "  <thead>\n",
       "    <tr style=\"text-align: right;\">\n",
       "      <th></th>\n",
       "      <th>Gender</th>\n",
       "      <th>Age</th>\n",
       "      <th>Salary</th>\n",
       "      <th>Family members</th>\n",
       "    </tr>\n",
       "  </thead>\n",
       "  <tbody>\n",
       "    <tr>\n",
       "      <th>0</th>\n",
       "      <td>35765.85</td>\n",
       "      <td>31726.83</td>\n",
       "      <td>7289.39</td>\n",
       "      <td>43416.71</td>\n",
       "    </tr>\n",
       "    <tr>\n",
       "      <th>1</th>\n",
       "      <td>27403.77</td>\n",
       "      <td>24316.53</td>\n",
       "      <td>5585.07</td>\n",
       "      <td>33273.30</td>\n",
       "    </tr>\n",
       "    <tr>\n",
       "      <th>2</th>\n",
       "      <td>15144.39</td>\n",
       "      <td>13440.06</td>\n",
       "      <td>3086.54</td>\n",
       "      <td>18389.97</td>\n",
       "    </tr>\n",
       "  </tbody>\n",
       "</table>\n",
       "</div>"
      ],
      "text/plain": [
       "     Gender       Age   Salary  Family members\n",
       "0  35765.85  31726.83  7289.39        43416.71\n",
       "1  27403.77  24316.53  5585.07        33273.30\n",
       "2  15144.39  13440.06  3086.54        18389.97"
      ]
     },
     "metadata": {},
     "output_type": "display_data"
    },
    {
     "name": "stdout",
     "output_type": "stream",
     "text": [
      "\n",
      "Recovered Data (X = X'P⁻¹):\n"
     ]
    },
    {
     "data": {
      "text/html": [
       "<div>\n",
       "<style scoped>\n",
       "    .dataframe tbody tr th:only-of-type {\n",
       "        vertical-align: middle;\n",
       "    }\n",
       "\n",
       "    .dataframe tbody tr th {\n",
       "        vertical-align: top;\n",
       "    }\n",
       "\n",
       "    .dataframe thead th {\n",
       "        text-align: right;\n",
       "    }\n",
       "</style>\n",
       "<table border=\"1\" class=\"dataframe\">\n",
       "  <thead>\n",
       "    <tr style=\"text-align: right;\">\n",
       "      <th></th>\n",
       "      <th>Gender</th>\n",
       "      <th>Age</th>\n",
       "      <th>Salary</th>\n",
       "      <th>Family members</th>\n",
       "    </tr>\n",
       "  </thead>\n",
       "  <tbody>\n",
       "    <tr>\n",
       "      <th>0</th>\n",
       "      <td>1.0</td>\n",
       "      <td>41.0</td>\n",
       "      <td>49600.0</td>\n",
       "      <td>1.0</td>\n",
       "    </tr>\n",
       "    <tr>\n",
       "      <th>1</th>\n",
       "      <td>-0.0</td>\n",
       "      <td>46.0</td>\n",
       "      <td>38000.0</td>\n",
       "      <td>1.0</td>\n",
       "    </tr>\n",
       "    <tr>\n",
       "      <th>2</th>\n",
       "      <td>-0.0</td>\n",
       "      <td>29.0</td>\n",
       "      <td>21000.0</td>\n",
       "      <td>0.0</td>\n",
       "    </tr>\n",
       "  </tbody>\n",
       "</table>\n",
       "</div>"
      ],
      "text/plain": [
       "   Gender   Age   Salary  Family members\n",
       "0     1.0  41.0  49600.0             1.0\n",
       "1    -0.0  46.0  38000.0             1.0\n",
       "2    -0.0  29.0  21000.0             0.0"
      ]
     },
     "metadata": {},
     "output_type": "display_data"
    }
   ],
   "source": [
    "columns = df.columns[:-1]  # Save column names\n",
    "\n",
    "# Recover data\n",
    "P_inv = np.linalg.inv(P)\n",
    "X_recovered = X_obfuscated @ P_inv\n",
    "\n",
    "# Rounding off to fix small calculation errors.\n",
    "X_obfuscated_round = np.round(X_obfuscated, 2)\n",
    "X_recovered_round = np.round(X_recovered, 2)\n",
    "\n",
    "# Display first 3 customers\n",
    "original = df.drop('Insurance benefits', axis=1).head(3)\n",
    "transformed = pd.DataFrame(X_obfuscated_round[:3], columns=columns)\n",
    "recovered = pd.DataFrame(X_recovered_round[:3], columns=columns)\n",
    "\n",
    "print(\"Original Data:\")\n",
    "display(original)\n",
    "\n",
    "print(\"\\nTransformed Data (X' = XP):\")\n",
    "display(transformed.round(2))\n",
    "\n",
    "print(\"\\nRecovered Data (X = X'P⁻¹):\")\n",
    "display(recovered.round(2))"
   ]
  },
  {
   "cell_type": "markdown",
   "metadata": {},
   "source": [
    "The only issue I noticed was −0.0. \n",
    "It happens because of how computers handle numbers. Even though −0.0 and 0.0 are the same, the negative sign sometimes shows up when doing tiny calculations or rounding numbers"
   ]
  },
  {
   "cell_type": "markdown",
   "metadata": {},
   "source": [
    "## Task 6: Testing Obfuscated Data"
   ]
  },
  {
   "cell_type": "code",
   "execution_count": 31,
   "metadata": {
    "trusted": true
   },
   "outputs": [],
   "source": [
    "# Train on obfuscated data\n",
    "model_obfuscated = CustomLinearRegression()\n",
    "model_obfuscated.fit(X_obfuscated, y_reg.values)\n",
    "pred_obfuscated = model_obfuscated.predict(X_obfuscated) "
   ]
  },
  {
   "cell_type": "code",
   "execution_count": 32,
   "metadata": {
    "trusted": true
   },
   "outputs": [],
   "source": [
    "# Compare predictions with original\n",
    "original_model = CustomLinearRegression()\n",
    "original_model.fit(X.values, y_reg.values)\n",
    "pred_original = original_model.predict(X.values)"
   ]
  },
  {
   "cell_type": "code",
   "execution_count": 33,
   "metadata": {
    "trusted": true
   },
   "outputs": [],
   "source": [
    "# Metrics\n",
    "rmse_original = mean_squared_error(y_reg, pred_original, squared=False)\n",
    "rmse_obfuscated = mean_squared_error(y_reg, pred_obfuscated, squared=False)\n",
    "r2_original = r2_score(y_reg, pred_original)\n",
    "r2_obfuscated = r2_score(y_reg, pred_obfuscated)"
   ]
  },
  {
   "cell_type": "code",
   "execution_count": 34,
   "metadata": {
    "trusted": true
   },
   "outputs": [
    {
     "name": "stdout",
     "output_type": "stream",
     "text": [
      "RMSE Original: 0.3539387493152113\n",
      "RMSE Obfuscated: 0.353938749320514\n",
      "R² Original: 0.4302010044852068\n",
      "R² Obfuscated: 0.43020100446813336\n"
     ]
    }
   ],
   "source": [
    "print(\"RMSE Original:\", rmse_original)\n",
    "print(\"RMSE Obfuscated:\", rmse_obfuscated)\n",
    "print(\"R² Original:\", r2_original)\n",
    "print(\"R² Obfuscated:\", r2_obfuscated)"
   ]
  },
  {
   "cell_type": "markdown",
   "metadata": {},
   "source": [
    "Both metrics match exactly, proving obfuscation doesn’t harm model quality"
   ]
  },
  {
   "cell_type": "markdown",
   "metadata": {},
   "source": [
    "## Conclusion"
   ]
  },
  {
   "cell_type": "markdown",
   "metadata": {},
   "source": [
    "From this project, we learned several key points:  \n",
    "\n",
    "1. **Finding Similar Customers** – We used a basic distance method to identify similar customers. This worked but could be improved with more advanced techniques like clustering.  \n",
    "\n",
    "2. **Predicting Insurance Benefits** – The logistic regression model was able to predict who might receive benefits, but testing other models could improve accuracy.  \n",
    "\n",
    "3. **Estimating Benefit Amounts** – Linear regression provided a rough estimate of the number of benefits a customer might receive. Since real-world data is complex, trying more advanced models could yield better predictions.  \n",
    "\n",
    "4. **Protecting Customer Data** – Adding small changes to the data helped protect privacy while keeping model performance stable. However, stronger security methods could be explored.  \n",
    "\n",
    "5. **Project Improvements** – The reviewer pointed out missing details and unnecessary parts. Fixing these, improving documentation, and refining the models will make the project stronger.  "
   ]
  },
  {
   "cell_type": "code",
   "execution_count": null,
   "metadata": {
    "trusted": true
   },
   "outputs": [],
   "source": []
  }
 ],
 "metadata": {
  "ExecuteTimeLog": [
   {
    "duration": 828,
    "start_time": "2021-11-16T09:21:11.304Z"
   },
   {
    "duration": 893,
    "start_time": "2021-11-16T09:21:17.728Z"
   },
   {
    "duration": 1150,
    "start_time": "2021-11-16T09:21:29.568Z"
   },
   {
    "duration": 3,
    "start_time": "2021-11-16T09:24:14.495Z"
   },
   {
    "duration": 120,
    "start_time": "2021-11-16T09:24:46.630Z"
   },
   {
    "duration": 3,
    "start_time": "2021-11-16T09:28:27.882Z"
   },
   {
    "duration": 4,
    "start_time": "2021-11-16T09:29:54.281Z"
   },
   {
    "duration": 3,
    "start_time": "2021-11-16T09:30:45.936Z"
   },
   {
    "duration": 4,
    "start_time": "2021-11-16T09:31:06.300Z"
   },
   {
    "duration": 113,
    "start_time": "2021-11-16T09:31:37.208Z"
   },
   {
    "duration": 143,
    "start_time": "2021-11-16T09:31:48.656Z"
   },
   {
    "duration": 98,
    "start_time": "2021-11-16T09:31:55.678Z"
   },
   {
    "duration": 3,
    "start_time": "2021-11-16T09:32:08.535Z"
   },
   {
    "duration": 111,
    "start_time": "2021-11-16T09:32:10.120Z"
   },
   {
    "duration": 3,
    "start_time": "2021-11-16T09:32:15.732Z"
   },
   {
    "duration": 4,
    "start_time": "2021-11-16T09:32:29.423Z"
   },
   {
    "duration": 3,
    "start_time": "2021-11-16T10:03:03.074Z"
   },
   {
    "duration": 3,
    "start_time": "2021-11-16T10:10:01.288Z"
   },
   {
    "duration": 3,
    "start_time": "2021-11-16T10:10:46.923Z"
   },
   {
    "duration": 121,
    "start_time": "2021-11-16T10:37:46.494Z"
   },
   {
    "duration": 125,
    "start_time": "2021-11-16T10:38:20.632Z"
   },
   {
    "duration": 112,
    "start_time": "2021-11-16T10:46:53.001Z"
   },
   {
    "duration": 110,
    "start_time": "2021-11-16T10:48:25.775Z"
   },
   {
    "duration": 3,
    "start_time": "2021-11-16T10:50:18.720Z"
   },
   {
    "duration": 4,
    "start_time": "2021-11-16T10:50:37.649Z"
   },
   {
    "duration": 2,
    "start_time": "2021-11-16T10:50:51.884Z"
   },
   {
    "duration": 3,
    "start_time": "2021-11-16T10:51:56.237Z"
   },
   {
    "duration": 101,
    "start_time": "2021-11-16T10:53:13.791Z"
   },
   {
    "duration": 3,
    "start_time": "2021-11-16T10:55:59.186Z"
   },
   {
    "duration": 3,
    "start_time": "2021-11-16T10:56:10.751Z"
   },
   {
    "duration": 3,
    "start_time": "2021-11-16T10:56:49.038Z"
   },
   {
    "duration": 3,
    "start_time": "2021-11-16T10:56:49.174Z"
   },
   {
    "duration": 4,
    "start_time": "2021-11-16T10:56:49.414Z"
   },
   {
    "duration": 3,
    "start_time": "2021-11-16T10:56:49.680Z"
   },
   {
    "duration": 3,
    "start_time": "2021-11-16T10:56:50.370Z"
   },
   {
    "duration": 114,
    "start_time": "2021-11-16T10:59:34.518Z"
   },
   {
    "duration": 3,
    "start_time": "2021-11-16T11:01:41.201Z"
   },
   {
    "duration": 116,
    "start_time": "2021-11-16T11:01:48.754Z"
   },
   {
    "duration": 3,
    "start_time": "2021-11-16T11:02:16.685Z"
   },
   {
    "duration": 3,
    "start_time": "2021-11-16T11:02:19.479Z"
   },
   {
    "duration": 3,
    "start_time": "2021-11-16T11:02:47.067Z"
   },
   {
    "duration": 3,
    "start_time": "2021-11-16T11:02:49.353Z"
   },
   {
    "duration": 3,
    "start_time": "2021-11-16T11:03:07.835Z"
   },
   {
    "duration": 3,
    "start_time": "2021-11-16T11:03:07.953Z"
   },
   {
    "duration": 112,
    "start_time": "2021-11-16T11:07:52.072Z"
   },
   {
    "duration": 187,
    "start_time": "2021-11-16T11:09:23.468Z"
   },
   {
    "duration": 4,
    "start_time": "2021-11-16T11:10:01.455Z"
   },
   {
    "duration": 3,
    "start_time": "2021-11-16T11:10:05.069Z"
   },
   {
    "duration": 4,
    "start_time": "2021-11-16T11:10:13.376Z"
   },
   {
    "duration": 3,
    "start_time": "2021-11-16T11:10:14.434Z"
   },
   {
    "duration": 3,
    "start_time": "2021-11-16T11:10:22.853Z"
   },
   {
    "duration": 4,
    "start_time": "2021-11-16T11:27:29.279Z"
   },
   {
    "duration": 4,
    "start_time": "2021-11-16T11:29:08.919Z"
   },
   {
    "duration": 118,
    "start_time": "2021-11-16T11:29:46.703Z"
   },
   {
    "duration": 437,
    "start_time": "2021-11-16T11:36:02.181Z"
   },
   {
    "duration": 157,
    "start_time": "2021-11-16T11:36:14.388Z"
   },
   {
    "duration": 207,
    "start_time": "2021-11-16T11:47:15.898Z"
   },
   {
    "duration": 3,
    "start_time": "2021-11-16T11:53:52.092Z"
   },
   {
    "duration": 3,
    "start_time": "2021-11-16T11:53:52.236Z"
   },
   {
    "duration": 3,
    "start_time": "2021-11-16T11:59:12.005Z"
   },
   {
    "duration": 112,
    "start_time": "2021-11-16T12:00:33.446Z"
   },
   {
    "duration": 3,
    "start_time": "2021-11-16T12:02:14.453Z"
   },
   {
    "duration": 3,
    "start_time": "2021-11-16T12:02:39.512Z"
   },
   {
    "duration": 106,
    "start_time": "2021-11-16T12:03:03.460Z"
   },
   {
    "duration": 3,
    "start_time": "2021-11-17T20:37:21.139Z"
   },
   {
    "duration": 3,
    "start_time": "2021-11-17T20:37:22.229Z"
   },
   {
    "duration": 3,
    "start_time": "2021-11-17T20:38:38.806Z"
   },
   {
    "duration": 3,
    "start_time": "2021-11-17T20:38:41.958Z"
   },
   {
    "duration": 3,
    "start_time": "2021-11-17T20:43:46.551Z"
   },
   {
    "duration": 4,
    "start_time": "2021-11-17T20:58:21.835Z"
   },
   {
    "duration": 3,
    "start_time": "2021-11-17T20:59:21.872Z"
   },
   {
    "duration": 4,
    "start_time": "2021-11-17T20:59:45.352Z"
   },
   {
    "duration": 4,
    "start_time": "2021-11-17T20:59:49.646Z"
   },
   {
    "duration": 159,
    "start_time": "2021-11-17T21:02:26.949Z"
   },
   {
    "duration": 3,
    "start_time": "2021-11-17T21:03:53.461Z"
   },
   {
    "duration": 3,
    "start_time": "2021-11-17T21:03:53.694Z"
   },
   {
    "duration": 3,
    "start_time": "2021-11-17T21:05:28.145Z"
   },
   {
    "duration": 116,
    "start_time": "2021-11-17T21:05:57.787Z"
   },
   {
    "duration": 3,
    "start_time": "2021-11-17T21:06:37.993Z"
   },
   {
    "duration": 3,
    "start_time": "2021-11-17T21:06:38.261Z"
   },
   {
    "duration": 3,
    "start_time": "2021-11-17T21:11:54.358Z"
   },
   {
    "duration": 3,
    "start_time": "2021-11-17T21:12:43.846Z"
   },
   {
    "duration": 4,
    "start_time": "2021-11-17T21:13:08.773Z"
   },
   {
    "duration": 3,
    "start_time": "2021-11-17T21:14:44.441Z"
   },
   {
    "duration": 3,
    "start_time": "2021-11-17T21:15:42.059Z"
   },
   {
    "duration": 4,
    "start_time": "2021-11-17T21:15:51.995Z"
   },
   {
    "duration": 3,
    "start_time": "2021-11-17T21:15:53.923Z"
   },
   {
    "duration": 3,
    "start_time": "2021-11-17T21:15:55.282Z"
   },
   {
    "duration": 3,
    "start_time": "2021-11-17T21:16:28.492Z"
   },
   {
    "duration": 3,
    "start_time": "2021-11-17T21:16:32.603Z"
   },
   {
    "duration": 3,
    "start_time": "2021-11-17T21:17:06.941Z"
   },
   {
    "duration": 98,
    "start_time": "2021-11-17T21:18:05.733Z"
   },
   {
    "duration": 4,
    "start_time": "2021-11-17T21:21:35.255Z"
   },
   {
    "duration": 3,
    "start_time": "2021-11-17T21:21:37.804Z"
   },
   {
    "duration": 4,
    "start_time": "2021-11-17T21:23:06.071Z"
   },
   {
    "duration": 3,
    "start_time": "2021-11-17T21:23:24.799Z"
   },
   {
    "duration": 3,
    "start_time": "2021-11-17T21:23:32.591Z"
   },
   {
    "duration": 98,
    "start_time": "2021-11-17T21:28:31.559Z"
   },
   {
    "duration": 3,
    "start_time": "2021-11-17T21:28:45.448Z"
   },
   {
    "duration": 3,
    "start_time": "2021-11-17T21:29:17.303Z"
   },
   {
    "duration": 3,
    "start_time": "2021-11-17T21:29:29.617Z"
   },
   {
    "duration": 3,
    "start_time": "2021-11-17T21:29:32.681Z"
   },
   {
    "duration": 3,
    "start_time": "2021-11-17T21:36:11.474Z"
   },
   {
    "duration": 3,
    "start_time": "2021-11-17T21:36:14.791Z"
   },
   {
    "duration": 3,
    "start_time": "2021-11-17T21:36:53.943Z"
   },
   {
    "duration": 3,
    "start_time": "2021-11-17T21:36:56.165Z"
   },
   {
    "duration": 4,
    "start_time": "2021-11-17T21:37:16.590Z"
   },
   {
    "duration": 3,
    "start_time": "2021-11-17T21:37:22.702Z"
   },
   {
    "duration": 4,
    "start_time": "2021-11-17T21:38:03.479Z"
   },
   {
    "duration": 3,
    "start_time": "2021-11-17T21:38:08.601Z"
   },
   {
    "duration": 3,
    "start_time": "2021-11-17T21:38:12.928Z"
   },
   {
    "duration": 3,
    "start_time": "2021-11-17T21:38:48.896Z"
   },
   {
    "duration": 2,
    "start_time": "2021-11-17T21:38:49.171Z"
   },
   {
    "duration": 4,
    "start_time": "2021-11-17T21:39:57.889Z"
   },
   {
    "duration": 3,
    "start_time": "2021-11-17T21:39:58.057Z"
   },
   {
    "duration": 3,
    "start_time": "2021-11-17T21:41:20.108Z"
   },
   {
    "duration": 3,
    "start_time": "2021-11-17T21:41:20.629Z"
   },
   {
    "duration": 3,
    "start_time": "2021-11-17T21:42:49.136Z"
   },
   {
    "duration": 3,
    "start_time": "2021-11-17T21:43:15.137Z"
   },
   {
    "duration": 4,
    "start_time": "2021-11-17T21:43:16.766Z"
   },
   {
    "duration": 4,
    "start_time": "2021-11-17T21:43:31.711Z"
   },
   {
    "duration": 3,
    "start_time": "2021-11-17T21:43:36.312Z"
   },
   {
    "duration": 4,
    "start_time": "2021-11-17T21:45:08.825Z"
   },
   {
    "duration": 4,
    "start_time": "2021-11-17T21:45:10.119Z"
   },
   {
    "duration": 4,
    "start_time": "2021-11-17T21:45:13.748Z"
   },
   {
    "duration": 3,
    "start_time": "2021-11-17T21:45:22.219Z"
   },
   {
    "duration": 3,
    "start_time": "2021-11-17T21:45:33.412Z"
   },
   {
    "duration": 2,
    "start_time": "2021-11-17T21:46:01.885Z"
   },
   {
    "duration": 3,
    "start_time": "2021-11-17T21:46:03.628Z"
   },
   {
    "duration": 107,
    "start_time": "2021-11-17T21:47:32.512Z"
   },
   {
    "duration": 103,
    "start_time": "2021-11-17T21:50:36.243Z"
   },
   {
    "duration": 3,
    "start_time": "2021-11-18T06:28:31.440Z"
   },
   {
    "duration": 3,
    "start_time": "2021-11-18T06:29:00.168Z"
   },
   {
    "duration": 3,
    "start_time": "2021-11-18T06:31:27.008Z"
   },
   {
    "duration": 2,
    "start_time": "2021-11-18T06:35:34.288Z"
   },
   {
    "duration": 2,
    "start_time": "2021-11-18T06:38:04.527Z"
   },
   {
    "duration": 3893,
    "start_time": "2025-01-13T17:56:36.397Z"
   },
   {
    "duration": 0,
    "start_time": "2025-01-13T17:56:40.293Z"
   },
   {
    "duration": 0,
    "start_time": "2025-01-13T17:56:40.298Z"
   },
   {
    "duration": 0,
    "start_time": "2025-01-13T17:56:40.299Z"
   },
   {
    "duration": 0,
    "start_time": "2025-01-13T17:56:40.300Z"
   },
   {
    "duration": 0,
    "start_time": "2025-01-13T17:56:40.301Z"
   },
   {
    "duration": 0,
    "start_time": "2025-01-13T17:56:40.302Z"
   },
   {
    "duration": 0,
    "start_time": "2025-01-13T17:56:40.303Z"
   },
   {
    "duration": 0,
    "start_time": "2025-01-13T17:56:40.304Z"
   },
   {
    "duration": 0,
    "start_time": "2025-01-13T17:56:40.305Z"
   },
   {
    "duration": 0,
    "start_time": "2025-01-13T17:56:40.306Z"
   },
   {
    "duration": 0,
    "start_time": "2025-01-13T17:56:40.308Z"
   },
   {
    "duration": 0,
    "start_time": "2025-01-13T17:56:40.309Z"
   },
   {
    "duration": 0,
    "start_time": "2025-01-13T17:56:40.310Z"
   },
   {
    "duration": 0,
    "start_time": "2025-01-13T17:56:40.311Z"
   },
   {
    "duration": 0,
    "start_time": "2025-01-13T17:56:40.312Z"
   },
   {
    "duration": 0,
    "start_time": "2025-01-13T17:56:40.313Z"
   },
   {
    "duration": 0,
    "start_time": "2025-01-13T17:56:40.314Z"
   },
   {
    "duration": 0,
    "start_time": "2025-01-13T17:56:40.314Z"
   },
   {
    "duration": 0,
    "start_time": "2025-01-13T17:56:40.315Z"
   },
   {
    "duration": 0,
    "start_time": "2025-01-13T17:56:40.315Z"
   },
   {
    "duration": 1401,
    "start_time": "2025-01-16T00:15:37.022Z"
   },
   {
    "duration": 3220,
    "start_time": "2025-01-16T00:15:42.049Z"
   },
   {
    "duration": 1305,
    "start_time": "2025-01-16T00:18:59.332Z"
   },
   {
    "duration": 21,
    "start_time": "2025-01-16T00:19:00.640Z"
   },
   {
    "duration": 1289,
    "start_time": "2025-01-16T00:21:30.300Z"
   },
   {
    "duration": 21,
    "start_time": "2025-01-16T00:21:31.591Z"
   },
   {
    "duration": 2186,
    "start_time": "2025-01-16T00:23:23.163Z"
   },
   {
    "duration": 24,
    "start_time": "2025-01-16T00:23:30.280Z"
   },
   {
    "duration": 15,
    "start_time": "2025-01-16T00:23:38.827Z"
   },
   {
    "duration": 2,
    "start_time": "2025-01-16T00:24:27.641Z"
   },
   {
    "duration": 349285,
    "start_time": "2025-01-16T00:24:43.213Z"
   },
   {
    "duration": 1652,
    "start_time": "2025-01-16T00:39:52.418Z"
   },
   {
    "duration": 22,
    "start_time": "2025-01-16T00:39:56.772Z"
   },
   {
    "duration": 19,
    "start_time": "2025-01-16T00:40:01.562Z"
   },
   {
    "duration": 15,
    "start_time": "2025-01-16T00:40:20.102Z"
   },
   {
    "duration": 2,
    "start_time": "2025-01-16T00:43:28.931Z"
   },
   {
    "duration": 2431,
    "start_time": "2025-01-16T00:43:33.011Z"
   },
   {
    "duration": 16,
    "start_time": "2025-01-16T00:43:40.307Z"
   },
   {
    "duration": 3,
    "start_time": "2025-01-16T00:43:54.911Z"
   },
   {
    "duration": 14,
    "start_time": "2025-01-16T00:43:56.702Z"
   },
   {
    "duration": 22,
    "start_time": "2025-01-16T00:43:57.692Z"
   },
   {
    "duration": 582,
    "start_time": "2025-01-16T00:43:57.962Z"
   },
   {
    "duration": 5,
    "start_time": "2025-01-16T00:43:58.964Z"
   },
   {
    "duration": 5,
    "start_time": "2025-01-16T00:43:58.972Z"
   },
   {
    "duration": 10,
    "start_time": "2025-01-16T00:43:59.194Z"
   },
   {
    "duration": 9,
    "start_time": "2025-01-16T00:43:59.801Z"
   },
   {
    "duration": 10,
    "start_time": "2025-01-16T00:44:00.053Z"
   },
   {
    "duration": 10,
    "start_time": "2025-01-16T00:44:00.416Z"
   },
   {
    "duration": 2459,
    "start_time": "2025-01-16T00:44:00.951Z"
   },
   {
    "duration": 3,
    "start_time": "2025-01-16T00:44:03.413Z"
   },
   {
    "duration": 5,
    "start_time": "2025-01-16T00:44:03.418Z"
   },
   {
    "duration": 6,
    "start_time": "2025-01-16T00:44:03.425Z"
   },
   {
    "duration": 5,
    "start_time": "2025-01-16T00:44:03.435Z"
   },
   {
    "duration": 4,
    "start_time": "2025-01-16T00:44:03.444Z"
   },
   {
    "duration": 4,
    "start_time": "2025-01-16T00:44:03.506Z"
   },
   {
    "duration": 5,
    "start_time": "2025-01-16T00:44:03.512Z"
   },
   {
    "duration": 8,
    "start_time": "2025-01-16T00:44:03.518Z"
   },
   {
    "duration": 12,
    "start_time": "2025-01-16T00:44:03.950Z"
   },
   {
    "duration": 34,
    "start_time": "2025-01-16T00:44:04.149Z"
   },
   {
    "duration": 2461,
    "start_time": "2025-01-16T03:45:21.836Z"
   },
   {
    "duration": 1077,
    "start_time": "2025-01-16T03:45:24.300Z"
   },
   {
    "duration": 23,
    "start_time": "2025-01-16T03:45:25.380Z"
   },
   {
    "duration": 17,
    "start_time": "2025-01-16T03:45:25.406Z"
   },
   {
    "duration": 532,
    "start_time": "2025-01-16T03:45:25.424Z"
   },
   {
    "duration": 6,
    "start_time": "2025-01-16T03:45:25.958Z"
   },
   {
    "duration": 20,
    "start_time": "2025-01-16T03:45:25.966Z"
   },
   {
    "duration": 9,
    "start_time": "2025-01-16T03:45:25.988Z"
   },
   {
    "duration": 6,
    "start_time": "2025-01-16T03:45:25.998Z"
   },
   {
    "duration": 8,
    "start_time": "2025-01-16T03:45:26.008Z"
   },
   {
    "duration": 8,
    "start_time": "2025-01-16T03:45:26.018Z"
   },
   {
    "duration": 2339,
    "start_time": "2025-01-16T03:45:26.027Z"
   },
   {
    "duration": 3,
    "start_time": "2025-01-16T03:45:28.368Z"
   },
   {
    "duration": 6,
    "start_time": "2025-01-16T03:45:28.387Z"
   },
   {
    "duration": 7,
    "start_time": "2025-01-16T03:45:28.395Z"
   },
   {
    "duration": 6,
    "start_time": "2025-01-16T03:45:28.405Z"
   },
   {
    "duration": 4,
    "start_time": "2025-01-16T03:45:28.412Z"
   },
   {
    "duration": 4,
    "start_time": "2025-01-16T03:45:28.418Z"
   },
   {
    "duration": 5,
    "start_time": "2025-01-16T03:45:28.424Z"
   },
   {
    "duration": 57,
    "start_time": "2025-01-16T03:45:28.431Z"
   },
   {
    "duration": 13,
    "start_time": "2025-01-16T03:45:28.490Z"
   },
   {
    "duration": 112,
    "start_time": "2025-01-16T03:45:28.504Z"
   },
   {
    "duration": 2515,
    "start_time": "2025-03-08T16:47:19.102Z"
   },
   {
    "duration": 2711,
    "start_time": "2025-03-08T16:47:21.620Z"
   },
   {
    "duration": 21,
    "start_time": "2025-03-08T16:47:24.333Z"
   },
   {
    "duration": 19,
    "start_time": "2025-03-08T16:47:24.356Z"
   },
   {
    "duration": 606,
    "start_time": "2025-03-08T16:47:24.377Z"
   },
   {
    "duration": 6,
    "start_time": "2025-03-08T16:47:24.984Z"
   },
   {
    "duration": 5,
    "start_time": "2025-03-08T16:47:24.991Z"
   },
   {
    "duration": 30,
    "start_time": "2025-03-08T16:47:24.997Z"
   },
   {
    "duration": 8,
    "start_time": "2025-03-08T16:47:25.028Z"
   },
   {
    "duration": 9,
    "start_time": "2025-03-08T16:47:25.037Z"
   },
   {
    "duration": 7,
    "start_time": "2025-03-08T16:47:25.048Z"
   },
   {
    "duration": 5,
    "start_time": "2025-03-08T16:47:25.057Z"
   },
   {
    "duration": 5,
    "start_time": "2025-03-08T16:47:25.064Z"
   },
   {
    "duration": 594,
    "start_time": "2025-03-08T16:47:25.073Z"
   },
   {
    "duration": 484,
    "start_time": "2025-03-08T16:47:25.669Z"
   },
   {
    "duration": 508,
    "start_time": "2025-03-08T16:47:26.155Z"
   },
   {
    "duration": 504,
    "start_time": "2025-03-08T16:47:26.665Z"
   },
   {
    "duration": 5,
    "start_time": "2025-03-08T16:47:27.171Z"
   },
   {
    "duration": 6,
    "start_time": "2025-03-08T16:47:27.178Z"
   },
   {
    "duration": 3,
    "start_time": "2025-03-08T16:47:27.185Z"
   },
   {
    "duration": 283,
    "start_time": "2025-03-08T16:47:27.189Z"
   },
   {
    "duration": 292,
    "start_time": "2025-03-08T16:47:27.474Z"
   },
   {
    "duration": 8,
    "start_time": "2025-03-08T16:47:27.768Z"
   },
   {
    "duration": 3,
    "start_time": "2025-03-08T16:47:27.778Z"
   },
   {
    "duration": 3,
    "start_time": "2025-03-08T16:47:27.783Z"
   },
   {
    "duration": 6,
    "start_time": "2025-03-08T16:47:27.789Z"
   },
   {
    "duration": 28,
    "start_time": "2025-03-08T16:47:27.797Z"
   },
   {
    "duration": 15,
    "start_time": "2025-03-08T16:47:27.827Z"
   },
   {
    "duration": 6,
    "start_time": "2025-03-08T16:47:27.843Z"
   },
   {
    "duration": 76,
    "start_time": "2025-03-08T16:47:27.851Z"
   },
   {
    "duration": 5,
    "start_time": "2025-03-08T16:47:27.929Z"
   },
   {
    "duration": 3,
    "start_time": "2025-03-08T16:47:27.935Z"
   },
   {
    "duration": 4,
    "start_time": "2025-03-08T16:47:27.942Z"
   },
   {
    "duration": 80,
    "start_time": "2025-03-08T16:47:27.947Z"
   },
   {
    "duration": 5,
    "start_time": "2025-03-08T16:47:28.029Z"
   },
   {
    "duration": 2684,
    "start_time": "2025-03-08T22:27:18.347Z"
   },
   {
    "duration": 22,
    "start_time": "2025-03-08T22:27:21.068Z"
   },
   {
    "duration": 16,
    "start_time": "2025-03-08T22:27:22.866Z"
   },
   {
    "duration": 522,
    "start_time": "2025-03-08T22:27:23.300Z"
   },
   {
    "duration": 5,
    "start_time": "2025-03-08T22:27:24.144Z"
   },
   {
    "duration": 5,
    "start_time": "2025-03-08T22:27:24.636Z"
   },
   {
    "duration": 10,
    "start_time": "2025-03-08T22:27:25.496Z"
   },
   {
    "duration": 6,
    "start_time": "2025-03-08T22:27:27.062Z"
   },
   {
    "duration": 9,
    "start_time": "2025-03-08T22:27:27.476Z"
   },
   {
    "duration": 9,
    "start_time": "2025-03-08T22:27:28.340Z"
   },
   {
    "duration": 67,
    "start_time": "2025-03-08T22:27:32.241Z"
   },
   {
    "duration": 5,
    "start_time": "2025-03-08T22:27:32.722Z"
   },
   {
    "duration": 530,
    "start_time": "2025-03-08T22:27:33.322Z"
   },
   {
    "duration": 525,
    "start_time": "2025-03-08T22:27:33.932Z"
   },
   {
    "duration": 495,
    "start_time": "2025-03-08T22:27:34.488Z"
   },
   {
    "duration": 418,
    "start_time": "2025-03-08T22:27:35.976Z"
   },
   {
    "duration": 5,
    "start_time": "2025-03-08T22:27:40.554Z"
   },
   {
    "duration": 4,
    "start_time": "2025-03-08T22:27:41.520Z"
   },
   {
    "duration": 3,
    "start_time": "2025-03-08T22:27:42.088Z"
   },
   {
    "duration": 253,
    "start_time": "2025-03-08T22:27:42.503Z"
   },
   {
    "duration": 272,
    "start_time": "2025-03-08T22:27:42.939Z"
   },
   {
    "duration": 8,
    "start_time": "2025-03-08T22:27:43.816Z"
   },
   {
    "duration": 4,
    "start_time": "2025-03-08T22:27:44.537Z"
   },
   {
    "duration": 4,
    "start_time": "2025-03-08T22:27:49.001Z"
   },
   {
    "duration": 5,
    "start_time": "2025-03-08T22:28:02.010Z"
   },
   {
    "duration": 6,
    "start_time": "2025-03-08T22:28:02.447Z"
   },
   {
    "duration": 8,
    "start_time": "2025-03-08T22:28:03.025Z"
   },
   {
    "duration": 3,
    "start_time": "2025-03-08T22:28:06.174Z"
   },
   {
    "duration": 3,
    "start_time": "2025-03-08T22:28:20.742Z"
   },
   {
    "duration": 4,
    "start_time": "2025-03-08T22:28:22.297Z"
   },
   {
    "duration": 4,
    "start_time": "2025-03-08T22:28:25.973Z"
   },
   {
    "duration": 4,
    "start_time": "2025-03-08T22:28:26.320Z"
   },
   {
    "duration": 5,
    "start_time": "2025-03-08T22:28:26.711Z"
   },
   {
    "duration": 3,
    "start_time": "2025-03-08T22:28:27.254Z"
   },
   {
    "duration": 2589,
    "start_time": "2025-03-13T11:14:09.225Z"
   },
   {
    "duration": 19,
    "start_time": "2025-03-13T11:14:11.816Z"
   },
   {
    "duration": 18,
    "start_time": "2025-03-13T11:14:15.218Z"
   },
   {
    "duration": 575,
    "start_time": "2025-03-13T11:14:15.638Z"
   },
   {
    "duration": 5,
    "start_time": "2025-03-13T11:14:16.484Z"
   },
   {
    "duration": 5,
    "start_time": "2025-03-13T11:14:16.885Z"
   },
   {
    "duration": 9,
    "start_time": "2025-03-13T11:14:17.308Z"
   },
   {
    "duration": 7,
    "start_time": "2025-03-13T11:14:18.112Z"
   },
   {
    "duration": 9,
    "start_time": "2025-03-13T11:14:18.544Z"
   },
   {
    "duration": 10,
    "start_time": "2025-03-13T11:14:19.316Z"
   },
   {
    "duration": 4,
    "start_time": "2025-03-13T11:14:20.849Z"
   },
   {
    "duration": 5,
    "start_time": "2025-03-13T11:14:21.143Z"
   },
   {
    "duration": 518,
    "start_time": "2025-03-13T11:14:21.489Z"
   },
   {
    "duration": 424,
    "start_time": "2025-03-13T11:14:22.010Z"
   },
   {
    "duration": 501,
    "start_time": "2025-03-13T11:14:22.438Z"
   },
   {
    "duration": 396,
    "start_time": "2025-03-13T11:14:22.941Z"
   },
   {
    "duration": 5,
    "start_time": "2025-03-13T11:14:24.676Z"
   },
   {
    "duration": 5,
    "start_time": "2025-03-13T11:14:25.964Z"
   },
   {
    "duration": 2,
    "start_time": "2025-03-13T11:14:26.362Z"
   },
   {
    "duration": 265,
    "start_time": "2025-03-13T11:14:26.744Z"
   },
   {
    "duration": 274,
    "start_time": "2025-03-13T11:14:27.107Z"
   },
   {
    "duration": 9,
    "start_time": "2025-03-13T11:14:27.906Z"
   },
   {
    "duration": 6,
    "start_time": "2025-03-13T11:14:28.276Z"
   },
   {
    "duration": 3,
    "start_time": "2025-03-13T11:14:29.732Z"
   },
   {
    "duration": 5,
    "start_time": "2025-03-13T11:14:31.786Z"
   },
   {
    "duration": 7,
    "start_time": "2025-03-13T11:14:32.164Z"
   },
   {
    "duration": 9,
    "start_time": "2025-03-13T11:14:32.572Z"
   },
   {
    "duration": 3,
    "start_time": "2025-03-13T11:14:33.574Z"
   },
   {
    "duration": 3,
    "start_time": "2025-03-13T11:14:35.391Z"
   },
   {
    "duration": 5,
    "start_time": "2025-03-13T11:14:35.884Z"
   },
   {
    "duration": 8,
    "start_time": "2025-03-13T11:14:38.627Z"
   },
   {
    "duration": 4,
    "start_time": "2025-03-13T11:14:39.048Z"
   },
   {
    "duration": 4,
    "start_time": "2025-03-13T11:14:39.475Z"
   },
   {
    "duration": 4,
    "start_time": "2025-03-13T11:14:39.871Z"
   },
   {
    "duration": 229,
    "start_time": "2025-03-13T11:15:19.180Z"
   },
   {
    "duration": 20,
    "start_time": "2025-03-13T11:18:07.845Z"
   },
   {
    "duration": 16,
    "start_time": "2025-03-13T11:18:47.937Z"
   },
   {
    "duration": 32,
    "start_time": "2025-03-13T11:21:13.114Z"
   },
   {
    "duration": 36,
    "start_time": "2025-03-13T11:21:33.669Z"
   }
  ],
  "kernelspec": {
   "display_name": "base",
   "language": "python",
   "name": "python3"
  },
  "language_info": {
   "codemirror_mode": {
    "name": "ipython",
    "version": 3
   },
   "file_extension": ".py",
   "mimetype": "text/x-python",
   "name": "python",
   "nbconvert_exporter": "python",
   "pygments_lexer": "ipython3",
   "version": "3.12.7"
  },
  "toc": {
   "base_numbering": 1,
   "nav_menu": {},
   "number_sections": true,
   "sideBar": true,
   "skip_h1_title": false,
   "title_cell": "Table of Contents",
   "title_sidebar": "Contents",
   "toc_cell": false,
   "toc_position": {
    "height": "calc(100% - 180px)",
    "left": "10px",
    "top": "150px",
    "width": "251.4px"
   },
   "toc_section_display": true,
   "toc_window_display": true
  }
 },
 "nbformat": 4,
 "nbformat_minor": 2
}
