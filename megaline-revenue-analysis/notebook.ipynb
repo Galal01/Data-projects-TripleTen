{
 "cells": [
  {
   "cell_type": "markdown",
   "metadata": {},
   "source": [
    "# Which one is a better plan?\n",
    "\n",
    "You work as an analyst for the telecom operator Megaline. The company offers its clients two prepaid plans, Surf and Ultimate. The commercial department wants to know which of the plans brings in more revenue in order to adjust the advertising budget.\n",
    "\n",
    "You are going to carry out a preliminary analysis of the plans based on a relatively small client selection. You'll have the data on 500 Megaline clients: who the clients are, where they're from, which plan they use, and the number of calls they made and text messages they sent in 2018. Your job is to analyze the clients' behavior and determine which prepaid plan brings in more revenue."
   ]
  },
  {
   "cell_type": "markdown",
   "metadata": {},
   "source": [
    "## Initialization"
   ]
  },
  {
   "cell_type": "code",
   "execution_count": 1,
   "metadata": {
    "trusted": true
   },
   "outputs": [],
   "source": [
    "# Loading all the libraries\n",
    "import pandas as pd\n",
    "import numpy as np\n",
    "import matplotlib.pyplot as plt\n",
    "import seaborn as sns\n",
    "from IPython.display import display\n",
    "from scipy import stats as st "
   ]
  },
  {
   "cell_type": "markdown",
   "metadata": {},
   "source": [
    "## Load data"
   ]
  },
  {
   "cell_type": "code",
   "execution_count": 2,
   "metadata": {
    "trusted": true
   },
   "outputs": [
    {
     "data": {
      "text/html": [
       "<div>\n",
       "<style scoped>\n",
       "    .dataframe tbody tr th:only-of-type {\n",
       "        vertical-align: middle;\n",
       "    }\n",
       "\n",
       "    .dataframe tbody tr th {\n",
       "        vertical-align: top;\n",
       "    }\n",
       "\n",
       "    .dataframe thead th {\n",
       "        text-align: right;\n",
       "    }\n",
       "</style>\n",
       "<table border=\"1\" class=\"dataframe\">\n",
       "  <thead>\n",
       "    <tr style=\"text-align: right;\">\n",
       "      <th></th>\n",
       "      <th>id</th>\n",
       "      <th>user_id</th>\n",
       "      <th>call_date</th>\n",
       "      <th>duration</th>\n",
       "    </tr>\n",
       "  </thead>\n",
       "  <tbody>\n",
       "    <tr>\n",
       "      <th>0</th>\n",
       "      <td>1000_93</td>\n",
       "      <td>1000</td>\n",
       "      <td>2018-12-27</td>\n",
       "      <td>8.52</td>\n",
       "    </tr>\n",
       "    <tr>\n",
       "      <th>1</th>\n",
       "      <td>1000_145</td>\n",
       "      <td>1000</td>\n",
       "      <td>2018-12-27</td>\n",
       "      <td>13.66</td>\n",
       "    </tr>\n",
       "    <tr>\n",
       "      <th>2</th>\n",
       "      <td>1000_247</td>\n",
       "      <td>1000</td>\n",
       "      <td>2018-12-27</td>\n",
       "      <td>14.48</td>\n",
       "    </tr>\n",
       "    <tr>\n",
       "      <th>3</th>\n",
       "      <td>1000_309</td>\n",
       "      <td>1000</td>\n",
       "      <td>2018-12-28</td>\n",
       "      <td>5.76</td>\n",
       "    </tr>\n",
       "    <tr>\n",
       "      <th>4</th>\n",
       "      <td>1000_380</td>\n",
       "      <td>1000</td>\n",
       "      <td>2018-12-30</td>\n",
       "      <td>4.22</td>\n",
       "    </tr>\n",
       "  </tbody>\n",
       "</table>\n",
       "</div>"
      ],
      "text/plain": [
       "         id  user_id   call_date  duration\n",
       "0   1000_93     1000  2018-12-27      8.52\n",
       "1  1000_145     1000  2018-12-27     13.66\n",
       "2  1000_247     1000  2018-12-27     14.48\n",
       "3  1000_309     1000  2018-12-28      5.76\n",
       "4  1000_380     1000  2018-12-30      4.22"
      ]
     },
     "execution_count": 2,
     "metadata": {},
     "output_type": "execute_result"
    }
   ],
   "source": [
    "# Load the data files into different DataFrames\n",
    "try:\n",
    "    megaline_calls= pd.read_csv('megaline_calls.csv')\n",
    "except:\n",
    "    megaline_calls = pd.read_csv('datasets/megaline_calls.csv')\n",
    "\n",
    "megaline_calls.head()\n"
   ]
  },
  {
   "cell_type": "code",
   "execution_count": 3,
   "metadata": {
    "trusted": true
   },
   "outputs": [
    {
     "data": {
      "text/html": [
       "<div>\n",
       "<style scoped>\n",
       "    .dataframe tbody tr th:only-of-type {\n",
       "        vertical-align: middle;\n",
       "    }\n",
       "\n",
       "    .dataframe tbody tr th {\n",
       "        vertical-align: top;\n",
       "    }\n",
       "\n",
       "    .dataframe thead th {\n",
       "        text-align: right;\n",
       "    }\n",
       "</style>\n",
       "<table border=\"1\" class=\"dataframe\">\n",
       "  <thead>\n",
       "    <tr style=\"text-align: right;\">\n",
       "      <th></th>\n",
       "      <th>user_id</th>\n",
       "      <th>duration</th>\n",
       "    </tr>\n",
       "  </thead>\n",
       "  <tbody>\n",
       "    <tr>\n",
       "      <th>count</th>\n",
       "      <td>137735.000000</td>\n",
       "      <td>137735.000000</td>\n",
       "    </tr>\n",
       "    <tr>\n",
       "      <th>mean</th>\n",
       "      <td>1247.658046</td>\n",
       "      <td>6.745927</td>\n",
       "    </tr>\n",
       "    <tr>\n",
       "      <th>std</th>\n",
       "      <td>139.416268</td>\n",
       "      <td>5.839241</td>\n",
       "    </tr>\n",
       "    <tr>\n",
       "      <th>min</th>\n",
       "      <td>1000.000000</td>\n",
       "      <td>0.000000</td>\n",
       "    </tr>\n",
       "    <tr>\n",
       "      <th>25%</th>\n",
       "      <td>1128.000000</td>\n",
       "      <td>1.290000</td>\n",
       "    </tr>\n",
       "    <tr>\n",
       "      <th>50%</th>\n",
       "      <td>1247.000000</td>\n",
       "      <td>5.980000</td>\n",
       "    </tr>\n",
       "    <tr>\n",
       "      <th>75%</th>\n",
       "      <td>1365.000000</td>\n",
       "      <td>10.690000</td>\n",
       "    </tr>\n",
       "    <tr>\n",
       "      <th>max</th>\n",
       "      <td>1499.000000</td>\n",
       "      <td>37.600000</td>\n",
       "    </tr>\n",
       "  </tbody>\n",
       "</table>\n",
       "</div>"
      ],
      "text/plain": [
       "             user_id       duration\n",
       "count  137735.000000  137735.000000\n",
       "mean     1247.658046       6.745927\n",
       "std       139.416268       5.839241\n",
       "min      1000.000000       0.000000\n",
       "25%      1128.000000       1.290000\n",
       "50%      1247.000000       5.980000\n",
       "75%      1365.000000      10.690000\n",
       "max      1499.000000      37.600000"
      ]
     },
     "execution_count": 3,
     "metadata": {},
     "output_type": "execute_result"
    }
   ],
   "source": [
    "megaline_calls.describe()"
   ]
  },
  {
   "cell_type": "code",
   "execution_count": 4,
   "metadata": {
    "trusted": true
   },
   "outputs": [
    {
     "data": {
      "text/plain": [
       "id           0\n",
       "user_id      0\n",
       "call_date    0\n",
       "duration     0\n",
       "dtype: int64"
      ]
     },
     "execution_count": 4,
     "metadata": {},
     "output_type": "execute_result"
    }
   ],
   "source": [
    "megaline_calls.isnull().sum()"
   ]
  },
  {
   "cell_type": "code",
   "execution_count": 3,
   "metadata": {
    "trusted": true
   },
   "outputs": [
    {
     "data": {
      "text/html": [
       "<div>\n",
       "<style scoped>\n",
       "    .dataframe tbody tr th:only-of-type {\n",
       "        vertical-align: middle;\n",
       "    }\n",
       "\n",
       "    .dataframe tbody tr th {\n",
       "        vertical-align: top;\n",
       "    }\n",
       "\n",
       "    .dataframe thead th {\n",
       "        text-align: right;\n",
       "    }\n",
       "</style>\n",
       "<table border=\"1\" class=\"dataframe\">\n",
       "  <thead>\n",
       "    <tr style=\"text-align: right;\">\n",
       "      <th></th>\n",
       "      <th>id</th>\n",
       "      <th>user_id</th>\n",
       "      <th>session_date</th>\n",
       "      <th>mb_used</th>\n",
       "    </tr>\n",
       "  </thead>\n",
       "  <tbody>\n",
       "    <tr>\n",
       "      <th>0</th>\n",
       "      <td>1000_13</td>\n",
       "      <td>1000</td>\n",
       "      <td>2018-12-29</td>\n",
       "      <td>89.86</td>\n",
       "    </tr>\n",
       "    <tr>\n",
       "      <th>1</th>\n",
       "      <td>1000_204</td>\n",
       "      <td>1000</td>\n",
       "      <td>2018-12-31</td>\n",
       "      <td>0.00</td>\n",
       "    </tr>\n",
       "    <tr>\n",
       "      <th>2</th>\n",
       "      <td>1000_379</td>\n",
       "      <td>1000</td>\n",
       "      <td>2018-12-28</td>\n",
       "      <td>660.40</td>\n",
       "    </tr>\n",
       "    <tr>\n",
       "      <th>3</th>\n",
       "      <td>1000_413</td>\n",
       "      <td>1000</td>\n",
       "      <td>2018-12-26</td>\n",
       "      <td>270.99</td>\n",
       "    </tr>\n",
       "    <tr>\n",
       "      <th>4</th>\n",
       "      <td>1000_442</td>\n",
       "      <td>1000</td>\n",
       "      <td>2018-12-27</td>\n",
       "      <td>880.22</td>\n",
       "    </tr>\n",
       "  </tbody>\n",
       "</table>\n",
       "</div>"
      ],
      "text/plain": [
       "         id  user_id session_date  mb_used\n",
       "0   1000_13     1000   2018-12-29    89.86\n",
       "1  1000_204     1000   2018-12-31     0.00\n",
       "2  1000_379     1000   2018-12-28   660.40\n",
       "3  1000_413     1000   2018-12-26   270.99\n",
       "4  1000_442     1000   2018-12-27   880.22"
      ]
     },
     "execution_count": 3,
     "metadata": {},
     "output_type": "execute_result"
    }
   ],
   "source": [
    "try:\n",
    "    megaline_internet= pd.read_csv('megaline_internet.csv')\n",
    "except:\n",
    "    megaline_internet = pd.read_csv('datasets/megaline_internet.csv')\n",
    "\n",
    "megaline_internet.head()\n"
   ]
  },
  {
   "cell_type": "code",
   "execution_count": 6,
   "metadata": {
    "trusted": true
   },
   "outputs": [
    {
     "data": {
      "text/html": [
       "<div>\n",
       "<style scoped>\n",
       "    .dataframe tbody tr th:only-of-type {\n",
       "        vertical-align: middle;\n",
       "    }\n",
       "\n",
       "    .dataframe tbody tr th {\n",
       "        vertical-align: top;\n",
       "    }\n",
       "\n",
       "    .dataframe thead th {\n",
       "        text-align: right;\n",
       "    }\n",
       "</style>\n",
       "<table border=\"1\" class=\"dataframe\">\n",
       "  <thead>\n",
       "    <tr style=\"text-align: right;\">\n",
       "      <th></th>\n",
       "      <th>user_id</th>\n",
       "      <th>mb_used</th>\n",
       "    </tr>\n",
       "  </thead>\n",
       "  <tbody>\n",
       "    <tr>\n",
       "      <th>count</th>\n",
       "      <td>104825.000000</td>\n",
       "      <td>104825.000000</td>\n",
       "    </tr>\n",
       "    <tr>\n",
       "      <th>mean</th>\n",
       "      <td>1242.496361</td>\n",
       "      <td>366.713701</td>\n",
       "    </tr>\n",
       "    <tr>\n",
       "      <th>std</th>\n",
       "      <td>142.053913</td>\n",
       "      <td>277.170542</td>\n",
       "    </tr>\n",
       "    <tr>\n",
       "      <th>min</th>\n",
       "      <td>1000.000000</td>\n",
       "      <td>0.000000</td>\n",
       "    </tr>\n",
       "    <tr>\n",
       "      <th>25%</th>\n",
       "      <td>1122.000000</td>\n",
       "      <td>136.080000</td>\n",
       "    </tr>\n",
       "    <tr>\n",
       "      <th>50%</th>\n",
       "      <td>1236.000000</td>\n",
       "      <td>343.980000</td>\n",
       "    </tr>\n",
       "    <tr>\n",
       "      <th>75%</th>\n",
       "      <td>1367.000000</td>\n",
       "      <td>554.610000</td>\n",
       "    </tr>\n",
       "    <tr>\n",
       "      <th>max</th>\n",
       "      <td>1499.000000</td>\n",
       "      <td>1693.470000</td>\n",
       "    </tr>\n",
       "  </tbody>\n",
       "</table>\n",
       "</div>"
      ],
      "text/plain": [
       "             user_id        mb_used\n",
       "count  104825.000000  104825.000000\n",
       "mean     1242.496361     366.713701\n",
       "std       142.053913     277.170542\n",
       "min      1000.000000       0.000000\n",
       "25%      1122.000000     136.080000\n",
       "50%      1236.000000     343.980000\n",
       "75%      1367.000000     554.610000\n",
       "max      1499.000000    1693.470000"
      ]
     },
     "execution_count": 6,
     "metadata": {},
     "output_type": "execute_result"
    }
   ],
   "source": [
    "megaline_internet.describe()"
   ]
  },
  {
   "cell_type": "code",
   "execution_count": 7,
   "metadata": {
    "trusted": true
   },
   "outputs": [
    {
     "data": {
      "text/plain": [
       "id              0\n",
       "user_id         0\n",
       "session_date    0\n",
       "mb_used         0\n",
       "dtype: int64"
      ]
     },
     "execution_count": 7,
     "metadata": {},
     "output_type": "execute_result"
    }
   ],
   "source": [
    "megaline_internet.isna().sum()"
   ]
  },
  {
   "cell_type": "code",
   "execution_count": 4,
   "metadata": {
    "trusted": true
   },
   "outputs": [
    {
     "data": {
      "text/html": [
       "<div>\n",
       "<style scoped>\n",
       "    .dataframe tbody tr th:only-of-type {\n",
       "        vertical-align: middle;\n",
       "    }\n",
       "\n",
       "    .dataframe tbody tr th {\n",
       "        vertical-align: top;\n",
       "    }\n",
       "\n",
       "    .dataframe thead th {\n",
       "        text-align: right;\n",
       "    }\n",
       "</style>\n",
       "<table border=\"1\" class=\"dataframe\">\n",
       "  <thead>\n",
       "    <tr style=\"text-align: right;\">\n",
       "      <th></th>\n",
       "      <th>id</th>\n",
       "      <th>user_id</th>\n",
       "      <th>message_date</th>\n",
       "    </tr>\n",
       "  </thead>\n",
       "  <tbody>\n",
       "    <tr>\n",
       "      <th>0</th>\n",
       "      <td>1000_125</td>\n",
       "      <td>1000</td>\n",
       "      <td>2018-12-27</td>\n",
       "    </tr>\n",
       "    <tr>\n",
       "      <th>1</th>\n",
       "      <td>1000_160</td>\n",
       "      <td>1000</td>\n",
       "      <td>2018-12-31</td>\n",
       "    </tr>\n",
       "    <tr>\n",
       "      <th>2</th>\n",
       "      <td>1000_223</td>\n",
       "      <td>1000</td>\n",
       "      <td>2018-12-31</td>\n",
       "    </tr>\n",
       "    <tr>\n",
       "      <th>3</th>\n",
       "      <td>1000_251</td>\n",
       "      <td>1000</td>\n",
       "      <td>2018-12-27</td>\n",
       "    </tr>\n",
       "    <tr>\n",
       "      <th>4</th>\n",
       "      <td>1000_255</td>\n",
       "      <td>1000</td>\n",
       "      <td>2018-12-26</td>\n",
       "    </tr>\n",
       "  </tbody>\n",
       "</table>\n",
       "</div>"
      ],
      "text/plain": [
       "         id  user_id message_date\n",
       "0  1000_125     1000   2018-12-27\n",
       "1  1000_160     1000   2018-12-31\n",
       "2  1000_223     1000   2018-12-31\n",
       "3  1000_251     1000   2018-12-27\n",
       "4  1000_255     1000   2018-12-26"
      ]
     },
     "execution_count": 4,
     "metadata": {},
     "output_type": "execute_result"
    }
   ],
   "source": [
    "try:\n",
    "    megaline_messages= pd.read_csv('megaline_messages.csv')\n",
    "except:\n",
    "    megaline_messages = pd.read_csv('datasets/megaline_messages.csv')\n",
    "\n",
    "megaline_messages.head()\n"
   ]
  },
  {
   "cell_type": "code",
   "execution_count": 9,
   "metadata": {
    "trusted": true
   },
   "outputs": [
    {
     "data": {
      "text/html": [
       "<div>\n",
       "<style scoped>\n",
       "    .dataframe tbody tr th:only-of-type {\n",
       "        vertical-align: middle;\n",
       "    }\n",
       "\n",
       "    .dataframe tbody tr th {\n",
       "        vertical-align: top;\n",
       "    }\n",
       "\n",
       "    .dataframe thead th {\n",
       "        text-align: right;\n",
       "    }\n",
       "</style>\n",
       "<table border=\"1\" class=\"dataframe\">\n",
       "  <thead>\n",
       "    <tr style=\"text-align: right;\">\n",
       "      <th></th>\n",
       "      <th>user_id</th>\n",
       "    </tr>\n",
       "  </thead>\n",
       "  <tbody>\n",
       "    <tr>\n",
       "      <th>count</th>\n",
       "      <td>76051.000000</td>\n",
       "    </tr>\n",
       "    <tr>\n",
       "      <th>mean</th>\n",
       "      <td>1245.972768</td>\n",
       "    </tr>\n",
       "    <tr>\n",
       "      <th>std</th>\n",
       "      <td>139.843635</td>\n",
       "    </tr>\n",
       "    <tr>\n",
       "      <th>min</th>\n",
       "      <td>1000.000000</td>\n",
       "    </tr>\n",
       "    <tr>\n",
       "      <th>25%</th>\n",
       "      <td>1123.000000</td>\n",
       "    </tr>\n",
       "    <tr>\n",
       "      <th>50%</th>\n",
       "      <td>1251.000000</td>\n",
       "    </tr>\n",
       "    <tr>\n",
       "      <th>75%</th>\n",
       "      <td>1362.000000</td>\n",
       "    </tr>\n",
       "    <tr>\n",
       "      <th>max</th>\n",
       "      <td>1497.000000</td>\n",
       "    </tr>\n",
       "  </tbody>\n",
       "</table>\n",
       "</div>"
      ],
      "text/plain": [
       "            user_id\n",
       "count  76051.000000\n",
       "mean    1245.972768\n",
       "std      139.843635\n",
       "min     1000.000000\n",
       "25%     1123.000000\n",
       "50%     1251.000000\n",
       "75%     1362.000000\n",
       "max     1497.000000"
      ]
     },
     "execution_count": 9,
     "metadata": {},
     "output_type": "execute_result"
    }
   ],
   "source": [
    "megaline_messages.describe()"
   ]
  },
  {
   "cell_type": "code",
   "execution_count": 10,
   "metadata": {
    "trusted": true
   },
   "outputs": [
    {
     "data": {
      "text/plain": [
       "id              0\n",
       "user_id         0\n",
       "message_date    0\n",
       "dtype: int64"
      ]
     },
     "execution_count": 10,
     "metadata": {},
     "output_type": "execute_result"
    }
   ],
   "source": [
    "megaline_messages.isna().sum()"
   ]
  },
  {
   "cell_type": "code",
   "execution_count": 5,
   "metadata": {
    "trusted": true
   },
   "outputs": [
    {
     "data": {
      "text/html": [
       "<div>\n",
       "<style scoped>\n",
       "    .dataframe tbody tr th:only-of-type {\n",
       "        vertical-align: middle;\n",
       "    }\n",
       "\n",
       "    .dataframe tbody tr th {\n",
       "        vertical-align: top;\n",
       "    }\n",
       "\n",
       "    .dataframe thead th {\n",
       "        text-align: right;\n",
       "    }\n",
       "</style>\n",
       "<table border=\"1\" class=\"dataframe\">\n",
       "  <thead>\n",
       "    <tr style=\"text-align: right;\">\n",
       "      <th></th>\n",
       "      <th>messages_included</th>\n",
       "      <th>mb_per_month_included</th>\n",
       "      <th>minutes_included</th>\n",
       "      <th>usd_monthly_pay</th>\n",
       "      <th>usd_per_gb</th>\n",
       "      <th>usd_per_message</th>\n",
       "      <th>usd_per_minute</th>\n",
       "      <th>plan_name</th>\n",
       "    </tr>\n",
       "  </thead>\n",
       "  <tbody>\n",
       "    <tr>\n",
       "      <th>0</th>\n",
       "      <td>50</td>\n",
       "      <td>15360</td>\n",
       "      <td>500</td>\n",
       "      <td>20</td>\n",
       "      <td>10</td>\n",
       "      <td>0.03</td>\n",
       "      <td>0.03</td>\n",
       "      <td>surf</td>\n",
       "    </tr>\n",
       "    <tr>\n",
       "      <th>1</th>\n",
       "      <td>1000</td>\n",
       "      <td>30720</td>\n",
       "      <td>3000</td>\n",
       "      <td>70</td>\n",
       "      <td>7</td>\n",
       "      <td>0.01</td>\n",
       "      <td>0.01</td>\n",
       "      <td>ultimate</td>\n",
       "    </tr>\n",
       "  </tbody>\n",
       "</table>\n",
       "</div>"
      ],
      "text/plain": [
       "   messages_included  mb_per_month_included  minutes_included  \\\n",
       "0                 50                  15360               500   \n",
       "1               1000                  30720              3000   \n",
       "\n",
       "   usd_monthly_pay  usd_per_gb  usd_per_message  usd_per_minute plan_name  \n",
       "0               20          10             0.03            0.03      surf  \n",
       "1               70           7             0.01            0.01  ultimate  "
      ]
     },
     "execution_count": 5,
     "metadata": {},
     "output_type": "execute_result"
    }
   ],
   "source": [
    "try:\n",
    "    megaline_plans= pd.read_csv('megaline_plans.csv')\n",
    "except:\n",
    "    megaline_plans = pd.read_csv('datasets/megaline_plans.csv')\n",
    "\n",
    "megaline_plans.head()\n"
   ]
  },
  {
   "cell_type": "code",
   "execution_count": 6,
   "metadata": {
    "trusted": true
   },
   "outputs": [
    {
     "data": {
      "text/html": [
       "<div>\n",
       "<style scoped>\n",
       "    .dataframe tbody tr th:only-of-type {\n",
       "        vertical-align: middle;\n",
       "    }\n",
       "\n",
       "    .dataframe tbody tr th {\n",
       "        vertical-align: top;\n",
       "    }\n",
       "\n",
       "    .dataframe thead th {\n",
       "        text-align: right;\n",
       "    }\n",
       "</style>\n",
       "<table border=\"1\" class=\"dataframe\">\n",
       "  <thead>\n",
       "    <tr style=\"text-align: right;\">\n",
       "      <th></th>\n",
       "      <th>user_id</th>\n",
       "      <th>first_name</th>\n",
       "      <th>last_name</th>\n",
       "      <th>age</th>\n",
       "      <th>city</th>\n",
       "      <th>reg_date</th>\n",
       "      <th>plan</th>\n",
       "      <th>churn_date</th>\n",
       "    </tr>\n",
       "  </thead>\n",
       "  <tbody>\n",
       "    <tr>\n",
       "      <th>0</th>\n",
       "      <td>1000</td>\n",
       "      <td>Anamaria</td>\n",
       "      <td>Bauer</td>\n",
       "      <td>45</td>\n",
       "      <td>Atlanta-Sandy Springs-Roswell, GA MSA</td>\n",
       "      <td>2018-12-24</td>\n",
       "      <td>ultimate</td>\n",
       "      <td>NaN</td>\n",
       "    </tr>\n",
       "    <tr>\n",
       "      <th>1</th>\n",
       "      <td>1001</td>\n",
       "      <td>Mickey</td>\n",
       "      <td>Wilkerson</td>\n",
       "      <td>28</td>\n",
       "      <td>Seattle-Tacoma-Bellevue, WA MSA</td>\n",
       "      <td>2018-08-13</td>\n",
       "      <td>surf</td>\n",
       "      <td>NaN</td>\n",
       "    </tr>\n",
       "    <tr>\n",
       "      <th>2</th>\n",
       "      <td>1002</td>\n",
       "      <td>Carlee</td>\n",
       "      <td>Hoffman</td>\n",
       "      <td>36</td>\n",
       "      <td>Las Vegas-Henderson-Paradise, NV MSA</td>\n",
       "      <td>2018-10-21</td>\n",
       "      <td>surf</td>\n",
       "      <td>NaN</td>\n",
       "    </tr>\n",
       "    <tr>\n",
       "      <th>3</th>\n",
       "      <td>1003</td>\n",
       "      <td>Reynaldo</td>\n",
       "      <td>Jenkins</td>\n",
       "      <td>52</td>\n",
       "      <td>Tulsa, OK MSA</td>\n",
       "      <td>2018-01-28</td>\n",
       "      <td>surf</td>\n",
       "      <td>NaN</td>\n",
       "    </tr>\n",
       "    <tr>\n",
       "      <th>4</th>\n",
       "      <td>1004</td>\n",
       "      <td>Leonila</td>\n",
       "      <td>Thompson</td>\n",
       "      <td>40</td>\n",
       "      <td>Seattle-Tacoma-Bellevue, WA MSA</td>\n",
       "      <td>2018-05-23</td>\n",
       "      <td>surf</td>\n",
       "      <td>NaN</td>\n",
       "    </tr>\n",
       "  </tbody>\n",
       "</table>\n",
       "</div>"
      ],
      "text/plain": [
       "   user_id first_name  last_name  age                                   city  \\\n",
       "0     1000   Anamaria      Bauer   45  Atlanta-Sandy Springs-Roswell, GA MSA   \n",
       "1     1001     Mickey  Wilkerson   28        Seattle-Tacoma-Bellevue, WA MSA   \n",
       "2     1002     Carlee    Hoffman   36   Las Vegas-Henderson-Paradise, NV MSA   \n",
       "3     1003   Reynaldo    Jenkins   52                          Tulsa, OK MSA   \n",
       "4     1004    Leonila   Thompson   40        Seattle-Tacoma-Bellevue, WA MSA   \n",
       "\n",
       "     reg_date      plan churn_date  \n",
       "0  2018-12-24  ultimate        NaN  \n",
       "1  2018-08-13      surf        NaN  \n",
       "2  2018-10-21      surf        NaN  \n",
       "3  2018-01-28      surf        NaN  \n",
       "4  2018-05-23      surf        NaN  "
      ]
     },
     "execution_count": 6,
     "metadata": {},
     "output_type": "execute_result"
    }
   ],
   "source": [
    "try:\n",
    "    megaline_users= pd.read_csv('megaline_users.csv')\n",
    "except:\n",
    "    megaline_users = pd.read_csv('datasets/megaline_users.csv')\n",
    "\n",
    "megaline_users.head()\n"
   ]
  },
  {
   "cell_type": "code",
   "execution_count": 13,
   "metadata": {
    "trusted": true
   },
   "outputs": [
    {
     "data": {
      "text/html": [
       "<div>\n",
       "<style scoped>\n",
       "    .dataframe tbody tr th:only-of-type {\n",
       "        vertical-align: middle;\n",
       "    }\n",
       "\n",
       "    .dataframe tbody tr th {\n",
       "        vertical-align: top;\n",
       "    }\n",
       "\n",
       "    .dataframe thead th {\n",
       "        text-align: right;\n",
       "    }\n",
       "</style>\n",
       "<table border=\"1\" class=\"dataframe\">\n",
       "  <thead>\n",
       "    <tr style=\"text-align: right;\">\n",
       "      <th></th>\n",
       "      <th>user_id</th>\n",
       "      <th>age</th>\n",
       "    </tr>\n",
       "  </thead>\n",
       "  <tbody>\n",
       "    <tr>\n",
       "      <th>count</th>\n",
       "      <td>500.000000</td>\n",
       "      <td>500.000000</td>\n",
       "    </tr>\n",
       "    <tr>\n",
       "      <th>mean</th>\n",
       "      <td>1249.500000</td>\n",
       "      <td>45.486000</td>\n",
       "    </tr>\n",
       "    <tr>\n",
       "      <th>std</th>\n",
       "      <td>144.481833</td>\n",
       "      <td>16.972269</td>\n",
       "    </tr>\n",
       "    <tr>\n",
       "      <th>min</th>\n",
       "      <td>1000.000000</td>\n",
       "      <td>18.000000</td>\n",
       "    </tr>\n",
       "    <tr>\n",
       "      <th>25%</th>\n",
       "      <td>1124.750000</td>\n",
       "      <td>30.000000</td>\n",
       "    </tr>\n",
       "    <tr>\n",
       "      <th>50%</th>\n",
       "      <td>1249.500000</td>\n",
       "      <td>46.000000</td>\n",
       "    </tr>\n",
       "    <tr>\n",
       "      <th>75%</th>\n",
       "      <td>1374.250000</td>\n",
       "      <td>61.000000</td>\n",
       "    </tr>\n",
       "    <tr>\n",
       "      <th>max</th>\n",
       "      <td>1499.000000</td>\n",
       "      <td>75.000000</td>\n",
       "    </tr>\n",
       "  </tbody>\n",
       "</table>\n",
       "</div>"
      ],
      "text/plain": [
       "           user_id         age\n",
       "count   500.000000  500.000000\n",
       "mean   1249.500000   45.486000\n",
       "std     144.481833   16.972269\n",
       "min    1000.000000   18.000000\n",
       "25%    1124.750000   30.000000\n",
       "50%    1249.500000   46.000000\n",
       "75%    1374.250000   61.000000\n",
       "max    1499.000000   75.000000"
      ]
     },
     "execution_count": 13,
     "metadata": {},
     "output_type": "execute_result"
    }
   ],
   "source": [
    "megaline_users.describe()"
   ]
  },
  {
   "cell_type": "code",
   "execution_count": 14,
   "metadata": {
    "trusted": true
   },
   "outputs": [
    {
     "data": {
      "text/plain": [
       "user_id         0\n",
       "first_name      0\n",
       "last_name       0\n",
       "age             0\n",
       "city            0\n",
       "reg_date        0\n",
       "plan            0\n",
       "churn_date    466\n",
       "dtype: int64"
      ]
     },
     "execution_count": 14,
     "metadata": {},
     "output_type": "execute_result"
    }
   ],
   "source": [
    "megaline_users.isna().sum()"
   ]
  },
  {
   "cell_type": "markdown",
   "metadata": {},
   "source": [
    "Nulls in `churn_date` is just because the users are still using the data at the time exported the data so I would keep it as NaN until I need to change it "
   ]
  },
  {
   "cell_type": "markdown",
   "metadata": {},
   "source": [
    "## Prepare the data"
   ]
  },
  {
   "cell_type": "markdown",
   "metadata": {},
   "source": [
    "We already explored it while exporting them"
   ]
  },
  {
   "cell_type": "markdown",
   "metadata": {},
   "source": [
    "## Plans"
   ]
  },
  {
   "cell_type": "code",
   "execution_count": 15,
   "metadata": {
    "trusted": true
   },
   "outputs": [
    {
     "name": "stdout",
     "output_type": "stream",
     "text": [
      "<class 'pandas.core.frame.DataFrame'>\n",
      "RangeIndex: 2 entries, 0 to 1\n",
      "Data columns (total 8 columns):\n",
      " #   Column                 Non-Null Count  Dtype  \n",
      "---  ------                 --------------  -----  \n",
      " 0   messages_included      2 non-null      int64  \n",
      " 1   mb_per_month_included  2 non-null      int64  \n",
      " 2   minutes_included       2 non-null      int64  \n",
      " 3   usd_monthly_pay        2 non-null      int64  \n",
      " 4   usd_per_gb             2 non-null      int64  \n",
      " 5   usd_per_message        2 non-null      float64\n",
      " 6   usd_per_minute         2 non-null      float64\n",
      " 7   plan_name              2 non-null      object \n",
      "dtypes: float64(2), int64(5), object(1)\n",
      "memory usage: 256.0+ bytes\n"
     ]
    }
   ],
   "source": [
    "# Print the general/summary information about the plans' DataFrame\n",
    "megaline_plans.info()"
   ]
  },
  {
   "cell_type": "code",
   "execution_count": 16,
   "metadata": {
    "trusted": true
   },
   "outputs": [
    {
     "data": {
      "text/html": [
       "<div>\n",
       "<style scoped>\n",
       "    .dataframe tbody tr th:only-of-type {\n",
       "        vertical-align: middle;\n",
       "    }\n",
       "\n",
       "    .dataframe tbody tr th {\n",
       "        vertical-align: top;\n",
       "    }\n",
       "\n",
       "    .dataframe thead th {\n",
       "        text-align: right;\n",
       "    }\n",
       "</style>\n",
       "<table border=\"1\" class=\"dataframe\">\n",
       "  <thead>\n",
       "    <tr style=\"text-align: right;\">\n",
       "      <th></th>\n",
       "      <th>messages_included</th>\n",
       "      <th>mb_per_month_included</th>\n",
       "      <th>minutes_included</th>\n",
       "      <th>usd_monthly_pay</th>\n",
       "      <th>usd_per_gb</th>\n",
       "      <th>usd_per_message</th>\n",
       "      <th>usd_per_minute</th>\n",
       "      <th>plan_name</th>\n",
       "    </tr>\n",
       "  </thead>\n",
       "  <tbody>\n",
       "    <tr>\n",
       "      <th>0</th>\n",
       "      <td>50</td>\n",
       "      <td>15360</td>\n",
       "      <td>500</td>\n",
       "      <td>20</td>\n",
       "      <td>10</td>\n",
       "      <td>0.03</td>\n",
       "      <td>0.03</td>\n",
       "      <td>surf</td>\n",
       "    </tr>\n",
       "    <tr>\n",
       "      <th>1</th>\n",
       "      <td>1000</td>\n",
       "      <td>30720</td>\n",
       "      <td>3000</td>\n",
       "      <td>70</td>\n",
       "      <td>7</td>\n",
       "      <td>0.01</td>\n",
       "      <td>0.01</td>\n",
       "      <td>ultimate</td>\n",
       "    </tr>\n",
       "  </tbody>\n",
       "</table>\n",
       "</div>"
      ],
      "text/plain": [
       "   messages_included  mb_per_month_included  minutes_included  \\\n",
       "0                 50                  15360               500   \n",
       "1               1000                  30720              3000   \n",
       "\n",
       "   usd_monthly_pay  usd_per_gb  usd_per_message  usd_per_minute plan_name  \n",
       "0               20          10             0.03            0.03      surf  \n",
       "1               70           7             0.01            0.01  ultimate  "
      ]
     },
     "execution_count": 16,
     "metadata": {},
     "output_type": "execute_result"
    }
   ],
   "source": [
    "# Print a sample of data for plans\n",
    "megaline_plans.head()"
   ]
  },
  {
   "cell_type": "markdown",
   "metadata": {},
   "source": [
    "[Describe what you see and notice in the general information and the printed data sample for the above price of data. Are there any issues (inappropriate data types, missing data etc) that may need further investigation and changes? How that can be fixed?]"
   ]
  },
  {
   "cell_type": "markdown",
   "metadata": {},
   "source": [
    "It's just general summary of the two plans we have there's nothing to do with these two cells"
   ]
  },
  {
   "cell_type": "markdown",
   "metadata": {},
   "source": [
    "There are some nulls in `churn_date` in megaline_users but as I explained before it's not missing values and I understand their meaning so I wouldn't change it, another thing would be the type of date in all datasets, I need to change it to dt type not object."
   ]
  },
  {
   "cell_type": "markdown",
   "metadata": {},
   "source": [
    "## Fix data"
   ]
  },
  {
   "cell_type": "markdown",
   "metadata": {},
   "source": [
    "[Fix obvious issues with the data given the initial observations.]"
   ]
  },
  {
   "cell_type": "markdown",
   "metadata": {},
   "source": [
    "There's nothing to fix "
   ]
  },
  {
   "cell_type": "markdown",
   "metadata": {},
   "source": [
    "## Enrich data"
   ]
  },
  {
   "cell_type": "markdown",
   "metadata": {},
   "source": [
    "[Add additional factors to the data if you believe they might be useful.]"
   ]
  },
  {
   "cell_type": "markdown",
   "metadata": {},
   "source": [
    "Nothing to add"
   ]
  },
  {
   "cell_type": "markdown",
   "metadata": {},
   "source": [
    "## Users"
   ]
  },
  {
   "cell_type": "code",
   "execution_count": 17,
   "metadata": {
    "trusted": true
   },
   "outputs": [
    {
     "name": "stdout",
     "output_type": "stream",
     "text": [
      "<class 'pandas.core.frame.DataFrame'>\n",
      "RangeIndex: 500 entries, 0 to 499\n",
      "Data columns (total 8 columns):\n",
      " #   Column      Non-Null Count  Dtype \n",
      "---  ------      --------------  ----- \n",
      " 0   user_id     500 non-null    int64 \n",
      " 1   first_name  500 non-null    object\n",
      " 2   last_name   500 non-null    object\n",
      " 3   age         500 non-null    int64 \n",
      " 4   city        500 non-null    object\n",
      " 5   reg_date    500 non-null    object\n",
      " 6   plan        500 non-null    object\n",
      " 7   churn_date  34 non-null     object\n",
      "dtypes: int64(2), object(6)\n",
      "memory usage: 31.4+ KB\n"
     ]
    }
   ],
   "source": [
    "# Print the general/summary information about the users' DataFrame\n",
    "megaline_users.info()"
   ]
  },
  {
   "cell_type": "code",
   "execution_count": 18,
   "metadata": {
    "trusted": true
   },
   "outputs": [
    {
     "data": {
      "text/html": [
       "<div>\n",
       "<style scoped>\n",
       "    .dataframe tbody tr th:only-of-type {\n",
       "        vertical-align: middle;\n",
       "    }\n",
       "\n",
       "    .dataframe tbody tr th {\n",
       "        vertical-align: top;\n",
       "    }\n",
       "\n",
       "    .dataframe thead th {\n",
       "        text-align: right;\n",
       "    }\n",
       "</style>\n",
       "<table border=\"1\" class=\"dataframe\">\n",
       "  <thead>\n",
       "    <tr style=\"text-align: right;\">\n",
       "      <th></th>\n",
       "      <th>user_id</th>\n",
       "      <th>first_name</th>\n",
       "      <th>last_name</th>\n",
       "      <th>age</th>\n",
       "      <th>city</th>\n",
       "      <th>reg_date</th>\n",
       "      <th>plan</th>\n",
       "      <th>churn_date</th>\n",
       "    </tr>\n",
       "  </thead>\n",
       "  <tbody>\n",
       "    <tr>\n",
       "      <th>0</th>\n",
       "      <td>1000</td>\n",
       "      <td>Anamaria</td>\n",
       "      <td>Bauer</td>\n",
       "      <td>45</td>\n",
       "      <td>Atlanta-Sandy Springs-Roswell, GA MSA</td>\n",
       "      <td>2018-12-24</td>\n",
       "      <td>ultimate</td>\n",
       "      <td>NaN</td>\n",
       "    </tr>\n",
       "    <tr>\n",
       "      <th>1</th>\n",
       "      <td>1001</td>\n",
       "      <td>Mickey</td>\n",
       "      <td>Wilkerson</td>\n",
       "      <td>28</td>\n",
       "      <td>Seattle-Tacoma-Bellevue, WA MSA</td>\n",
       "      <td>2018-08-13</td>\n",
       "      <td>surf</td>\n",
       "      <td>NaN</td>\n",
       "    </tr>\n",
       "    <tr>\n",
       "      <th>2</th>\n",
       "      <td>1002</td>\n",
       "      <td>Carlee</td>\n",
       "      <td>Hoffman</td>\n",
       "      <td>36</td>\n",
       "      <td>Las Vegas-Henderson-Paradise, NV MSA</td>\n",
       "      <td>2018-10-21</td>\n",
       "      <td>surf</td>\n",
       "      <td>NaN</td>\n",
       "    </tr>\n",
       "    <tr>\n",
       "      <th>3</th>\n",
       "      <td>1003</td>\n",
       "      <td>Reynaldo</td>\n",
       "      <td>Jenkins</td>\n",
       "      <td>52</td>\n",
       "      <td>Tulsa, OK MSA</td>\n",
       "      <td>2018-01-28</td>\n",
       "      <td>surf</td>\n",
       "      <td>NaN</td>\n",
       "    </tr>\n",
       "    <tr>\n",
       "      <th>4</th>\n",
       "      <td>1004</td>\n",
       "      <td>Leonila</td>\n",
       "      <td>Thompson</td>\n",
       "      <td>40</td>\n",
       "      <td>Seattle-Tacoma-Bellevue, WA MSA</td>\n",
       "      <td>2018-05-23</td>\n",
       "      <td>surf</td>\n",
       "      <td>NaN</td>\n",
       "    </tr>\n",
       "  </tbody>\n",
       "</table>\n",
       "</div>"
      ],
      "text/plain": [
       "   user_id first_name  last_name  age                                   city  \\\n",
       "0     1000   Anamaria      Bauer   45  Atlanta-Sandy Springs-Roswell, GA MSA   \n",
       "1     1001     Mickey  Wilkerson   28        Seattle-Tacoma-Bellevue, WA MSA   \n",
       "2     1002     Carlee    Hoffman   36   Las Vegas-Henderson-Paradise, NV MSA   \n",
       "3     1003   Reynaldo    Jenkins   52                          Tulsa, OK MSA   \n",
       "4     1004    Leonila   Thompson   40        Seattle-Tacoma-Bellevue, WA MSA   \n",
       "\n",
       "     reg_date      plan churn_date  \n",
       "0  2018-12-24  ultimate        NaN  \n",
       "1  2018-08-13      surf        NaN  \n",
       "2  2018-10-21      surf        NaN  \n",
       "3  2018-01-28      surf        NaN  \n",
       "4  2018-05-23      surf        NaN  "
      ]
     },
     "execution_count": 18,
     "metadata": {},
     "output_type": "execute_result"
    }
   ],
   "source": [
    "# Print a sample of data for users\n",
    "megaline_users.head()"
   ]
  },
  {
   "cell_type": "code",
   "execution_count": 19,
   "metadata": {
    "trusted": true
   },
   "outputs": [
    {
     "data": {
      "text/plain": [
       "0"
      ]
     },
     "execution_count": 19,
     "metadata": {},
     "output_type": "execute_result"
    }
   ],
   "source": [
    "megaline_users.duplicated().sum()"
   ]
  },
  {
   "cell_type": "code",
   "execution_count": 20,
   "metadata": {
    "trusted": true
   },
   "outputs": [
    {
     "data": {
      "text/plain": [
       "0"
      ]
     },
     "execution_count": 20,
     "metadata": {},
     "output_type": "execute_result"
    }
   ],
   "source": [
    "megaline_users.duplicated(subset=['first_name', 'last_name'], keep=False).sum()"
   ]
  },
  {
   "cell_type": "markdown",
   "metadata": {},
   "source": [
    "[Describe what you see and notice in the general information and the printed data sample for the above price of data. Are there any issues (inappropriate data types, missing data etc) that may need further investigation and changes? How that can be fixed?]"
   ]
  },
  {
   "cell_type": "markdown",
   "metadata": {},
   "source": [
    "There are some nulls in `churn_date` in megaline_users but as I explained before it's not missing values and I understand their meaning so I wouldn't change it, another thing would be the type of date in all datasets, I need to change it to dt type not leaving it as object. "
   ]
  },
  {
   "cell_type": "markdown",
   "metadata": {},
   "source": [
    "### Fix Data"
   ]
  },
  {
   "cell_type": "markdown",
   "metadata": {},
   "source": [
    "[Fix obvious issues with the data given the initial observations.]"
   ]
  },
  {
   "cell_type": "code",
   "execution_count": 21,
   "metadata": {
    "trusted": true
   },
   "outputs": [
    {
     "name": "stdout",
     "output_type": "stream",
     "text": [
      "<class 'pandas.core.frame.DataFrame'>\n",
      "RangeIndex: 500 entries, 0 to 499\n",
      "Data columns (total 8 columns):\n",
      " #   Column      Non-Null Count  Dtype         \n",
      "---  ------      --------------  -----         \n",
      " 0   user_id     500 non-null    int64         \n",
      " 1   first_name  500 non-null    object        \n",
      " 2   last_name   500 non-null    object        \n",
      " 3   age         500 non-null    int64         \n",
      " 4   city        500 non-null    object        \n",
      " 5   reg_date    500 non-null    datetime64[ns]\n",
      " 6   plan        500 non-null    object        \n",
      " 7   churn_date  34 non-null     object        \n",
      "dtypes: datetime64[ns](1), int64(2), object(5)\n",
      "memory usage: 31.4+ KB\n"
     ]
    }
   ],
   "source": [
    "megaline_users['reg_date'] = pd.to_datetime(megaline_users['reg_date'])\n",
    "megaline_users.info()"
   ]
  },
  {
   "cell_type": "markdown",
   "metadata": {},
   "source": [
    "### Enrich Data"
   ]
  },
  {
   "cell_type": "markdown",
   "metadata": {},
   "source": [
    "[Add additional factors to the data if you believe they might be useful.]"
   ]
  },
  {
   "cell_type": "code",
   "execution_count": 22,
   "metadata": {
    "trusted": true
   },
   "outputs": [
    {
     "data": {
      "text/html": [
       "<div>\n",
       "<style scoped>\n",
       "    .dataframe tbody tr th:only-of-type {\n",
       "        vertical-align: middle;\n",
       "    }\n",
       "\n",
       "    .dataframe tbody tr th {\n",
       "        vertical-align: top;\n",
       "    }\n",
       "\n",
       "    .dataframe thead th {\n",
       "        text-align: right;\n",
       "    }\n",
       "</style>\n",
       "<table border=\"1\" class=\"dataframe\">\n",
       "  <thead>\n",
       "    <tr style=\"text-align: right;\">\n",
       "      <th></th>\n",
       "      <th>user_id</th>\n",
       "      <th>first_name</th>\n",
       "      <th>last_name</th>\n",
       "      <th>age</th>\n",
       "      <th>city</th>\n",
       "      <th>reg_date</th>\n",
       "      <th>plan</th>\n",
       "      <th>churn_date</th>\n",
       "      <th>reg_date_month</th>\n",
       "      <th>reg_date_day</th>\n",
       "    </tr>\n",
       "  </thead>\n",
       "  <tbody>\n",
       "    <tr>\n",
       "      <th>0</th>\n",
       "      <td>1000</td>\n",
       "      <td>Anamaria</td>\n",
       "      <td>Bauer</td>\n",
       "      <td>45</td>\n",
       "      <td>Atlanta-Sandy Springs-Roswell, GA MSA</td>\n",
       "      <td>2018-12-24</td>\n",
       "      <td>ultimate</td>\n",
       "      <td>NaN</td>\n",
       "      <td>12</td>\n",
       "      <td>24</td>\n",
       "    </tr>\n",
       "    <tr>\n",
       "      <th>1</th>\n",
       "      <td>1001</td>\n",
       "      <td>Mickey</td>\n",
       "      <td>Wilkerson</td>\n",
       "      <td>28</td>\n",
       "      <td>Seattle-Tacoma-Bellevue, WA MSA</td>\n",
       "      <td>2018-08-13</td>\n",
       "      <td>surf</td>\n",
       "      <td>NaN</td>\n",
       "      <td>8</td>\n",
       "      <td>13</td>\n",
       "    </tr>\n",
       "    <tr>\n",
       "      <th>2</th>\n",
       "      <td>1002</td>\n",
       "      <td>Carlee</td>\n",
       "      <td>Hoffman</td>\n",
       "      <td>36</td>\n",
       "      <td>Las Vegas-Henderson-Paradise, NV MSA</td>\n",
       "      <td>2018-10-21</td>\n",
       "      <td>surf</td>\n",
       "      <td>NaN</td>\n",
       "      <td>10</td>\n",
       "      <td>21</td>\n",
       "    </tr>\n",
       "    <tr>\n",
       "      <th>3</th>\n",
       "      <td>1003</td>\n",
       "      <td>Reynaldo</td>\n",
       "      <td>Jenkins</td>\n",
       "      <td>52</td>\n",
       "      <td>Tulsa, OK MSA</td>\n",
       "      <td>2018-01-28</td>\n",
       "      <td>surf</td>\n",
       "      <td>NaN</td>\n",
       "      <td>1</td>\n",
       "      <td>28</td>\n",
       "    </tr>\n",
       "    <tr>\n",
       "      <th>4</th>\n",
       "      <td>1004</td>\n",
       "      <td>Leonila</td>\n",
       "      <td>Thompson</td>\n",
       "      <td>40</td>\n",
       "      <td>Seattle-Tacoma-Bellevue, WA MSA</td>\n",
       "      <td>2018-05-23</td>\n",
       "      <td>surf</td>\n",
       "      <td>NaN</td>\n",
       "      <td>5</td>\n",
       "      <td>23</td>\n",
       "    </tr>\n",
       "  </tbody>\n",
       "</table>\n",
       "</div>"
      ],
      "text/plain": [
       "   user_id first_name  last_name  age                                   city  \\\n",
       "0     1000   Anamaria      Bauer   45  Atlanta-Sandy Springs-Roswell, GA MSA   \n",
       "1     1001     Mickey  Wilkerson   28        Seattle-Tacoma-Bellevue, WA MSA   \n",
       "2     1002     Carlee    Hoffman   36   Las Vegas-Henderson-Paradise, NV MSA   \n",
       "3     1003   Reynaldo    Jenkins   52                          Tulsa, OK MSA   \n",
       "4     1004    Leonila   Thompson   40        Seattle-Tacoma-Bellevue, WA MSA   \n",
       "\n",
       "    reg_date      plan churn_date  reg_date_month  reg_date_day  \n",
       "0 2018-12-24  ultimate        NaN              12            24  \n",
       "1 2018-08-13      surf        NaN               8            13  \n",
       "2 2018-10-21      surf        NaN              10            21  \n",
       "3 2018-01-28      surf        NaN               1            28  \n",
       "4 2018-05-23      surf        NaN               5            23  "
      ]
     },
     "execution_count": 22,
     "metadata": {},
     "output_type": "execute_result"
    }
   ],
   "source": [
    "#getting the regesteration month and day to analyse which month we got the most new customers\n",
    "megaline_users['reg_date_month'] = megaline_users['reg_date'].dt.month\n",
    "megaline_users['reg_date_day'] = megaline_users['reg_date'].dt.day\n",
    "megaline_users.head()"
   ]
  },
  {
   "cell_type": "code",
   "execution_count": 23,
   "metadata": {
    "trusted": true
   },
   "outputs": [
    {
     "data": {
      "text/html": [
       "<div>\n",
       "<style scoped>\n",
       "    .dataframe tbody tr th:only-of-type {\n",
       "        vertical-align: middle;\n",
       "    }\n",
       "\n",
       "    .dataframe tbody tr th {\n",
       "        vertical-align: top;\n",
       "    }\n",
       "\n",
       "    .dataframe thead th {\n",
       "        text-align: right;\n",
       "    }\n",
       "</style>\n",
       "<table border=\"1\" class=\"dataframe\">\n",
       "  <thead>\n",
       "    <tr style=\"text-align: right;\">\n",
       "      <th></th>\n",
       "      <th>user_id</th>\n",
       "      <th>first_name</th>\n",
       "      <th>last_name</th>\n",
       "      <th>age</th>\n",
       "      <th>city</th>\n",
       "      <th>reg_date</th>\n",
       "      <th>plan</th>\n",
       "      <th>churn_date</th>\n",
       "      <th>reg_date_month</th>\n",
       "      <th>reg_date_day</th>\n",
       "    </tr>\n",
       "  </thead>\n",
       "  <tbody>\n",
       "    <tr>\n",
       "      <th>count</th>\n",
       "      <td>500.000000</td>\n",
       "      <td>500</td>\n",
       "      <td>500</td>\n",
       "      <td>500.000000</td>\n",
       "      <td>500</td>\n",
       "      <td>500</td>\n",
       "      <td>500</td>\n",
       "      <td>34</td>\n",
       "      <td>500.000000</td>\n",
       "      <td>500.000000</td>\n",
       "    </tr>\n",
       "    <tr>\n",
       "      <th>unique</th>\n",
       "      <td>NaN</td>\n",
       "      <td>458</td>\n",
       "      <td>399</td>\n",
       "      <td>NaN</td>\n",
       "      <td>73</td>\n",
       "      <td>266</td>\n",
       "      <td>2</td>\n",
       "      <td>29</td>\n",
       "      <td>NaN</td>\n",
       "      <td>NaN</td>\n",
       "    </tr>\n",
       "    <tr>\n",
       "      <th>top</th>\n",
       "      <td>NaN</td>\n",
       "      <td>Jasper</td>\n",
       "      <td>David</td>\n",
       "      <td>NaN</td>\n",
       "      <td>New York-Newark-Jersey City, NY-NJ-PA MSA</td>\n",
       "      <td>2018-07-12 00:00:00</td>\n",
       "      <td>surf</td>\n",
       "      <td>2018-12-18</td>\n",
       "      <td>NaN</td>\n",
       "      <td>NaN</td>\n",
       "    </tr>\n",
       "    <tr>\n",
       "      <th>freq</th>\n",
       "      <td>NaN</td>\n",
       "      <td>3</td>\n",
       "      <td>3</td>\n",
       "      <td>NaN</td>\n",
       "      <td>80</td>\n",
       "      <td>5</td>\n",
       "      <td>339</td>\n",
       "      <td>3</td>\n",
       "      <td>NaN</td>\n",
       "      <td>NaN</td>\n",
       "    </tr>\n",
       "    <tr>\n",
       "      <th>first</th>\n",
       "      <td>NaN</td>\n",
       "      <td>NaN</td>\n",
       "      <td>NaN</td>\n",
       "      <td>NaN</td>\n",
       "      <td>NaN</td>\n",
       "      <td>2018-01-01 00:00:00</td>\n",
       "      <td>NaN</td>\n",
       "      <td>NaN</td>\n",
       "      <td>NaN</td>\n",
       "      <td>NaN</td>\n",
       "    </tr>\n",
       "    <tr>\n",
       "      <th>last</th>\n",
       "      <td>NaN</td>\n",
       "      <td>NaN</td>\n",
       "      <td>NaN</td>\n",
       "      <td>NaN</td>\n",
       "      <td>NaN</td>\n",
       "      <td>2018-12-31 00:00:00</td>\n",
       "      <td>NaN</td>\n",
       "      <td>NaN</td>\n",
       "      <td>NaN</td>\n",
       "      <td>NaN</td>\n",
       "    </tr>\n",
       "    <tr>\n",
       "      <th>mean</th>\n",
       "      <td>1249.500000</td>\n",
       "      <td>NaN</td>\n",
       "      <td>NaN</td>\n",
       "      <td>45.486000</td>\n",
       "      <td>NaN</td>\n",
       "      <td>NaN</td>\n",
       "      <td>NaN</td>\n",
       "      <td>NaN</td>\n",
       "      <td>6.290000</td>\n",
       "      <td>15.572000</td>\n",
       "    </tr>\n",
       "    <tr>\n",
       "      <th>std</th>\n",
       "      <td>144.481833</td>\n",
       "      <td>NaN</td>\n",
       "      <td>NaN</td>\n",
       "      <td>16.972269</td>\n",
       "      <td>NaN</td>\n",
       "      <td>NaN</td>\n",
       "      <td>NaN</td>\n",
       "      <td>NaN</td>\n",
       "      <td>3.438247</td>\n",
       "      <td>8.924804</td>\n",
       "    </tr>\n",
       "    <tr>\n",
       "      <th>min</th>\n",
       "      <td>1000.000000</td>\n",
       "      <td>NaN</td>\n",
       "      <td>NaN</td>\n",
       "      <td>18.000000</td>\n",
       "      <td>NaN</td>\n",
       "      <td>NaN</td>\n",
       "      <td>NaN</td>\n",
       "      <td>NaN</td>\n",
       "      <td>1.000000</td>\n",
       "      <td>1.000000</td>\n",
       "    </tr>\n",
       "    <tr>\n",
       "      <th>25%</th>\n",
       "      <td>1124.750000</td>\n",
       "      <td>NaN</td>\n",
       "      <td>NaN</td>\n",
       "      <td>30.000000</td>\n",
       "      <td>NaN</td>\n",
       "      <td>NaN</td>\n",
       "      <td>NaN</td>\n",
       "      <td>NaN</td>\n",
       "      <td>3.000000</td>\n",
       "      <td>8.000000</td>\n",
       "    </tr>\n",
       "    <tr>\n",
       "      <th>50%</th>\n",
       "      <td>1249.500000</td>\n",
       "      <td>NaN</td>\n",
       "      <td>NaN</td>\n",
       "      <td>46.000000</td>\n",
       "      <td>NaN</td>\n",
       "      <td>NaN</td>\n",
       "      <td>NaN</td>\n",
       "      <td>NaN</td>\n",
       "      <td>6.000000</td>\n",
       "      <td>16.000000</td>\n",
       "    </tr>\n",
       "    <tr>\n",
       "      <th>75%</th>\n",
       "      <td>1374.250000</td>\n",
       "      <td>NaN</td>\n",
       "      <td>NaN</td>\n",
       "      <td>61.000000</td>\n",
       "      <td>NaN</td>\n",
       "      <td>NaN</td>\n",
       "      <td>NaN</td>\n",
       "      <td>NaN</td>\n",
       "      <td>9.000000</td>\n",
       "      <td>23.250000</td>\n",
       "    </tr>\n",
       "    <tr>\n",
       "      <th>max</th>\n",
       "      <td>1499.000000</td>\n",
       "      <td>NaN</td>\n",
       "      <td>NaN</td>\n",
       "      <td>75.000000</td>\n",
       "      <td>NaN</td>\n",
       "      <td>NaN</td>\n",
       "      <td>NaN</td>\n",
       "      <td>NaN</td>\n",
       "      <td>12.000000</td>\n",
       "      <td>31.000000</td>\n",
       "    </tr>\n",
       "  </tbody>\n",
       "</table>\n",
       "</div>"
      ],
      "text/plain": [
       "            user_id first_name last_name         age  \\\n",
       "count    500.000000        500       500  500.000000   \n",
       "unique          NaN        458       399         NaN   \n",
       "top             NaN     Jasper     David         NaN   \n",
       "freq            NaN          3         3         NaN   \n",
       "first           NaN        NaN       NaN         NaN   \n",
       "last            NaN        NaN       NaN         NaN   \n",
       "mean    1249.500000        NaN       NaN   45.486000   \n",
       "std      144.481833        NaN       NaN   16.972269   \n",
       "min     1000.000000        NaN       NaN   18.000000   \n",
       "25%     1124.750000        NaN       NaN   30.000000   \n",
       "50%     1249.500000        NaN       NaN   46.000000   \n",
       "75%     1374.250000        NaN       NaN   61.000000   \n",
       "max     1499.000000        NaN       NaN   75.000000   \n",
       "\n",
       "                                             city             reg_date  plan  \\\n",
       "count                                         500                  500   500   \n",
       "unique                                         73                  266     2   \n",
       "top     New York-Newark-Jersey City, NY-NJ-PA MSA  2018-07-12 00:00:00  surf   \n",
       "freq                                           80                    5   339   \n",
       "first                                         NaN  2018-01-01 00:00:00   NaN   \n",
       "last                                          NaN  2018-12-31 00:00:00   NaN   \n",
       "mean                                          NaN                  NaN   NaN   \n",
       "std                                           NaN                  NaN   NaN   \n",
       "min                                           NaN                  NaN   NaN   \n",
       "25%                                           NaN                  NaN   NaN   \n",
       "50%                                           NaN                  NaN   NaN   \n",
       "75%                                           NaN                  NaN   NaN   \n",
       "max                                           NaN                  NaN   NaN   \n",
       "\n",
       "        churn_date  reg_date_month  reg_date_day  \n",
       "count           34      500.000000    500.000000  \n",
       "unique          29             NaN           NaN  \n",
       "top     2018-12-18             NaN           NaN  \n",
       "freq             3             NaN           NaN  \n",
       "first          NaN             NaN           NaN  \n",
       "last           NaN             NaN           NaN  \n",
       "mean           NaN        6.290000     15.572000  \n",
       "std            NaN        3.438247      8.924804  \n",
       "min            NaN        1.000000      1.000000  \n",
       "25%            NaN        3.000000      8.000000  \n",
       "50%            NaN        6.000000     16.000000  \n",
       "75%            NaN        9.000000     23.250000  \n",
       "max            NaN       12.000000     31.000000  "
      ]
     },
     "execution_count": 23,
     "metadata": {},
     "output_type": "execute_result"
    }
   ],
   "source": [
    "megaline_users.describe(include='all')"
   ]
  },
  {
   "cell_type": "markdown",
   "metadata": {},
   "source": [
    "## Calls"
   ]
  },
  {
   "cell_type": "code",
   "execution_count": 24,
   "metadata": {
    "trusted": true
   },
   "outputs": [
    {
     "name": "stdout",
     "output_type": "stream",
     "text": [
      "<class 'pandas.core.frame.DataFrame'>\n",
      "RangeIndex: 137735 entries, 0 to 137734\n",
      "Data columns (total 4 columns):\n",
      " #   Column     Non-Null Count   Dtype  \n",
      "---  ------     --------------   -----  \n",
      " 0   id         137735 non-null  object \n",
      " 1   user_id    137735 non-null  int64  \n",
      " 2   call_date  137735 non-null  object \n",
      " 3   duration   137735 non-null  float64\n",
      "dtypes: float64(1), int64(1), object(2)\n",
      "memory usage: 4.2+ MB\n"
     ]
    }
   ],
   "source": [
    "# Print the general/summary information about the calls' DataFrame\n",
    "megaline_calls.info()"
   ]
  },
  {
   "cell_type": "code",
   "execution_count": 25,
   "metadata": {
    "trusted": true
   },
   "outputs": [
    {
     "data": {
      "text/html": [
       "<div>\n",
       "<style scoped>\n",
       "    .dataframe tbody tr th:only-of-type {\n",
       "        vertical-align: middle;\n",
       "    }\n",
       "\n",
       "    .dataframe tbody tr th {\n",
       "        vertical-align: top;\n",
       "    }\n",
       "\n",
       "    .dataframe thead th {\n",
       "        text-align: right;\n",
       "    }\n",
       "</style>\n",
       "<table border=\"1\" class=\"dataframe\">\n",
       "  <thead>\n",
       "    <tr style=\"text-align: right;\">\n",
       "      <th></th>\n",
       "      <th>id</th>\n",
       "      <th>user_id</th>\n",
       "      <th>call_date</th>\n",
       "      <th>duration</th>\n",
       "    </tr>\n",
       "  </thead>\n",
       "  <tbody>\n",
       "    <tr>\n",
       "      <th>0</th>\n",
       "      <td>1000_93</td>\n",
       "      <td>1000</td>\n",
       "      <td>2018-12-27</td>\n",
       "      <td>8.52</td>\n",
       "    </tr>\n",
       "    <tr>\n",
       "      <th>1</th>\n",
       "      <td>1000_145</td>\n",
       "      <td>1000</td>\n",
       "      <td>2018-12-27</td>\n",
       "      <td>13.66</td>\n",
       "    </tr>\n",
       "    <tr>\n",
       "      <th>2</th>\n",
       "      <td>1000_247</td>\n",
       "      <td>1000</td>\n",
       "      <td>2018-12-27</td>\n",
       "      <td>14.48</td>\n",
       "    </tr>\n",
       "    <tr>\n",
       "      <th>3</th>\n",
       "      <td>1000_309</td>\n",
       "      <td>1000</td>\n",
       "      <td>2018-12-28</td>\n",
       "      <td>5.76</td>\n",
       "    </tr>\n",
       "    <tr>\n",
       "      <th>4</th>\n",
       "      <td>1000_380</td>\n",
       "      <td>1000</td>\n",
       "      <td>2018-12-30</td>\n",
       "      <td>4.22</td>\n",
       "    </tr>\n",
       "  </tbody>\n",
       "</table>\n",
       "</div>"
      ],
      "text/plain": [
       "         id  user_id   call_date  duration\n",
       "0   1000_93     1000  2018-12-27      8.52\n",
       "1  1000_145     1000  2018-12-27     13.66\n",
       "2  1000_247     1000  2018-12-27     14.48\n",
       "3  1000_309     1000  2018-12-28      5.76\n",
       "4  1000_380     1000  2018-12-30      4.22"
      ]
     },
     "execution_count": 25,
     "metadata": {},
     "output_type": "execute_result"
    }
   ],
   "source": [
    "# Print a sample of data for calls\n",
    "megaline_calls.head()"
   ]
  },
  {
   "cell_type": "code",
   "execution_count": 26,
   "metadata": {
    "trusted": true
   },
   "outputs": [
    {
     "data": {
      "text/plain": [
       "0"
      ]
     },
     "execution_count": 26,
     "metadata": {},
     "output_type": "execute_result"
    }
   ],
   "source": [
    "megaline_calls.duplicated().sum()"
   ]
  },
  {
   "cell_type": "markdown",
   "metadata": {},
   "source": [
    "[Describe what you see and notice in the general information and the printed data sample for the above price of data. Are there any issues (inappropriate data types, missing data etc) that may need further investigation and changes? How that can be fixed?]"
   ]
  },
  {
   "cell_type": "markdown",
   "metadata": {},
   "source": [
    "There's only the date problem"
   ]
  },
  {
   "cell_type": "markdown",
   "metadata": {},
   "source": [
    "### Fix data"
   ]
  },
  {
   "cell_type": "markdown",
   "metadata": {},
   "source": [
    "[Fix obvious issues with the data given the initial observations.]"
   ]
  },
  {
   "cell_type": "code",
   "execution_count": 27,
   "metadata": {
    "trusted": true
   },
   "outputs": [],
   "source": [
    "megaline_calls['call_date'] = pd.to_datetime(megaline_calls['call_date'])"
   ]
  },
  {
   "cell_type": "markdown",
   "metadata": {},
   "source": [
    "### Enrich data"
   ]
  },
  {
   "cell_type": "markdown",
   "metadata": {},
   "source": [
    "[Add additional factors to the data if you believe they might be useful.]"
   ]
  },
  {
   "cell_type": "code",
   "execution_count": 28,
   "metadata": {
    "trusted": true
   },
   "outputs": [
    {
     "data": {
      "text/html": [
       "<div>\n",
       "<style scoped>\n",
       "    .dataframe tbody tr th:only-of-type {\n",
       "        vertical-align: middle;\n",
       "    }\n",
       "\n",
       "    .dataframe tbody tr th {\n",
       "        vertical-align: top;\n",
       "    }\n",
       "\n",
       "    .dataframe thead th {\n",
       "        text-align: right;\n",
       "    }\n",
       "</style>\n",
       "<table border=\"1\" class=\"dataframe\">\n",
       "  <thead>\n",
       "    <tr style=\"text-align: right;\">\n",
       "      <th></th>\n",
       "      <th>id</th>\n",
       "      <th>user_id</th>\n",
       "      <th>call_date</th>\n",
       "      <th>duration</th>\n",
       "      <th>call_date_month</th>\n",
       "      <th>call_date_day</th>\n",
       "      <th>up_duration</th>\n",
       "    </tr>\n",
       "  </thead>\n",
       "  <tbody>\n",
       "    <tr>\n",
       "      <th>0</th>\n",
       "      <td>1000_93</td>\n",
       "      <td>1000</td>\n",
       "      <td>2018-12-27</td>\n",
       "      <td>8.52</td>\n",
       "      <td>12</td>\n",
       "      <td>27</td>\n",
       "      <td>9</td>\n",
       "    </tr>\n",
       "    <tr>\n",
       "      <th>1</th>\n",
       "      <td>1000_145</td>\n",
       "      <td>1000</td>\n",
       "      <td>2018-12-27</td>\n",
       "      <td>13.66</td>\n",
       "      <td>12</td>\n",
       "      <td>27</td>\n",
       "      <td>14</td>\n",
       "    </tr>\n",
       "    <tr>\n",
       "      <th>2</th>\n",
       "      <td>1000_247</td>\n",
       "      <td>1000</td>\n",
       "      <td>2018-12-27</td>\n",
       "      <td>14.48</td>\n",
       "      <td>12</td>\n",
       "      <td>27</td>\n",
       "      <td>15</td>\n",
       "    </tr>\n",
       "    <tr>\n",
       "      <th>3</th>\n",
       "      <td>1000_309</td>\n",
       "      <td>1000</td>\n",
       "      <td>2018-12-28</td>\n",
       "      <td>5.76</td>\n",
       "      <td>12</td>\n",
       "      <td>28</td>\n",
       "      <td>6</td>\n",
       "    </tr>\n",
       "    <tr>\n",
       "      <th>4</th>\n",
       "      <td>1000_380</td>\n",
       "      <td>1000</td>\n",
       "      <td>2018-12-30</td>\n",
       "      <td>4.22</td>\n",
       "      <td>12</td>\n",
       "      <td>30</td>\n",
       "      <td>5</td>\n",
       "    </tr>\n",
       "  </tbody>\n",
       "</table>\n",
       "</div>"
      ],
      "text/plain": [
       "         id  user_id  call_date  duration  call_date_month  call_date_day  \\\n",
       "0   1000_93     1000 2018-12-27      8.52               12             27   \n",
       "1  1000_145     1000 2018-12-27     13.66               12             27   \n",
       "2  1000_247     1000 2018-12-27     14.48               12             27   \n",
       "3  1000_309     1000 2018-12-28      5.76               12             28   \n",
       "4  1000_380     1000 2018-12-30      4.22               12             30   \n",
       "\n",
       "   up_duration  \n",
       "0            9  \n",
       "1           14  \n",
       "2           15  \n",
       "3            6  \n",
       "4            5  "
      ]
     },
     "execution_count": 28,
     "metadata": {},
     "output_type": "execute_result"
    }
   ],
   "source": [
    "#getting the call date month and day to analyse which month we got the most calls, and column for rounding up the minutes of each call\n",
    "megaline_calls['call_date_month'] = megaline_calls['call_date'].dt.month\n",
    "megaline_calls['call_date_day'] = megaline_calls['call_date'].dt.day\n",
    "megaline_calls['up_duration'] = np.ceil(megaline_calls['duration']).astype(int)\n",
    "megaline_calls.head()"
   ]
  },
  {
   "cell_type": "code",
   "execution_count": 29,
   "metadata": {
    "trusted": true
   },
   "outputs": [
    {
     "data": {
      "text/html": [
       "<div>\n",
       "<style scoped>\n",
       "    .dataframe tbody tr th:only-of-type {\n",
       "        vertical-align: middle;\n",
       "    }\n",
       "\n",
       "    .dataframe tbody tr th {\n",
       "        vertical-align: top;\n",
       "    }\n",
       "\n",
       "    .dataframe thead th {\n",
       "        text-align: right;\n",
       "    }\n",
       "</style>\n",
       "<table border=\"1\" class=\"dataframe\">\n",
       "  <thead>\n",
       "    <tr style=\"text-align: right;\">\n",
       "      <th></th>\n",
       "      <th>id</th>\n",
       "      <th>user_id</th>\n",
       "      <th>call_date</th>\n",
       "      <th>duration</th>\n",
       "      <th>call_date_month</th>\n",
       "      <th>call_date_day</th>\n",
       "      <th>up_duration</th>\n",
       "    </tr>\n",
       "  </thead>\n",
       "  <tbody>\n",
       "    <tr>\n",
       "      <th>count</th>\n",
       "      <td>137735</td>\n",
       "      <td>137735.000000</td>\n",
       "      <td>137735</td>\n",
       "      <td>137735.000000</td>\n",
       "      <td>137735.000000</td>\n",
       "      <td>137735.000000</td>\n",
       "      <td>137735.000000</td>\n",
       "    </tr>\n",
       "    <tr>\n",
       "      <th>unique</th>\n",
       "      <td>137735</td>\n",
       "      <td>NaN</td>\n",
       "      <td>351</td>\n",
       "      <td>NaN</td>\n",
       "      <td>NaN</td>\n",
       "      <td>NaN</td>\n",
       "      <td>NaN</td>\n",
       "    </tr>\n",
       "    <tr>\n",
       "      <th>top</th>\n",
       "      <td>1417_92</td>\n",
       "      <td>NaN</td>\n",
       "      <td>2018-12-27 00:00:00</td>\n",
       "      <td>NaN</td>\n",
       "      <td>NaN</td>\n",
       "      <td>NaN</td>\n",
       "      <td>NaN</td>\n",
       "    </tr>\n",
       "    <tr>\n",
       "      <th>freq</th>\n",
       "      <td>1</td>\n",
       "      <td>NaN</td>\n",
       "      <td>1091</td>\n",
       "      <td>NaN</td>\n",
       "      <td>NaN</td>\n",
       "      <td>NaN</td>\n",
       "      <td>NaN</td>\n",
       "    </tr>\n",
       "    <tr>\n",
       "      <th>first</th>\n",
       "      <td>NaN</td>\n",
       "      <td>NaN</td>\n",
       "      <td>2018-01-15 00:00:00</td>\n",
       "      <td>NaN</td>\n",
       "      <td>NaN</td>\n",
       "      <td>NaN</td>\n",
       "      <td>NaN</td>\n",
       "    </tr>\n",
       "    <tr>\n",
       "      <th>last</th>\n",
       "      <td>NaN</td>\n",
       "      <td>NaN</td>\n",
       "      <td>2018-12-31 00:00:00</td>\n",
       "      <td>NaN</td>\n",
       "      <td>NaN</td>\n",
       "      <td>NaN</td>\n",
       "      <td>NaN</td>\n",
       "    </tr>\n",
       "    <tr>\n",
       "      <th>mean</th>\n",
       "      <td>NaN</td>\n",
       "      <td>1247.658046</td>\n",
       "      <td>NaN</td>\n",
       "      <td>6.745927</td>\n",
       "      <td>9.320797</td>\n",
       "      <td>16.452833</td>\n",
       "      <td>7.146673</td>\n",
       "    </tr>\n",
       "    <tr>\n",
       "      <th>std</th>\n",
       "      <td>NaN</td>\n",
       "      <td>139.416268</td>\n",
       "      <td>NaN</td>\n",
       "      <td>5.839241</td>\n",
       "      <td>2.412550</td>\n",
       "      <td>8.810364</td>\n",
       "      <td>5.953919</td>\n",
       "    </tr>\n",
       "    <tr>\n",
       "      <th>min</th>\n",
       "      <td>NaN</td>\n",
       "      <td>1000.000000</td>\n",
       "      <td>NaN</td>\n",
       "      <td>0.000000</td>\n",
       "      <td>1.000000</td>\n",
       "      <td>1.000000</td>\n",
       "      <td>0.000000</td>\n",
       "    </tr>\n",
       "    <tr>\n",
       "      <th>25%</th>\n",
       "      <td>NaN</td>\n",
       "      <td>1128.000000</td>\n",
       "      <td>NaN</td>\n",
       "      <td>1.290000</td>\n",
       "      <td>8.000000</td>\n",
       "      <td>9.000000</td>\n",
       "      <td>2.000000</td>\n",
       "    </tr>\n",
       "    <tr>\n",
       "      <th>50%</th>\n",
       "      <td>NaN</td>\n",
       "      <td>1247.000000</td>\n",
       "      <td>NaN</td>\n",
       "      <td>5.980000</td>\n",
       "      <td>10.000000</td>\n",
       "      <td>17.000000</td>\n",
       "      <td>6.000000</td>\n",
       "    </tr>\n",
       "    <tr>\n",
       "      <th>75%</th>\n",
       "      <td>NaN</td>\n",
       "      <td>1365.000000</td>\n",
       "      <td>NaN</td>\n",
       "      <td>10.690000</td>\n",
       "      <td>11.000000</td>\n",
       "      <td>24.000000</td>\n",
       "      <td>11.000000</td>\n",
       "    </tr>\n",
       "    <tr>\n",
       "      <th>max</th>\n",
       "      <td>NaN</td>\n",
       "      <td>1499.000000</td>\n",
       "      <td>NaN</td>\n",
       "      <td>37.600000</td>\n",
       "      <td>12.000000</td>\n",
       "      <td>31.000000</td>\n",
       "      <td>38.000000</td>\n",
       "    </tr>\n",
       "  </tbody>\n",
       "</table>\n",
       "</div>"
      ],
      "text/plain": [
       "             id        user_id            call_date       duration  \\\n",
       "count    137735  137735.000000               137735  137735.000000   \n",
       "unique   137735            NaN                  351            NaN   \n",
       "top     1417_92            NaN  2018-12-27 00:00:00            NaN   \n",
       "freq          1            NaN                 1091            NaN   \n",
       "first       NaN            NaN  2018-01-15 00:00:00            NaN   \n",
       "last        NaN            NaN  2018-12-31 00:00:00            NaN   \n",
       "mean        NaN    1247.658046                  NaN       6.745927   \n",
       "std         NaN     139.416268                  NaN       5.839241   \n",
       "min         NaN    1000.000000                  NaN       0.000000   \n",
       "25%         NaN    1128.000000                  NaN       1.290000   \n",
       "50%         NaN    1247.000000                  NaN       5.980000   \n",
       "75%         NaN    1365.000000                  NaN      10.690000   \n",
       "max         NaN    1499.000000                  NaN      37.600000   \n",
       "\n",
       "        call_date_month  call_date_day    up_duration  \n",
       "count     137735.000000  137735.000000  137735.000000  \n",
       "unique              NaN            NaN            NaN  \n",
       "top                 NaN            NaN            NaN  \n",
       "freq                NaN            NaN            NaN  \n",
       "first               NaN            NaN            NaN  \n",
       "last                NaN            NaN            NaN  \n",
       "mean           9.320797      16.452833       7.146673  \n",
       "std            2.412550       8.810364       5.953919  \n",
       "min            1.000000       1.000000       0.000000  \n",
       "25%            8.000000       9.000000       2.000000  \n",
       "50%           10.000000      17.000000       6.000000  \n",
       "75%           11.000000      24.000000      11.000000  \n",
       "max           12.000000      31.000000      38.000000  "
      ]
     },
     "execution_count": 29,
     "metadata": {},
     "output_type": "execute_result"
    }
   ],
   "source": [
    "megaline_calls.describe(include='all')"
   ]
  },
  {
   "cell_type": "markdown",
   "metadata": {},
   "source": [
    "## Messages"
   ]
  },
  {
   "cell_type": "code",
   "execution_count": 30,
   "metadata": {
    "trusted": true
   },
   "outputs": [
    {
     "name": "stdout",
     "output_type": "stream",
     "text": [
      "<class 'pandas.core.frame.DataFrame'>\n",
      "RangeIndex: 76051 entries, 0 to 76050\n",
      "Data columns (total 3 columns):\n",
      " #   Column        Non-Null Count  Dtype \n",
      "---  ------        --------------  ----- \n",
      " 0   id            76051 non-null  object\n",
      " 1   user_id       76051 non-null  int64 \n",
      " 2   message_date  76051 non-null  object\n",
      "dtypes: int64(1), object(2)\n",
      "memory usage: 1.7+ MB\n"
     ]
    }
   ],
   "source": [
    "# Print the general/summary information about the messages' DataFrame\n",
    "megaline_messages.info()"
   ]
  },
  {
   "cell_type": "code",
   "execution_count": 31,
   "metadata": {
    "trusted": true
   },
   "outputs": [
    {
     "data": {
      "text/html": [
       "<div>\n",
       "<style scoped>\n",
       "    .dataframe tbody tr th:only-of-type {\n",
       "        vertical-align: middle;\n",
       "    }\n",
       "\n",
       "    .dataframe tbody tr th {\n",
       "        vertical-align: top;\n",
       "    }\n",
       "\n",
       "    .dataframe thead th {\n",
       "        text-align: right;\n",
       "    }\n",
       "</style>\n",
       "<table border=\"1\" class=\"dataframe\">\n",
       "  <thead>\n",
       "    <tr style=\"text-align: right;\">\n",
       "      <th></th>\n",
       "      <th>id</th>\n",
       "      <th>user_id</th>\n",
       "      <th>message_date</th>\n",
       "    </tr>\n",
       "  </thead>\n",
       "  <tbody>\n",
       "    <tr>\n",
       "      <th>0</th>\n",
       "      <td>1000_125</td>\n",
       "      <td>1000</td>\n",
       "      <td>2018-12-27</td>\n",
       "    </tr>\n",
       "    <tr>\n",
       "      <th>1</th>\n",
       "      <td>1000_160</td>\n",
       "      <td>1000</td>\n",
       "      <td>2018-12-31</td>\n",
       "    </tr>\n",
       "    <tr>\n",
       "      <th>2</th>\n",
       "      <td>1000_223</td>\n",
       "      <td>1000</td>\n",
       "      <td>2018-12-31</td>\n",
       "    </tr>\n",
       "    <tr>\n",
       "      <th>3</th>\n",
       "      <td>1000_251</td>\n",
       "      <td>1000</td>\n",
       "      <td>2018-12-27</td>\n",
       "    </tr>\n",
       "    <tr>\n",
       "      <th>4</th>\n",
       "      <td>1000_255</td>\n",
       "      <td>1000</td>\n",
       "      <td>2018-12-26</td>\n",
       "    </tr>\n",
       "  </tbody>\n",
       "</table>\n",
       "</div>"
      ],
      "text/plain": [
       "         id  user_id message_date\n",
       "0  1000_125     1000   2018-12-27\n",
       "1  1000_160     1000   2018-12-31\n",
       "2  1000_223     1000   2018-12-31\n",
       "3  1000_251     1000   2018-12-27\n",
       "4  1000_255     1000   2018-12-26"
      ]
     },
     "execution_count": 31,
     "metadata": {},
     "output_type": "execute_result"
    }
   ],
   "source": [
    "# Print a sample of data for messages\n",
    "megaline_messages.head()"
   ]
  },
  {
   "cell_type": "code",
   "execution_count": 32,
   "metadata": {
    "trusted": true
   },
   "outputs": [
    {
     "data": {
      "text/plain": [
       "0"
      ]
     },
     "execution_count": 32,
     "metadata": {},
     "output_type": "execute_result"
    }
   ],
   "source": [
    "megaline_messages.duplicated().sum()"
   ]
  },
  {
   "cell_type": "markdown",
   "metadata": {},
   "source": [
    "[Describe what you see and notice in the general information and the printed data sample for the above price of data. Are there any issues (inappropriate data types, missing data etc) that may need further investigation and changes? How that can be fixed?]"
   ]
  },
  {
   "cell_type": "markdown",
   "metadata": {},
   "source": [
    "There's only the date problem "
   ]
  },
  {
   "cell_type": "markdown",
   "metadata": {},
   "source": [
    "### Fix data"
   ]
  },
  {
   "cell_type": "markdown",
   "metadata": {},
   "source": [
    "[Fix obvious issues with the data given the initial observations.]"
   ]
  },
  {
   "cell_type": "code",
   "execution_count": 33,
   "metadata": {
    "trusted": true
   },
   "outputs": [
    {
     "name": "stdout",
     "output_type": "stream",
     "text": [
      "<class 'pandas.core.frame.DataFrame'>\n",
      "RangeIndex: 76051 entries, 0 to 76050\n",
      "Data columns (total 3 columns):\n",
      " #   Column        Non-Null Count  Dtype         \n",
      "---  ------        --------------  -----         \n",
      " 0   id            76051 non-null  object        \n",
      " 1   user_id       76051 non-null  int64         \n",
      " 2   message_date  76051 non-null  datetime64[ns]\n",
      "dtypes: datetime64[ns](1), int64(1), object(1)\n",
      "memory usage: 1.7+ MB\n"
     ]
    }
   ],
   "source": [
    "megaline_messages['message_date'] = pd.to_datetime(megaline_messages['message_date'])\n",
    "megaline_messages.info()"
   ]
  },
  {
   "cell_type": "markdown",
   "metadata": {},
   "source": [
    "### Enrich data"
   ]
  },
  {
   "cell_type": "markdown",
   "metadata": {},
   "source": [
    "[Add additional factors to the data if you believe they might be useful.]"
   ]
  },
  {
   "cell_type": "code",
   "execution_count": 34,
   "metadata": {
    "trusted": true
   },
   "outputs": [
    {
     "data": {
      "text/html": [
       "<div>\n",
       "<style scoped>\n",
       "    .dataframe tbody tr th:only-of-type {\n",
       "        vertical-align: middle;\n",
       "    }\n",
       "\n",
       "    .dataframe tbody tr th {\n",
       "        vertical-align: top;\n",
       "    }\n",
       "\n",
       "    .dataframe thead th {\n",
       "        text-align: right;\n",
       "    }\n",
       "</style>\n",
       "<table border=\"1\" class=\"dataframe\">\n",
       "  <thead>\n",
       "    <tr style=\"text-align: right;\">\n",
       "      <th></th>\n",
       "      <th>id</th>\n",
       "      <th>user_id</th>\n",
       "      <th>message_date</th>\n",
       "      <th>message_date_month</th>\n",
       "      <th>message_date_day</th>\n",
       "    </tr>\n",
       "  </thead>\n",
       "  <tbody>\n",
       "    <tr>\n",
       "      <th>0</th>\n",
       "      <td>1000_125</td>\n",
       "      <td>1000</td>\n",
       "      <td>2018-12-27</td>\n",
       "      <td>12</td>\n",
       "      <td>27</td>\n",
       "    </tr>\n",
       "    <tr>\n",
       "      <th>1</th>\n",
       "      <td>1000_160</td>\n",
       "      <td>1000</td>\n",
       "      <td>2018-12-31</td>\n",
       "      <td>12</td>\n",
       "      <td>31</td>\n",
       "    </tr>\n",
       "    <tr>\n",
       "      <th>2</th>\n",
       "      <td>1000_223</td>\n",
       "      <td>1000</td>\n",
       "      <td>2018-12-31</td>\n",
       "      <td>12</td>\n",
       "      <td>31</td>\n",
       "    </tr>\n",
       "    <tr>\n",
       "      <th>3</th>\n",
       "      <td>1000_251</td>\n",
       "      <td>1000</td>\n",
       "      <td>2018-12-27</td>\n",
       "      <td>12</td>\n",
       "      <td>27</td>\n",
       "    </tr>\n",
       "    <tr>\n",
       "      <th>4</th>\n",
       "      <td>1000_255</td>\n",
       "      <td>1000</td>\n",
       "      <td>2018-12-26</td>\n",
       "      <td>12</td>\n",
       "      <td>26</td>\n",
       "    </tr>\n",
       "  </tbody>\n",
       "</table>\n",
       "</div>"
      ],
      "text/plain": [
       "         id  user_id message_date  message_date_month  message_date_day\n",
       "0  1000_125     1000   2018-12-27                  12                27\n",
       "1  1000_160     1000   2018-12-31                  12                31\n",
       "2  1000_223     1000   2018-12-31                  12                31\n",
       "3  1000_251     1000   2018-12-27                  12                27\n",
       "4  1000_255     1000   2018-12-26                  12                26"
      ]
     },
     "execution_count": 34,
     "metadata": {},
     "output_type": "execute_result"
    }
   ],
   "source": [
    "#getting the message date month and day to analyse which month we got the most messages\n",
    "megaline_messages['message_date_month'] = megaline_messages['message_date'].dt.month\n",
    "megaline_messages['message_date_day'] = megaline_messages['message_date'].dt.day\n",
    "megaline_messages.head()"
   ]
  },
  {
   "cell_type": "code",
   "execution_count": 35,
   "metadata": {
    "trusted": true
   },
   "outputs": [
    {
     "data": {
      "text/html": [
       "<div>\n",
       "<style scoped>\n",
       "    .dataframe tbody tr th:only-of-type {\n",
       "        vertical-align: middle;\n",
       "    }\n",
       "\n",
       "    .dataframe tbody tr th {\n",
       "        vertical-align: top;\n",
       "    }\n",
       "\n",
       "    .dataframe thead th {\n",
       "        text-align: right;\n",
       "    }\n",
       "</style>\n",
       "<table border=\"1\" class=\"dataframe\">\n",
       "  <thead>\n",
       "    <tr style=\"text-align: right;\">\n",
       "      <th></th>\n",
       "      <th>id</th>\n",
       "      <th>user_id</th>\n",
       "      <th>message_date</th>\n",
       "      <th>message_date_month</th>\n",
       "      <th>message_date_day</th>\n",
       "    </tr>\n",
       "  </thead>\n",
       "  <tbody>\n",
       "    <tr>\n",
       "      <th>count</th>\n",
       "      <td>76051</td>\n",
       "      <td>76051.000000</td>\n",
       "      <td>76051</td>\n",
       "      <td>76051.000000</td>\n",
       "      <td>76051.000000</td>\n",
       "    </tr>\n",
       "    <tr>\n",
       "      <th>unique</th>\n",
       "      <td>76051</td>\n",
       "      <td>NaN</td>\n",
       "      <td>351</td>\n",
       "      <td>NaN</td>\n",
       "      <td>NaN</td>\n",
       "    </tr>\n",
       "    <tr>\n",
       "      <th>top</th>\n",
       "      <td>1280_251</td>\n",
       "      <td>NaN</td>\n",
       "      <td>2018-12-28 00:00:00</td>\n",
       "      <td>NaN</td>\n",
       "      <td>NaN</td>\n",
       "    </tr>\n",
       "    <tr>\n",
       "      <th>freq</th>\n",
       "      <td>1</td>\n",
       "      <td>NaN</td>\n",
       "      <td>702</td>\n",
       "      <td>NaN</td>\n",
       "      <td>NaN</td>\n",
       "    </tr>\n",
       "    <tr>\n",
       "      <th>first</th>\n",
       "      <td>NaN</td>\n",
       "      <td>NaN</td>\n",
       "      <td>2018-01-15 00:00:00</td>\n",
       "      <td>NaN</td>\n",
       "      <td>NaN</td>\n",
       "    </tr>\n",
       "    <tr>\n",
       "      <th>last</th>\n",
       "      <td>NaN</td>\n",
       "      <td>NaN</td>\n",
       "      <td>2018-12-31 00:00:00</td>\n",
       "      <td>NaN</td>\n",
       "      <td>NaN</td>\n",
       "    </tr>\n",
       "    <tr>\n",
       "      <th>mean</th>\n",
       "      <td>NaN</td>\n",
       "      <td>1245.972768</td>\n",
       "      <td>NaN</td>\n",
       "      <td>9.584016</td>\n",
       "      <td>16.576455</td>\n",
       "    </tr>\n",
       "    <tr>\n",
       "      <th>std</th>\n",
       "      <td>NaN</td>\n",
       "      <td>139.843635</td>\n",
       "      <td>NaN</td>\n",
       "      <td>2.276392</td>\n",
       "      <td>8.822974</td>\n",
       "    </tr>\n",
       "    <tr>\n",
       "      <th>min</th>\n",
       "      <td>NaN</td>\n",
       "      <td>1000.000000</td>\n",
       "      <td>NaN</td>\n",
       "      <td>1.000000</td>\n",
       "      <td>1.000000</td>\n",
       "    </tr>\n",
       "    <tr>\n",
       "      <th>25%</th>\n",
       "      <td>NaN</td>\n",
       "      <td>1123.000000</td>\n",
       "      <td>NaN</td>\n",
       "      <td>8.000000</td>\n",
       "      <td>9.000000</td>\n",
       "    </tr>\n",
       "    <tr>\n",
       "      <th>50%</th>\n",
       "      <td>NaN</td>\n",
       "      <td>1251.000000</td>\n",
       "      <td>NaN</td>\n",
       "      <td>10.000000</td>\n",
       "      <td>17.000000</td>\n",
       "    </tr>\n",
       "    <tr>\n",
       "      <th>75%</th>\n",
       "      <td>NaN</td>\n",
       "      <td>1362.000000</td>\n",
       "      <td>NaN</td>\n",
       "      <td>12.000000</td>\n",
       "      <td>24.000000</td>\n",
       "    </tr>\n",
       "    <tr>\n",
       "      <th>max</th>\n",
       "      <td>NaN</td>\n",
       "      <td>1497.000000</td>\n",
       "      <td>NaN</td>\n",
       "      <td>12.000000</td>\n",
       "      <td>31.000000</td>\n",
       "    </tr>\n",
       "  </tbody>\n",
       "</table>\n",
       "</div>"
      ],
      "text/plain": [
       "              id       user_id         message_date  message_date_month  \\\n",
       "count      76051  76051.000000                76051        76051.000000   \n",
       "unique     76051           NaN                  351                 NaN   \n",
       "top     1280_251           NaN  2018-12-28 00:00:00                 NaN   \n",
       "freq           1           NaN                  702                 NaN   \n",
       "first        NaN           NaN  2018-01-15 00:00:00                 NaN   \n",
       "last         NaN           NaN  2018-12-31 00:00:00                 NaN   \n",
       "mean         NaN   1245.972768                  NaN            9.584016   \n",
       "std          NaN    139.843635                  NaN            2.276392   \n",
       "min          NaN   1000.000000                  NaN            1.000000   \n",
       "25%          NaN   1123.000000                  NaN            8.000000   \n",
       "50%          NaN   1251.000000                  NaN           10.000000   \n",
       "75%          NaN   1362.000000                  NaN           12.000000   \n",
       "max          NaN   1497.000000                  NaN           12.000000   \n",
       "\n",
       "        message_date_day  \n",
       "count       76051.000000  \n",
       "unique               NaN  \n",
       "top                  NaN  \n",
       "freq                 NaN  \n",
       "first                NaN  \n",
       "last                 NaN  \n",
       "mean           16.576455  \n",
       "std             8.822974  \n",
       "min             1.000000  \n",
       "25%             9.000000  \n",
       "50%            17.000000  \n",
       "75%            24.000000  \n",
       "max            31.000000  "
      ]
     },
     "execution_count": 35,
     "metadata": {},
     "output_type": "execute_result"
    }
   ],
   "source": [
    "megaline_messages.describe(include='all')"
   ]
  },
  {
   "cell_type": "markdown",
   "metadata": {},
   "source": [
    "## Internet"
   ]
  },
  {
   "cell_type": "code",
   "execution_count": 36,
   "metadata": {
    "trusted": true
   },
   "outputs": [
    {
     "name": "stdout",
     "output_type": "stream",
     "text": [
      "<class 'pandas.core.frame.DataFrame'>\n",
      "RangeIndex: 104825 entries, 0 to 104824\n",
      "Data columns (total 4 columns):\n",
      " #   Column        Non-Null Count   Dtype  \n",
      "---  ------        --------------   -----  \n",
      " 0   id            104825 non-null  object \n",
      " 1   user_id       104825 non-null  int64  \n",
      " 2   session_date  104825 non-null  object \n",
      " 3   mb_used       104825 non-null  float64\n",
      "dtypes: float64(1), int64(1), object(2)\n",
      "memory usage: 3.2+ MB\n"
     ]
    }
   ],
   "source": [
    "# Print the general/summary information about the internet DataFrame\n",
    "megaline_internet.info()"
   ]
  },
  {
   "cell_type": "code",
   "execution_count": 37,
   "metadata": {
    "trusted": true
   },
   "outputs": [
    {
     "data": {
      "text/html": [
       "<div>\n",
       "<style scoped>\n",
       "    .dataframe tbody tr th:only-of-type {\n",
       "        vertical-align: middle;\n",
       "    }\n",
       "\n",
       "    .dataframe tbody tr th {\n",
       "        vertical-align: top;\n",
       "    }\n",
       "\n",
       "    .dataframe thead th {\n",
       "        text-align: right;\n",
       "    }\n",
       "</style>\n",
       "<table border=\"1\" class=\"dataframe\">\n",
       "  <thead>\n",
       "    <tr style=\"text-align: right;\">\n",
       "      <th></th>\n",
       "      <th>id</th>\n",
       "      <th>user_id</th>\n",
       "      <th>session_date</th>\n",
       "      <th>mb_used</th>\n",
       "    </tr>\n",
       "  </thead>\n",
       "  <tbody>\n",
       "    <tr>\n",
       "      <th>0</th>\n",
       "      <td>1000_13</td>\n",
       "      <td>1000</td>\n",
       "      <td>2018-12-29</td>\n",
       "      <td>89.86</td>\n",
       "    </tr>\n",
       "    <tr>\n",
       "      <th>1</th>\n",
       "      <td>1000_204</td>\n",
       "      <td>1000</td>\n",
       "      <td>2018-12-31</td>\n",
       "      <td>0.00</td>\n",
       "    </tr>\n",
       "    <tr>\n",
       "      <th>2</th>\n",
       "      <td>1000_379</td>\n",
       "      <td>1000</td>\n",
       "      <td>2018-12-28</td>\n",
       "      <td>660.40</td>\n",
       "    </tr>\n",
       "    <tr>\n",
       "      <th>3</th>\n",
       "      <td>1000_413</td>\n",
       "      <td>1000</td>\n",
       "      <td>2018-12-26</td>\n",
       "      <td>270.99</td>\n",
       "    </tr>\n",
       "    <tr>\n",
       "      <th>4</th>\n",
       "      <td>1000_442</td>\n",
       "      <td>1000</td>\n",
       "      <td>2018-12-27</td>\n",
       "      <td>880.22</td>\n",
       "    </tr>\n",
       "  </tbody>\n",
       "</table>\n",
       "</div>"
      ],
      "text/plain": [
       "         id  user_id session_date  mb_used\n",
       "0   1000_13     1000   2018-12-29    89.86\n",
       "1  1000_204     1000   2018-12-31     0.00\n",
       "2  1000_379     1000   2018-12-28   660.40\n",
       "3  1000_413     1000   2018-12-26   270.99\n",
       "4  1000_442     1000   2018-12-27   880.22"
      ]
     },
     "execution_count": 37,
     "metadata": {},
     "output_type": "execute_result"
    }
   ],
   "source": [
    "# Print a sample of data for the internet traffic\n",
    "megaline_internet.head()"
   ]
  },
  {
   "cell_type": "code",
   "execution_count": 38,
   "metadata": {
    "trusted": true
   },
   "outputs": [
    {
     "data": {
      "text/plain": [
       "0"
      ]
     },
     "execution_count": 38,
     "metadata": {},
     "output_type": "execute_result"
    }
   ],
   "source": [
    "megaline_internet.duplicated().sum()"
   ]
  },
  {
   "cell_type": "markdown",
   "metadata": {},
   "source": [
    "[Describe what you see and notice in the general information and the printed data sample for the above price of data. Are there any issues (inappropriate data types, missing data etc) that may need further investigation and changes? How that can be fixed?]"
   ]
  },
  {
   "cell_type": "markdown",
   "metadata": {},
   "source": [
    "Just the date problem"
   ]
  },
  {
   "cell_type": "markdown",
   "metadata": {},
   "source": [
    "### Fix data"
   ]
  },
  {
   "cell_type": "markdown",
   "metadata": {},
   "source": [
    "[Fix obvious issues with the data given the initial observations.]"
   ]
  },
  {
   "cell_type": "code",
   "execution_count": 39,
   "metadata": {
    "trusted": true
   },
   "outputs": [
    {
     "name": "stdout",
     "output_type": "stream",
     "text": [
      "<class 'pandas.core.frame.DataFrame'>\n",
      "RangeIndex: 104825 entries, 0 to 104824\n",
      "Data columns (total 4 columns):\n",
      " #   Column        Non-Null Count   Dtype         \n",
      "---  ------        --------------   -----         \n",
      " 0   id            104825 non-null  object        \n",
      " 1   user_id       104825 non-null  int64         \n",
      " 2   session_date  104825 non-null  datetime64[ns]\n",
      " 3   mb_used       104825 non-null  float64       \n",
      "dtypes: datetime64[ns](1), float64(1), int64(1), object(1)\n",
      "memory usage: 3.2+ MB\n"
     ]
    }
   ],
   "source": [
    "megaline_internet['session_date'] = pd.to_datetime(megaline_internet['session_date'])\n",
    "megaline_internet.info()"
   ]
  },
  {
   "cell_type": "markdown",
   "metadata": {},
   "source": [
    "### Enrich data"
   ]
  },
  {
   "cell_type": "markdown",
   "metadata": {},
   "source": [
    "[Add additional factors to the data if you believe they might be useful.]"
   ]
  },
  {
   "cell_type": "code",
   "execution_count": 40,
   "metadata": {
    "trusted": true
   },
   "outputs": [
    {
     "data": {
      "text/html": [
       "<div>\n",
       "<style scoped>\n",
       "    .dataframe tbody tr th:only-of-type {\n",
       "        vertical-align: middle;\n",
       "    }\n",
       "\n",
       "    .dataframe tbody tr th {\n",
       "        vertical-align: top;\n",
       "    }\n",
       "\n",
       "    .dataframe thead th {\n",
       "        text-align: right;\n",
       "    }\n",
       "</style>\n",
       "<table border=\"1\" class=\"dataframe\">\n",
       "  <thead>\n",
       "    <tr style=\"text-align: right;\">\n",
       "      <th></th>\n",
       "      <th>id</th>\n",
       "      <th>user_id</th>\n",
       "      <th>session_date</th>\n",
       "      <th>mb_used</th>\n",
       "      <th>session_date_month</th>\n",
       "      <th>session_date_day</th>\n",
       "    </tr>\n",
       "  </thead>\n",
       "  <tbody>\n",
       "    <tr>\n",
       "      <th>0</th>\n",
       "      <td>1000_13</td>\n",
       "      <td>1000</td>\n",
       "      <td>2018-12-29</td>\n",
       "      <td>89.86</td>\n",
       "      <td>12</td>\n",
       "      <td>29</td>\n",
       "    </tr>\n",
       "    <tr>\n",
       "      <th>1</th>\n",
       "      <td>1000_204</td>\n",
       "      <td>1000</td>\n",
       "      <td>2018-12-31</td>\n",
       "      <td>0.00</td>\n",
       "      <td>12</td>\n",
       "      <td>31</td>\n",
       "    </tr>\n",
       "    <tr>\n",
       "      <th>2</th>\n",
       "      <td>1000_379</td>\n",
       "      <td>1000</td>\n",
       "      <td>2018-12-28</td>\n",
       "      <td>660.40</td>\n",
       "      <td>12</td>\n",
       "      <td>28</td>\n",
       "    </tr>\n",
       "    <tr>\n",
       "      <th>3</th>\n",
       "      <td>1000_413</td>\n",
       "      <td>1000</td>\n",
       "      <td>2018-12-26</td>\n",
       "      <td>270.99</td>\n",
       "      <td>12</td>\n",
       "      <td>26</td>\n",
       "    </tr>\n",
       "    <tr>\n",
       "      <th>4</th>\n",
       "      <td>1000_442</td>\n",
       "      <td>1000</td>\n",
       "      <td>2018-12-27</td>\n",
       "      <td>880.22</td>\n",
       "      <td>12</td>\n",
       "      <td>27</td>\n",
       "    </tr>\n",
       "  </tbody>\n",
       "</table>\n",
       "</div>"
      ],
      "text/plain": [
       "         id  user_id session_date  mb_used  session_date_month  \\\n",
       "0   1000_13     1000   2018-12-29    89.86                  12   \n",
       "1  1000_204     1000   2018-12-31     0.00                  12   \n",
       "2  1000_379     1000   2018-12-28   660.40                  12   \n",
       "3  1000_413     1000   2018-12-26   270.99                  12   \n",
       "4  1000_442     1000   2018-12-27   880.22                  12   \n",
       "\n",
       "   session_date_day  \n",
       "0                29  \n",
       "1                31  \n",
       "2                28  \n",
       "3                26  \n",
       "4                27  "
      ]
     },
     "execution_count": 40,
     "metadata": {},
     "output_type": "execute_result"
    }
   ],
   "source": [
    "megaline_internet['session_date_month'] = megaline_internet['session_date'].dt.month\n",
    "megaline_internet['session_date_day'] = megaline_internet['session_date'].dt.day\n",
    "megaline_internet.head()"
   ]
  },
  {
   "cell_type": "code",
   "execution_count": 41,
   "metadata": {
    "trusted": true
   },
   "outputs": [
    {
     "data": {
      "text/html": [
       "<div>\n",
       "<style scoped>\n",
       "    .dataframe tbody tr th:only-of-type {\n",
       "        vertical-align: middle;\n",
       "    }\n",
       "\n",
       "    .dataframe tbody tr th {\n",
       "        vertical-align: top;\n",
       "    }\n",
       "\n",
       "    .dataframe thead th {\n",
       "        text-align: right;\n",
       "    }\n",
       "</style>\n",
       "<table border=\"1\" class=\"dataframe\">\n",
       "  <thead>\n",
       "    <tr style=\"text-align: right;\">\n",
       "      <th></th>\n",
       "      <th>id</th>\n",
       "      <th>user_id</th>\n",
       "      <th>session_date</th>\n",
       "      <th>mb_used</th>\n",
       "      <th>session_date_month</th>\n",
       "      <th>session_date_day</th>\n",
       "    </tr>\n",
       "  </thead>\n",
       "  <tbody>\n",
       "    <tr>\n",
       "      <th>count</th>\n",
       "      <td>104825</td>\n",
       "      <td>104825.000000</td>\n",
       "      <td>104825</td>\n",
       "      <td>104825.000000</td>\n",
       "      <td>104825.000000</td>\n",
       "      <td>104825.000000</td>\n",
       "    </tr>\n",
       "    <tr>\n",
       "      <th>unique</th>\n",
       "      <td>104825</td>\n",
       "      <td>NaN</td>\n",
       "      <td>351</td>\n",
       "      <td>NaN</td>\n",
       "      <td>NaN</td>\n",
       "      <td>NaN</td>\n",
       "    </tr>\n",
       "    <tr>\n",
       "      <th>top</th>\n",
       "      <td>1280_20</td>\n",
       "      <td>NaN</td>\n",
       "      <td>2018-12-24 00:00:00</td>\n",
       "      <td>NaN</td>\n",
       "      <td>NaN</td>\n",
       "      <td>NaN</td>\n",
       "    </tr>\n",
       "    <tr>\n",
       "      <th>freq</th>\n",
       "      <td>1</td>\n",
       "      <td>NaN</td>\n",
       "      <td>851</td>\n",
       "      <td>NaN</td>\n",
       "      <td>NaN</td>\n",
       "      <td>NaN</td>\n",
       "    </tr>\n",
       "    <tr>\n",
       "      <th>first</th>\n",
       "      <td>NaN</td>\n",
       "      <td>NaN</td>\n",
       "      <td>2018-01-15 00:00:00</td>\n",
       "      <td>NaN</td>\n",
       "      <td>NaN</td>\n",
       "      <td>NaN</td>\n",
       "    </tr>\n",
       "    <tr>\n",
       "      <th>last</th>\n",
       "      <td>NaN</td>\n",
       "      <td>NaN</td>\n",
       "      <td>2018-12-31 00:00:00</td>\n",
       "      <td>NaN</td>\n",
       "      <td>NaN</td>\n",
       "      <td>NaN</td>\n",
       "    </tr>\n",
       "    <tr>\n",
       "      <th>mean</th>\n",
       "      <td>NaN</td>\n",
       "      <td>1242.496361</td>\n",
       "      <td>NaN</td>\n",
       "      <td>366.713701</td>\n",
       "      <td>9.342552</td>\n",
       "      <td>16.439800</td>\n",
       "    </tr>\n",
       "    <tr>\n",
       "      <th>std</th>\n",
       "      <td>NaN</td>\n",
       "      <td>142.053913</td>\n",
       "      <td>NaN</td>\n",
       "      <td>277.170542</td>\n",
       "      <td>2.400404</td>\n",
       "      <td>8.836954</td>\n",
       "    </tr>\n",
       "    <tr>\n",
       "      <th>min</th>\n",
       "      <td>NaN</td>\n",
       "      <td>1000.000000</td>\n",
       "      <td>NaN</td>\n",
       "      <td>0.000000</td>\n",
       "      <td>1.000000</td>\n",
       "      <td>1.000000</td>\n",
       "    </tr>\n",
       "    <tr>\n",
       "      <th>25%</th>\n",
       "      <td>NaN</td>\n",
       "      <td>1122.000000</td>\n",
       "      <td>NaN</td>\n",
       "      <td>136.080000</td>\n",
       "      <td>8.000000</td>\n",
       "      <td>9.000000</td>\n",
       "    </tr>\n",
       "    <tr>\n",
       "      <th>50%</th>\n",
       "      <td>NaN</td>\n",
       "      <td>1236.000000</td>\n",
       "      <td>NaN</td>\n",
       "      <td>343.980000</td>\n",
       "      <td>10.000000</td>\n",
       "      <td>17.000000</td>\n",
       "    </tr>\n",
       "    <tr>\n",
       "      <th>75%</th>\n",
       "      <td>NaN</td>\n",
       "      <td>1367.000000</td>\n",
       "      <td>NaN</td>\n",
       "      <td>554.610000</td>\n",
       "      <td>11.000000</td>\n",
       "      <td>24.000000</td>\n",
       "    </tr>\n",
       "    <tr>\n",
       "      <th>max</th>\n",
       "      <td>NaN</td>\n",
       "      <td>1499.000000</td>\n",
       "      <td>NaN</td>\n",
       "      <td>1693.470000</td>\n",
       "      <td>12.000000</td>\n",
       "      <td>31.000000</td>\n",
       "    </tr>\n",
       "  </tbody>\n",
       "</table>\n",
       "</div>"
      ],
      "text/plain": [
       "             id        user_id         session_date        mb_used  \\\n",
       "count    104825  104825.000000               104825  104825.000000   \n",
       "unique   104825            NaN                  351            NaN   \n",
       "top     1280_20            NaN  2018-12-24 00:00:00            NaN   \n",
       "freq          1            NaN                  851            NaN   \n",
       "first       NaN            NaN  2018-01-15 00:00:00            NaN   \n",
       "last        NaN            NaN  2018-12-31 00:00:00            NaN   \n",
       "mean        NaN    1242.496361                  NaN     366.713701   \n",
       "std         NaN     142.053913                  NaN     277.170542   \n",
       "min         NaN    1000.000000                  NaN       0.000000   \n",
       "25%         NaN    1122.000000                  NaN     136.080000   \n",
       "50%         NaN    1236.000000                  NaN     343.980000   \n",
       "75%         NaN    1367.000000                  NaN     554.610000   \n",
       "max         NaN    1499.000000                  NaN    1693.470000   \n",
       "\n",
       "        session_date_month  session_date_day  \n",
       "count        104825.000000     104825.000000  \n",
       "unique                 NaN               NaN  \n",
       "top                    NaN               NaN  \n",
       "freq                   NaN               NaN  \n",
       "first                  NaN               NaN  \n",
       "last                   NaN               NaN  \n",
       "mean              9.342552         16.439800  \n",
       "std               2.400404          8.836954  \n",
       "min               1.000000          1.000000  \n",
       "25%               8.000000          9.000000  \n",
       "50%              10.000000         17.000000  \n",
       "75%              11.000000         24.000000  \n",
       "max              12.000000         31.000000  "
      ]
     },
     "execution_count": 41,
     "metadata": {},
     "output_type": "execute_result"
    }
   ],
   "source": [
    "megaline_internet.describe(include='all')"
   ]
  },
  {
   "cell_type": "markdown",
   "metadata": {},
   "source": [
    "## Study plan conditions"
   ]
  },
  {
   "cell_type": "markdown",
   "metadata": {},
   "source": [
    "[It is critical to understand how the plans work, how users are charged based on their plan subscription. So, we suggest printing out the plan information to view their conditions once again.]"
   ]
  },
  {
   "cell_type": "code",
   "execution_count": 42,
   "metadata": {
    "trusted": true
   },
   "outputs": [
    {
     "data": {
      "text/html": [
       "<div>\n",
       "<style scoped>\n",
       "    .dataframe tbody tr th:only-of-type {\n",
       "        vertical-align: middle;\n",
       "    }\n",
       "\n",
       "    .dataframe tbody tr th {\n",
       "        vertical-align: top;\n",
       "    }\n",
       "\n",
       "    .dataframe thead th {\n",
       "        text-align: right;\n",
       "    }\n",
       "</style>\n",
       "<table border=\"1\" class=\"dataframe\">\n",
       "  <thead>\n",
       "    <tr style=\"text-align: right;\">\n",
       "      <th></th>\n",
       "      <th>messages_included</th>\n",
       "      <th>mb_per_month_included</th>\n",
       "      <th>minutes_included</th>\n",
       "      <th>usd_monthly_pay</th>\n",
       "      <th>usd_per_gb</th>\n",
       "      <th>usd_per_message</th>\n",
       "      <th>usd_per_minute</th>\n",
       "      <th>plan_name</th>\n",
       "    </tr>\n",
       "  </thead>\n",
       "  <tbody>\n",
       "    <tr>\n",
       "      <th>0</th>\n",
       "      <td>50</td>\n",
       "      <td>15360</td>\n",
       "      <td>500</td>\n",
       "      <td>20</td>\n",
       "      <td>10</td>\n",
       "      <td>0.03</td>\n",
       "      <td>0.03</td>\n",
       "      <td>surf</td>\n",
       "    </tr>\n",
       "    <tr>\n",
       "      <th>1</th>\n",
       "      <td>1000</td>\n",
       "      <td>30720</td>\n",
       "      <td>3000</td>\n",
       "      <td>70</td>\n",
       "      <td>7</td>\n",
       "      <td>0.01</td>\n",
       "      <td>0.01</td>\n",
       "      <td>ultimate</td>\n",
       "    </tr>\n",
       "  </tbody>\n",
       "</table>\n",
       "</div>"
      ],
      "text/plain": [
       "   messages_included  mb_per_month_included  minutes_included  \\\n",
       "0                 50                  15360               500   \n",
       "1               1000                  30720              3000   \n",
       "\n",
       "   usd_monthly_pay  usd_per_gb  usd_per_message  usd_per_minute plan_name  \n",
       "0               20          10             0.03            0.03      surf  \n",
       "1               70           7             0.01            0.01  ultimate  "
      ]
     },
     "execution_count": 42,
     "metadata": {},
     "output_type": "execute_result"
    }
   ],
   "source": [
    "# Print out the plan conditions and make sure they are clear for you\n",
    "megaline_plans"
   ]
  },
  {
   "cell_type": "markdown",
   "metadata": {},
   "source": [
    "## Aggregate data per user\n",
    "\n",
    "[Now, as the data is clean, aggregate data per user per period in order to have just one record per user per period. It should ease the further analysis a lot.]"
   ]
  },
  {
   "cell_type": "code",
   "execution_count": 43,
   "metadata": {
    "trusted": true
   },
   "outputs": [
    {
     "data": {
      "text/html": [
       "<div>\n",
       "<style scoped>\n",
       "    .dataframe tbody tr th:only-of-type {\n",
       "        vertical-align: middle;\n",
       "    }\n",
       "\n",
       "    .dataframe tbody tr th {\n",
       "        vertical-align: top;\n",
       "    }\n",
       "\n",
       "    .dataframe thead th {\n",
       "        text-align: right;\n",
       "    }\n",
       "</style>\n",
       "<table border=\"1\" class=\"dataframe\">\n",
       "  <thead>\n",
       "    <tr style=\"text-align: right;\">\n",
       "      <th></th>\n",
       "      <th>user_id</th>\n",
       "      <th>call_date_month</th>\n",
       "      <th>count</th>\n",
       "      <th>sum</th>\n",
       "    </tr>\n",
       "  </thead>\n",
       "  <tbody>\n",
       "    <tr>\n",
       "      <th>0</th>\n",
       "      <td>1000</td>\n",
       "      <td>12</td>\n",
       "      <td>16</td>\n",
       "      <td>124</td>\n",
       "    </tr>\n",
       "    <tr>\n",
       "      <th>1</th>\n",
       "      <td>1001</td>\n",
       "      <td>8</td>\n",
       "      <td>27</td>\n",
       "      <td>182</td>\n",
       "    </tr>\n",
       "    <tr>\n",
       "      <th>2</th>\n",
       "      <td>1001</td>\n",
       "      <td>9</td>\n",
       "      <td>49</td>\n",
       "      <td>315</td>\n",
       "    </tr>\n",
       "    <tr>\n",
       "      <th>3</th>\n",
       "      <td>1001</td>\n",
       "      <td>10</td>\n",
       "      <td>65</td>\n",
       "      <td>393</td>\n",
       "    </tr>\n",
       "    <tr>\n",
       "      <th>4</th>\n",
       "      <td>1001</td>\n",
       "      <td>11</td>\n",
       "      <td>64</td>\n",
       "      <td>426</td>\n",
       "    </tr>\n",
       "    <tr>\n",
       "      <th>...</th>\n",
       "      <td>...</td>\n",
       "      <td>...</td>\n",
       "      <td>...</td>\n",
       "      <td>...</td>\n",
       "    </tr>\n",
       "    <tr>\n",
       "      <th>2253</th>\n",
       "      <td>1498</td>\n",
       "      <td>12</td>\n",
       "      <td>39</td>\n",
       "      <td>339</td>\n",
       "    </tr>\n",
       "    <tr>\n",
       "      <th>2254</th>\n",
       "      <td>1499</td>\n",
       "      <td>9</td>\n",
       "      <td>41</td>\n",
       "      <td>346</td>\n",
       "    </tr>\n",
       "    <tr>\n",
       "      <th>2255</th>\n",
       "      <td>1499</td>\n",
       "      <td>10</td>\n",
       "      <td>53</td>\n",
       "      <td>385</td>\n",
       "    </tr>\n",
       "    <tr>\n",
       "      <th>2256</th>\n",
       "      <td>1499</td>\n",
       "      <td>11</td>\n",
       "      <td>45</td>\n",
       "      <td>308</td>\n",
       "    </tr>\n",
       "    <tr>\n",
       "      <th>2257</th>\n",
       "      <td>1499</td>\n",
       "      <td>12</td>\n",
       "      <td>65</td>\n",
       "      <td>496</td>\n",
       "    </tr>\n",
       "  </tbody>\n",
       "</table>\n",
       "<p>2258 rows × 4 columns</p>\n",
       "</div>"
      ],
      "text/plain": [
       "      user_id  call_date_month  count  sum\n",
       "0        1000               12     16  124\n",
       "1        1001                8     27  182\n",
       "2        1001                9     49  315\n",
       "3        1001               10     65  393\n",
       "4        1001               11     64  426\n",
       "...       ...              ...    ...  ...\n",
       "2253     1498               12     39  339\n",
       "2254     1499                9     41  346\n",
       "2255     1499               10     53  385\n",
       "2256     1499               11     45  308\n",
       "2257     1499               12     65  496\n",
       "\n",
       "[2258 rows x 4 columns]"
      ]
     },
     "execution_count": 43,
     "metadata": {},
     "output_type": "execute_result"
    }
   ],
   "source": [
    "megaline_calls.groupby(['user_id', 'call_date_month'])['up_duration'].agg({'sum', 'count'}).reset_index()"
   ]
  },
  {
   "cell_type": "code",
   "execution_count": 44,
   "metadata": {
    "trusted": true
   },
   "outputs": [
    {
     "data": {
      "text/html": [
       "<div>\n",
       "<style scoped>\n",
       "    .dataframe tbody tr th:only-of-type {\n",
       "        vertical-align: middle;\n",
       "    }\n",
       "\n",
       "    .dataframe tbody tr th {\n",
       "        vertical-align: top;\n",
       "    }\n",
       "\n",
       "    .dataframe thead th {\n",
       "        text-align: right;\n",
       "    }\n",
       "</style>\n",
       "<table border=\"1\" class=\"dataframe\">\n",
       "  <thead>\n",
       "    <tr style=\"text-align: right;\">\n",
       "      <th></th>\n",
       "      <th>user_id</th>\n",
       "      <th>month</th>\n",
       "      <th>num_calls</th>\n",
       "    </tr>\n",
       "  </thead>\n",
       "  <tbody>\n",
       "    <tr>\n",
       "      <th>0</th>\n",
       "      <td>1000</td>\n",
       "      <td>12</td>\n",
       "      <td>16</td>\n",
       "    </tr>\n",
       "    <tr>\n",
       "      <th>1</th>\n",
       "      <td>1001</td>\n",
       "      <td>8</td>\n",
       "      <td>27</td>\n",
       "    </tr>\n",
       "    <tr>\n",
       "      <th>2</th>\n",
       "      <td>1001</td>\n",
       "      <td>9</td>\n",
       "      <td>49</td>\n",
       "    </tr>\n",
       "    <tr>\n",
       "      <th>3</th>\n",
       "      <td>1001</td>\n",
       "      <td>10</td>\n",
       "      <td>65</td>\n",
       "    </tr>\n",
       "    <tr>\n",
       "      <th>4</th>\n",
       "      <td>1001</td>\n",
       "      <td>11</td>\n",
       "      <td>64</td>\n",
       "    </tr>\n",
       "    <tr>\n",
       "      <th>...</th>\n",
       "      <td>...</td>\n",
       "      <td>...</td>\n",
       "      <td>...</td>\n",
       "    </tr>\n",
       "    <tr>\n",
       "      <th>2253</th>\n",
       "      <td>1498</td>\n",
       "      <td>12</td>\n",
       "      <td>39</td>\n",
       "    </tr>\n",
       "    <tr>\n",
       "      <th>2254</th>\n",
       "      <td>1499</td>\n",
       "      <td>9</td>\n",
       "      <td>41</td>\n",
       "    </tr>\n",
       "    <tr>\n",
       "      <th>2255</th>\n",
       "      <td>1499</td>\n",
       "      <td>10</td>\n",
       "      <td>53</td>\n",
       "    </tr>\n",
       "    <tr>\n",
       "      <th>2256</th>\n",
       "      <td>1499</td>\n",
       "      <td>11</td>\n",
       "      <td>45</td>\n",
       "    </tr>\n",
       "    <tr>\n",
       "      <th>2257</th>\n",
       "      <td>1499</td>\n",
       "      <td>12</td>\n",
       "      <td>65</td>\n",
       "    </tr>\n",
       "  </tbody>\n",
       "</table>\n",
       "<p>2258 rows × 3 columns</p>\n",
       "</div>"
      ],
      "text/plain": [
       "      user_id  month  num_calls\n",
       "0        1000     12         16\n",
       "1        1001      8         27\n",
       "2        1001      9         49\n",
       "3        1001     10         65\n",
       "4        1001     11         64\n",
       "...       ...    ...        ...\n",
       "2253     1498     12         39\n",
       "2254     1499      9         41\n",
       "2255     1499     10         53\n",
       "2256     1499     11         45\n",
       "2257     1499     12         65\n",
       "\n",
       "[2258 rows x 3 columns]"
      ]
     },
     "execution_count": 44,
     "metadata": {},
     "output_type": "execute_result"
    }
   ],
   "source": [
    "# Calculate the number of calls made by each user per month. Save the result.\n",
    "calls_user_month=megaline_calls.groupby(['user_id', 'call_date_month'])['up_duration'].count().reset_index()\n",
    "calls_user_month= calls_user_month.rename(columns={'up_duration': 'num_calls', 'call_date_month':'month'})\n",
    "calls_user_month"
   ]
  },
  {
   "cell_type": "code",
   "execution_count": 45,
   "metadata": {
    "trusted": true
   },
   "outputs": [
    {
     "data": {
      "text/html": [
       "<div>\n",
       "<style scoped>\n",
       "    .dataframe tbody tr th:only-of-type {\n",
       "        vertical-align: middle;\n",
       "    }\n",
       "\n",
       "    .dataframe tbody tr th {\n",
       "        vertical-align: top;\n",
       "    }\n",
       "\n",
       "    .dataframe thead th {\n",
       "        text-align: right;\n",
       "    }\n",
       "</style>\n",
       "<table border=\"1\" class=\"dataframe\">\n",
       "  <thead>\n",
       "    <tr style=\"text-align: right;\">\n",
       "      <th></th>\n",
       "      <th>user_id</th>\n",
       "      <th>month</th>\n",
       "      <th>total_minutes</th>\n",
       "    </tr>\n",
       "  </thead>\n",
       "  <tbody>\n",
       "    <tr>\n",
       "      <th>0</th>\n",
       "      <td>1000</td>\n",
       "      <td>12</td>\n",
       "      <td>124</td>\n",
       "    </tr>\n",
       "    <tr>\n",
       "      <th>1</th>\n",
       "      <td>1001</td>\n",
       "      <td>8</td>\n",
       "      <td>182</td>\n",
       "    </tr>\n",
       "    <tr>\n",
       "      <th>2</th>\n",
       "      <td>1001</td>\n",
       "      <td>9</td>\n",
       "      <td>315</td>\n",
       "    </tr>\n",
       "    <tr>\n",
       "      <th>3</th>\n",
       "      <td>1001</td>\n",
       "      <td>10</td>\n",
       "      <td>393</td>\n",
       "    </tr>\n",
       "    <tr>\n",
       "      <th>4</th>\n",
       "      <td>1001</td>\n",
       "      <td>11</td>\n",
       "      <td>426</td>\n",
       "    </tr>\n",
       "  </tbody>\n",
       "</table>\n",
       "</div>"
      ],
      "text/plain": [
       "   user_id  month  total_minutes\n",
       "0     1000     12            124\n",
       "1     1001      8            182\n",
       "2     1001      9            315\n",
       "3     1001     10            393\n",
       "4     1001     11            426"
      ]
     },
     "execution_count": 45,
     "metadata": {},
     "output_type": "execute_result"
    }
   ],
   "source": [
    "# Calculate the amount of minutes spent by each user per month. Save the result.\n",
    "minutes_user_month=megaline_calls.groupby(['user_id', 'call_date_month'])['up_duration'].sum().reset_index()\n",
    "minutes_user_month= minutes_user_month.rename(columns={'up_duration': 'total_minutes', 'call_date_month': 'month'})\n",
    "minutes_user_month.head()\n"
   ]
  },
  {
   "cell_type": "code",
   "execution_count": 46,
   "metadata": {
    "trusted": true
   },
   "outputs": [
    {
     "data": {
      "text/html": [
       "<div>\n",
       "<style scoped>\n",
       "    .dataframe tbody tr th:only-of-type {\n",
       "        vertical-align: middle;\n",
       "    }\n",
       "\n",
       "    .dataframe tbody tr th {\n",
       "        vertical-align: top;\n",
       "    }\n",
       "\n",
       "    .dataframe thead th {\n",
       "        text-align: right;\n",
       "    }\n",
       "</style>\n",
       "<table border=\"1\" class=\"dataframe\">\n",
       "  <thead>\n",
       "    <tr style=\"text-align: right;\">\n",
       "      <th></th>\n",
       "      <th>user_id</th>\n",
       "      <th>month</th>\n",
       "      <th>num_messages</th>\n",
       "    </tr>\n",
       "  </thead>\n",
       "  <tbody>\n",
       "    <tr>\n",
       "      <th>0</th>\n",
       "      <td>1000</td>\n",
       "      <td>12</td>\n",
       "      <td>11</td>\n",
       "    </tr>\n",
       "    <tr>\n",
       "      <th>1</th>\n",
       "      <td>1001</td>\n",
       "      <td>8</td>\n",
       "      <td>30</td>\n",
       "    </tr>\n",
       "    <tr>\n",
       "      <th>2</th>\n",
       "      <td>1001</td>\n",
       "      <td>9</td>\n",
       "      <td>44</td>\n",
       "    </tr>\n",
       "    <tr>\n",
       "      <th>3</th>\n",
       "      <td>1001</td>\n",
       "      <td>10</td>\n",
       "      <td>53</td>\n",
       "    </tr>\n",
       "    <tr>\n",
       "      <th>4</th>\n",
       "      <td>1001</td>\n",
       "      <td>11</td>\n",
       "      <td>36</td>\n",
       "    </tr>\n",
       "  </tbody>\n",
       "</table>\n",
       "</div>"
      ],
      "text/plain": [
       "   user_id  month  num_messages\n",
       "0     1000     12            11\n",
       "1     1001      8            30\n",
       "2     1001      9            44\n",
       "3     1001     10            53\n",
       "4     1001     11            36"
      ]
     },
     "execution_count": 46,
     "metadata": {},
     "output_type": "execute_result"
    }
   ],
   "source": [
    "# Calculate the number of messages sent by each user per month. Save the result.\n",
    "messages_user_month=megaline_messages.groupby(['user_id', 'message_date_month'])['id'].count().reset_index()\n",
    "messages_user_month= messages_user_month.rename(columns={'id': 'num_messages', 'message_date_month': 'month'})\n",
    "messages_user_month.head()\n"
   ]
  },
  {
   "cell_type": "code",
   "execution_count": 47,
   "metadata": {
    "trusted": true
   },
   "outputs": [
    {
     "data": {
      "text/html": [
       "<div>\n",
       "<style scoped>\n",
       "    .dataframe tbody tr th:only-of-type {\n",
       "        vertical-align: middle;\n",
       "    }\n",
       "\n",
       "    .dataframe tbody tr th {\n",
       "        vertical-align: top;\n",
       "    }\n",
       "\n",
       "    .dataframe thead th {\n",
       "        text-align: right;\n",
       "    }\n",
       "</style>\n",
       "<table border=\"1\" class=\"dataframe\">\n",
       "  <thead>\n",
       "    <tr style=\"text-align: right;\">\n",
       "      <th></th>\n",
       "      <th>user_id</th>\n",
       "      <th>month</th>\n",
       "      <th>num_messages</th>\n",
       "    </tr>\n",
       "  </thead>\n",
       "  <tbody>\n",
       "    <tr>\n",
       "      <th>count</th>\n",
       "      <td>1806.000000</td>\n",
       "      <td>1806.000000</td>\n",
       "      <td>1806.000000</td>\n",
       "    </tr>\n",
       "    <tr>\n",
       "      <th>mean</th>\n",
       "      <td>1245.091916</td>\n",
       "      <td>9.260797</td>\n",
       "      <td>42.110188</td>\n",
       "    </tr>\n",
       "    <tr>\n",
       "      <th>std</th>\n",
       "      <td>139.583315</td>\n",
       "      <td>2.443621</td>\n",
       "      <td>33.122931</td>\n",
       "    </tr>\n",
       "    <tr>\n",
       "      <th>min</th>\n",
       "      <td>1000.000000</td>\n",
       "      <td>1.000000</td>\n",
       "      <td>1.000000</td>\n",
       "    </tr>\n",
       "    <tr>\n",
       "      <th>25%</th>\n",
       "      <td>1126.250000</td>\n",
       "      <td>8.000000</td>\n",
       "      <td>17.000000</td>\n",
       "    </tr>\n",
       "    <tr>\n",
       "      <th>50%</th>\n",
       "      <td>1245.000000</td>\n",
       "      <td>10.000000</td>\n",
       "      <td>34.000000</td>\n",
       "    </tr>\n",
       "    <tr>\n",
       "      <th>75%</th>\n",
       "      <td>1362.000000</td>\n",
       "      <td>11.000000</td>\n",
       "      <td>59.000000</td>\n",
       "    </tr>\n",
       "    <tr>\n",
       "      <th>max</th>\n",
       "      <td>1497.000000</td>\n",
       "      <td>12.000000</td>\n",
       "      <td>266.000000</td>\n",
       "    </tr>\n",
       "  </tbody>\n",
       "</table>\n",
       "</div>"
      ],
      "text/plain": [
       "           user_id        month  num_messages\n",
       "count  1806.000000  1806.000000   1806.000000\n",
       "mean   1245.091916     9.260797     42.110188\n",
       "std     139.583315     2.443621     33.122931\n",
       "min    1000.000000     1.000000      1.000000\n",
       "25%    1126.250000     8.000000     17.000000\n",
       "50%    1245.000000    10.000000     34.000000\n",
       "75%    1362.000000    11.000000     59.000000\n",
       "max    1497.000000    12.000000    266.000000"
      ]
     },
     "execution_count": 47,
     "metadata": {},
     "output_type": "execute_result"
    }
   ],
   "source": [
    "messages_user_month.describe()"
   ]
  },
  {
   "cell_type": "code",
   "execution_count": 48,
   "metadata": {
    "trusted": true
   },
   "outputs": [
    {
     "data": {
      "text/html": [
       "<div>\n",
       "<style scoped>\n",
       "    .dataframe tbody tr th:only-of-type {\n",
       "        vertical-align: middle;\n",
       "    }\n",
       "\n",
       "    .dataframe tbody tr th {\n",
       "        vertical-align: top;\n",
       "    }\n",
       "\n",
       "    .dataframe thead th {\n",
       "        text-align: right;\n",
       "    }\n",
       "</style>\n",
       "<table border=\"1\" class=\"dataframe\">\n",
       "  <thead>\n",
       "    <tr style=\"text-align: right;\">\n",
       "      <th></th>\n",
       "      <th>user_id</th>\n",
       "      <th>month</th>\n",
       "      <th>mb_month</th>\n",
       "      <th>gb_month</th>\n",
       "    </tr>\n",
       "  </thead>\n",
       "  <tbody>\n",
       "    <tr>\n",
       "      <th>0</th>\n",
       "      <td>1000</td>\n",
       "      <td>12</td>\n",
       "      <td>1901.47</td>\n",
       "      <td>2</td>\n",
       "    </tr>\n",
       "    <tr>\n",
       "      <th>1</th>\n",
       "      <td>1001</td>\n",
       "      <td>8</td>\n",
       "      <td>6919.15</td>\n",
       "      <td>7</td>\n",
       "    </tr>\n",
       "    <tr>\n",
       "      <th>2</th>\n",
       "      <td>1001</td>\n",
       "      <td>9</td>\n",
       "      <td>13314.82</td>\n",
       "      <td>14</td>\n",
       "    </tr>\n",
       "    <tr>\n",
       "      <th>3</th>\n",
       "      <td>1001</td>\n",
       "      <td>10</td>\n",
       "      <td>22330.49</td>\n",
       "      <td>22</td>\n",
       "    </tr>\n",
       "    <tr>\n",
       "      <th>4</th>\n",
       "      <td>1001</td>\n",
       "      <td>11</td>\n",
       "      <td>18504.30</td>\n",
       "      <td>19</td>\n",
       "    </tr>\n",
       "  </tbody>\n",
       "</table>\n",
       "</div>"
      ],
      "text/plain": [
       "   user_id  month  mb_month  gb_month\n",
       "0     1000     12   1901.47         2\n",
       "1     1001      8   6919.15         7\n",
       "2     1001      9  13314.82        14\n",
       "3     1001     10  22330.49        22\n",
       "4     1001     11  18504.30        19"
      ]
     },
     "execution_count": 48,
     "metadata": {},
     "output_type": "execute_result"
    }
   ],
   "source": [
    "# Calculate the volume of internet traffic used by each user per month. Save the result.\n",
    "internet_used_month=megaline_internet.groupby(['user_id', 'session_date_month'])['mb_used'].sum().reset_index()\n",
    "internet_used_month= internet_used_month.rename(columns={'mb_used': 'mb_month', 'session_date_month': 'month'})\n",
    "internet_used_month['gb_month']= np.ceil(internet_used_month['mb_month']/1024).astype(int)\n",
    "internet_used_month.head()"
   ]
  },
  {
   "cell_type": "markdown",
   "metadata": {},
   "source": [
    "[Put the aggregate data together into one DataFrame so that one record in it would represent what an unique user consumed in a given month.]"
   ]
  },
  {
   "cell_type": "code",
   "execution_count": 49,
   "metadata": {
    "trusted": true
   },
   "outputs": [
    {
     "data": {
      "text/html": [
       "<div>\n",
       "<style scoped>\n",
       "    .dataframe tbody tr th:only-of-type {\n",
       "        vertical-align: middle;\n",
       "    }\n",
       "\n",
       "    .dataframe tbody tr th {\n",
       "        vertical-align: top;\n",
       "    }\n",
       "\n",
       "    .dataframe thead th {\n",
       "        text-align: right;\n",
       "    }\n",
       "</style>\n",
       "<table border=\"1\" class=\"dataframe\">\n",
       "  <thead>\n",
       "    <tr style=\"text-align: right;\">\n",
       "      <th></th>\n",
       "      <th>user_id</th>\n",
       "      <th>month</th>\n",
       "      <th>num_calls</th>\n",
       "      <th>total_minutes</th>\n",
       "      <th>num_messages</th>\n",
       "      <th>mb_month</th>\n",
       "      <th>gb_month</th>\n",
       "    </tr>\n",
       "  </thead>\n",
       "  <tbody>\n",
       "    <tr>\n",
       "      <th>0</th>\n",
       "      <td>1000</td>\n",
       "      <td>12</td>\n",
       "      <td>16.0</td>\n",
       "      <td>124.0</td>\n",
       "      <td>11.0</td>\n",
       "      <td>1901.47</td>\n",
       "      <td>2.0</td>\n",
       "    </tr>\n",
       "    <tr>\n",
       "      <th>1</th>\n",
       "      <td>1001</td>\n",
       "      <td>8</td>\n",
       "      <td>27.0</td>\n",
       "      <td>182.0</td>\n",
       "      <td>30.0</td>\n",
       "      <td>6919.15</td>\n",
       "      <td>7.0</td>\n",
       "    </tr>\n",
       "    <tr>\n",
       "      <th>2</th>\n",
       "      <td>1001</td>\n",
       "      <td>9</td>\n",
       "      <td>49.0</td>\n",
       "      <td>315.0</td>\n",
       "      <td>44.0</td>\n",
       "      <td>13314.82</td>\n",
       "      <td>14.0</td>\n",
       "    </tr>\n",
       "    <tr>\n",
       "      <th>3</th>\n",
       "      <td>1001</td>\n",
       "      <td>10</td>\n",
       "      <td>65.0</td>\n",
       "      <td>393.0</td>\n",
       "      <td>53.0</td>\n",
       "      <td>22330.49</td>\n",
       "      <td>22.0</td>\n",
       "    </tr>\n",
       "    <tr>\n",
       "      <th>4</th>\n",
       "      <td>1001</td>\n",
       "      <td>11</td>\n",
       "      <td>64.0</td>\n",
       "      <td>426.0</td>\n",
       "      <td>36.0</td>\n",
       "      <td>18504.30</td>\n",
       "      <td>19.0</td>\n",
       "    </tr>\n",
       "  </tbody>\n",
       "</table>\n",
       "</div>"
      ],
      "text/plain": [
       "   user_id  month  num_calls  total_minutes  num_messages  mb_month  gb_month\n",
       "0     1000     12       16.0          124.0          11.0   1901.47       2.0\n",
       "1     1001      8       27.0          182.0          30.0   6919.15       7.0\n",
       "2     1001      9       49.0          315.0          44.0  13314.82      14.0\n",
       "3     1001     10       65.0          393.0          53.0  22330.49      22.0\n",
       "4     1001     11       64.0          426.0          36.0  18504.30      19.0"
      ]
     },
     "execution_count": 49,
     "metadata": {},
     "output_type": "execute_result"
    }
   ],
   "source": [
    "# Merge the data for calls, minutes, messages, internet based on user_id and month\n",
    "merged_df = calls_user_month.merge(minutes_user_month, on=['user_id', 'month'], how='outer')\\\n",
    "                            .merge(messages_user_month, on=['user_id', 'month'], how='outer')\\\n",
    "                            .merge(internet_used_month, on=['user_id', 'month'], how='outer')\n",
    "merged_df.head()"
   ]
  },
  {
   "cell_type": "code",
   "execution_count": 50,
   "metadata": {
    "trusted": true
   },
   "outputs": [
    {
     "data": {
      "text/plain": [
       "user_id            0\n",
       "month              0\n",
       "num_calls         35\n",
       "total_minutes     35\n",
       "num_messages     487\n",
       "mb_month          16\n",
       "gb_month          16\n",
       "dtype: int64"
      ]
     },
     "execution_count": 50,
     "metadata": {},
     "output_type": "execute_result"
    }
   ],
   "source": [
    "merged_df.isna().sum()"
   ]
  },
  {
   "cell_type": "code",
   "execution_count": 51,
   "metadata": {
    "trusted": true
   },
   "outputs": [],
   "source": [
    "# I would fill the null with 0 as it appears when we don't have data at certain months\n",
    "merged_df= merged_df.fillna(0)"
   ]
  },
  {
   "cell_type": "code",
   "execution_count": 52,
   "metadata": {
    "trusted": true
   },
   "outputs": [
    {
     "data": {
      "text/plain": [
       "user_id          0\n",
       "month            0\n",
       "num_calls        0\n",
       "total_minutes    0\n",
       "num_messages     0\n",
       "mb_month         0\n",
       "gb_month         0\n",
       "dtype: int64"
      ]
     },
     "execution_count": 52,
     "metadata": {},
     "output_type": "execute_result"
    }
   ],
   "source": [
    "merged_df.isna().sum()"
   ]
  },
  {
   "cell_type": "code",
   "execution_count": 53,
   "metadata": {
    "trusted": true
   },
   "outputs": [
    {
     "data": {
      "text/html": [
       "<div>\n",
       "<style scoped>\n",
       "    .dataframe tbody tr th:only-of-type {\n",
       "        vertical-align: middle;\n",
       "    }\n",
       "\n",
       "    .dataframe tbody tr th {\n",
       "        vertical-align: top;\n",
       "    }\n",
       "\n",
       "    .dataframe thead th {\n",
       "        text-align: right;\n",
       "    }\n",
       "</style>\n",
       "<table border=\"1\" class=\"dataframe\">\n",
       "  <thead>\n",
       "    <tr style=\"text-align: right;\">\n",
       "      <th></th>\n",
       "      <th>user_id</th>\n",
       "      <th>month</th>\n",
       "      <th>num_calls</th>\n",
       "      <th>total_minutes</th>\n",
       "      <th>num_messages</th>\n",
       "      <th>mb_month</th>\n",
       "      <th>gb_month</th>\n",
       "      <th>plan</th>\n",
       "    </tr>\n",
       "  </thead>\n",
       "  <tbody>\n",
       "    <tr>\n",
       "      <th>0</th>\n",
       "      <td>1000</td>\n",
       "      <td>12</td>\n",
       "      <td>16.0</td>\n",
       "      <td>124.0</td>\n",
       "      <td>11.0</td>\n",
       "      <td>1901.47</td>\n",
       "      <td>2.0</td>\n",
       "      <td>ultimate</td>\n",
       "    </tr>\n",
       "    <tr>\n",
       "      <th>1</th>\n",
       "      <td>1001</td>\n",
       "      <td>8</td>\n",
       "      <td>27.0</td>\n",
       "      <td>182.0</td>\n",
       "      <td>30.0</td>\n",
       "      <td>6919.15</td>\n",
       "      <td>7.0</td>\n",
       "      <td>surf</td>\n",
       "    </tr>\n",
       "    <tr>\n",
       "      <th>2</th>\n",
       "      <td>1001</td>\n",
       "      <td>9</td>\n",
       "      <td>49.0</td>\n",
       "      <td>315.0</td>\n",
       "      <td>44.0</td>\n",
       "      <td>13314.82</td>\n",
       "      <td>14.0</td>\n",
       "      <td>surf</td>\n",
       "    </tr>\n",
       "    <tr>\n",
       "      <th>3</th>\n",
       "      <td>1001</td>\n",
       "      <td>10</td>\n",
       "      <td>65.0</td>\n",
       "      <td>393.0</td>\n",
       "      <td>53.0</td>\n",
       "      <td>22330.49</td>\n",
       "      <td>22.0</td>\n",
       "      <td>surf</td>\n",
       "    </tr>\n",
       "    <tr>\n",
       "      <th>4</th>\n",
       "      <td>1001</td>\n",
       "      <td>11</td>\n",
       "      <td>64.0</td>\n",
       "      <td>426.0</td>\n",
       "      <td>36.0</td>\n",
       "      <td>18504.30</td>\n",
       "      <td>19.0</td>\n",
       "      <td>surf</td>\n",
       "    </tr>\n",
       "  </tbody>\n",
       "</table>\n",
       "</div>"
      ],
      "text/plain": [
       "   user_id  month  num_calls  total_minutes  num_messages  mb_month  gb_month  \\\n",
       "0     1000     12       16.0          124.0          11.0   1901.47       2.0   \n",
       "1     1001      8       27.0          182.0          30.0   6919.15       7.0   \n",
       "2     1001      9       49.0          315.0          44.0  13314.82      14.0   \n",
       "3     1001     10       65.0          393.0          53.0  22330.49      22.0   \n",
       "4     1001     11       64.0          426.0          36.0  18504.30      19.0   \n",
       "\n",
       "       plan  \n",
       "0  ultimate  \n",
       "1      surf  \n",
       "2      surf  \n",
       "3      surf  \n",
       "4      surf  "
      ]
     },
     "execution_count": 53,
     "metadata": {},
     "output_type": "execute_result"
    }
   ],
   "source": [
    "# Add the plan information\n",
    "merged_df = merged_df.merge(megaline_users[['user_id', 'plan']], on=['user_id'], how= 'left')\n",
    "merged_df.head()"
   ]
  },
  {
   "cell_type": "markdown",
   "metadata": {},
   "source": [
    "[Calculate the monthly revenue from each user (subtract the free package limit from the total number of calls, text messages, and data; multiply the result by the calling plan value; add the monthly charge depending on the calling plan). N.B. This might not be as trivial as just a couple of lines given the plan conditions! So, it's okay to spend some time on it.]"
   ]
  },
  {
   "cell_type": "code",
   "execution_count": 54,
   "metadata": {
    "trusted": true
   },
   "outputs": [
    {
     "data": {
      "text/html": [
       "<div>\n",
       "<style scoped>\n",
       "    .dataframe tbody tr th:only-of-type {\n",
       "        vertical-align: middle;\n",
       "    }\n",
       "\n",
       "    .dataframe tbody tr th {\n",
       "        vertical-align: top;\n",
       "    }\n",
       "\n",
       "    .dataframe thead th {\n",
       "        text-align: right;\n",
       "    }\n",
       "</style>\n",
       "<table border=\"1\" class=\"dataframe\">\n",
       "  <thead>\n",
       "    <tr style=\"text-align: right;\">\n",
       "      <th></th>\n",
       "      <th>index</th>\n",
       "      <th>user_id</th>\n",
       "      <th>month</th>\n",
       "      <th>num_calls</th>\n",
       "      <th>total_minutes</th>\n",
       "      <th>num_messages</th>\n",
       "      <th>mb_month</th>\n",
       "      <th>gb_month</th>\n",
       "      <th>plan</th>\n",
       "    </tr>\n",
       "  </thead>\n",
       "  <tbody>\n",
       "    <tr>\n",
       "      <th>0</th>\n",
       "      <td>0</td>\n",
       "      <td>1000</td>\n",
       "      <td>12</td>\n",
       "      <td>16.0</td>\n",
       "      <td>124.0</td>\n",
       "      <td>11.0</td>\n",
       "      <td>1901.47</td>\n",
       "      <td>2.0</td>\n",
       "      <td>ultimate</td>\n",
       "    </tr>\n",
       "    <tr>\n",
       "      <th>1</th>\n",
       "      <td>19</td>\n",
       "      <td>1006</td>\n",
       "      <td>11</td>\n",
       "      <td>2.0</td>\n",
       "      <td>10.0</td>\n",
       "      <td>15.0</td>\n",
       "      <td>2068.37</td>\n",
       "      <td>3.0</td>\n",
       "      <td>ultimate</td>\n",
       "    </tr>\n",
       "    <tr>\n",
       "      <th>2</th>\n",
       "      <td>20</td>\n",
       "      <td>1006</td>\n",
       "      <td>12</td>\n",
       "      <td>9.0</td>\n",
       "      <td>59.0</td>\n",
       "      <td>139.0</td>\n",
       "      <td>32118.82</td>\n",
       "      <td>32.0</td>\n",
       "      <td>ultimate</td>\n",
       "    </tr>\n",
       "    <tr>\n",
       "      <th>3</th>\n",
       "      <td>26</td>\n",
       "      <td>1008</td>\n",
       "      <td>10</td>\n",
       "      <td>71.0</td>\n",
       "      <td>476.0</td>\n",
       "      <td>21.0</td>\n",
       "      <td>17106.99</td>\n",
       "      <td>17.0</td>\n",
       "      <td>ultimate</td>\n",
       "    </tr>\n",
       "    <tr>\n",
       "      <th>4</th>\n",
       "      <td>27</td>\n",
       "      <td>1008</td>\n",
       "      <td>11</td>\n",
       "      <td>63.0</td>\n",
       "      <td>446.0</td>\n",
       "      <td>37.0</td>\n",
       "      <td>23676.72</td>\n",
       "      <td>24.0</td>\n",
       "      <td>ultimate</td>\n",
       "    </tr>\n",
       "  </tbody>\n",
       "</table>\n",
       "</div>"
      ],
      "text/plain": [
       "   index  user_id  month  num_calls  total_minutes  num_messages  mb_month  \\\n",
       "0      0     1000     12       16.0          124.0          11.0   1901.47   \n",
       "1     19     1006     11        2.0           10.0          15.0   2068.37   \n",
       "2     20     1006     12        9.0           59.0         139.0  32118.82   \n",
       "3     26     1008     10       71.0          476.0          21.0  17106.99   \n",
       "4     27     1008     11       63.0          446.0          37.0  23676.72   \n",
       "\n",
       "   gb_month      plan  \n",
       "0       2.0  ultimate  \n",
       "1       3.0  ultimate  \n",
       "2      32.0  ultimate  \n",
       "3      17.0  ultimate  \n",
       "4      24.0  ultimate  "
      ]
     },
     "execution_count": 54,
     "metadata": {},
     "output_type": "execute_result"
    }
   ],
   "source": [
    "# Calculate the monthly revenue for each user\n",
    "ultimate= merged_df[merged_df['plan']=='ultimate'].reset_index()\n",
    "surf= merged_df[merged_df['plan']=='surf'].reset_index()\n",
    "ultimate.head()"
   ]
  },
  {
   "cell_type": "code",
   "execution_count": 55,
   "metadata": {
    "trusted": true
   },
   "outputs": [
    {
     "data": {
      "text/html": [
       "<div>\n",
       "<style scoped>\n",
       "    .dataframe tbody tr th:only-of-type {\n",
       "        vertical-align: middle;\n",
       "    }\n",
       "\n",
       "    .dataframe tbody tr th {\n",
       "        vertical-align: top;\n",
       "    }\n",
       "\n",
       "    .dataframe thead th {\n",
       "        text-align: right;\n",
       "    }\n",
       "</style>\n",
       "<table border=\"1\" class=\"dataframe\">\n",
       "  <thead>\n",
       "    <tr style=\"text-align: right;\">\n",
       "      <th></th>\n",
       "      <th>index</th>\n",
       "      <th>user_id</th>\n",
       "      <th>month</th>\n",
       "      <th>num_calls</th>\n",
       "      <th>total_minutes</th>\n",
       "      <th>num_messages</th>\n",
       "      <th>mb_month</th>\n",
       "      <th>gb_month</th>\n",
       "      <th>plan</th>\n",
       "      <th>extra_min</th>\n",
       "      <th>extra_messages</th>\n",
       "      <th>extra_gb</th>\n",
       "      <th>revenue_usd</th>\n",
       "    </tr>\n",
       "  </thead>\n",
       "  <tbody>\n",
       "    <tr>\n",
       "      <th>0</th>\n",
       "      <td>0</td>\n",
       "      <td>1000</td>\n",
       "      <td>12</td>\n",
       "      <td>16.0</td>\n",
       "      <td>124.0</td>\n",
       "      <td>11.0</td>\n",
       "      <td>1901.47</td>\n",
       "      <td>2.0</td>\n",
       "      <td>ultimate</td>\n",
       "      <td>0</td>\n",
       "      <td>0</td>\n",
       "      <td>0.0</td>\n",
       "      <td>70.0</td>\n",
       "    </tr>\n",
       "    <tr>\n",
       "      <th>1</th>\n",
       "      <td>19</td>\n",
       "      <td>1006</td>\n",
       "      <td>11</td>\n",
       "      <td>2.0</td>\n",
       "      <td>10.0</td>\n",
       "      <td>15.0</td>\n",
       "      <td>2068.37</td>\n",
       "      <td>3.0</td>\n",
       "      <td>ultimate</td>\n",
       "      <td>0</td>\n",
       "      <td>0</td>\n",
       "      <td>0.0</td>\n",
       "      <td>70.0</td>\n",
       "    </tr>\n",
       "    <tr>\n",
       "      <th>2</th>\n",
       "      <td>20</td>\n",
       "      <td>1006</td>\n",
       "      <td>12</td>\n",
       "      <td>9.0</td>\n",
       "      <td>59.0</td>\n",
       "      <td>139.0</td>\n",
       "      <td>32118.82</td>\n",
       "      <td>32.0</td>\n",
       "      <td>ultimate</td>\n",
       "      <td>0</td>\n",
       "      <td>0</td>\n",
       "      <td>2.0</td>\n",
       "      <td>84.0</td>\n",
       "    </tr>\n",
       "    <tr>\n",
       "      <th>3</th>\n",
       "      <td>26</td>\n",
       "      <td>1008</td>\n",
       "      <td>10</td>\n",
       "      <td>71.0</td>\n",
       "      <td>476.0</td>\n",
       "      <td>21.0</td>\n",
       "      <td>17106.99</td>\n",
       "      <td>17.0</td>\n",
       "      <td>ultimate</td>\n",
       "      <td>0</td>\n",
       "      <td>0</td>\n",
       "      <td>0.0</td>\n",
       "      <td>70.0</td>\n",
       "    </tr>\n",
       "    <tr>\n",
       "      <th>4</th>\n",
       "      <td>27</td>\n",
       "      <td>1008</td>\n",
       "      <td>11</td>\n",
       "      <td>63.0</td>\n",
       "      <td>446.0</td>\n",
       "      <td>37.0</td>\n",
       "      <td>23676.72</td>\n",
       "      <td>24.0</td>\n",
       "      <td>ultimate</td>\n",
       "      <td>0</td>\n",
       "      <td>0</td>\n",
       "      <td>0.0</td>\n",
       "      <td>70.0</td>\n",
       "    </tr>\n",
       "  </tbody>\n",
       "</table>\n",
       "</div>"
      ],
      "text/plain": [
       "   index  user_id  month  num_calls  total_minutes  num_messages  mb_month  \\\n",
       "0      0     1000     12       16.0          124.0          11.0   1901.47   \n",
       "1     19     1006     11        2.0           10.0          15.0   2068.37   \n",
       "2     20     1006     12        9.0           59.0         139.0  32118.82   \n",
       "3     26     1008     10       71.0          476.0          21.0  17106.99   \n",
       "4     27     1008     11       63.0          446.0          37.0  23676.72   \n",
       "\n",
       "   gb_month      plan  extra_min  extra_messages  extra_gb  revenue_usd  \n",
       "0       2.0  ultimate          0               0       0.0         70.0  \n",
       "1       3.0  ultimate          0               0       0.0         70.0  \n",
       "2      32.0  ultimate          0               0       2.0         84.0  \n",
       "3      17.0  ultimate          0               0       0.0         70.0  \n",
       "4      24.0  ultimate          0               0       0.0         70.0  "
      ]
     },
     "execution_count": 55,
     "metadata": {},
     "output_type": "execute_result"
    }
   ],
   "source": [
    "# calculating the extra and revenue for ultimate plan\n",
    "ultimate['extra_min']= ultimate['total_minutes'].apply(lambda x: max(x - 3000, 0))\n",
    "ultimate['extra_messages']= ultimate['num_messages'].apply(lambda x: max(x - 1000, 0))\n",
    "ultimate['extra_gb']= ultimate['gb_month'].apply(lambda x: max(x - 30, 0))\n",
    "ultimate['revenue_usd']= 70+ultimate['extra_min']*.01+ ultimate['extra_messages']*.01+ ultimate['extra_gb']*7\n",
    "ultimate.head()"
   ]
  },
  {
   "cell_type": "code",
   "execution_count": 56,
   "metadata": {
    "trusted": true
   },
   "outputs": [
    {
     "data": {
      "text/html": [
       "<div>\n",
       "<style scoped>\n",
       "    .dataframe tbody tr th:only-of-type {\n",
       "        vertical-align: middle;\n",
       "    }\n",
       "\n",
       "    .dataframe tbody tr th {\n",
       "        vertical-align: top;\n",
       "    }\n",
       "\n",
       "    .dataframe thead th {\n",
       "        text-align: right;\n",
       "    }\n",
       "</style>\n",
       "<table border=\"1\" class=\"dataframe\">\n",
       "  <thead>\n",
       "    <tr style=\"text-align: right;\">\n",
       "      <th></th>\n",
       "      <th>index</th>\n",
       "      <th>user_id</th>\n",
       "      <th>month</th>\n",
       "      <th>num_calls</th>\n",
       "      <th>total_minutes</th>\n",
       "      <th>num_messages</th>\n",
       "      <th>mb_month</th>\n",
       "      <th>gb_month</th>\n",
       "      <th>plan</th>\n",
       "      <th>extra_min</th>\n",
       "      <th>extra_messages</th>\n",
       "      <th>extra_gb</th>\n",
       "      <th>revenue_usd</th>\n",
       "    </tr>\n",
       "  </thead>\n",
       "  <tbody>\n",
       "    <tr>\n",
       "      <th>0</th>\n",
       "      <td>1</td>\n",
       "      <td>1001</td>\n",
       "      <td>8</td>\n",
       "      <td>27.0</td>\n",
       "      <td>182.0</td>\n",
       "      <td>30.0</td>\n",
       "      <td>6919.15</td>\n",
       "      <td>7.0</td>\n",
       "      <td>surf</td>\n",
       "      <td>0.0</td>\n",
       "      <td>0.0</td>\n",
       "      <td>0.0</td>\n",
       "      <td>20.00</td>\n",
       "    </tr>\n",
       "    <tr>\n",
       "      <th>1</th>\n",
       "      <td>2</td>\n",
       "      <td>1001</td>\n",
       "      <td>9</td>\n",
       "      <td>49.0</td>\n",
       "      <td>315.0</td>\n",
       "      <td>44.0</td>\n",
       "      <td>13314.82</td>\n",
       "      <td>14.0</td>\n",
       "      <td>surf</td>\n",
       "      <td>0.0</td>\n",
       "      <td>0.0</td>\n",
       "      <td>0.0</td>\n",
       "      <td>20.00</td>\n",
       "    </tr>\n",
       "    <tr>\n",
       "      <th>2</th>\n",
       "      <td>3</td>\n",
       "      <td>1001</td>\n",
       "      <td>10</td>\n",
       "      <td>65.0</td>\n",
       "      <td>393.0</td>\n",
       "      <td>53.0</td>\n",
       "      <td>22330.49</td>\n",
       "      <td>22.0</td>\n",
       "      <td>surf</td>\n",
       "      <td>0.0</td>\n",
       "      <td>3.0</td>\n",
       "      <td>7.0</td>\n",
       "      <td>90.09</td>\n",
       "    </tr>\n",
       "    <tr>\n",
       "      <th>3</th>\n",
       "      <td>4</td>\n",
       "      <td>1001</td>\n",
       "      <td>11</td>\n",
       "      <td>64.0</td>\n",
       "      <td>426.0</td>\n",
       "      <td>36.0</td>\n",
       "      <td>18504.30</td>\n",
       "      <td>19.0</td>\n",
       "      <td>surf</td>\n",
       "      <td>0.0</td>\n",
       "      <td>0.0</td>\n",
       "      <td>4.0</td>\n",
       "      <td>60.00</td>\n",
       "    </tr>\n",
       "    <tr>\n",
       "      <th>4</th>\n",
       "      <td>5</td>\n",
       "      <td>1001</td>\n",
       "      <td>12</td>\n",
       "      <td>56.0</td>\n",
       "      <td>412.0</td>\n",
       "      <td>44.0</td>\n",
       "      <td>19369.18</td>\n",
       "      <td>19.0</td>\n",
       "      <td>surf</td>\n",
       "      <td>0.0</td>\n",
       "      <td>0.0</td>\n",
       "      <td>4.0</td>\n",
       "      <td>60.00</td>\n",
       "    </tr>\n",
       "  </tbody>\n",
       "</table>\n",
       "</div>"
      ],
      "text/plain": [
       "   index  user_id  month  num_calls  total_minutes  num_messages  mb_month  \\\n",
       "0      1     1001      8       27.0          182.0          30.0   6919.15   \n",
       "1      2     1001      9       49.0          315.0          44.0  13314.82   \n",
       "2      3     1001     10       65.0          393.0          53.0  22330.49   \n",
       "3      4     1001     11       64.0          426.0          36.0  18504.30   \n",
       "4      5     1001     12       56.0          412.0          44.0  19369.18   \n",
       "\n",
       "   gb_month  plan  extra_min  extra_messages  extra_gb  revenue_usd  \n",
       "0       7.0  surf        0.0             0.0       0.0        20.00  \n",
       "1      14.0  surf        0.0             0.0       0.0        20.00  \n",
       "2      22.0  surf        0.0             3.0       7.0        90.09  \n",
       "3      19.0  surf        0.0             0.0       4.0        60.00  \n",
       "4      19.0  surf        0.0             0.0       4.0        60.00  "
      ]
     },
     "execution_count": 56,
     "metadata": {},
     "output_type": "execute_result"
    }
   ],
   "source": [
    "# calculating the extra and revenue for surf plan\n",
    "surf['extra_min']= surf['total_minutes'].apply(lambda x: max(x - 500, 0))\n",
    "surf['extra_messages']= surf['num_messages'].apply(lambda x: max(x - 50, 0))\n",
    "surf['extra_gb']= surf['gb_month'].apply(lambda x: max(x - 15, 0))\n",
    "surf['revenue_usd']= 20+surf['extra_min']*.03+ surf['extra_messages']*.03+ surf['extra_gb']*10\n",
    "surf.head()"
   ]
  },
  {
   "cell_type": "markdown",
   "metadata": {},
   "source": [
    "## Study user behaviour"
   ]
  },
  {
   "cell_type": "markdown",
   "metadata": {},
   "source": [
    "[Calculate some useful descriptive statistics for the aggregated and merged data, which typically reveal an overall picture captured by the data. Draw useful plots to help the understanding. Given that the main task is to compare the plans and decide on which one is more profitable, the statistics and the plots should be calculated on a per-plan basis.]\n",
    "\n",
    "[There are relevant hints in the comments for Calls but they are not provided for Messages and Internet though the principle of statistical study is the same for them as for Calls.]"
   ]
  },
  {
   "cell_type": "markdown",
   "metadata": {},
   "source": [
    "### Calls"
   ]
  },
  {
   "cell_type": "code",
   "execution_count": 57,
   "metadata": {
    "trusted": true
   },
   "outputs": [
    {
     "data": {
      "text/html": [
       "<div>\n",
       "<style scoped>\n",
       "    .dataframe tbody tr th:only-of-type {\n",
       "        vertical-align: middle;\n",
       "    }\n",
       "\n",
       "    .dataframe tbody tr th {\n",
       "        vertical-align: top;\n",
       "    }\n",
       "\n",
       "    .dataframe thead th {\n",
       "        text-align: right;\n",
       "    }\n",
       "</style>\n",
       "<table border=\"1\" class=\"dataframe\">\n",
       "  <thead>\n",
       "    <tr style=\"text-align: right;\">\n",
       "      <th></th>\n",
       "      <th>month</th>\n",
       "      <th>avg_duration_call</th>\n",
       "    </tr>\n",
       "  </thead>\n",
       "  <tbody>\n",
       "    <tr>\n",
       "      <th>0</th>\n",
       "      <td>1</td>\n",
       "      <td>6.20</td>\n",
       "    </tr>\n",
       "    <tr>\n",
       "      <th>1</th>\n",
       "      <td>2</td>\n",
       "      <td>7.06</td>\n",
       "    </tr>\n",
       "    <tr>\n",
       "      <th>2</th>\n",
       "      <td>3</td>\n",
       "      <td>6.39</td>\n",
       "    </tr>\n",
       "    <tr>\n",
       "      <th>3</th>\n",
       "      <td>4</td>\n",
       "      <td>7.22</td>\n",
       "    </tr>\n",
       "    <tr>\n",
       "      <th>4</th>\n",
       "      <td>5</td>\n",
       "      <td>7.12</td>\n",
       "    </tr>\n",
       "    <tr>\n",
       "      <th>5</th>\n",
       "      <td>6</td>\n",
       "      <td>7.11</td>\n",
       "    </tr>\n",
       "    <tr>\n",
       "      <th>6</th>\n",
       "      <td>7</td>\n",
       "      <td>7.33</td>\n",
       "    </tr>\n",
       "    <tr>\n",
       "      <th>7</th>\n",
       "      <td>8</td>\n",
       "      <td>7.02</td>\n",
       "    </tr>\n",
       "    <tr>\n",
       "      <th>8</th>\n",
       "      <td>9</td>\n",
       "      <td>7.12</td>\n",
       "    </tr>\n",
       "    <tr>\n",
       "      <th>9</th>\n",
       "      <td>10</td>\n",
       "      <td>7.09</td>\n",
       "    </tr>\n",
       "    <tr>\n",
       "      <th>10</th>\n",
       "      <td>11</td>\n",
       "      <td>7.02</td>\n",
       "    </tr>\n",
       "    <tr>\n",
       "      <th>11</th>\n",
       "      <td>12</td>\n",
       "      <td>7.07</td>\n",
       "    </tr>\n",
       "  </tbody>\n",
       "</table>\n",
       "</div>"
      ],
      "text/plain": [
       "    month  avg_duration_call\n",
       "0       1               6.20\n",
       "1       2               7.06\n",
       "2       3               6.39\n",
       "3       4               7.22\n",
       "4       5               7.12\n",
       "5       6               7.11\n",
       "6       7               7.33\n",
       "7       8               7.02\n",
       "8       9               7.12\n",
       "9      10               7.09\n",
       "10     11               7.02\n",
       "11     12               7.07"
      ]
     },
     "execution_count": 57,
     "metadata": {},
     "output_type": "execute_result"
    }
   ],
   "source": [
    "# Compare average duration of calls per each plan per each distinct month. Plot a bar plat to visualize it.\n",
    "ultimate['avg_duration_call']= round(ultimate['total_minutes']/ultimate['num_calls'], 2)\n",
    "avg_call_ultimate=ultimate.groupby(['month'])['avg_duration_call'].mean().round(2).reset_index()\n",
    "avg_call_ultimate"
   ]
  },
  {
   "cell_type": "code",
   "execution_count": 58,
   "metadata": {
    "trusted": true
   },
   "outputs": [
    {
     "data": {
      "image/png": "[encoded data removed]",
      "text/plain": [
       "<Figure size 640x480 with 1 Axes>"
      ]
     },
     "metadata": {},
     "output_type": "display_data"
    }
   ],
   "source": [
    "avg_call_ultimate.plot(kind='bar', x='month', y='avg_duration_call', legend=False)\n",
    "plt.xlabel('Month')\n",
    "plt.ylabel('Average Duration of Call')\n",
    "plt.title('Average Call Duration per Month (Ultimate)')\n",
    "plt.show()"
   ]
  },
  {
   "cell_type": "code",
   "execution_count": 59,
   "metadata": {
    "trusted": true
   },
   "outputs": [
    {
     "data": {
      "text/html": [
       "<div>\n",
       "<style scoped>\n",
       "    .dataframe tbody tr th:only-of-type {\n",
       "        vertical-align: middle;\n",
       "    }\n",
       "\n",
       "    .dataframe tbody tr th {\n",
       "        vertical-align: top;\n",
       "    }\n",
       "\n",
       "    .dataframe thead th {\n",
       "        text-align: right;\n",
       "    }\n",
       "</style>\n",
       "<table border=\"1\" class=\"dataframe\">\n",
       "  <thead>\n",
       "    <tr style=\"text-align: right;\">\n",
       "      <th></th>\n",
       "      <th>month</th>\n",
       "      <th>avg_duration_call</th>\n",
       "    </tr>\n",
       "  </thead>\n",
       "  <tbody>\n",
       "    <tr>\n",
       "      <th>0</th>\n",
       "      <td>1</td>\n",
       "      <td>6.64</td>\n",
       "    </tr>\n",
       "    <tr>\n",
       "      <th>1</th>\n",
       "      <td>2</td>\n",
       "      <td>6.81</td>\n",
       "    </tr>\n",
       "    <tr>\n",
       "      <th>2</th>\n",
       "      <td>3</td>\n",
       "      <td>7.20</td>\n",
       "    </tr>\n",
       "    <tr>\n",
       "      <th>3</th>\n",
       "      <td>4</td>\n",
       "      <td>7.04</td>\n",
       "    </tr>\n",
       "    <tr>\n",
       "      <th>4</th>\n",
       "      <td>5</td>\n",
       "      <td>7.18</td>\n",
       "    </tr>\n",
       "    <tr>\n",
       "      <th>5</th>\n",
       "      <td>6</td>\n",
       "      <td>7.22</td>\n",
       "    </tr>\n",
       "    <tr>\n",
       "      <th>6</th>\n",
       "      <td>7</td>\n",
       "      <td>7.03</td>\n",
       "    </tr>\n",
       "    <tr>\n",
       "      <th>7</th>\n",
       "      <td>8</td>\n",
       "      <td>7.13</td>\n",
       "    </tr>\n",
       "    <tr>\n",
       "      <th>8</th>\n",
       "      <td>9</td>\n",
       "      <td>7.13</td>\n",
       "    </tr>\n",
       "    <tr>\n",
       "      <th>9</th>\n",
       "      <td>10</td>\n",
       "      <td>7.10</td>\n",
       "    </tr>\n",
       "    <tr>\n",
       "      <th>10</th>\n",
       "      <td>11</td>\n",
       "      <td>7.24</td>\n",
       "    </tr>\n",
       "    <tr>\n",
       "      <th>11</th>\n",
       "      <td>12</td>\n",
       "      <td>7.22</td>\n",
       "    </tr>\n",
       "  </tbody>\n",
       "</table>\n",
       "</div>"
      ],
      "text/plain": [
       "    month  avg_duration_call\n",
       "0       1               6.64\n",
       "1       2               6.81\n",
       "2       3               7.20\n",
       "3       4               7.04\n",
       "4       5               7.18\n",
       "5       6               7.22\n",
       "6       7               7.03\n",
       "7       8               7.13\n",
       "8       9               7.13\n",
       "9      10               7.10\n",
       "10     11               7.24\n",
       "11     12               7.22"
      ]
     },
     "execution_count": 59,
     "metadata": {},
     "output_type": "execute_result"
    }
   ],
   "source": [
    "surf['avg_duration_call']= round(surf['total_minutes']/surf['num_calls'], 2)\n",
    "avg_call_surf=surf.groupby(['month'])['avg_duration_call'].mean().round(2).reset_index()\n",
    "avg_call_surf"
   ]
  },
  {
   "cell_type": "code",
   "execution_count": 60,
   "metadata": {
    "trusted": true
   },
   "outputs": [
    {
     "data": {
      "image/png": "[encoded data removed]",
      "text/plain": [
       "<Figure size 640x480 with 1 Axes>"
      ]
     },
     "metadata": {},
     "output_type": "display_data"
    }
   ],
   "source": [
    "avg_call_surf.plot(kind='bar', x='month', y='avg_duration_call', legend=False)\n",
    "plt.xlabel('Month')\n",
    "plt.ylabel('Average Duration of Call')\n",
    "plt.title('Average Call Duration per Month (Surf)')\n",
    "plt.show()"
   ]
  },
  {
   "cell_type": "code",
   "execution_count": 61,
   "metadata": {
    "trusted": true
   },
   "outputs": [
    {
     "data": {
      "text/html": [
       "<div>\n",
       "<style scoped>\n",
       "    .dataframe tbody tr th:only-of-type {\n",
       "        vertical-align: middle;\n",
       "    }\n",
       "\n",
       "    .dataframe tbody tr th {\n",
       "        vertical-align: top;\n",
       "    }\n",
       "\n",
       "    .dataframe thead th {\n",
       "        text-align: right;\n",
       "    }\n",
       "</style>\n",
       "<table border=\"1\" class=\"dataframe\">\n",
       "  <thead>\n",
       "    <tr style=\"text-align: right;\">\n",
       "      <th></th>\n",
       "      <th>index</th>\n",
       "      <th>user_id</th>\n",
       "      <th>month</th>\n",
       "      <th>num_calls</th>\n",
       "      <th>total_minutes</th>\n",
       "      <th>num_messages</th>\n",
       "      <th>mb_month</th>\n",
       "      <th>gb_month</th>\n",
       "      <th>plan</th>\n",
       "      <th>extra_min</th>\n",
       "      <th>extra_messages</th>\n",
       "      <th>extra_gb</th>\n",
       "      <th>revenue_usd</th>\n",
       "      <th>avg_duration_call</th>\n",
       "    </tr>\n",
       "  </thead>\n",
       "  <tbody>\n",
       "    <tr>\n",
       "      <th>0</th>\n",
       "      <td>1</td>\n",
       "      <td>1001</td>\n",
       "      <td>8</td>\n",
       "      <td>27.0</td>\n",
       "      <td>182.0</td>\n",
       "      <td>30.0</td>\n",
       "      <td>6919.15</td>\n",
       "      <td>7.0</td>\n",
       "      <td>surf</td>\n",
       "      <td>0.0</td>\n",
       "      <td>0.0</td>\n",
       "      <td>0.0</td>\n",
       "      <td>20.00</td>\n",
       "      <td>6.74</td>\n",
       "    </tr>\n",
       "    <tr>\n",
       "      <th>1</th>\n",
       "      <td>2</td>\n",
       "      <td>1001</td>\n",
       "      <td>9</td>\n",
       "      <td>49.0</td>\n",
       "      <td>315.0</td>\n",
       "      <td>44.0</td>\n",
       "      <td>13314.82</td>\n",
       "      <td>14.0</td>\n",
       "      <td>surf</td>\n",
       "      <td>0.0</td>\n",
       "      <td>0.0</td>\n",
       "      <td>0.0</td>\n",
       "      <td>20.00</td>\n",
       "      <td>6.43</td>\n",
       "    </tr>\n",
       "    <tr>\n",
       "      <th>2</th>\n",
       "      <td>3</td>\n",
       "      <td>1001</td>\n",
       "      <td>10</td>\n",
       "      <td>65.0</td>\n",
       "      <td>393.0</td>\n",
       "      <td>53.0</td>\n",
       "      <td>22330.49</td>\n",
       "      <td>22.0</td>\n",
       "      <td>surf</td>\n",
       "      <td>0.0</td>\n",
       "      <td>3.0</td>\n",
       "      <td>7.0</td>\n",
       "      <td>90.09</td>\n",
       "      <td>6.05</td>\n",
       "    </tr>\n",
       "    <tr>\n",
       "      <th>3</th>\n",
       "      <td>4</td>\n",
       "      <td>1001</td>\n",
       "      <td>11</td>\n",
       "      <td>64.0</td>\n",
       "      <td>426.0</td>\n",
       "      <td>36.0</td>\n",
       "      <td>18504.30</td>\n",
       "      <td>19.0</td>\n",
       "      <td>surf</td>\n",
       "      <td>0.0</td>\n",
       "      <td>0.0</td>\n",
       "      <td>4.0</td>\n",
       "      <td>60.00</td>\n",
       "      <td>6.66</td>\n",
       "    </tr>\n",
       "    <tr>\n",
       "      <th>4</th>\n",
       "      <td>5</td>\n",
       "      <td>1001</td>\n",
       "      <td>12</td>\n",
       "      <td>56.0</td>\n",
       "      <td>412.0</td>\n",
       "      <td>44.0</td>\n",
       "      <td>19369.18</td>\n",
       "      <td>19.0</td>\n",
       "      <td>surf</td>\n",
       "      <td>0.0</td>\n",
       "      <td>0.0</td>\n",
       "      <td>4.0</td>\n",
       "      <td>60.00</td>\n",
       "      <td>7.36</td>\n",
       "    </tr>\n",
       "  </tbody>\n",
       "</table>\n",
       "</div>"
      ],
      "text/plain": [
       "   index  user_id  month  num_calls  total_minutes  num_messages  mb_month  \\\n",
       "0      1     1001      8       27.0          182.0          30.0   6919.15   \n",
       "1      2     1001      9       49.0          315.0          44.0  13314.82   \n",
       "2      3     1001     10       65.0          393.0          53.0  22330.49   \n",
       "3      4     1001     11       64.0          426.0          36.0  18504.30   \n",
       "4      5     1001     12       56.0          412.0          44.0  19369.18   \n",
       "\n",
       "   gb_month  plan  extra_min  extra_messages  extra_gb  revenue_usd  \\\n",
       "0       7.0  surf        0.0             0.0       0.0        20.00   \n",
       "1      14.0  surf        0.0             0.0       0.0        20.00   \n",
       "2      22.0  surf        0.0             3.0       7.0        90.09   \n",
       "3      19.0  surf        0.0             0.0       4.0        60.00   \n",
       "4      19.0  surf        0.0             0.0       4.0        60.00   \n",
       "\n",
       "   avg_duration_call  \n",
       "0               6.74  \n",
       "1               6.43  \n",
       "2               6.05  \n",
       "3               6.66  \n",
       "4               7.36  "
      ]
     },
     "execution_count": 61,
     "metadata": {},
     "output_type": "execute_result"
    }
   ],
   "source": [
    "surf.head()"
   ]
  },
  {
   "cell_type": "code",
   "execution_count": 62,
   "metadata": {
    "trusted": true
   },
   "outputs": [
    {
     "data": {
      "image/png": "[encoded data removed]",
      "text/plain": [
       "<Figure size 1000x600 with 1 Axes>"
      ]
     },
     "metadata": {},
     "output_type": "display_data"
    }
   ],
   "source": [
    "# Compare the number of minutes users of each plan require each month. Plot a histogram.\n",
    "plt.figure(figsize=(10, 6))\n",
    "plt.hist(surf['total_minutes'], bins=10, alpha=0.5, label='Surf')\n",
    "plt.hist(ultimate['total_minutes'], bins=10, alpha=0.5, label='Ultimate')\n",
    "plt.xlabel('Total Minutes')\n",
    "plt.ylabel('Frequency')\n",
    "plt.title('Comparison of Total Minutes Required by Users Each Month')\n",
    "plt.legend()\n",
    "\n",
    "# Show the plot\n",
    "plt.show()"
   ]
  },
  {
   "cell_type": "markdown",
   "metadata": {},
   "source": [
    "[Calculate the mean and the variable of the call duration to reason on whether users on the different plans have different behaviours for their calls.]"
   ]
  },
  {
   "cell_type": "code",
   "execution_count": 63,
   "metadata": {
    "trusted": true
   },
   "outputs": [
    {
     "data": {
      "text/html": [
       "<div>\n",
       "<style scoped>\n",
       "    .dataframe tbody tr th:only-of-type {\n",
       "        vertical-align: middle;\n",
       "    }\n",
       "\n",
       "    .dataframe tbody tr th {\n",
       "        vertical-align: top;\n",
       "    }\n",
       "\n",
       "    .dataframe thead th {\n",
       "        text-align: right;\n",
       "    }\n",
       "</style>\n",
       "<table border=\"1\" class=\"dataframe\">\n",
       "  <thead>\n",
       "    <tr style=\"text-align: right;\">\n",
       "      <th></th>\n",
       "      <th>id</th>\n",
       "      <th>user_id</th>\n",
       "      <th>call_date</th>\n",
       "      <th>duration</th>\n",
       "      <th>call_date_month</th>\n",
       "      <th>call_date_day</th>\n",
       "      <th>up_duration</th>\n",
       "    </tr>\n",
       "  </thead>\n",
       "  <tbody>\n",
       "    <tr>\n",
       "      <th>0</th>\n",
       "      <td>1000_93</td>\n",
       "      <td>1000</td>\n",
       "      <td>2018-12-27</td>\n",
       "      <td>8.52</td>\n",
       "      <td>12</td>\n",
       "      <td>27</td>\n",
       "      <td>9</td>\n",
       "    </tr>\n",
       "    <tr>\n",
       "      <th>1</th>\n",
       "      <td>1000_145</td>\n",
       "      <td>1000</td>\n",
       "      <td>2018-12-27</td>\n",
       "      <td>13.66</td>\n",
       "      <td>12</td>\n",
       "      <td>27</td>\n",
       "      <td>14</td>\n",
       "    </tr>\n",
       "    <tr>\n",
       "      <th>2</th>\n",
       "      <td>1000_247</td>\n",
       "      <td>1000</td>\n",
       "      <td>2018-12-27</td>\n",
       "      <td>14.48</td>\n",
       "      <td>12</td>\n",
       "      <td>27</td>\n",
       "      <td>15</td>\n",
       "    </tr>\n",
       "    <tr>\n",
       "      <th>3</th>\n",
       "      <td>1000_309</td>\n",
       "      <td>1000</td>\n",
       "      <td>2018-12-28</td>\n",
       "      <td>5.76</td>\n",
       "      <td>12</td>\n",
       "      <td>28</td>\n",
       "      <td>6</td>\n",
       "    </tr>\n",
       "    <tr>\n",
       "      <th>4</th>\n",
       "      <td>1000_380</td>\n",
       "      <td>1000</td>\n",
       "      <td>2018-12-30</td>\n",
       "      <td>4.22</td>\n",
       "      <td>12</td>\n",
       "      <td>30</td>\n",
       "      <td>5</td>\n",
       "    </tr>\n",
       "  </tbody>\n",
       "</table>\n",
       "</div>"
      ],
      "text/plain": [
       "         id  user_id  call_date  duration  call_date_month  call_date_day  \\\n",
       "0   1000_93     1000 2018-12-27      8.52               12             27   \n",
       "1  1000_145     1000 2018-12-27     13.66               12             27   \n",
       "2  1000_247     1000 2018-12-27     14.48               12             27   \n",
       "3  1000_309     1000 2018-12-28      5.76               12             28   \n",
       "4  1000_380     1000 2018-12-30      4.22               12             30   \n",
       "\n",
       "   up_duration  \n",
       "0            9  \n",
       "1           14  \n",
       "2           15  \n",
       "3            6  \n",
       "4            5  "
      ]
     },
     "execution_count": 63,
     "metadata": {},
     "output_type": "execute_result"
    }
   ],
   "source": [
    "megaline_calls.head()"
   ]
  },
  {
   "cell_type": "code",
   "execution_count": 64,
   "metadata": {
    "trusted": true
   },
   "outputs": [
    {
     "data": {
      "text/html": [
       "<div>\n",
       "<style scoped>\n",
       "    .dataframe tbody tr th:only-of-type {\n",
       "        vertical-align: middle;\n",
       "    }\n",
       "\n",
       "    .dataframe tbody tr th {\n",
       "        vertical-align: top;\n",
       "    }\n",
       "\n",
       "    .dataframe thead th {\n",
       "        text-align: right;\n",
       "    }\n",
       "</style>\n",
       "<table border=\"1\" class=\"dataframe\">\n",
       "  <thead>\n",
       "    <tr style=\"text-align: right;\">\n",
       "      <th></th>\n",
       "      <th>call_date_month</th>\n",
       "      <th>mean</th>\n",
       "      <th>var</th>\n",
       "    </tr>\n",
       "  </thead>\n",
       "  <tbody>\n",
       "    <tr>\n",
       "      <th>0</th>\n",
       "      <td>1</td>\n",
       "      <td>6.501919</td>\n",
       "      <td>32.741969</td>\n",
       "    </tr>\n",
       "    <tr>\n",
       "      <th>1</th>\n",
       "      <td>2</td>\n",
       "      <td>6.701150</td>\n",
       "      <td>34.405031</td>\n",
       "    </tr>\n",
       "    <tr>\n",
       "      <th>2</th>\n",
       "      <td>3</td>\n",
       "      <td>6.531315</td>\n",
       "      <td>32.592684</td>\n",
       "    </tr>\n",
       "    <tr>\n",
       "      <th>3</th>\n",
       "      <td>4</td>\n",
       "      <td>6.759346</td>\n",
       "      <td>33.013931</td>\n",
       "    </tr>\n",
       "    <tr>\n",
       "      <th>4</th>\n",
       "      <td>5</td>\n",
       "      <td>6.739282</td>\n",
       "      <td>34.544859</td>\n",
       "    </tr>\n",
       "    <tr>\n",
       "      <th>5</th>\n",
       "      <td>6</td>\n",
       "      <td>6.804571</td>\n",
       "      <td>34.632745</td>\n",
       "    </tr>\n",
       "    <tr>\n",
       "      <th>6</th>\n",
       "      <td>7</td>\n",
       "      <td>6.770786</td>\n",
       "      <td>33.808500</td>\n",
       "    </tr>\n",
       "    <tr>\n",
       "      <th>7</th>\n",
       "      <td>8</td>\n",
       "      <td>6.690801</td>\n",
       "      <td>33.866955</td>\n",
       "    </tr>\n",
       "    <tr>\n",
       "      <th>8</th>\n",
       "      <td>9</td>\n",
       "      <td>6.741825</td>\n",
       "      <td>34.447367</td>\n",
       "    </tr>\n",
       "    <tr>\n",
       "      <th>9</th>\n",
       "      <td>10</td>\n",
       "      <td>6.704182</td>\n",
       "      <td>33.925327</td>\n",
       "    </tr>\n",
       "    <tr>\n",
       "      <th>10</th>\n",
       "      <td>11</td>\n",
       "      <td>6.753779</td>\n",
       "      <td>34.051191</td>\n",
       "    </tr>\n",
       "    <tr>\n",
       "      <th>11</th>\n",
       "      <td>12</td>\n",
       "      <td>6.783891</td>\n",
       "      <td>34.242762</td>\n",
       "    </tr>\n",
       "  </tbody>\n",
       "</table>\n",
       "</div>"
      ],
      "text/plain": [
       "    call_date_month      mean        var\n",
       "0                 1  6.501919  32.741969\n",
       "1                 2  6.701150  34.405031\n",
       "2                 3  6.531315  32.592684\n",
       "3                 4  6.759346  33.013931\n",
       "4                 5  6.739282  34.544859\n",
       "5                 6  6.804571  34.632745\n",
       "6                 7  6.770786  33.808500\n",
       "7                 8  6.690801  33.866955\n",
       "8                 9  6.741825  34.447367\n",
       "9                10  6.704182  33.925327\n",
       "10               11  6.753779  34.051191\n",
       "11               12  6.783891  34.242762"
      ]
     },
     "execution_count": 64,
     "metadata": {},
     "output_type": "execute_result"
    }
   ],
   "source": [
    "# Calculate the mean and the variance of the monthly call duration\n",
    "monthly_call_stats = megaline_calls.groupby(['call_date_month'])['duration'].agg(['mean', 'var']).reset_index()\n",
    "monthly_call_stats"
   ]
  },
  {
   "cell_type": "code",
   "execution_count": 65,
   "metadata": {
    "trusted": true
   },
   "outputs": [
    {
     "data": {
      "text/plain": [
       "<Figure size 800x600 with 0 Axes>"
      ]
     },
     "metadata": {},
     "output_type": "display_data"
    },
    {
     "data": {
      "image/png": "[encoded data removed]",
      "text/plain": [
       "<Figure size 640x480 with 1 Axes>"
      ]
     },
     "metadata": {},
     "output_type": "display_data"
    }
   ],
   "source": [
    "# Plot a boxplot to visualize the distribution of the monthly call duration\n",
    "plt.figure(figsize=(8, 6))\n",
    "megaline_calls.boxplot(column='duration', by=['call_date_month'])\n",
    "plt.xlabel('Year, Month')\n",
    "plt.ylabel('Call Duration')\n",
    "plt.show()"
   ]
  },
  {
   "cell_type": "code",
   "execution_count": 66,
   "metadata": {
    "trusted": true
   },
   "outputs": [
    {
     "data": {
      "text/html": [
       "<div>\n",
       "<style scoped>\n",
       "    .dataframe tbody tr th:only-of-type {\n",
       "        vertical-align: middle;\n",
       "    }\n",
       "\n",
       "    .dataframe tbody tr th {\n",
       "        vertical-align: top;\n",
       "    }\n",
       "\n",
       "    .dataframe thead th {\n",
       "        text-align: right;\n",
       "    }\n",
       "</style>\n",
       "<table border=\"1\" class=\"dataframe\">\n",
       "  <thead>\n",
       "    <tr style=\"text-align: right;\">\n",
       "      <th></th>\n",
       "      <th>id</th>\n",
       "      <th>user_id</th>\n",
       "      <th>call_date</th>\n",
       "      <th>duration</th>\n",
       "      <th>call_date_month</th>\n",
       "      <th>call_date_day</th>\n",
       "      <th>up_duration</th>\n",
       "      <th>plan</th>\n",
       "    </tr>\n",
       "  </thead>\n",
       "  <tbody>\n",
       "    <tr>\n",
       "      <th>0</th>\n",
       "      <td>1000_93</td>\n",
       "      <td>1000</td>\n",
       "      <td>2018-12-27</td>\n",
       "      <td>8.52</td>\n",
       "      <td>12</td>\n",
       "      <td>27</td>\n",
       "      <td>9</td>\n",
       "      <td>ultimate</td>\n",
       "    </tr>\n",
       "    <tr>\n",
       "      <th>1</th>\n",
       "      <td>1000_145</td>\n",
       "      <td>1000</td>\n",
       "      <td>2018-12-27</td>\n",
       "      <td>13.66</td>\n",
       "      <td>12</td>\n",
       "      <td>27</td>\n",
       "      <td>14</td>\n",
       "      <td>ultimate</td>\n",
       "    </tr>\n",
       "    <tr>\n",
       "      <th>2</th>\n",
       "      <td>1000_247</td>\n",
       "      <td>1000</td>\n",
       "      <td>2018-12-27</td>\n",
       "      <td>14.48</td>\n",
       "      <td>12</td>\n",
       "      <td>27</td>\n",
       "      <td>15</td>\n",
       "      <td>ultimate</td>\n",
       "    </tr>\n",
       "    <tr>\n",
       "      <th>3</th>\n",
       "      <td>1000_309</td>\n",
       "      <td>1000</td>\n",
       "      <td>2018-12-28</td>\n",
       "      <td>5.76</td>\n",
       "      <td>12</td>\n",
       "      <td>28</td>\n",
       "      <td>6</td>\n",
       "      <td>ultimate</td>\n",
       "    </tr>\n",
       "    <tr>\n",
       "      <th>4</th>\n",
       "      <td>1000_380</td>\n",
       "      <td>1000</td>\n",
       "      <td>2018-12-30</td>\n",
       "      <td>4.22</td>\n",
       "      <td>12</td>\n",
       "      <td>30</td>\n",
       "      <td>5</td>\n",
       "      <td>ultimate</td>\n",
       "    </tr>\n",
       "  </tbody>\n",
       "</table>\n",
       "</div>"
      ],
      "text/plain": [
       "         id  user_id  call_date  duration  call_date_month  call_date_day  \\\n",
       "0   1000_93     1000 2018-12-27      8.52               12             27   \n",
       "1  1000_145     1000 2018-12-27     13.66               12             27   \n",
       "2  1000_247     1000 2018-12-27     14.48               12             27   \n",
       "3  1000_309     1000 2018-12-28      5.76               12             28   \n",
       "4  1000_380     1000 2018-12-30      4.22               12             30   \n",
       "\n",
       "   up_duration      plan  \n",
       "0            9  ultimate  \n",
       "1           14  ultimate  \n",
       "2           15  ultimate  \n",
       "3            6  ultimate  \n",
       "4            5  ultimate  "
      ]
     },
     "execution_count": 66,
     "metadata": {},
     "output_type": "execute_result"
    }
   ],
   "source": [
    "megaline_calls= megaline_calls.merge(megaline_users[['user_id', 'plan']], on='user_id', how='left')\n",
    "megaline_calls.head()"
   ]
  },
  {
   "cell_type": "code",
   "execution_count": 67,
   "metadata": {
    "trusted": true
   },
   "outputs": [
    {
     "data": {
      "text/html": [
       "<div>\n",
       "<style scoped>\n",
       "    .dataframe tbody tr th:only-of-type {\n",
       "        vertical-align: middle;\n",
       "    }\n",
       "\n",
       "    .dataframe tbody tr th {\n",
       "        vertical-align: top;\n",
       "    }\n",
       "\n",
       "    .dataframe thead th {\n",
       "        text-align: right;\n",
       "    }\n",
       "</style>\n",
       "<table border=\"1\" class=\"dataframe\">\n",
       "  <thead>\n",
       "    <tr style=\"text-align: right;\">\n",
       "      <th></th>\n",
       "      <th>call_date_month</th>\n",
       "      <th>mean</th>\n",
       "      <th>var</th>\n",
       "    </tr>\n",
       "  </thead>\n",
       "  <tbody>\n",
       "    <tr>\n",
       "      <th>0</th>\n",
       "      <td>1</td>\n",
       "      <td>6.541518</td>\n",
       "      <td>35.442188</td>\n",
       "    </tr>\n",
       "    <tr>\n",
       "      <th>1</th>\n",
       "      <td>2</td>\n",
       "      <td>6.517230</td>\n",
       "      <td>33.688628</td>\n",
       "    </tr>\n",
       "    <tr>\n",
       "      <th>2</th>\n",
       "      <td>3</td>\n",
       "      <td>6.210906</td>\n",
       "      <td>32.882171</td>\n",
       "    </tr>\n",
       "    <tr>\n",
       "      <th>3</th>\n",
       "      <td>4</td>\n",
       "      <td>6.659990</td>\n",
       "      <td>32.071262</td>\n",
       "    </tr>\n",
       "    <tr>\n",
       "      <th>4</th>\n",
       "      <td>5</td>\n",
       "      <td>6.662443</td>\n",
       "      <td>34.371065</td>\n",
       "    </tr>\n",
       "    <tr>\n",
       "      <th>5</th>\n",
       "      <td>6</td>\n",
       "      <td>6.705188</td>\n",
       "      <td>33.435551</td>\n",
       "    </tr>\n",
       "    <tr>\n",
       "      <th>6</th>\n",
       "      <td>7</td>\n",
       "      <td>6.879085</td>\n",
       "      <td>34.567847</td>\n",
       "    </tr>\n",
       "    <tr>\n",
       "      <th>7</th>\n",
       "      <td>8</td>\n",
       "      <td>6.613484</td>\n",
       "      <td>33.681555</td>\n",
       "    </tr>\n",
       "    <tr>\n",
       "      <th>8</th>\n",
       "      <td>9</td>\n",
       "      <td>6.770040</td>\n",
       "      <td>34.019359</td>\n",
       "    </tr>\n",
       "    <tr>\n",
       "      <th>9</th>\n",
       "      <td>10</td>\n",
       "      <td>6.665850</td>\n",
       "      <td>34.206399</td>\n",
       "    </tr>\n",
       "    <tr>\n",
       "      <th>10</th>\n",
       "      <td>11</td>\n",
       "      <td>6.742506</td>\n",
       "      <td>34.741937</td>\n",
       "    </tr>\n",
       "    <tr>\n",
       "      <th>11</th>\n",
       "      <td>12</td>\n",
       "      <td>6.671929</td>\n",
       "      <td>33.363816</td>\n",
       "    </tr>\n",
       "  </tbody>\n",
       "</table>\n",
       "</div>"
      ],
      "text/plain": [
       "    call_date_month      mean        var\n",
       "0                 1  6.541518  35.442188\n",
       "1                 2  6.517230  33.688628\n",
       "2                 3  6.210906  32.882171\n",
       "3                 4  6.659990  32.071262\n",
       "4                 5  6.662443  34.371065\n",
       "5                 6  6.705188  33.435551\n",
       "6                 7  6.879085  34.567847\n",
       "7                 8  6.613484  33.681555\n",
       "8                 9  6.770040  34.019359\n",
       "9                10  6.665850  34.206399\n",
       "10               11  6.742506  34.741937\n",
       "11               12  6.671929  33.363816"
      ]
     },
     "execution_count": 67,
     "metadata": {},
     "output_type": "execute_result"
    }
   ],
   "source": [
    "monthly_call_stats_ultimate = megaline_calls[megaline_calls['plan']=='ultimate'].groupby(['call_date_month'])['duration'].agg(['mean', 'var']).reset_index()\n",
    "monthly_call_stats_ultimate"
   ]
  },
  {
   "cell_type": "code",
   "execution_count": 68,
   "metadata": {
    "trusted": true
   },
   "outputs": [
    {
     "data": {
      "text/plain": [
       "<Figure size 800x600 with 0 Axes>"
      ]
     },
     "metadata": {},
     "output_type": "display_data"
    },
    {
     "data": {
      "image/png": "[encoded data removed]",
      "text/plain": [
       "<Figure size 640x480 with 1 Axes>"
      ]
     },
     "metadata": {},
     "output_type": "display_data"
    }
   ],
   "source": [
    "#ultimate boxplot\n",
    "plt.figure(figsize=(8, 6))\n",
    "megaline_calls[megaline_calls['plan']=='ultimate'].boxplot(column='duration', by=['call_date_month'])\n",
    "plt.xlabel('Year, Month')\n",
    "plt.ylabel('Call Duration')\n",
    "plt.show()"
   ]
  },
  {
   "cell_type": "code",
   "execution_count": 69,
   "metadata": {
    "trusted": true
   },
   "outputs": [
    {
     "data": {
      "text/html": [
       "<div>\n",
       "<style scoped>\n",
       "    .dataframe tbody tr th:only-of-type {\n",
       "        vertical-align: middle;\n",
       "    }\n",
       "\n",
       "    .dataframe tbody tr th {\n",
       "        vertical-align: top;\n",
       "    }\n",
       "\n",
       "    .dataframe thead th {\n",
       "        text-align: right;\n",
       "    }\n",
       "</style>\n",
       "<table border=\"1\" class=\"dataframe\">\n",
       "  <thead>\n",
       "    <tr style=\"text-align: right;\">\n",
       "      <th></th>\n",
       "      <th>call_date_month</th>\n",
       "      <th>mean</th>\n",
       "      <th>var</th>\n",
       "    </tr>\n",
       "  </thead>\n",
       "  <tbody>\n",
       "    <tr>\n",
       "      <th>0</th>\n",
       "      <td>1</td>\n",
       "      <td>6.428000</td>\n",
       "      <td>28.208311</td>\n",
       "    </tr>\n",
       "    <tr>\n",
       "      <th>1</th>\n",
       "      <td>2</td>\n",
       "      <td>6.906175</td>\n",
       "      <td>35.218169</td>\n",
       "    </tr>\n",
       "    <tr>\n",
       "      <th>2</th>\n",
       "      <td>3</td>\n",
       "      <td>6.696919</td>\n",
       "      <td>32.393177</td>\n",
       "    </tr>\n",
       "    <tr>\n",
       "      <th>3</th>\n",
       "      <td>4</td>\n",
       "      <td>6.799918</td>\n",
       "      <td>33.406473</td>\n",
       "    </tr>\n",
       "    <tr>\n",
       "      <th>4</th>\n",
       "      <td>5</td>\n",
       "      <td>6.769200</td>\n",
       "      <td>34.617366</td>\n",
       "    </tr>\n",
       "    <tr>\n",
       "      <th>5</th>\n",
       "      <td>6</td>\n",
       "      <td>6.846812</td>\n",
       "      <td>35.141490</td>\n",
       "    </tr>\n",
       "    <tr>\n",
       "      <th>6</th>\n",
       "      <td>7</td>\n",
       "      <td>6.721710</td>\n",
       "      <td>33.461154</td>\n",
       "    </tr>\n",
       "    <tr>\n",
       "      <th>7</th>\n",
       "      <td>8</td>\n",
       "      <td>6.726164</td>\n",
       "      <td>33.951388</td>\n",
       "    </tr>\n",
       "    <tr>\n",
       "      <th>8</th>\n",
       "      <td>9</td>\n",
       "      <td>6.728684</td>\n",
       "      <td>34.649189</td>\n",
       "    </tr>\n",
       "    <tr>\n",
       "      <th>9</th>\n",
       "      <td>10</td>\n",
       "      <td>6.722302</td>\n",
       "      <td>33.793825</td>\n",
       "    </tr>\n",
       "    <tr>\n",
       "      <th>10</th>\n",
       "      <td>11</td>\n",
       "      <td>6.759115</td>\n",
       "      <td>33.726179</td>\n",
       "    </tr>\n",
       "    <tr>\n",
       "      <th>11</th>\n",
       "      <td>12</td>\n",
       "      <td>6.836607</td>\n",
       "      <td>34.649544</td>\n",
       "    </tr>\n",
       "  </tbody>\n",
       "</table>\n",
       "</div>"
      ],
      "text/plain": [
       "    call_date_month      mean        var\n",
       "0                 1  6.428000  28.208311\n",
       "1                 2  6.906175  35.218169\n",
       "2                 3  6.696919  32.393177\n",
       "3                 4  6.799918  33.406473\n",
       "4                 5  6.769200  34.617366\n",
       "5                 6  6.846812  35.141490\n",
       "6                 7  6.721710  33.461154\n",
       "7                 8  6.726164  33.951388\n",
       "8                 9  6.728684  34.649189\n",
       "9                10  6.722302  33.793825\n",
       "10               11  6.759115  33.726179\n",
       "11               12  6.836607  34.649544"
      ]
     },
     "execution_count": 69,
     "metadata": {},
     "output_type": "execute_result"
    }
   ],
   "source": [
    "monthly_call_stats_surf = megaline_calls[megaline_calls['plan']=='surf'].groupby(['call_date_month'])['duration'].agg(['mean', 'var']).reset_index()\n",
    "monthly_call_stats_surf"
   ]
  },
  {
   "cell_type": "code",
   "execution_count": 70,
   "metadata": {
    "trusted": true
   },
   "outputs": [
    {
     "data": {
      "text/plain": [
       "<Figure size 800x600 with 0 Axes>"
      ]
     },
     "metadata": {},
     "output_type": "display_data"
    },
    {
     "data": {
      "image/png": "[encoded data removed]",
      "text/plain": [
       "<Figure size 640x480 with 1 Axes>"
      ]
     },
     "metadata": {},
     "output_type": "display_data"
    }
   ],
   "source": [
    "#ultimate boxplot\n",
    "plt.figure(figsize=(8, 6))\n",
    "megaline_calls[megaline_calls['plan']=='surf'].boxplot(column='duration', by=['call_date_month'])\n",
    "plt.xlabel('Year, Month')\n",
    "plt.ylabel('Call Duration')\n",
    "plt.show()"
   ]
  },
  {
   "cell_type": "markdown",
   "metadata": {},
   "source": [
    "[Formulate conclusions on how the users behave in terms of calling. Is their behaviour different between the plans?]"
   ]
  },
  {
   "cell_type": "markdown",
   "metadata": {},
   "source": [
    "It seams that people on both plans talk on average 6 to 8 minutes without the plan influencing it at all"
   ]
  },
  {
   "cell_type": "markdown",
   "metadata": {},
   "source": [
    "### Messages"
   ]
  },
  {
   "cell_type": "code",
   "execution_count": 71,
   "metadata": {
    "trusted": true
   },
   "outputs": [
    {
     "data": {
      "text/html": [
       "<div>\n",
       "<style scoped>\n",
       "    .dataframe tbody tr th:only-of-type {\n",
       "        vertical-align: middle;\n",
       "    }\n",
       "\n",
       "    .dataframe tbody tr th {\n",
       "        vertical-align: top;\n",
       "    }\n",
       "\n",
       "    .dataframe thead th {\n",
       "        text-align: right;\n",
       "    }\n",
       "</style>\n",
       "<table border=\"1\" class=\"dataframe\">\n",
       "  <thead>\n",
       "    <tr style=\"text-align: right;\">\n",
       "      <th></th>\n",
       "      <th>num_messages</th>\n",
       "      <th>extra_messages</th>\n",
       "    </tr>\n",
       "  </thead>\n",
       "  <tbody>\n",
       "    <tr>\n",
       "      <th>count</th>\n",
       "      <td>720.000000</td>\n",
       "      <td>720.0</td>\n",
       "    </tr>\n",
       "    <tr>\n",
       "      <th>mean</th>\n",
       "      <td>37.551389</td>\n",
       "      <td>0.0</td>\n",
       "    </tr>\n",
       "    <tr>\n",
       "      <th>std</th>\n",
       "      <td>34.767179</td>\n",
       "      <td>0.0</td>\n",
       "    </tr>\n",
       "    <tr>\n",
       "      <th>min</th>\n",
       "      <td>0.000000</td>\n",
       "      <td>0.0</td>\n",
       "    </tr>\n",
       "    <tr>\n",
       "      <th>25%</th>\n",
       "      <td>7.000000</td>\n",
       "      <td>0.0</td>\n",
       "    </tr>\n",
       "    <tr>\n",
       "      <th>50%</th>\n",
       "      <td>30.000000</td>\n",
       "      <td>0.0</td>\n",
       "    </tr>\n",
       "    <tr>\n",
       "      <th>75%</th>\n",
       "      <td>61.000000</td>\n",
       "      <td>0.0</td>\n",
       "    </tr>\n",
       "    <tr>\n",
       "      <th>max</th>\n",
       "      <td>166.000000</td>\n",
       "      <td>0.0</td>\n",
       "    </tr>\n",
       "  </tbody>\n",
       "</table>\n",
       "</div>"
      ],
      "text/plain": [
       "       num_messages  extra_messages\n",
       "count    720.000000           720.0\n",
       "mean      37.551389             0.0\n",
       "std       34.767179             0.0\n",
       "min        0.000000             0.0\n",
       "25%        7.000000             0.0\n",
       "50%       30.000000             0.0\n",
       "75%       61.000000             0.0\n",
       "max      166.000000             0.0"
      ]
     },
     "execution_count": 71,
     "metadata": {},
     "output_type": "execute_result"
    }
   ],
   "source": [
    "# Compare the number of messages users of each plan tend to send each month\n",
    "#Ultimate statistics \n",
    "ultimate[['num_messages', 'extra_messages']].describe()"
   ]
  },
  {
   "cell_type": "code",
   "execution_count": 72,
   "metadata": {
    "trusted": true
   },
   "outputs": [
    {
     "data": {
      "text/plain": [
       "num_messages      27037.0\n",
       "extra_messages        0.0\n",
       "dtype: float64"
      ]
     },
     "execution_count": 72,
     "metadata": {},
     "output_type": "execute_result"
    }
   ],
   "source": [
    "ultimate[['num_messages', 'extra_messages']].sum()"
   ]
  },
  {
   "cell_type": "code",
   "execution_count": 73,
   "metadata": {
    "trusted": true
   },
   "outputs": [
    {
     "data": {
      "text/html": [
       "<div>\n",
       "<style scoped>\n",
       "    .dataframe tbody tr th:only-of-type {\n",
       "        vertical-align: middle;\n",
       "    }\n",
       "\n",
       "    .dataframe tbody tr th {\n",
       "        vertical-align: top;\n",
       "    }\n",
       "\n",
       "    .dataframe thead th {\n",
       "        text-align: right;\n",
       "    }\n",
       "</style>\n",
       "<table border=\"1\" class=\"dataframe\">\n",
       "  <thead>\n",
       "    <tr style=\"text-align: right;\">\n",
       "      <th></th>\n",
       "      <th>num_messages</th>\n",
       "      <th>extra_messages</th>\n",
       "    </tr>\n",
       "  </thead>\n",
       "  <tbody>\n",
       "    <tr>\n",
       "      <th>count</th>\n",
       "      <td>1573.000000</td>\n",
       "      <td>1573.000000</td>\n",
       "    </tr>\n",
       "    <tr>\n",
       "      <th>mean</th>\n",
       "      <td>31.159568</td>\n",
       "      <td>7.012715</td>\n",
       "    </tr>\n",
       "    <tr>\n",
       "      <th>std</th>\n",
       "      <td>33.566717</td>\n",
       "      <td>19.470891</td>\n",
       "    </tr>\n",
       "    <tr>\n",
       "      <th>min</th>\n",
       "      <td>0.000000</td>\n",
       "      <td>0.000000</td>\n",
       "    </tr>\n",
       "    <tr>\n",
       "      <th>25%</th>\n",
       "      <td>3.000000</td>\n",
       "      <td>0.000000</td>\n",
       "    </tr>\n",
       "    <tr>\n",
       "      <th>50%</th>\n",
       "      <td>24.000000</td>\n",
       "      <td>0.000000</td>\n",
       "    </tr>\n",
       "    <tr>\n",
       "      <th>75%</th>\n",
       "      <td>47.000000</td>\n",
       "      <td>0.000000</td>\n",
       "    </tr>\n",
       "    <tr>\n",
       "      <th>max</th>\n",
       "      <td>266.000000</td>\n",
       "      <td>216.000000</td>\n",
       "    </tr>\n",
       "  </tbody>\n",
       "</table>\n",
       "</div>"
      ],
      "text/plain": [
       "       num_messages  extra_messages\n",
       "count   1573.000000     1573.000000\n",
       "mean      31.159568        7.012715\n",
       "std       33.566717       19.470891\n",
       "min        0.000000        0.000000\n",
       "25%        3.000000        0.000000\n",
       "50%       24.000000        0.000000\n",
       "75%       47.000000        0.000000\n",
       "max      266.000000      216.000000"
      ]
     },
     "execution_count": 73,
     "metadata": {},
     "output_type": "execute_result"
    }
   ],
   "source": [
    "#surf statistics \n",
    "surf[['num_messages', 'extra_messages']].describe()\n"
   ]
  },
  {
   "cell_type": "code",
   "execution_count": 74,
   "metadata": {
    "trusted": true
   },
   "outputs": [
    {
     "data": {
      "text/plain": [
       "num_messages      49014.0\n",
       "extra_messages    11031.0\n",
       "dtype: float64"
      ]
     },
     "execution_count": 74,
     "metadata": {},
     "output_type": "execute_result"
    }
   ],
   "source": [
    "surf[['num_messages', 'extra_messages']].sum()\n"
   ]
  },
  {
   "cell_type": "markdown",
   "metadata": {},
   "source": [
    "[Formulate conclusions on how the users behave in terms of messaging. Is their behaviour different between the plans?]"
   ]
  },
  {
   "cell_type": "markdown",
   "metadata": {},
   "source": [
    "No one on the ultimate plan would exceeds their message limit, and they send on average more messages than surf users, and everything else sounds normal "
   ]
  },
  {
   "cell_type": "markdown",
   "metadata": {},
   "source": [
    "### Internet"
   ]
  },
  {
   "cell_type": "code",
   "execution_count": 75,
   "metadata": {
    "trusted": true
   },
   "outputs": [
    {
     "data": {
      "text/html": [
       "<div>\n",
       "<style scoped>\n",
       "    .dataframe tbody tr th:only-of-type {\n",
       "        vertical-align: middle;\n",
       "    }\n",
       "\n",
       "    .dataframe tbody tr th {\n",
       "        vertical-align: top;\n",
       "    }\n",
       "\n",
       "    .dataframe thead th {\n",
       "        text-align: right;\n",
       "    }\n",
       "</style>\n",
       "<table border=\"1\" class=\"dataframe\">\n",
       "  <thead>\n",
       "    <tr style=\"text-align: right;\">\n",
       "      <th></th>\n",
       "      <th>gb_month</th>\n",
       "      <th>mb_month</th>\n",
       "      <th>extra_gb</th>\n",
       "    </tr>\n",
       "  </thead>\n",
       "  <tbody>\n",
       "    <tr>\n",
       "      <th>count</th>\n",
       "      <td>720.000000</td>\n",
       "      <td>720.000000</td>\n",
       "      <td>720.000000</td>\n",
       "    </tr>\n",
       "    <tr>\n",
       "      <th>mean</th>\n",
       "      <td>17.306944</td>\n",
       "      <td>17214.699694</td>\n",
       "      <td>0.330556</td>\n",
       "    </tr>\n",
       "    <tr>\n",
       "      <th>std</th>\n",
       "      <td>7.670108</td>\n",
       "      <td>7851.897435</td>\n",
       "      <td>1.627873</td>\n",
       "    </tr>\n",
       "    <tr>\n",
       "      <th>min</th>\n",
       "      <td>0.000000</td>\n",
       "      <td>0.000000</td>\n",
       "      <td>0.000000</td>\n",
       "    </tr>\n",
       "    <tr>\n",
       "      <th>25%</th>\n",
       "      <td>13.000000</td>\n",
       "      <td>12666.955000</td>\n",
       "      <td>0.000000</td>\n",
       "    </tr>\n",
       "    <tr>\n",
       "      <th>50%</th>\n",
       "      <td>17.000000</td>\n",
       "      <td>16858.340000</td>\n",
       "      <td>0.000000</td>\n",
       "    </tr>\n",
       "    <tr>\n",
       "      <th>75%</th>\n",
       "      <td>21.000000</td>\n",
       "      <td>21014.527500</td>\n",
       "      <td>0.000000</td>\n",
       "    </tr>\n",
       "    <tr>\n",
       "      <th>max</th>\n",
       "      <td>46.000000</td>\n",
       "      <td>46595.330000</td>\n",
       "      <td>16.000000</td>\n",
       "    </tr>\n",
       "  </tbody>\n",
       "</table>\n",
       "</div>"
      ],
      "text/plain": [
       "         gb_month      mb_month    extra_gb\n",
       "count  720.000000    720.000000  720.000000\n",
       "mean    17.306944  17214.699694    0.330556\n",
       "std      7.670108   7851.897435    1.627873\n",
       "min      0.000000      0.000000    0.000000\n",
       "25%     13.000000  12666.955000    0.000000\n",
       "50%     17.000000  16858.340000    0.000000\n",
       "75%     21.000000  21014.527500    0.000000\n",
       "max     46.000000  46595.330000   16.000000"
      ]
     },
     "execution_count": 75,
     "metadata": {},
     "output_type": "execute_result"
    }
   ],
   "source": [
    "# Compare the amount of internet traffic consumed by users per plan\n",
    "ultimate[['gb_month', 'mb_month','extra_gb']].describe()"
   ]
  },
  {
   "cell_type": "code",
   "execution_count": 76,
   "metadata": {
    "trusted": true
   },
   "outputs": [
    {
     "data": {
      "text/plain": [
       "gb_month       12461.00\n",
       "mb_month    12394583.78\n",
       "extra_gb         238.00\n",
       "dtype: float64"
      ]
     },
     "execution_count": 76,
     "metadata": {},
     "output_type": "execute_result"
    }
   ],
   "source": [
    "ultimate[['gb_month', 'mb_month','extra_gb']].sum()"
   ]
  },
  {
   "cell_type": "code",
   "execution_count": 77,
   "metadata": {
    "trusted": true
   },
   "outputs": [
    {
     "data": {
      "text/html": [
       "<div>\n",
       "<style scoped>\n",
       "    .dataframe tbody tr th:only-of-type {\n",
       "        vertical-align: middle;\n",
       "    }\n",
       "\n",
       "    .dataframe tbody tr th {\n",
       "        vertical-align: top;\n",
       "    }\n",
       "\n",
       "    .dataframe thead th {\n",
       "        text-align: right;\n",
       "    }\n",
       "</style>\n",
       "<table border=\"1\" class=\"dataframe\">\n",
       "  <thead>\n",
       "    <tr style=\"text-align: right;\">\n",
       "      <th></th>\n",
       "      <th>gb_month</th>\n",
       "      <th>mb_month</th>\n",
       "      <th>extra_gb</th>\n",
       "    </tr>\n",
       "  </thead>\n",
       "  <tbody>\n",
       "    <tr>\n",
       "      <th>count</th>\n",
       "      <td>1573.000000</td>\n",
       "      <td>1573.000000</td>\n",
       "      <td>1573.000000</td>\n",
       "    </tr>\n",
       "    <tr>\n",
       "      <th>mean</th>\n",
       "      <td>16.670693</td>\n",
       "      <td>16558.283490</td>\n",
       "      <td>3.865226</td>\n",
       "    </tr>\n",
       "    <tr>\n",
       "      <th>std</th>\n",
       "      <td>7.847522</td>\n",
       "      <td>8013.513327</td>\n",
       "      <td>5.445627</td>\n",
       "    </tr>\n",
       "    <tr>\n",
       "      <th>min</th>\n",
       "      <td>0.000000</td>\n",
       "      <td>0.000000</td>\n",
       "      <td>0.000000</td>\n",
       "    </tr>\n",
       "    <tr>\n",
       "      <th>25%</th>\n",
       "      <td>12.000000</td>\n",
       "      <td>11986.520000</td>\n",
       "      <td>0.000000</td>\n",
       "    </tr>\n",
       "    <tr>\n",
       "      <th>50%</th>\n",
       "      <td>17.000000</td>\n",
       "      <td>16829.310000</td>\n",
       "      <td>2.000000</td>\n",
       "    </tr>\n",
       "    <tr>\n",
       "      <th>75%</th>\n",
       "      <td>21.000000</td>\n",
       "      <td>20999.610000</td>\n",
       "      <td>6.000000</td>\n",
       "    </tr>\n",
       "    <tr>\n",
       "      <th>max</th>\n",
       "      <td>70.000000</td>\n",
       "      <td>70931.590000</td>\n",
       "      <td>55.000000</td>\n",
       "    </tr>\n",
       "  </tbody>\n",
       "</table>\n",
       "</div>"
      ],
      "text/plain": [
       "          gb_month      mb_month     extra_gb\n",
       "count  1573.000000   1573.000000  1573.000000\n",
       "mean     16.670693  16558.283490     3.865226\n",
       "std       7.847522   8013.513327     5.445627\n",
       "min       0.000000      0.000000     0.000000\n",
       "25%      12.000000  11986.520000     0.000000\n",
       "50%      17.000000  16829.310000     2.000000\n",
       "75%      21.000000  20999.610000     6.000000\n",
       "max      70.000000  70931.590000    55.000000"
      ]
     },
     "execution_count": 77,
     "metadata": {},
     "output_type": "execute_result"
    }
   ],
   "source": [
    "surf[['gb_month', 'mb_month','extra_gb']].describe()"
   ]
  },
  {
   "cell_type": "code",
   "execution_count": 78,
   "metadata": {
    "trusted": true
   },
   "outputs": [
    {
     "data": {
      "text/plain": [
       "gb_month       26223.00\n",
       "mb_month    26046179.93\n",
       "extra_gb        6080.00\n",
       "dtype: float64"
      ]
     },
     "execution_count": 78,
     "metadata": {},
     "output_type": "execute_result"
    }
   ],
   "source": [
    "surf[['gb_month', 'mb_month','extra_gb']].sum()"
   ]
  },
  {
   "cell_type": "markdown",
   "metadata": {},
   "source": [
    "[Formulate conclusions on how the users tend to consume the internet traffic? Is their behaviour different between the plans?]"
   ]
  },
  {
   "cell_type": "markdown",
   "metadata": {},
   "source": [
    "both plans users use almost the same amount of data with a slight increase in the average use in ultimate users, and surf users needs on average more 4 gb on their plane"
   ]
  },
  {
   "cell_type": "markdown",
   "metadata": {},
   "source": [
    "## Revenue"
   ]
  },
  {
   "cell_type": "markdown",
   "metadata": {},
   "source": [
    "[Likewise you have studied the user behaviour, statistically describe the revenue between the plans.]"
   ]
  },
  {
   "cell_type": "code",
   "execution_count": 79,
   "metadata": {
    "trusted": true
   },
   "outputs": [
    {
     "data": {
      "text/html": [
       "<div>\n",
       "<style scoped>\n",
       "    .dataframe tbody tr th:only-of-type {\n",
       "        vertical-align: middle;\n",
       "    }\n",
       "\n",
       "    .dataframe tbody tr th {\n",
       "        vertical-align: top;\n",
       "    }\n",
       "\n",
       "    .dataframe thead th {\n",
       "        text-align: right;\n",
       "    }\n",
       "</style>\n",
       "<table border=\"1\" class=\"dataframe\">\n",
       "  <thead>\n",
       "    <tr style=\"text-align: right;\">\n",
       "      <th></th>\n",
       "      <th>index</th>\n",
       "      <th>user_id</th>\n",
       "      <th>month</th>\n",
       "      <th>num_calls</th>\n",
       "      <th>total_minutes</th>\n",
       "      <th>num_messages</th>\n",
       "      <th>mb_month</th>\n",
       "      <th>gb_month</th>\n",
       "      <th>plan</th>\n",
       "      <th>extra_min</th>\n",
       "      <th>extra_messages</th>\n",
       "      <th>extra_gb</th>\n",
       "      <th>revenue_usd</th>\n",
       "      <th>avg_duration_call</th>\n",
       "    </tr>\n",
       "  </thead>\n",
       "  <tbody>\n",
       "    <tr>\n",
       "      <th>0</th>\n",
       "      <td>1</td>\n",
       "      <td>1001</td>\n",
       "      <td>8</td>\n",
       "      <td>27.0</td>\n",
       "      <td>182.0</td>\n",
       "      <td>30.0</td>\n",
       "      <td>6919.15</td>\n",
       "      <td>7.0</td>\n",
       "      <td>surf</td>\n",
       "      <td>0.0</td>\n",
       "      <td>0.0</td>\n",
       "      <td>0.0</td>\n",
       "      <td>20.00</td>\n",
       "      <td>6.74</td>\n",
       "    </tr>\n",
       "    <tr>\n",
       "      <th>1</th>\n",
       "      <td>2</td>\n",
       "      <td>1001</td>\n",
       "      <td>9</td>\n",
       "      <td>49.0</td>\n",
       "      <td>315.0</td>\n",
       "      <td>44.0</td>\n",
       "      <td>13314.82</td>\n",
       "      <td>14.0</td>\n",
       "      <td>surf</td>\n",
       "      <td>0.0</td>\n",
       "      <td>0.0</td>\n",
       "      <td>0.0</td>\n",
       "      <td>20.00</td>\n",
       "      <td>6.43</td>\n",
       "    </tr>\n",
       "    <tr>\n",
       "      <th>2</th>\n",
       "      <td>3</td>\n",
       "      <td>1001</td>\n",
       "      <td>10</td>\n",
       "      <td>65.0</td>\n",
       "      <td>393.0</td>\n",
       "      <td>53.0</td>\n",
       "      <td>22330.49</td>\n",
       "      <td>22.0</td>\n",
       "      <td>surf</td>\n",
       "      <td>0.0</td>\n",
       "      <td>3.0</td>\n",
       "      <td>7.0</td>\n",
       "      <td>90.09</td>\n",
       "      <td>6.05</td>\n",
       "    </tr>\n",
       "    <tr>\n",
       "      <th>3</th>\n",
       "      <td>4</td>\n",
       "      <td>1001</td>\n",
       "      <td>11</td>\n",
       "      <td>64.0</td>\n",
       "      <td>426.0</td>\n",
       "      <td>36.0</td>\n",
       "      <td>18504.30</td>\n",
       "      <td>19.0</td>\n",
       "      <td>surf</td>\n",
       "      <td>0.0</td>\n",
       "      <td>0.0</td>\n",
       "      <td>4.0</td>\n",
       "      <td>60.00</td>\n",
       "      <td>6.66</td>\n",
       "    </tr>\n",
       "    <tr>\n",
       "      <th>4</th>\n",
       "      <td>5</td>\n",
       "      <td>1001</td>\n",
       "      <td>12</td>\n",
       "      <td>56.0</td>\n",
       "      <td>412.0</td>\n",
       "      <td>44.0</td>\n",
       "      <td>19369.18</td>\n",
       "      <td>19.0</td>\n",
       "      <td>surf</td>\n",
       "      <td>0.0</td>\n",
       "      <td>0.0</td>\n",
       "      <td>4.0</td>\n",
       "      <td>60.00</td>\n",
       "      <td>7.36</td>\n",
       "    </tr>\n",
       "  </tbody>\n",
       "</table>\n",
       "</div>"
      ],
      "text/plain": [
       "   index  user_id  month  num_calls  total_minutes  num_messages  mb_month  \\\n",
       "0      1     1001      8       27.0          182.0          30.0   6919.15   \n",
       "1      2     1001      9       49.0          315.0          44.0  13314.82   \n",
       "2      3     1001     10       65.0          393.0          53.0  22330.49   \n",
       "3      4     1001     11       64.0          426.0          36.0  18504.30   \n",
       "4      5     1001     12       56.0          412.0          44.0  19369.18   \n",
       "\n",
       "   gb_month  plan  extra_min  extra_messages  extra_gb  revenue_usd  \\\n",
       "0       7.0  surf        0.0             0.0       0.0        20.00   \n",
       "1      14.0  surf        0.0             0.0       0.0        20.00   \n",
       "2      22.0  surf        0.0             3.0       7.0        90.09   \n",
       "3      19.0  surf        0.0             0.0       4.0        60.00   \n",
       "4      19.0  surf        0.0             0.0       4.0        60.00   \n",
       "\n",
       "   avg_duration_call  \n",
       "0               6.74  \n",
       "1               6.43  \n",
       "2               6.05  \n",
       "3               6.66  \n",
       "4               7.36  "
      ]
     },
     "execution_count": 79,
     "metadata": {},
     "output_type": "execute_result"
    }
   ],
   "source": [
    "surf.head()"
   ]
  },
  {
   "cell_type": "code",
   "execution_count": 80,
   "metadata": {
    "trusted": true
   },
   "outputs": [
    {
     "data": {
      "text/plain": [
       "count    720.000000\n",
       "mean      72.313889\n",
       "std       11.395108\n",
       "min       70.000000\n",
       "25%       70.000000\n",
       "50%       70.000000\n",
       "75%       70.000000\n",
       "max      182.000000\n",
       "Name: revenue_usd, dtype: float64"
      ]
     },
     "execution_count": 80,
     "metadata": {},
     "output_type": "execute_result"
    }
   ],
   "source": [
    "# ultimate\n",
    "ultimate['revenue_usd'].describe()"
   ]
  },
  {
   "cell_type": "code",
   "execution_count": 81,
   "metadata": {
    "trusted": true
   },
   "outputs": [
    {
     "name": "stdout",
     "output_type": "stream",
     "text": [
      "total is:  52066.0\n",
      "average user pays:  72.31\n"
     ]
    }
   ],
   "source": [
    "print('total is: ', ultimate['revenue_usd'].sum())\n",
    "print('average user pays: ', round(ultimate['revenue_usd'].sum()/ultimate['revenue_usd'].count(), 2))"
   ]
  },
  {
   "cell_type": "code",
   "execution_count": 82,
   "metadata": {
    "trusted": true
   },
   "outputs": [
    {
     "data": {
      "text/plain": [
       "count    1573.000000\n",
       "mean       60.706408\n",
       "std        55.388042\n",
       "min        20.000000\n",
       "25%        20.000000\n",
       "50%        40.360000\n",
       "75%        80.360000\n",
       "max       590.370000\n",
       "Name: revenue_usd, dtype: float64"
      ]
     },
     "execution_count": 82,
     "metadata": {},
     "output_type": "execute_result"
    }
   ],
   "source": [
    "#surf\n",
    "surf['revenue_usd'].describe()"
   ]
  },
  {
   "cell_type": "code",
   "execution_count": 83,
   "metadata": {
    "trusted": true
   },
   "outputs": [
    {
     "name": "stdout",
     "output_type": "stream",
     "text": [
      "total is:  95491.18\n",
      "average user pays:  60.71\n"
     ]
    }
   ],
   "source": [
    "print('total is: ', surf['revenue_usd'].sum())\n",
    "print('average user pays: ', round(surf['revenue_usd'].sum()/surf['revenue_usd'].count(), 2))"
   ]
  },
  {
   "cell_type": "markdown",
   "metadata": {},
   "source": [
    "[Formulate conclusions about how the revenue differs between the plans.]"
   ]
  },
  {
   "cell_type": "markdown",
   "metadata": {},
   "source": [
    "It's surbrising that our surf users pays around $40 extra each month on average while ultimate plan pays only $2 extra, the big diffrence is not big in revenue but surf plan has a wider base and it suits many people so I think this suppose to be our main plan "
   ]
  },
  {
   "cell_type": "markdown",
   "metadata": {},
   "source": [
    "## Test statistical hypotheses"
   ]
  },
  {
   "cell_type": "markdown",
   "metadata": {},
   "source": [
    "[Test the hypothesis that the average revenue from users of the Ultimate and Surf calling plans differs.]"
   ]
  },
  {
   "cell_type": "markdown",
   "metadata": {},
   "source": [
    "Null Hypothesis (H0): The average revenue from users of the Ultimate and Surf calling plans is the same.\n",
    "\n",
    "Alternative Hypothesis (H1): The average revenue from users of the Ultimate and Surf calling plans is different."
   ]
  },
  {
   "cell_type": "code",
   "execution_count": 84,
   "metadata": {
    "trusted": true
   },
   "outputs": [
    {
     "name": "stdout",
     "output_type": "stream",
     "text": [
      "Hypothesis 1 - t-statistic: 5.568949166552807, p-value: 2.862674510698644e-08\n"
     ]
    }
   ],
   "source": [
    "# Test the hypotheses\n",
    "ultimate_revenue = ultimate['revenue_usd']\n",
    "surf_revenue = surf['revenue_usd']\n",
    "\n",
    "# Perform t-test\n",
    "t_stat, p_value = st.ttest_ind(ultimate_revenue, surf_revenue)\n",
    "print(f\"Hypothesis 1 - t-statistic: {t_stat}, p-value: {p_value}\")\n"
   ]
  },
  {
   "cell_type": "markdown",
   "metadata": {},
   "source": [
    "We are going to reject the null hypothesis as the p value is less than %5, so there's a difference between the revenue from these two plans"
   ]
  },
  {
   "cell_type": "markdown",
   "metadata": {},
   "source": [
    "[Test the hypothesis that the average revenue from users in the NY-NJ area is different from that of the users from the other regions.]"
   ]
  },
  {
   "cell_type": "markdown",
   "metadata": {},
   "source": [
    "[Formulate the null and the alternative hypotheses, choose the statistical test, decide on the alpha value.]"
   ]
  },
  {
   "cell_type": "markdown",
   "metadata": {},
   "source": [
    "Null Hypothesis (H0): The average revenue from users in the NY-NJ area is the same as that of users from other regions.\n",
    "\n",
    "Alternative Hypothesis (H1): The average revenue from users in the NY-NJ area is different from that of users from other regions"
   ]
  },
  {
   "cell_type": "code",
   "execution_count": 85,
   "metadata": {
    "trusted": true
   },
   "outputs": [],
   "source": [
    "ultimate= ultimate.merge(megaline_users[['user_id', 'city']], on='user_id', how='left')\n",
    "surf= surf.merge(megaline_users[['user_id', 'city']], on='user_id', how='left')"
   ]
  },
  {
   "cell_type": "code",
   "execution_count": 86,
   "metadata": {
    "trusted": true
   },
   "outputs": [
    {
     "data": {
      "text/plain": [
       "array(['Atlanta-Sandy Springs-Roswell, GA MSA',\n",
       "       'San Francisco-Oakland-Berkeley, CA MSA',\n",
       "       'Orlando-Kissimmee-Sanford, FL MSA', 'Cleveland-Elyria, OH MSA',\n",
       "       'Knoxville, TN MSA', 'Houston-The Woodlands-Sugar Land, TX MSA',\n",
       "       'Philadelphia-Camden-Wilmington, PA-NJ-DE-MD MSA',\n",
       "       'Chicago-Naperville-Elgin, IL-IN-WI MSA',\n",
       "       'New York-Newark-Jersey City, NY-NJ-PA MSA',\n",
       "       'Birmingham-Hoover, AL MSA', 'Oklahoma City, OK MSA',\n",
       "       'Denver-Aurora-Lakewood, CO MSA',\n",
       "       'Seattle-Tacoma-Bellevue, WA MSA',\n",
       "       'Nashville-Davidson–Murfreesboro–Franklin, TN MSA',\n",
       "       'Columbus, OH MSA', 'Las Vegas-Henderson-Paradise, NV MSA',\n",
       "       'Indianapolis-Carmel-Anderson, IN MSA',\n",
       "       'Miami-Fort Lauderdale-West Palm Beach, FL MSA',\n",
       "       'Columbia, SC MSA', 'San Antonio-New Braunfels, TX MSA',\n",
       "       'Charlotte-Concord-Gastonia, NC-SC MSA',\n",
       "       'Phoenix-Mesa-Chandler, AZ MSA',\n",
       "       'Riverside-San Bernardino-Ontario, CA MSA',\n",
       "       'Grand Rapids-Kentwood, MI MSA', 'New Haven-Milford, CT MSA',\n",
       "       'Cincinnati, OH-KY-IN MSA',\n",
       "       'Virginia Beach-Norfolk-Newport News, VA-NC MSA',\n",
       "       'Los Angeles-Long Beach-Anaheim, CA MSA',\n",
       "       'Sacramento–Roseville–Folsom, CA MSA',\n",
       "       'Louisville/Jefferson County, KY-IN MSA', 'Richmond, VA MSA',\n",
       "       'St. Louis, MO-IL MSA',\n",
       "       'Minneapolis-St. Paul-Bloomington, MN-WI MSA',\n",
       "       'San Diego-Chula Vista-Carlsbad, CA MSA',\n",
       "       'Austin-Round Rock-Georgetown, TX MSA',\n",
       "       'San Jose-Sunnyvale-Santa Clara, CA MSA',\n",
       "       'Tampa-St. Petersburg-Clearwater, FL MSA', 'Baton Rouge, LA MSA',\n",
       "       'Charleston-North Charleston, SC MSA',\n",
       "       'Detroit-Warren-Dearborn, MI MSA', 'Memphis, TN-MS-AR MSA',\n",
       "       'Tucson, AZ MSA', 'Pittsburgh, PA MSA',\n",
       "       'Washington-Arlington-Alexandria, DC-VA-MD-WV MSA',\n",
       "       'Salt Lake City, UT MSA', 'Dallas-Fort Worth-Arlington, TX MSA',\n",
       "       'Bakersfield, CA MSA', 'Fresno, CA MSA',\n",
       "       'Portland-Vancouver-Hillsboro, OR-WA MSA',\n",
       "       'Cape Coral-Fort Myers, FL MSA',\n",
       "       'Boston-Cambridge-Newton, MA-NH MSA'], dtype=object)"
      ]
     },
     "execution_count": 86,
     "metadata": {},
     "output_type": "execute_result"
    }
   ],
   "source": [
    "ultimate['city'].unique()"
   ]
  },
  {
   "cell_type": "code",
   "execution_count": 87,
   "metadata": {
    "trusted": true
   },
   "outputs": [],
   "source": [
    "# deviding ultimate and surf datasets \n",
    "ny_nj_revenue_ultimate = ultimate[ultimate['city'].str.contains('New York-Newark-Jersey City, NY-NJ-PA MSA')]['revenue_usd']\n",
    "other_revenue_ultimate = ultimate[~ultimate['city'].str.contains('New York-Newark-Jersey City, NY-NJ-PA MSA')]['revenue_usd']\n",
    "\n",
    "ny_nj_revenue_surf = surf[surf['city'].str.contains('New York-Newark-Jersey City, NY-NJ-PA MSA')]['revenue_usd']\n",
    "other_revenue_surf = surf[~surf['city'].str.contains('New York-Newark-Jersey City, NY-NJ-PA MSA')]['revenue_usd']"
   ]
  },
  {
   "cell_type": "code",
   "execution_count": 88,
   "metadata": {
    "trusted": true
   },
   "outputs": [
    {
     "name": "stdout",
     "output_type": "stream",
     "text": [
      "Hypothesis 2 - t-statistic for ultimate: 1.9621843812290225, p-value: 0.05012688407875836\n"
     ]
    }
   ],
   "source": [
    "t_stat_ny, p_value_ny = st.ttest_ind(ny_nj_revenue_ultimate, other_revenue_ultimate)\n",
    "print(f\"Hypothesis 2 - t-statistic for ultimate: {t_stat_ny}, p-value: {p_value_ny}\")"
   ]
  },
  {
   "cell_type": "code",
   "execution_count": 89,
   "metadata": {
    "trusted": true
   },
   "outputs": [
    {
     "name": "stdout",
     "output_type": "stream",
     "text": [
      "Hypothesis 2 - t-statistic for surf: -1.3955104327888508, p-value: 0.16305918284934595\n"
     ]
    }
   ],
   "source": [
    "t_stat_ny, p_value_ny = st.ttest_ind(ny_nj_revenue_surf, other_revenue_surf)\n",
    "print(f\"Hypothesis 2 - t-statistic for surf: {t_stat_ny}, p-value: {p_value_ny}\")"
   ]
  },
  {
   "cell_type": "code",
   "execution_count": 90,
   "metadata": {
    "trusted": true
   },
   "outputs": [
    {
     "name": "stdout",
     "output_type": "stream",
     "text": [
      "Hypothesis 2 - t-statistic for the whole data: 1.9621843812290225, p-value: 0.05012688407875836\n"
     ]
    }
   ],
   "source": [
    "# see the hypothesis for the whole data\n",
    "total = pd.concat([ultimate, surf])\n",
    "ny_nj_revenue_total = total[total['city'].str.contains('New York-Newark-Jersey City, NY-NJ-PA MSA')]['revenue_usd']\n",
    "other_revenue_total = total[~total['city'].str.contains('New York-Newark-Jersey City, NY-NJ-PA MSA')]['revenue_usd']\n",
    "\n",
    "t_stat_ny, p_value_ny = st.ttest_ind(ny_nj_revenue_ultimate, other_revenue_ultimate)\n",
    "print(f\"Hypothesis 2 - t-statistic for the whole data: {t_stat_ny}, p-value: {p_value_ny}\")\n"
   ]
  },
  {
   "cell_type": "markdown",
   "metadata": {},
   "source": [
    "We are going to reject the alternative hypothis for both of them as they are above %5 so there's no difference between NY area and the rest"
   ]
  },
  {
   "cell_type": "markdown",
   "metadata": {},
   "source": [
    "## General conclusion\n",
    "\n",
    "[List your important conclusions in this final section, make sure they cover all those important decisions (assumptions) that you've made and that led you to the way you processed and analyzed the data.]"
   ]
  },
  {
   "cell_type": "markdown",
   "metadata": {},
   "source": [
    "- Revenue Differences: Based on the statistical analysis, the \"Surf\" plan tends to generate slightly higher revenue on average than the \"Ultimate\" plan due to extra usage, but the difference is modest.\n",
    "\n",
    "- User Behavior: Users of both plans consume a similar amount of data and tend to talk for an average of 6-8 minutes per call, with little variation between the two plans in terms of call duration.\n",
    "\n",
    "- Messaging Differences: Ultimate plan users send more messages on average, but no users exceeded their messaging limits.\n",
    "\n",
    "- Test Results: For both plans, the statistical tests showed significant differences in revenue generation, leading to the rejection of the null hypothesis for revenue comparison​ "
   ]
  }
 ],
 "metadata": {
  "ExecuteTimeLog": [
   {
    "duration": 828,
    "start_time": "2021-11-16T09:21:11.304Z"
   },
   {
    "duration": 893,
    "start_time": "2021-11-16T09:21:17.728Z"
   },
   {
    "duration": 1150,
    "start_time": "2021-11-16T09:21:29.568Z"
   },
   {
    "duration": 3,
    "start_time": "2021-11-16T09:24:14.495Z"
   },
   {
    "duration": 120,
    "start_time": "2021-11-16T09:24:46.630Z"
   },
   {
    "duration": 3,
    "start_time": "2021-11-16T09:28:27.882Z"
   },
   {
    "duration": 4,
    "start_time": "2021-11-16T09:29:54.281Z"
   },
   {
    "duration": 3,
    "start_time": "2021-11-16T09:30:45.936Z"
   },
   {
    "duration": 4,
    "start_time": "2021-11-16T09:31:06.300Z"
   },
   {
    "duration": 113,
    "start_time": "2021-11-16T09:31:37.208Z"
   },
   {
    "duration": 143,
    "start_time": "2021-11-16T09:31:48.656Z"
   },
   {
    "duration": 98,
    "start_time": "2021-11-16T09:31:55.678Z"
   },
   {
    "duration": 3,
    "start_time": "2021-11-16T09:32:08.535Z"
   },
   {
    "duration": 111,
    "start_time": "2021-11-16T09:32:10.120Z"
   },
   {
    "duration": 3,
    "start_time": "2021-11-16T09:32:15.732Z"
   },
   {
    "duration": 4,
    "start_time": "2021-11-16T09:32:29.423Z"
   },
   {
    "duration": 3,
    "start_time": "2021-11-16T10:03:03.074Z"
   },
   {
    "duration": 3,
    "start_time": "2021-11-16T10:10:01.288Z"
   },
   {
    "duration": 3,
    "start_time": "2021-11-16T10:10:46.923Z"
   },
   {
    "duration": 121,
    "start_time": "2021-11-16T10:37:46.494Z"
   },
   {
    "duration": 125,
    "start_time": "2021-11-16T10:38:20.632Z"
   },
   {
    "duration": 112,
    "start_time": "2021-11-16T10:46:53.001Z"
   },
   {
    "duration": 110,
    "start_time": "2021-11-16T10:48:25.775Z"
   },
   {
    "duration": 3,
    "start_time": "2021-11-16T10:50:18.720Z"
   },
   {
    "duration": 4,
    "start_time": "2021-11-16T10:50:37.649Z"
   },
   {
    "duration": 2,
    "start_time": "2021-11-16T10:50:51.884Z"
   },
   {
    "duration": 3,
    "start_time": "2021-11-16T10:51:56.237Z"
   },
   {
    "duration": 101,
    "start_time": "2021-11-16T10:53:13.791Z"
   },
   {
    "duration": 3,
    "start_time": "2021-11-16T10:55:59.186Z"
   },
   {
    "duration": 3,
    "start_time": "2021-11-16T10:56:10.751Z"
   },
   {
    "duration": 3,
    "start_time": "2021-11-16T10:56:49.038Z"
   },
   {
    "duration": 3,
    "start_time": "2021-11-16T10:56:49.174Z"
   },
   {
    "duration": 4,
    "start_time": "2021-11-16T10:56:49.414Z"
   },
   {
    "duration": 3,
    "start_time": "2021-11-16T10:56:49.680Z"
   },
   {
    "duration": 3,
    "start_time": "2021-11-16T10:56:50.370Z"
   },
   {
    "duration": 114,
    "start_time": "2021-11-16T10:59:34.518Z"
   },
   {
    "duration": 3,
    "start_time": "2021-11-16T11:01:41.201Z"
   },
   {
    "duration": 116,
    "start_time": "2021-11-16T11:01:48.754Z"
   },
   {
    "duration": 3,
    "start_time": "2021-11-16T11:02:16.685Z"
   },
   {
    "duration": 3,
    "start_time": "2021-11-16T11:02:19.479Z"
   },
   {
    "duration": 3,
    "start_time": "2021-11-16T11:02:47.067Z"
   },
   {
    "duration": 3,
    "start_time": "2021-11-16T11:02:49.353Z"
   },
   {
    "duration": 3,
    "start_time": "2021-11-16T11:03:07.835Z"
   },
   {
    "duration": 3,
    "start_time": "2021-11-16T11:03:07.953Z"
   },
   {
    "duration": 112,
    "start_time": "2021-11-16T11:07:52.072Z"
   },
   {
    "duration": 187,
    "start_time": "2021-11-16T11:09:23.468Z"
   },
   {
    "duration": 4,
    "start_time": "2021-11-16T11:10:01.455Z"
   },
   {
    "duration": 3,
    "start_time": "2021-11-16T11:10:05.069Z"
   },
   {
    "duration": 4,
    "start_time": "2021-11-16T11:10:13.376Z"
   },
   {
    "duration": 3,
    "start_time": "2021-11-16T11:10:14.434Z"
   },
   {
    "duration": 3,
    "start_time": "2021-11-16T11:10:22.853Z"
   },
   {
    "duration": 4,
    "start_time": "2021-11-16T11:27:29.279Z"
   },
   {
    "duration": 4,
    "start_time": "2021-11-16T11:29:08.919Z"
   },
   {
    "duration": 118,
    "start_time": "2021-11-16T11:29:46.703Z"
   },
   {
    "duration": 437,
    "start_time": "2021-11-16T11:36:02.181Z"
   },
   {
    "duration": 157,
    "start_time": "2021-11-16T11:36:14.388Z"
   },
   {
    "duration": 207,
    "start_time": "2021-11-16T11:47:15.898Z"
   },
   {
    "duration": 3,
    "start_time": "2021-11-16T11:53:52.092Z"
   },
   {
    "duration": 3,
    "start_time": "2021-11-16T11:53:52.236Z"
   },
   {
    "duration": 3,
    "start_time": "2021-11-16T11:59:12.005Z"
   },
   {
    "duration": 112,
    "start_time": "2021-11-16T12:00:33.446Z"
   },
   {
    "duration": 3,
    "start_time": "2021-11-16T12:02:14.453Z"
   },
   {
    "duration": 3,
    "start_time": "2021-11-16T12:02:39.512Z"
   },
   {
    "duration": 106,
    "start_time": "2021-11-16T12:03:03.460Z"
   },
   {
    "duration": 3,
    "start_time": "2021-11-17T20:37:21.139Z"
   },
   {
    "duration": 3,
    "start_time": "2021-11-17T20:37:22.229Z"
   },
   {
    "duration": 3,
    "start_time": "2021-11-17T20:38:38.806Z"
   },
   {
    "duration": 3,
    "start_time": "2021-11-17T20:38:41.958Z"
   },
   {
    "duration": 3,
    "start_time": "2021-11-17T20:43:46.551Z"
   },
   {
    "duration": 4,
    "start_time": "2021-11-17T20:58:21.835Z"
   },
   {
    "duration": 3,
    "start_time": "2021-11-17T20:59:21.872Z"
   },
   {
    "duration": 4,
    "start_time": "2021-11-17T20:59:45.352Z"
   },
   {
    "duration": 4,
    "start_time": "2021-11-17T20:59:49.646Z"
   },
   {
    "duration": 159,
    "start_time": "2021-11-17T21:02:26.949Z"
   },
   {
    "duration": 3,
    "start_time": "2021-11-17T21:03:53.461Z"
   },
   {
    "duration": 3,
    "start_time": "2021-11-17T21:03:53.694Z"
   },
   {
    "duration": 3,
    "start_time": "2021-11-17T21:05:28.145Z"
   },
   {
    "duration": 116,
    "start_time": "2021-11-17T21:05:57.787Z"
   },
   {
    "duration": 3,
    "start_time": "2021-11-17T21:06:37.993Z"
   },
   {
    "duration": 3,
    "start_time": "2021-11-17T21:06:38.261Z"
   },
   {
    "duration": 3,
    "start_time": "2021-11-17T21:11:54.358Z"
   },
   {
    "duration": 3,
    "start_time": "2021-11-17T21:12:43.846Z"
   },
   {
    "duration": 4,
    "start_time": "2021-11-17T21:13:08.773Z"
   },
   {
    "duration": 3,
    "start_time": "2021-11-17T21:14:44.441Z"
   },
   {
    "duration": 3,
    "start_time": "2021-11-17T21:15:42.059Z"
   },
   {
    "duration": 4,
    "start_time": "2021-11-17T21:15:51.995Z"
   },
   {
    "duration": 3,
    "start_time": "2021-11-17T21:15:53.923Z"
   },
   {
    "duration": 3,
    "start_time": "2021-11-17T21:15:55.282Z"
   },
   {
    "duration": 3,
    "start_time": "2021-11-17T21:16:28.492Z"
   },
   {
    "duration": 3,
    "start_time": "2021-11-17T21:16:32.603Z"
   },
   {
    "duration": 3,
    "start_time": "2021-11-17T21:17:06.941Z"
   },
   {
    "duration": 98,
    "start_time": "2021-11-17T21:18:05.733Z"
   },
   {
    "duration": 4,
    "start_time": "2021-11-17T21:21:35.255Z"
   },
   {
    "duration": 3,
    "start_time": "2021-11-17T21:21:37.804Z"
   },
   {
    "duration": 4,
    "start_time": "2021-11-17T21:23:06.071Z"
   },
   {
    "duration": 3,
    "start_time": "2021-11-17T21:23:24.799Z"
   },
   {
    "duration": 3,
    "start_time": "2021-11-17T21:23:32.591Z"
   },
   {
    "duration": 98,
    "start_time": "2021-11-17T21:28:31.559Z"
   },
   {
    "duration": 3,
    "start_time": "2021-11-17T21:28:45.448Z"
   },
   {
    "duration": 3,
    "start_time": "2021-11-17T21:29:17.303Z"
   },
   {
    "duration": 3,
    "start_time": "2021-11-17T21:29:29.617Z"
   },
   {
    "duration": 3,
    "start_time": "2021-11-17T21:29:32.681Z"
   },
   {
    "duration": 3,
    "start_time": "2021-11-17T21:36:11.474Z"
   },
   {
    "duration": 3,
    "start_time": "2021-11-17T21:36:14.791Z"
   },
   {
    "duration": 3,
    "start_time": "2021-11-17T21:36:53.943Z"
   },
   {
    "duration": 3,
    "start_time": "2021-11-17T21:36:56.165Z"
   },
   {
    "duration": 4,
    "start_time": "2021-11-17T21:37:16.590Z"
   },
   {
    "duration": 3,
    "start_time": "2021-11-17T21:37:22.702Z"
   },
   {
    "duration": 4,
    "start_time": "2021-11-17T21:38:03.479Z"
   },
   {
    "duration": 3,
    "start_time": "2021-11-17T21:38:08.601Z"
   },
   {
    "duration": 3,
    "start_time": "2021-11-17T21:38:12.928Z"
   },
   {
    "duration": 3,
    "start_time": "2021-11-17T21:38:48.896Z"
   },
   {
    "duration": 2,
    "start_time": "2021-11-17T21:38:49.171Z"
   },
   {
    "duration": 4,
    "start_time": "2021-11-17T21:39:57.889Z"
   },
   {
    "duration": 3,
    "start_time": "2021-11-17T21:39:58.057Z"
   },
   {
    "duration": 3,
    "start_time": "2021-11-17T21:41:20.108Z"
   },
   {
    "duration": 3,
    "start_time": "2021-11-17T21:41:20.629Z"
   },
   {
    "duration": 3,
    "start_time": "2021-11-17T21:42:49.136Z"
   },
   {
    "duration": 3,
    "start_time": "2021-11-17T21:43:15.137Z"
   },
   {
    "duration": 4,
    "start_time": "2021-11-17T21:43:16.766Z"
   },
   {
    "duration": 4,
    "start_time": "2021-11-17T21:43:31.711Z"
   },
   {
    "duration": 3,
    "start_time": "2021-11-17T21:43:36.312Z"
   },
   {
    "duration": 4,
    "start_time": "2021-11-17T21:45:08.825Z"
   },
   {
    "duration": 4,
    "start_time": "2021-11-17T21:45:10.119Z"
   },
   {
    "duration": 4,
    "start_time": "2021-11-17T21:45:13.748Z"
   },
   {
    "duration": 3,
    "start_time": "2021-11-17T21:45:22.219Z"
   },
   {
    "duration": 3,
    "start_time": "2021-11-17T21:45:33.412Z"
   },
   {
    "duration": 2,
    "start_time": "2021-11-17T21:46:01.885Z"
   },
   {
    "duration": 3,
    "start_time": "2021-11-17T21:46:03.628Z"
   },
   {
    "duration": 107,
    "start_time": "2021-11-17T21:47:32.512Z"
   },
   {
    "duration": 103,
    "start_time": "2021-11-17T21:50:36.243Z"
   },
   {
    "duration": 3,
    "start_time": "2021-11-18T06:28:31.440Z"
   },
   {
    "duration": 3,
    "start_time": "2021-11-18T06:29:00.168Z"
   },
   {
    "duration": 3,
    "start_time": "2021-11-18T06:31:27.008Z"
   },
   {
    "duration": 2,
    "start_time": "2021-11-18T06:35:34.288Z"
   },
   {
    "duration": 2,
    "start_time": "2021-11-18T06:38:04.527Z"
   },
   {
    "duration": 2635,
    "start_time": "2024-10-21T11:43:58.230Z"
   },
   {
    "duration": 112,
    "start_time": "2024-10-21T11:44:00.867Z"
   },
   {
    "duration": 16,
    "start_time": "2024-10-21T11:44:00.980Z"
   },
   {
    "duration": 12,
    "start_time": "2024-10-21T11:44:00.998Z"
   },
   {
    "duration": 92,
    "start_time": "2024-10-21T11:44:01.012Z"
   },
   {
    "duration": 15,
    "start_time": "2024-10-21T11:44:01.105Z"
   },
   {
    "duration": 11,
    "start_time": "2024-10-21T11:44:01.121Z"
   },
   {
    "duration": 56,
    "start_time": "2024-10-21T11:44:01.134Z"
   },
   {
    "duration": 10,
    "start_time": "2024-10-21T11:44:01.192Z"
   },
   {
    "duration": 9,
    "start_time": "2024-10-21T11:44:01.204Z"
   },
   {
    "duration": 16,
    "start_time": "2024-10-21T11:44:01.214Z"
   },
   {
    "duration": 15,
    "start_time": "2024-10-21T11:44:01.231Z"
   },
   {
    "duration": 11,
    "start_time": "2024-10-21T11:44:01.247Z"
   },
   {
    "duration": 5,
    "start_time": "2024-10-21T11:44:01.262Z"
   },
   {
    "duration": 9,
    "start_time": "2024-10-21T11:44:01.268Z"
   },
   {
    "duration": 7,
    "start_time": "2024-10-21T11:44:01.278Z"
   },
   {
    "duration": 38,
    "start_time": "2024-10-21T11:44:01.287Z"
   },
   {
    "duration": 8,
    "start_time": "2024-10-21T11:44:01.327Z"
   },
   {
    "duration": 5,
    "start_time": "2024-10-21T11:44:01.337Z"
   },
   {
    "duration": 5,
    "start_time": "2024-10-21T11:44:01.343Z"
   },
   {
    "duration": 9,
    "start_time": "2024-10-21T11:44:01.350Z"
   },
   {
    "duration": 10,
    "start_time": "2024-10-21T11:44:01.361Z"
   },
   {
    "duration": 59,
    "start_time": "2024-10-21T11:44:01.374Z"
   },
   {
    "duration": 15,
    "start_time": "2024-10-21T11:44:01.434Z"
   },
   {
    "duration": 6,
    "start_time": "2024-10-21T11:44:01.450Z"
   },
   {
    "duration": 32,
    "start_time": "2024-10-21T11:44:01.458Z"
   },
   {
    "duration": 37,
    "start_time": "2024-10-21T11:44:01.492Z"
   },
   {
    "duration": 21,
    "start_time": "2024-10-21T11:44:01.530Z"
   },
   {
    "duration": 96,
    "start_time": "2024-10-21T11:44:01.552Z"
   },
   {
    "duration": 12,
    "start_time": "2024-10-21T11:44:01.649Z"
   },
   {
    "duration": 5,
    "start_time": "2024-10-21T11:44:01.663Z"
   },
   {
    "duration": 14,
    "start_time": "2024-10-21T11:44:01.670Z"
   },
   {
    "duration": 41,
    "start_time": "2024-10-21T11:44:01.685Z"
   },
   {
    "duration": 12,
    "start_time": "2024-10-21T11:44:01.728Z"
   },
   {
    "duration": 40,
    "start_time": "2024-10-21T11:44:01.741Z"
   },
   {
    "duration": 14,
    "start_time": "2024-10-21T11:44:01.782Z"
   },
   {
    "duration": 28,
    "start_time": "2024-10-21T11:44:01.797Z"
   },
   {
    "duration": 35,
    "start_time": "2024-10-21T11:44:01.827Z"
   },
   {
    "duration": 21,
    "start_time": "2024-10-21T11:44:01.864Z"
   },
   {
    "duration": 38,
    "start_time": "2024-10-21T11:44:01.887Z"
   },
   {
    "duration": 65,
    "start_time": "2024-10-21T11:44:01.931Z"
   },
   {
    "duration": 8,
    "start_time": "2024-10-21T11:44:01.998Z"
   },
   {
    "duration": 19,
    "start_time": "2024-10-21T11:44:02.023Z"
   },
   {
    "duration": 17,
    "start_time": "2024-10-21T11:44:02.044Z"
   },
   {
    "duration": 15,
    "start_time": "2024-10-21T11:44:02.063Z"
   },
   {
    "duration": 14,
    "start_time": "2024-10-21T11:44:02.079Z"
   },
   {
    "duration": 42,
    "start_time": "2024-10-21T11:44:02.094Z"
   },
   {
    "duration": 15,
    "start_time": "2024-10-21T11:44:02.138Z"
   },
   {
    "duration": 17,
    "start_time": "2024-10-21T11:44:02.155Z"
   },
   {
    "duration": 6,
    "start_time": "2024-10-21T11:44:02.173Z"
   },
   {
    "duration": 3,
    "start_time": "2024-10-21T11:44:02.180Z"
   },
   {
    "duration": 5,
    "start_time": "2024-10-21T11:44:02.185Z"
   },
   {
    "duration": 43,
    "start_time": "2024-10-21T11:44:02.191Z"
   },
   {
    "duration": 11,
    "start_time": "2024-10-21T11:44:02.235Z"
   },
   {
    "duration": 16,
    "start_time": "2024-10-21T11:44:02.248Z"
   },
   {
    "duration": 15,
    "start_time": "2024-10-21T11:44:02.265Z"
   },
   {
    "duration": 8,
    "start_time": "2024-10-21T11:44:02.282Z"
   },
   {
    "duration": 169,
    "start_time": "2024-10-21T11:44:02.292Z"
   },
   {
    "duration": 9,
    "start_time": "2024-10-21T11:44:02.463Z"
   },
   {
    "duration": 134,
    "start_time": "2024-10-21T11:44:02.474Z"
   },
   {
    "duration": 17,
    "start_time": "2024-10-21T11:44:02.611Z"
   },
   {
    "duration": 172,
    "start_time": "2024-10-21T11:44:02.630Z"
   },
   {
    "duration": 8,
    "start_time": "2024-10-21T11:44:02.804Z"
   },
   {
    "duration": 11,
    "start_time": "2024-10-21T11:44:02.824Z"
   },
   {
    "duration": 331,
    "start_time": "2024-10-21T11:44:02.836Z"
   },
   {
    "duration": 26,
    "start_time": "2024-10-21T11:44:03.169Z"
   },
   {
    "duration": 36,
    "start_time": "2024-10-21T11:44:03.197Z"
   },
   {
    "duration": 640,
    "start_time": "2024-10-21T11:44:03.234Z"
   },
   {
    "duration": 0,
    "start_time": "2024-10-21T11:44:03.876Z"
   },
   {
    "duration": 0,
    "start_time": "2024-10-21T11:44:03.877Z"
   },
   {
    "duration": 0,
    "start_time": "2024-10-21T11:44:03.878Z"
   },
   {
    "duration": 0,
    "start_time": "2024-10-21T11:44:03.879Z"
   },
   {
    "duration": 0,
    "start_time": "2024-10-21T11:44:03.880Z"
   },
   {
    "duration": 0,
    "start_time": "2024-10-21T11:44:03.881Z"
   },
   {
    "duration": 0,
    "start_time": "2024-10-21T11:44:03.882Z"
   },
   {
    "duration": 0,
    "start_time": "2024-10-21T11:44:03.883Z"
   },
   {
    "duration": 0,
    "start_time": "2024-10-21T11:44:03.885Z"
   },
   {
    "duration": 0,
    "start_time": "2024-10-21T11:44:03.886Z"
   },
   {
    "duration": 0,
    "start_time": "2024-10-21T11:44:03.887Z"
   },
   {
    "duration": 0,
    "start_time": "2024-10-21T11:44:03.888Z"
   },
   {
    "duration": 0,
    "start_time": "2024-10-21T11:44:03.889Z"
   },
   {
    "duration": 0,
    "start_time": "2024-10-21T11:44:03.890Z"
   },
   {
    "duration": 0,
    "start_time": "2024-10-21T11:44:03.891Z"
   },
   {
    "duration": 0,
    "start_time": "2024-10-21T11:44:03.891Z"
   },
   {
    "duration": 0,
    "start_time": "2024-10-21T11:44:03.893Z"
   },
   {
    "duration": 0,
    "start_time": "2024-10-21T11:44:03.893Z"
   },
   {
    "duration": 0,
    "start_time": "2024-10-21T11:44:03.894Z"
   },
   {
    "duration": 0,
    "start_time": "2024-10-21T11:44:03.923Z"
   },
   {
    "duration": 0,
    "start_time": "2024-10-21T11:44:03.925Z"
   },
   {
    "duration": 0,
    "start_time": "2024-10-21T11:44:03.925Z"
   },
   {
    "duration": 2513,
    "start_time": "2024-10-24T14:16:31.908Z"
   },
   {
    "duration": 96,
    "start_time": "2024-10-24T14:16:34.424Z"
   },
   {
    "duration": 15,
    "start_time": "2024-10-24T14:16:34.522Z"
   },
   {
    "duration": 14,
    "start_time": "2024-10-24T14:16:34.538Z"
   },
   {
    "duration": 80,
    "start_time": "2024-10-24T14:16:34.554Z"
   },
   {
    "duration": 14,
    "start_time": "2024-10-24T14:16:34.635Z"
   },
   {
    "duration": 11,
    "start_time": "2024-10-24T14:16:34.651Z"
   },
   {
    "duration": 61,
    "start_time": "2024-10-24T14:16:34.670Z"
   },
   {
    "duration": 9,
    "start_time": "2024-10-24T14:16:34.733Z"
   },
   {
    "duration": 10,
    "start_time": "2024-10-24T14:16:34.743Z"
   },
   {
    "duration": 12,
    "start_time": "2024-10-24T14:16:34.755Z"
   },
   {
    "duration": 14,
    "start_time": "2024-10-24T14:16:34.769Z"
   },
   {
    "duration": 10,
    "start_time": "2024-10-24T14:16:34.785Z"
   },
   {
    "duration": 4,
    "start_time": "2024-10-24T14:16:34.800Z"
   },
   {
    "duration": 9,
    "start_time": "2024-10-24T14:16:34.806Z"
   },
   {
    "duration": 13,
    "start_time": "2024-10-24T14:16:34.817Z"
   },
   {
    "duration": 9,
    "start_time": "2024-10-24T14:16:34.831Z"
   },
   {
    "duration": 35,
    "start_time": "2024-10-24T14:16:34.841Z"
   },
   {
    "duration": 5,
    "start_time": "2024-10-24T14:16:34.878Z"
   },
   {
    "duration": 4,
    "start_time": "2024-10-24T14:16:34.885Z"
   },
   {
    "duration": 10,
    "start_time": "2024-10-24T14:16:34.890Z"
   },
   {
    "duration": 10,
    "start_time": "2024-10-24T14:16:34.901Z"
   },
   {
    "duration": 57,
    "start_time": "2024-10-24T14:16:34.913Z"
   },
   {
    "duration": 16,
    "start_time": "2024-10-24T14:16:34.971Z"
   },
   {
    "duration": 6,
    "start_time": "2024-10-24T14:16:34.989Z"
   },
   {
    "duration": 32,
    "start_time": "2024-10-24T14:16:34.997Z"
   },
   {
    "duration": 41,
    "start_time": "2024-10-24T14:16:35.030Z"
   },
   {
    "duration": 23,
    "start_time": "2024-10-24T14:16:35.073Z"
   },
   {
    "duration": 99,
    "start_time": "2024-10-24T14:16:35.097Z"
   },
   {
    "duration": 11,
    "start_time": "2024-10-24T14:16:35.198Z"
   },
   {
    "duration": 9,
    "start_time": "2024-10-24T14:16:35.210Z"
   },
   {
    "duration": 16,
    "start_time": "2024-10-24T14:16:35.220Z"
   },
   {
    "duration": 35,
    "start_time": "2024-10-24T14:16:35.239Z"
   },
   {
    "duration": 13,
    "start_time": "2024-10-24T14:16:35.275Z"
   },
   {
    "duration": 40,
    "start_time": "2024-10-24T14:16:35.289Z"
   },
   {
    "duration": 14,
    "start_time": "2024-10-24T14:16:35.331Z"
   },
   {
    "duration": 7,
    "start_time": "2024-10-24T14:16:35.369Z"
   },
   {
    "duration": 36,
    "start_time": "2024-10-24T14:16:35.377Z"
   },
   {
    "duration": 20,
    "start_time": "2024-10-24T14:16:35.415Z"
   },
   {
    "duration": 36,
    "start_time": "2024-10-24T14:16:35.437Z"
   },
   {
    "duration": 68,
    "start_time": "2024-10-24T14:16:35.479Z"
   },
   {
    "duration": 7,
    "start_time": "2024-10-24T14:16:35.549Z"
   },
   {
    "duration": 19,
    "start_time": "2024-10-24T14:16:35.570Z"
   },
   {
    "duration": 18,
    "start_time": "2024-10-24T14:16:35.590Z"
   },
   {
    "duration": 16,
    "start_time": "2024-10-24T14:16:35.609Z"
   },
   {
    "duration": 12,
    "start_time": "2024-10-24T14:16:35.627Z"
   },
   {
    "duration": 39,
    "start_time": "2024-10-24T14:16:35.641Z"
   },
   {
    "duration": 14,
    "start_time": "2024-10-24T14:16:35.682Z"
   },
   {
    "duration": 17,
    "start_time": "2024-10-24T14:16:35.697Z"
   },
   {
    "duration": 6,
    "start_time": "2024-10-24T14:16:35.716Z"
   },
   {
    "duration": 3,
    "start_time": "2024-10-24T14:16:35.723Z"
   },
   {
    "duration": 5,
    "start_time": "2024-10-24T14:16:35.728Z"
   },
   {
    "duration": 45,
    "start_time": "2024-10-24T14:16:35.735Z"
   },
   {
    "duration": 11,
    "start_time": "2024-10-24T14:16:35.782Z"
   },
   {
    "duration": 15,
    "start_time": "2024-10-24T14:16:35.795Z"
   },
   {
    "duration": 16,
    "start_time": "2024-10-24T14:16:35.811Z"
   },
   {
    "duration": 9,
    "start_time": "2024-10-24T14:16:35.828Z"
   },
   {
    "duration": 139,
    "start_time": "2024-10-24T14:16:35.871Z"
   },
   {
    "duration": 9,
    "start_time": "2024-10-24T14:16:36.011Z"
   },
   {
    "duration": 142,
    "start_time": "2024-10-24T14:16:36.022Z"
   },
   {
    "duration": 16,
    "start_time": "2024-10-24T14:16:36.166Z"
   },
   {
    "duration": 178,
    "start_time": "2024-10-24T14:16:36.184Z"
   },
   {
    "duration": 12,
    "start_time": "2024-10-24T14:16:36.364Z"
   },
   {
    "duration": 11,
    "start_time": "2024-10-24T14:16:36.377Z"
   },
   {
    "duration": 296,
    "start_time": "2024-10-24T14:16:36.389Z"
   },
   {
    "duration": 25,
    "start_time": "2024-10-24T14:16:36.686Z"
   },
   {
    "duration": 24,
    "start_time": "2024-10-24T14:16:36.712Z"
   },
   {
    "duration": 241,
    "start_time": "2024-10-24T14:16:36.738Z"
   },
   {
    "duration": 713,
    "start_time": "2024-10-24T14:16:36.982Z"
   },
   {
    "duration": 0,
    "start_time": "2024-10-24T14:16:37.697Z"
   },
   {
    "duration": 0,
    "start_time": "2024-10-24T14:16:37.698Z"
   },
   {
    "duration": 0,
    "start_time": "2024-10-24T14:16:37.700Z"
   },
   {
    "duration": 0,
    "start_time": "2024-10-24T14:16:37.702Z"
   },
   {
    "duration": 0,
    "start_time": "2024-10-24T14:16:37.703Z"
   },
   {
    "duration": 0,
    "start_time": "2024-10-24T14:16:37.704Z"
   },
   {
    "duration": 0,
    "start_time": "2024-10-24T14:16:37.705Z"
   },
   {
    "duration": 0,
    "start_time": "2024-10-24T14:16:37.706Z"
   },
   {
    "duration": 0,
    "start_time": "2024-10-24T14:16:37.707Z"
   },
   {
    "duration": 0,
    "start_time": "2024-10-24T14:16:37.708Z"
   },
   {
    "duration": 0,
    "start_time": "2024-10-24T14:16:37.709Z"
   },
   {
    "duration": 0,
    "start_time": "2024-10-24T14:16:37.710Z"
   },
   {
    "duration": 0,
    "start_time": "2024-10-24T14:16:37.711Z"
   },
   {
    "duration": 0,
    "start_time": "2024-10-24T14:16:37.713Z"
   },
   {
    "duration": 0,
    "start_time": "2024-10-24T14:16:37.714Z"
   },
   {
    "duration": 0,
    "start_time": "2024-10-24T14:16:37.716Z"
   },
   {
    "duration": 0,
    "start_time": "2024-10-24T14:16:37.717Z"
   },
   {
    "duration": 0,
    "start_time": "2024-10-24T14:16:37.719Z"
   },
   {
    "duration": 0,
    "start_time": "2024-10-24T14:16:37.720Z"
   },
   {
    "duration": 0,
    "start_time": "2024-10-24T14:16:37.722Z"
   },
   {
    "duration": 0,
    "start_time": "2024-10-24T14:16:37.724Z"
   },
   {
    "duration": 158,
    "start_time": "2024-10-25T02:52:21.480Z"
   },
   {
    "duration": 2600,
    "start_time": "2024-10-25T02:52:49.892Z"
   },
   {
    "duration": 114,
    "start_time": "2024-10-25T02:52:52.494Z"
   },
   {
    "duration": 19,
    "start_time": "2024-10-25T02:52:52.610Z"
   },
   {
    "duration": 16,
    "start_time": "2024-10-25T02:52:52.631Z"
   },
   {
    "duration": 107,
    "start_time": "2024-10-25T02:52:52.649Z"
   },
   {
    "duration": 18,
    "start_time": "2024-10-25T02:52:52.758Z"
   },
   {
    "duration": 11,
    "start_time": "2024-10-25T02:52:52.778Z"
   },
   {
    "duration": 85,
    "start_time": "2024-10-25T02:52:52.791Z"
   },
   {
    "duration": 9,
    "start_time": "2024-10-25T02:52:52.878Z"
   },
   {
    "duration": 9,
    "start_time": "2024-10-25T02:52:52.890Z"
   },
   {
    "duration": 19,
    "start_time": "2024-10-25T02:52:52.901Z"
   },
   {
    "duration": 21,
    "start_time": "2024-10-25T02:52:52.922Z"
   },
   {
    "duration": 14,
    "start_time": "2024-10-25T02:52:53.139Z"
   },
   {
    "duration": 5,
    "start_time": "2024-10-25T02:52:53.335Z"
   },
   {
    "duration": 9,
    "start_time": "2024-10-25T02:52:54.845Z"
   },
   {
    "duration": 10,
    "start_time": "2024-10-25T02:52:55.108Z"
   },
   {
    "duration": 21,
    "start_time": "2024-10-25T02:52:58.009Z"
   },
   {
    "duration": 8,
    "start_time": "2024-10-25T02:52:58.283Z"
   },
   {
    "duration": 6,
    "start_time": "2024-10-25T02:52:58.579Z"
   },
   {
    "duration": 13,
    "start_time": "2024-10-25T02:52:58.814Z"
   },
   {
    "duration": 11,
    "start_time": "2024-10-25T02:52:59.935Z"
   },
   {
    "duration": 13,
    "start_time": "2024-10-25T02:53:00.930Z"
   },
   {
    "duration": 25,
    "start_time": "2024-10-25T02:53:01.177Z"
   },
   {
    "duration": 17,
    "start_time": "2024-10-25T02:53:01.890Z"
   },
   {
    "duration": 8,
    "start_time": "2024-10-25T02:53:02.130Z"
   },
   {
    "duration": 32,
    "start_time": "2024-10-25T02:53:02.329Z"
   },
   {
    "duration": 17,
    "start_time": "2024-10-25T02:53:03.344Z"
   },
   {
    "duration": 22,
    "start_time": "2024-10-25T02:53:04.332Z"
   },
   {
    "duration": 84,
    "start_time": "2024-10-25T02:53:04.822Z"
   },
   {
    "duration": 13,
    "start_time": "2024-10-25T02:53:05.570Z"
   },
   {
    "duration": 6,
    "start_time": "2024-10-25T02:53:05.804Z"
   },
   {
    "duration": 18,
    "start_time": "2024-10-25T02:53:06.009Z"
   },
   {
    "duration": 17,
    "start_time": "2024-10-25T02:53:07.277Z"
   },
   {
    "duration": 13,
    "start_time": "2024-10-25T02:53:08.070Z"
   },
   {
    "duration": 44,
    "start_time": "2024-10-25T02:53:08.358Z"
   },
   {
    "duration": 14,
    "start_time": "2024-10-25T02:53:08.868Z"
   },
   {
    "duration": 9,
    "start_time": "2024-10-25T02:53:09.114Z"
   },
   {
    "duration": 34,
    "start_time": "2024-10-25T02:53:09.348Z"
   },
   {
    "duration": 22,
    "start_time": "2024-10-25T02:53:10.667Z"
   },
   {
    "duration": 16,
    "start_time": "2024-10-25T02:53:11.424Z"
   },
   {
    "duration": 69,
    "start_time": "2024-10-25T02:53:11.654Z"
   },
   {
    "duration": 8,
    "start_time": "2024-10-25T02:53:12.700Z"
   },
   {
    "duration": 20,
    "start_time": "2024-10-25T02:53:14.471Z"
   },
   {
    "duration": 19,
    "start_time": "2024-10-25T02:53:14.494Z"
   },
   {
    "duration": 18,
    "start_time": "2024-10-25T02:53:14.515Z"
   },
   {
    "duration": 14,
    "start_time": "2024-10-25T02:53:14.534Z"
   },
   {
    "duration": 13,
    "start_time": "2024-10-25T02:53:14.551Z"
   },
   {
    "duration": 16,
    "start_time": "2024-10-25T02:53:14.675Z"
   },
   {
    "duration": 18,
    "start_time": "2024-10-25T02:53:15.906Z"
   },
   {
    "duration": 6,
    "start_time": "2024-10-25T02:53:16.189Z"
   },
   {
    "duration": 3,
    "start_time": "2024-10-25T02:53:16.517Z"
   },
   {
    "duration": 6,
    "start_time": "2024-10-25T02:53:16.853Z"
   },
   {
    "duration": 13,
    "start_time": "2024-10-25T02:53:17.126Z"
   },
   {
    "duration": 12,
    "start_time": "2024-10-25T02:53:18.926Z"
   },
   {
    "duration": 16,
    "start_time": "2024-10-25T02:53:19.408Z"
   },
   {
    "duration": 17,
    "start_time": "2024-10-25T02:53:19.834Z"
   },
   {
    "duration": 10,
    "start_time": "2024-10-25T02:53:21.836Z"
   },
   {
    "duration": 138,
    "start_time": "2024-10-25T02:53:22.170Z"
   },
   {
    "duration": 9,
    "start_time": "2024-10-25T02:53:22.584Z"
   },
   {
    "duration": 130,
    "start_time": "2024-10-25T02:53:23.125Z"
   },
   {
    "duration": 12,
    "start_time": "2024-10-25T02:53:24.441Z"
   },
   {
    "duration": 219,
    "start_time": "2024-10-25T02:53:24.455Z"
   },
   {
    "duration": 7,
    "start_time": "2024-10-25T02:53:25.073Z"
   },
   {
    "duration": 11,
    "start_time": "2024-10-25T02:53:25.468Z"
   },
   {
    "duration": 264,
    "start_time": "2024-10-25T02:53:25.806Z"
   },
   {
    "duration": 25,
    "start_time": "2024-10-25T02:53:26.182Z"
   },
   {
    "duration": 22,
    "start_time": "2024-10-25T02:53:26.547Z"
   },
   {
    "duration": 218,
    "start_time": "2024-10-25T02:53:27.003Z"
   },
   {
    "duration": 24,
    "start_time": "2024-10-25T02:53:27.774Z"
   },
   {
    "duration": 253,
    "start_time": "2024-10-25T02:53:29.820Z"
   },
   {
    "duration": 14,
    "start_time": "2024-10-25T02:53:37.302Z"
   },
   {
    "duration": 6,
    "start_time": "2024-10-25T02:53:37.641Z"
   },
   {
    "duration": 12,
    "start_time": "2024-10-25T02:53:38.135Z"
   },
   {
    "duration": 5,
    "start_time": "2024-10-25T02:53:38.544Z"
   },
   {
    "duration": 14,
    "start_time": "2024-10-25T02:53:40.000Z"
   },
   {
    "duration": 6,
    "start_time": "2024-10-25T02:53:40.293Z"
   },
   {
    "duration": 14,
    "start_time": "2024-10-25T02:53:40.646Z"
   },
   {
    "duration": 6,
    "start_time": "2024-10-25T02:53:40.938Z"
   },
   {
    "duration": 14,
    "start_time": "2024-10-25T02:53:42.494Z"
   },
   {
    "duration": 8,
    "start_time": "2024-10-25T02:53:42.796Z"
   },
   {
    "duration": 4,
    "start_time": "2024-10-25T02:53:43.075Z"
   },
   {
    "duration": 8,
    "start_time": "2024-10-25T02:53:43.418Z"
   },
   {
    "duration": 4,
    "start_time": "2024-10-25T02:53:43.659Z"
   },
   {
    "duration": 4,
    "start_time": "2024-10-25T02:53:45.449Z"
   },
   {
    "duration": 10,
    "start_time": "2024-10-25T02:53:46.924Z"
   },
   {
    "duration": 4,
    "start_time": "2024-10-25T02:53:47.174Z"
   },
   {
    "duration": 9,
    "start_time": "2024-10-25T02:53:47.451Z"
   },
   {
    "duration": 4,
    "start_time": "2024-10-25T02:53:47.696Z"
   },
   {
    "duration": 4,
    "start_time": "2024-10-25T02:53:48.005Z"
   },
   {
    "duration": 12,
    "start_time": "2024-10-25T02:53:48.322Z"
   },
   {
    "duration": 2611,
    "start_time": "2024-10-25T08:31:08.367Z"
   },
   {
    "duration": 102,
    "start_time": "2024-10-25T08:31:10.980Z"
   },
   {
    "duration": 17,
    "start_time": "2024-10-25T08:31:11.084Z"
   },
   {
    "duration": 28,
    "start_time": "2024-10-25T08:31:11.104Z"
   },
   {
    "duration": 81,
    "start_time": "2024-10-25T08:31:11.134Z"
   },
   {
    "duration": 14,
    "start_time": "2024-10-25T08:31:11.218Z"
   },
   {
    "duration": 10,
    "start_time": "2024-10-25T08:31:11.235Z"
   },
   {
    "duration": 54,
    "start_time": "2024-10-25T08:31:11.246Z"
   },
   {
    "duration": 9,
    "start_time": "2024-10-25T08:31:11.302Z"
   },
   {
    "duration": 18,
    "start_time": "2024-10-25T08:31:11.315Z"
   },
   {
    "duration": 14,
    "start_time": "2024-10-25T08:31:11.335Z"
   },
   {
    "duration": 16,
    "start_time": "2024-10-25T08:31:11.352Z"
   },
   {
    "duration": 12,
    "start_time": "2024-10-25T08:31:11.369Z"
   },
   {
    "duration": 5,
    "start_time": "2024-10-25T08:31:11.383Z"
   },
   {
    "duration": 10,
    "start_time": "2024-10-25T08:31:11.390Z"
   },
   {
    "duration": 32,
    "start_time": "2024-10-25T08:31:11.402Z"
   },
   {
    "duration": 9,
    "start_time": "2024-10-25T08:31:11.435Z"
   },
   {
    "duration": 8,
    "start_time": "2024-10-25T08:31:11.446Z"
   },
   {
    "duration": 5,
    "start_time": "2024-10-25T08:31:11.456Z"
   },
   {
    "duration": 4,
    "start_time": "2024-10-25T08:31:11.464Z"
   },
   {
    "duration": 9,
    "start_time": "2024-10-25T08:31:11.470Z"
   },
   {
    "duration": 10,
    "start_time": "2024-10-25T08:31:11.480Z"
   },
   {
    "duration": 63,
    "start_time": "2024-10-25T08:31:11.491Z"
   },
   {
    "duration": 15,
    "start_time": "2024-10-25T08:31:11.556Z"
   },
   {
    "duration": 7,
    "start_time": "2024-10-25T08:31:11.573Z"
   },
   {
    "duration": 60,
    "start_time": "2024-10-25T08:31:11.581Z"
   },
   {
    "duration": 16,
    "start_time": "2024-10-25T08:31:11.643Z"
   },
   {
    "duration": 21,
    "start_time": "2024-10-25T08:31:11.666Z"
   },
   {
    "duration": 114,
    "start_time": "2024-10-25T08:31:11.689Z"
   },
   {
    "duration": 12,
    "start_time": "2024-10-25T08:31:11.805Z"
   },
   {
    "duration": 6,
    "start_time": "2024-10-25T08:31:11.831Z"
   },
   {
    "duration": 20,
    "start_time": "2024-10-25T08:31:11.838Z"
   },
   {
    "duration": 18,
    "start_time": "2024-10-25T08:31:11.860Z"
   },
   {
    "duration": 13,
    "start_time": "2024-10-25T08:31:11.880Z"
   },
   {
    "duration": 78,
    "start_time": "2024-10-25T08:31:11.895Z"
   },
   {
    "duration": 14,
    "start_time": "2024-10-25T08:31:11.974Z"
   },
   {
    "duration": 7,
    "start_time": "2024-10-25T08:31:11.989Z"
   },
   {
    "duration": 62,
    "start_time": "2024-10-25T08:31:11.997Z"
   },
   {
    "duration": 22,
    "start_time": "2024-10-25T08:31:12.061Z"
   },
   {
    "duration": 17,
    "start_time": "2024-10-25T08:31:12.084Z"
   },
   {
    "duration": 87,
    "start_time": "2024-10-25T08:31:12.102Z"
   },
   {
    "duration": 6,
    "start_time": "2024-10-25T08:31:12.191Z"
   },
   {
    "duration": 35,
    "start_time": "2024-10-25T08:31:12.199Z"
   },
   {
    "duration": 17,
    "start_time": "2024-10-25T08:31:12.236Z"
   },
   {
    "duration": 16,
    "start_time": "2024-10-25T08:31:12.255Z"
   },
   {
    "duration": 14,
    "start_time": "2024-10-25T08:31:12.273Z"
   },
   {
    "duration": 43,
    "start_time": "2024-10-25T08:31:12.289Z"
   },
   {
    "duration": 15,
    "start_time": "2024-10-25T08:31:12.334Z"
   },
   {
    "duration": 17,
    "start_time": "2024-10-25T08:31:12.351Z"
   },
   {
    "duration": 7,
    "start_time": "2024-10-25T08:31:12.370Z"
   },
   {
    "duration": 3,
    "start_time": "2024-10-25T08:31:12.378Z"
   },
   {
    "duration": 5,
    "start_time": "2024-10-25T08:31:12.383Z"
   },
   {
    "duration": 50,
    "start_time": "2024-10-25T08:31:12.389Z"
   },
   {
    "duration": 13,
    "start_time": "2024-10-25T08:31:12.441Z"
   },
   {
    "duration": 14,
    "start_time": "2024-10-25T08:31:12.456Z"
   },
   {
    "duration": 17,
    "start_time": "2024-10-25T08:31:12.472Z"
   },
   {
    "duration": 9,
    "start_time": "2024-10-25T08:31:12.490Z"
   },
   {
    "duration": 172,
    "start_time": "2024-10-25T08:31:12.500Z"
   },
   {
    "duration": 11,
    "start_time": "2024-10-25T08:31:12.674Z"
   },
   {
    "duration": 147,
    "start_time": "2024-10-25T08:31:12.686Z"
   },
   {
    "duration": 13,
    "start_time": "2024-10-25T08:31:12.835Z"
   },
   {
    "duration": 188,
    "start_time": "2024-10-25T08:31:12.849Z"
   },
   {
    "duration": 8,
    "start_time": "2024-10-25T08:31:13.039Z"
   },
   {
    "duration": 10,
    "start_time": "2024-10-25T08:31:13.049Z"
   },
   {
    "duration": 361,
    "start_time": "2024-10-25T08:31:13.061Z"
   },
   {
    "duration": 29,
    "start_time": "2024-10-25T08:31:13.423Z"
   },
   {
    "duration": 23,
    "start_time": "2024-10-25T08:31:13.454Z"
   },
   {
    "duration": 234,
    "start_time": "2024-10-25T08:31:13.478Z"
   },
   {
    "duration": 31,
    "start_time": "2024-10-25T08:31:13.714Z"
   },
   {
    "duration": 257,
    "start_time": "2024-10-25T08:31:13.746Z"
   },
   {
    "duration": 12,
    "start_time": "2024-10-25T08:31:14.005Z"
   },
   {
    "duration": 15,
    "start_time": "2024-10-25T08:31:14.019Z"
   },
   {
    "duration": 15,
    "start_time": "2024-10-25T08:31:14.036Z"
   },
   {
    "duration": 5,
    "start_time": "2024-10-25T08:31:14.053Z"
   },
   {
    "duration": 13,
    "start_time": "2024-10-25T08:31:14.060Z"
   },
   {
    "duration": 6,
    "start_time": "2024-10-25T08:31:14.075Z"
   },
   {
    "duration": 13,
    "start_time": "2024-10-25T08:31:14.083Z"
   },
   {
    "duration": 8,
    "start_time": "2024-10-25T08:31:14.132Z"
   },
   {
    "duration": 13,
    "start_time": "2024-10-25T08:31:14.141Z"
   },
   {
    "duration": 8,
    "start_time": "2024-10-25T08:31:14.155Z"
   },
   {
    "duration": 3,
    "start_time": "2024-10-25T08:31:14.165Z"
   },
   {
    "duration": 8,
    "start_time": "2024-10-25T08:31:14.176Z"
   },
   {
    "duration": 4,
    "start_time": "2024-10-25T08:31:14.186Z"
   },
   {
    "duration": 41,
    "start_time": "2024-10-25T08:31:14.191Z"
   },
   {
    "duration": 11,
    "start_time": "2024-10-25T08:31:14.234Z"
   },
   {
    "duration": 5,
    "start_time": "2024-10-25T08:31:14.246Z"
   },
   {
    "duration": 9,
    "start_time": "2024-10-25T08:31:14.253Z"
   },
   {
    "duration": 4,
    "start_time": "2024-10-25T08:31:14.264Z"
   },
   {
    "duration": 3,
    "start_time": "2024-10-25T08:31:14.270Z"
   },
   {
    "duration": 10,
    "start_time": "2024-10-25T08:31:14.275Z"
   },
   {
    "duration": 860,
    "start_time": "2024-10-25T09:06:19.367Z"
   },
   {
    "duration": 78,
    "start_time": "2024-10-25T09:06:20.230Z"
   },
   {
    "duration": 25,
    "start_time": "2024-10-25T09:06:20.309Z"
   },
   {
    "duration": 14,
    "start_time": "2024-10-25T09:06:20.336Z"
   },
   {
    "duration": 65,
    "start_time": "2024-10-25T09:06:20.352Z"
   },
   {
    "duration": 16,
    "start_time": "2024-10-25T09:06:20.430Z"
   },
   {
    "duration": 11,
    "start_time": "2024-10-25T09:06:20.448Z"
   },
   {
    "duration": 39,
    "start_time": "2024-10-25T09:06:20.460Z"
   },
   {
    "duration": 32,
    "start_time": "2024-10-25T09:06:20.500Z"
   },
   {
    "duration": 9,
    "start_time": "2024-10-25T09:06:20.536Z"
   },
   {
    "duration": 11,
    "start_time": "2024-10-25T09:06:20.547Z"
   },
   {
    "duration": 11,
    "start_time": "2024-10-25T09:06:20.559Z"
   },
   {
    "duration": 11,
    "start_time": "2024-10-25T09:06:20.571Z"
   },
   {
    "duration": 5,
    "start_time": "2024-10-25T09:06:20.584Z"
   },
   {
    "duration": 8,
    "start_time": "2024-10-25T09:06:20.590Z"
   },
   {
    "duration": 8,
    "start_time": "2024-10-25T09:06:20.632Z"
   },
   {
    "duration": 9,
    "start_time": "2024-10-25T09:06:20.641Z"
   },
   {
    "duration": 8,
    "start_time": "2024-10-25T09:06:20.652Z"
   },
   {
    "duration": 5,
    "start_time": "2024-10-25T09:06:20.661Z"
   },
   {
    "duration": 5,
    "start_time": "2024-10-25T09:06:20.667Z"
   },
   {
    "duration": 10,
    "start_time": "2024-10-25T09:06:20.674Z"
   },
   {
    "duration": 48,
    "start_time": "2024-10-25T09:06:20.686Z"
   },
   {
    "duration": 25,
    "start_time": "2024-10-25T09:06:20.737Z"
   },
   {
    "duration": 16,
    "start_time": "2024-10-25T09:06:20.764Z"
   },
   {
    "duration": 7,
    "start_time": "2024-10-25T09:06:20.783Z"
   },
   {
    "duration": 58,
    "start_time": "2024-10-25T09:06:20.792Z"
   },
   {
    "duration": 16,
    "start_time": "2024-10-25T09:06:20.853Z"
   },
   {
    "duration": 22,
    "start_time": "2024-10-25T09:06:20.873Z"
   },
   {
    "duration": 127,
    "start_time": "2024-10-25T09:06:20.897Z"
   },
   {
    "duration": 12,
    "start_time": "2024-10-25T09:06:21.032Z"
   },
   {
    "duration": 6,
    "start_time": "2024-10-25T09:06:21.047Z"
   },
   {
    "duration": 16,
    "start_time": "2024-10-25T09:06:21.055Z"
   },
   {
    "duration": 17,
    "start_time": "2024-10-25T09:06:21.072Z"
   },
   {
    "duration": 42,
    "start_time": "2024-10-25T09:06:21.091Z"
   },
   {
    "duration": 46,
    "start_time": "2024-10-25T09:06:21.135Z"
   },
   {
    "duration": 14,
    "start_time": "2024-10-25T09:06:21.184Z"
   },
   {
    "duration": 31,
    "start_time": "2024-10-25T09:06:21.200Z"
   },
   {
    "duration": 40,
    "start_time": "2024-10-25T09:06:21.233Z"
   },
   {
    "duration": 22,
    "start_time": "2024-10-25T09:06:21.275Z"
   },
   {
    "duration": 33,
    "start_time": "2024-10-25T09:06:21.299Z"
   },
   {
    "duration": 72,
    "start_time": "2024-10-25T09:06:21.334Z"
   },
   {
    "duration": 25,
    "start_time": "2024-10-25T09:06:21.408Z"
   },
   {
    "duration": 19,
    "start_time": "2024-10-25T09:06:21.435Z"
   },
   {
    "duration": 19,
    "start_time": "2024-10-25T09:06:21.456Z"
   },
   {
    "duration": 18,
    "start_time": "2024-10-25T09:06:21.477Z"
   },
   {
    "duration": 42,
    "start_time": "2024-10-25T09:06:21.497Z"
   },
   {
    "duration": 14,
    "start_time": "2024-10-25T09:06:21.541Z"
   },
   {
    "duration": 15,
    "start_time": "2024-10-25T09:06:21.556Z"
   },
   {
    "duration": 17,
    "start_time": "2024-10-25T09:06:21.573Z"
   },
   {
    "duration": 5,
    "start_time": "2024-10-25T09:06:21.592Z"
   },
   {
    "duration": 32,
    "start_time": "2024-10-25T09:06:21.599Z"
   },
   {
    "duration": 5,
    "start_time": "2024-10-25T09:06:21.633Z"
   },
   {
    "duration": 12,
    "start_time": "2024-10-25T09:06:21.641Z"
   },
   {
    "duration": 11,
    "start_time": "2024-10-25T09:06:21.655Z"
   },
   {
    "duration": 15,
    "start_time": "2024-10-25T09:06:21.668Z"
   },
   {
    "duration": 47,
    "start_time": "2024-10-25T09:06:21.685Z"
   },
   {
    "duration": 10,
    "start_time": "2024-10-25T09:06:21.735Z"
   },
   {
    "duration": 151,
    "start_time": "2024-10-25T09:06:21.747Z"
   },
   {
    "duration": 10,
    "start_time": "2024-10-25T09:06:21.900Z"
   },
   {
    "duration": 205,
    "start_time": "2024-10-25T09:06:21.911Z"
   },
   {
    "duration": 22,
    "start_time": "2024-10-25T09:06:22.118Z"
   },
   {
    "duration": 173,
    "start_time": "2024-10-25T09:06:22.141Z"
   },
   {
    "duration": 15,
    "start_time": "2024-10-25T09:06:22.316Z"
   },
   {
    "duration": 10,
    "start_time": "2024-10-25T09:06:22.332Z"
   },
   {
    "duration": 276,
    "start_time": "2024-10-25T09:06:22.344Z"
   },
   {
    "duration": 29,
    "start_time": "2024-10-25T09:06:22.623Z"
   },
   {
    "duration": 24,
    "start_time": "2024-10-25T09:06:22.654Z"
   },
   {
    "duration": 234,
    "start_time": "2024-10-25T09:06:22.679Z"
   },
   {
    "duration": 33,
    "start_time": "2024-10-25T09:06:22.914Z"
   },
   {
    "duration": 259,
    "start_time": "2024-10-25T09:06:22.949Z"
   },
   {
    "duration": 21,
    "start_time": "2024-10-25T09:06:23.210Z"
   },
   {
    "duration": 5,
    "start_time": "2024-10-25T09:06:23.233Z"
   },
   {
    "duration": 12,
    "start_time": "2024-10-25T09:06:23.240Z"
   },
   {
    "duration": 6,
    "start_time": "2024-10-25T09:06:23.253Z"
   },
   {
    "duration": 13,
    "start_time": "2024-10-25T09:06:23.260Z"
   },
   {
    "duration": 6,
    "start_time": "2024-10-25T09:06:23.275Z"
   },
   {
    "duration": 12,
    "start_time": "2024-10-25T09:06:23.282Z"
   },
   {
    "duration": 6,
    "start_time": "2024-10-25T09:06:23.331Z"
   },
   {
    "duration": 12,
    "start_time": "2024-10-25T09:06:23.339Z"
   },
   {
    "duration": 5,
    "start_time": "2024-10-25T09:06:23.354Z"
   },
   {
    "duration": 4,
    "start_time": "2024-10-25T09:06:23.360Z"
   },
   {
    "duration": 7,
    "start_time": "2024-10-25T09:06:23.371Z"
   },
   {
    "duration": 3,
    "start_time": "2024-10-25T09:06:23.380Z"
   },
   {
    "duration": 4,
    "start_time": "2024-10-25T09:06:23.385Z"
   },
   {
    "duration": 10,
    "start_time": "2024-10-25T09:06:23.432Z"
   },
   {
    "duration": 4,
    "start_time": "2024-10-25T09:06:23.444Z"
   },
   {
    "duration": 9,
    "start_time": "2024-10-25T09:06:23.450Z"
   },
   {
    "duration": 3,
    "start_time": "2024-10-25T09:06:23.461Z"
   },
   {
    "duration": 9,
    "start_time": "2024-10-25T09:06:23.466Z"
   },
   {
    "duration": 10,
    "start_time": "2024-10-25T09:06:23.477Z"
   },
   {
    "duration": 2548,
    "start_time": "2024-10-25T11:07:42.311Z"
   },
   {
    "duration": 94,
    "start_time": "2024-10-25T11:07:44.861Z"
   },
   {
    "duration": 15,
    "start_time": "2024-10-25T11:07:44.957Z"
   },
   {
    "duration": 13,
    "start_time": "2024-10-25T11:07:44.974Z"
   },
   {
    "duration": 90,
    "start_time": "2024-10-25T11:07:44.990Z"
   },
   {
    "duration": 14,
    "start_time": "2024-10-25T11:07:45.082Z"
   },
   {
    "duration": 10,
    "start_time": "2024-10-25T11:07:45.098Z"
   },
   {
    "duration": 49,
    "start_time": "2024-10-25T11:07:45.109Z"
   },
   {
    "duration": 9,
    "start_time": "2024-10-25T11:07:45.160Z"
   },
   {
    "duration": 8,
    "start_time": "2024-10-25T11:07:45.171Z"
   },
   {
    "duration": 14,
    "start_time": "2024-10-25T11:07:45.181Z"
   },
   {
    "duration": 15,
    "start_time": "2024-10-25T11:07:45.196Z"
   },
   {
    "duration": 26,
    "start_time": "2024-10-25T11:07:45.213Z"
   },
   {
    "duration": 4,
    "start_time": "2024-10-25T11:07:45.242Z"
   },
   {
    "duration": 8,
    "start_time": "2024-10-25T11:07:45.248Z"
   },
   {
    "duration": 6,
    "start_time": "2024-10-25T11:07:45.258Z"
   },
   {
    "duration": 8,
    "start_time": "2024-10-25T11:07:45.266Z"
   },
   {
    "duration": 13,
    "start_time": "2024-10-25T11:07:45.275Z"
   },
   {
    "duration": 41,
    "start_time": "2024-10-25T11:07:45.290Z"
   },
   {
    "duration": 5,
    "start_time": "2024-10-25T11:07:45.333Z"
   },
   {
    "duration": 10,
    "start_time": "2024-10-25T11:07:45.341Z"
   },
   {
    "duration": 10,
    "start_time": "2024-10-25T11:07:45.352Z"
   },
   {
    "duration": 22,
    "start_time": "2024-10-25T11:07:45.364Z"
   },
   {
    "duration": 43,
    "start_time": "2024-10-25T11:07:45.388Z"
   },
   {
    "duration": 6,
    "start_time": "2024-10-25T11:07:45.433Z"
   },
   {
    "duration": 31,
    "start_time": "2024-10-25T11:07:45.440Z"
   },
   {
    "duration": 16,
    "start_time": "2024-10-25T11:07:45.473Z"
   },
   {
    "duration": 44,
    "start_time": "2024-10-25T11:07:45.491Z"
   },
   {
    "duration": 84,
    "start_time": "2024-10-25T11:07:45.538Z"
   },
   {
    "duration": 11,
    "start_time": "2024-10-25T11:07:45.632Z"
   },
   {
    "duration": 6,
    "start_time": "2024-10-25T11:07:45.645Z"
   },
   {
    "duration": 14,
    "start_time": "2024-10-25T11:07:45.653Z"
   },
   {
    "duration": 16,
    "start_time": "2024-10-25T11:07:45.669Z"
   },
   {
    "duration": 45,
    "start_time": "2024-10-25T11:07:45.687Z"
   },
   {
    "duration": 41,
    "start_time": "2024-10-25T11:07:45.734Z"
   },
   {
    "duration": 15,
    "start_time": "2024-10-25T11:07:45.777Z"
   },
   {
    "duration": 7,
    "start_time": "2024-10-25T11:07:45.793Z"
   },
   {
    "duration": 61,
    "start_time": "2024-10-25T11:07:45.802Z"
   },
   {
    "duration": 21,
    "start_time": "2024-10-25T11:07:45.865Z"
   },
   {
    "duration": 19,
    "start_time": "2024-10-25T11:07:45.888Z"
   },
   {
    "duration": 62,
    "start_time": "2024-10-25T11:07:45.934Z"
   },
   {
    "duration": 7,
    "start_time": "2024-10-25T11:07:45.998Z"
   },
   {
    "duration": 38,
    "start_time": "2024-10-25T11:07:46.007Z"
   },
   {
    "duration": 16,
    "start_time": "2024-10-25T11:07:46.047Z"
   },
   {
    "duration": 16,
    "start_time": "2024-10-25T11:07:46.065Z"
   },
   {
    "duration": 12,
    "start_time": "2024-10-25T11:07:46.083Z"
   },
   {
    "duration": 35,
    "start_time": "2024-10-25T11:07:46.097Z"
   },
   {
    "duration": 15,
    "start_time": "2024-10-25T11:07:46.133Z"
   },
   {
    "duration": 18,
    "start_time": "2024-10-25T11:07:46.150Z"
   },
   {
    "duration": 6,
    "start_time": "2024-10-25T11:07:46.169Z"
   },
   {
    "duration": 3,
    "start_time": "2024-10-25T11:07:46.177Z"
   },
   {
    "duration": 4,
    "start_time": "2024-10-25T11:07:46.181Z"
   },
   {
    "duration": 45,
    "start_time": "2024-10-25T11:07:46.187Z"
   },
   {
    "duration": 11,
    "start_time": "2024-10-25T11:07:46.233Z"
   },
   {
    "duration": 17,
    "start_time": "2024-10-25T11:07:46.245Z"
   },
   {
    "duration": 17,
    "start_time": "2024-10-25T11:07:46.264Z"
   },
   {
    "duration": 9,
    "start_time": "2024-10-25T11:07:46.282Z"
   },
   {
    "duration": 166,
    "start_time": "2024-10-25T11:07:46.293Z"
   },
   {
    "duration": 10,
    "start_time": "2024-10-25T11:07:46.461Z"
   },
   {
    "duration": 135,
    "start_time": "2024-10-25T11:07:46.472Z"
   },
   {
    "duration": 12,
    "start_time": "2024-10-25T11:07:46.609Z"
   },
   {
    "duration": 165,
    "start_time": "2024-10-25T11:07:46.631Z"
   },
   {
    "duration": 7,
    "start_time": "2024-10-25T11:07:46.798Z"
   },
   {
    "duration": 25,
    "start_time": "2024-10-25T11:07:46.807Z"
   },
   {
    "duration": 319,
    "start_time": "2024-10-25T11:07:46.834Z"
   },
   {
    "duration": 25,
    "start_time": "2024-10-25T11:07:47.155Z"
   },
   {
    "duration": 22,
    "start_time": "2024-10-25T11:07:47.183Z"
   },
   {
    "duration": 236,
    "start_time": "2024-10-25T11:07:47.207Z"
   },
   {
    "duration": 22,
    "start_time": "2024-10-25T11:07:47.445Z"
   },
   {
    "duration": 269,
    "start_time": "2024-10-25T11:07:47.468Z"
   },
   {
    "duration": 13,
    "start_time": "2024-10-25T11:07:47.740Z"
   },
   {
    "duration": 5,
    "start_time": "2024-10-25T11:07:47.755Z"
   },
   {
    "duration": 11,
    "start_time": "2024-10-25T11:07:47.761Z"
   },
   {
    "duration": 6,
    "start_time": "2024-10-25T11:07:47.774Z"
   },
   {
    "duration": 11,
    "start_time": "2024-10-25T11:07:47.782Z"
   },
   {
    "duration": 38,
    "start_time": "2024-10-25T11:07:47.794Z"
   },
   {
    "duration": 13,
    "start_time": "2024-10-25T11:07:47.834Z"
   },
   {
    "duration": 5,
    "start_time": "2024-10-25T11:07:47.849Z"
   },
   {
    "duration": 11,
    "start_time": "2024-10-25T11:07:47.856Z"
   },
   {
    "duration": 7,
    "start_time": "2024-10-25T11:07:47.870Z"
   },
   {
    "duration": 4,
    "start_time": "2024-10-25T11:07:47.878Z"
   },
   {
    "duration": 51,
    "start_time": "2024-10-25T11:07:47.884Z"
   },
   {
    "duration": 5,
    "start_time": "2024-10-25T11:07:47.938Z"
   },
   {
    "duration": 5,
    "start_time": "2024-10-25T11:07:47.945Z"
   },
   {
    "duration": 9,
    "start_time": "2024-10-25T11:07:47.951Z"
   },
   {
    "duration": 4,
    "start_time": "2024-10-25T11:07:47.962Z"
   },
   {
    "duration": 8,
    "start_time": "2024-10-25T11:07:47.969Z"
   },
   {
    "duration": 3,
    "start_time": "2024-10-25T11:07:47.978Z"
   },
   {
    "duration": 4,
    "start_time": "2024-10-25T11:07:47.983Z"
   },
   {
    "duration": 46,
    "start_time": "2024-10-25T11:07:47.988Z"
   }
  ],
  "kernelspec": {
   "display_name": "base",
   "language": "python",
   "name": "python3"
  },
  "language_info": {
   "codemirror_mode": {
    "name": "ipython",
    "version": 3
   },
   "file_extension": ".py",
   "mimetype": "text/x-python",
   "name": "python",
   "nbconvert_exporter": "python",
   "pygments_lexer": "ipython3",
   "version": "3.12.7"
  },
  "toc": {
   "base_numbering": 1,
   "nav_menu": {},
   "number_sections": true,
   "sideBar": true,
   "skip_h1_title": false,
   "title_cell": "Table of Contents",
   "title_sidebar": "Contents",
   "toc_cell": false,
   "toc_position": {},
   "toc_section_display": true,
   "toc_window_display": true
  }
 },
 "nbformat": 4,
 "nbformat_minor": 2
}
